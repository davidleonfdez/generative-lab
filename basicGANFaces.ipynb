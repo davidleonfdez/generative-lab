{
  "nbformat": 4,
  "nbformat_minor": 0,
  "metadata": {
    "colab": {
      "name": "basicGANFaces.ipynb",
      "version": "0.3.2",
      "provenance": [],
      "collapsed_sections": []
    },
    "kernelspec": {
      "name": "python3",
      "display_name": "Python 3"
    }
  },
  "cells": [
    {
      "cell_type": "code",
      "metadata": {
        "id": "QDQfr4nTZVcL",
        "colab_type": "code",
        "colab": {}
      },
      "source": [
        "%reload_ext autoreload\n",
        "%autoreload 2\n",
        "%matplotlib inline\n",
        "\n",
        "from fastai.vision import *\n",
        "from fastai.vision.gan import *\n",
        "from urllib.parse import urlparse\n",
        "import torch.nn as nn\n",
        "import torch.nn.functional as F"
      ],
      "execution_count": 0,
      "outputs": []
    },
    {
      "cell_type": "code",
      "metadata": {
        "id": "IcaEtd5TMmXP",
        "colab_type": "code",
        "outputId": "147ade95-e0ff-4959-f615-46c6ccbaa3eb",
        "colab": {
          "base_uri": "https://localhost:8080/",
          "height": 34
        }
      },
      "source": [
        "# PLATFORM DEPENDENT CODE !!!!!\n",
        "base_dir = '/content'\n",
        "\n",
        "if (importlib.util.find_spec(\"google.colab\") is not None):\n",
        "  from google.colab import drive\n",
        "  drive.mount('/content/gdrive', force_remount=True)\n",
        "  root_dir = \"/content/gdrive/My Drive/\"\n",
        "  base_dir = root_dir + 'ML/'"
      ],
      "execution_count": 0,
      "outputs": [
        {
          "output_type": "stream",
          "text": [
            "Mounted at /content/gdrive\n"
          ],
          "name": "stdout"
        }
      ]
    },
    {
      "cell_type": "markdown",
      "metadata": {
        "id": "3Rzb2RFoW1b6",
        "colab_type": "text"
      },
      "source": [
        "Load a pretrained discriminator. Pending research about whether it's good to start with a pretrained one, kind of more knolewdgeable than the generator."
      ]
    },
    {
      "cell_type": "code",
      "metadata": {
        "id": "ZQdNAKoXjzcd",
        "colab_type": "code",
        "outputId": "0b9e2f2f-c165-498d-b54a-410f9893523f",
        "colab": {
          "base_uri": "https://localhost:8080/",
          "height": 105
        }
      },
      "source": [
        "critic = load_learner(base_dir, 'faceBinaryClassifierResnet18_1.pkl')"
      ],
      "execution_count": 0,
      "outputs": [
        {
          "output_type": "stream",
          "text": [
            "/usr/local/lib/python3.6/dist-packages/torch/serialization.py:454: SourceChangeWarning: source code of class 'fastai.layers.AdaptiveConcatPool2d' has changed. you can retrieve the original source code by accessing the object's source attribute or set `torch.nn.Module.dump_patches = True` and use the patch tool to revert the changes.\n",
            "  warnings.warn(msg, SourceChangeWarning)\n",
            "/usr/local/lib/python3.6/dist-packages/torch/serialization.py:454: SourceChangeWarning: source code of class 'fastai.layers.Flatten' has changed. you can retrieve the original source code by accessing the object's source attribute or set `torch.nn.Module.dump_patches = True` and use the patch tool to revert the changes.\n",
            "  warnings.warn(msg, SourceChangeWarning)\n"
          ],
          "name": "stderr"
        }
      ]
    },
    {
      "cell_type": "code",
      "metadata": {
        "id": "LlQctqRuj4gk",
        "colab_type": "code",
        "colab": {}
      },
      "source": [
        "def loadNewTestImage(url: str, filename: str, testRootDir:Path):\n",
        "  parsedUrl = urlparse(url)\n",
        "  ext = os.path.splitext(parsedUrl.path)[1]\n",
        "  path = testRootDir/(filename + ext)\n",
        "  download_url(url, path)\n",
        "  img = open_image(path)\n",
        "  return img"
      ],
      "execution_count": 0,
      "outputs": []
    },
    {
      "cell_type": "code",
      "metadata": {
        "id": "V9Vjo8y3LCXm",
        "colab_type": "code",
        "colab": {}
      },
      "source": [
        "img = loadNewTestImage('https://live.staticflickr.com/3844/14761664536_f875cf6b9c_b.jpg', 'fakeFace', Path('/content'))\n",
        "img"
      ],
      "execution_count": 0,
      "outputs": []
    },
    {
      "cell_type": "code",
      "metadata": {
        "id": "a2fMqtuQk0PP",
        "colab_type": "code",
        "outputId": "be1ca34d-9068-43a4-b0c8-dda4897e3471",
        "colab": {
          "base_uri": "https://localhost:8080/",
          "height": 34
        }
      },
      "source": [
        "critic.predict(img)"
      ],
      "execution_count": 0,
      "outputs": [
        {
          "output_type": "execute_result",
          "data": {
            "text/plain": [
              "(Category negative, tensor(0), tensor([0.9978, 0.0022]))"
            ]
          },
          "metadata": {
            "tags": []
          },
          "execution_count": 28
        }
      ]
    },
    {
      "cell_type": "code",
      "metadata": {
        "id": "TZsCwvULjSub",
        "colab_type": "code",
        "outputId": "bcc345e0-7662-480b-d917-147790e3d25d",
        "colab": {
          "base_uri": "https://localhost:8080/",
          "height": 34
        }
      },
      "source": [
        "#Testing a transpose convolution\n",
        "input = torch.rand(64, 100, 1, 1)\n",
        "nn.ConvTranspose2d(100, 1024, 4, padding=0, stride=1)(input).size()"
      ],
      "execution_count": 0,
      "outputs": [
        {
          "output_type": "execute_result",
          "data": {
            "text/plain": [
              "torch.Size([64, 1024, 4, 4])"
            ]
          },
          "metadata": {
            "tags": []
          },
          "execution_count": 23
        }
      ]
    },
    {
      "cell_type": "code",
      "metadata": {
        "id": "sRALS3ued6Dy",
        "colab_type": "code",
        "colab": {}
      },
      "source": [
        "class ConvBlock(nn.Module):\n",
        "  def __init__(self, in_channels, out_channels):\n",
        "    super(ConvBlock, self).__init__()\n",
        "    self.conv = nn.Sequential(\n",
        "      nn.ConvTranspose2d(in_channels, out_channels, (4, 4), padding=1, stride=2),\n",
        "      nn.BatchNorm2d(out_channels),\n",
        "      nn.ReLU()\n",
        "    )\n",
        "    \n",
        "  def forward(self, x):\n",
        "    return self.conv(x)\n",
        "\n",
        "class GeneratorNet(nn.Module):\n",
        "  def __init__(self):\n",
        "    super(GeneratorNet, self).__init__()\n",
        "    self.layers = nn.Sequential(\n",
        "      #nn.Linear(100, 1024 * 4 * 4),\n",
        "      nn.ConvTranspose2d(100, 1024, 4, padding=0, stride=1),\n",
        "      ConvBlock(1024, 512),\n",
        "      ConvBlock(512, 256),\n",
        "      ConvBlock(256, 128),\n",
        "      #ConvBlock(128, 64)\n",
        "      nn.ConvTranspose2d(128, 3, 4, padding=1, stride=2),\n",
        "      nn.Tanh()\n",
        "    )\n",
        "\n",
        "  def forward(self, x):\n",
        "    # x = x.view(1024, 4, 4) Use it when putting FC at the beginning\n",
        "    x = self.layers(x)\n",
        "    return x"
      ],
      "execution_count": 0,
      "outputs": []
    },
    {
      "cell_type": "code",
      "metadata": {
        "id": "-TS9ln2mN5Mw",
        "colab_type": "code",
        "colab": {
          "base_uri": "https://localhost:8080/",
          "height": 34
        },
        "outputId": "c558c166-1c71-4b9c-f8c6-1bd6e8b99561"
      },
      "source": [
        "#Testing a forward pass through the generator\n",
        "input = torch.rand(64, 100, 1, 1)\n",
        "input = GeneratorNet().forward(input)\n",
        "input.size()"
      ],
      "execution_count": 12,
      "outputs": [
        {
          "output_type": "execute_result",
          "data": {
            "text/plain": [
              "torch.Size([64, 3, 64, 64])"
            ]
          },
          "metadata": {
            "tags": []
          },
          "execution_count": 12
        }
      ]
    },
    {
      "cell_type": "code",
      "metadata": {
        "id": "3qh4r0nsnavZ",
        "colab_type": "code",
        "colab": {}
      },
      "source": [
        "??GANLearner"
      ],
      "execution_count": 0,
      "outputs": []
    },
    {
      "cell_type": "code",
      "metadata": {
        "id": "uonpU4MNm9re",
        "colab_type": "code",
        "colab": {}
      },
      "source": [
        "learner = GANLearner()"
      ],
      "execution_count": 0,
      "outputs": []
    },
    {
      "cell_type": "markdown",
      "metadata": {
        "id": "23hWngNqtv3T",
        "colab_type": "text"
      },
      "source": [
        "PENDING:\n",
        "\n",
        "*  What if I make the final convolution a normal convolution with in_channels=out_channels (probably together with uncommenting the last ConvBlock call)? \n",
        "*   Try replacing first convolution with FC layer + reshape (view)\n",
        "*  Further research about that first layer \"project and reshape\"\n",
        "*  Using a pretrained critic might be a bad idea, especially thinking about the gradients used by the generator to improve"
      ]
    }
  ]
}