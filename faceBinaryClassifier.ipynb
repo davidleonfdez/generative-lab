{
  "nbformat": 4,
  "nbformat_minor": 0,
  "metadata": {
    "colab": {
      "name": "Copia de Untitled0.ipynb",
      "version": "0.3.2",
      "provenance": [],
      "collapsed_sections": []
    },
    "kernelspec": {
      "name": "python3",
      "display_name": "Python 3"
    }
  },
  "cells": [
    {
      "cell_type": "markdown",
      "metadata": {
        "id": "WCw_7L6TT_P8",
        "colab_type": "text"
      },
      "source": [
        "**BINARY CLASSIFIER THAT STATES WHETHER THE INPUT IS A FACE OR NOT**"
      ]
    },
    {
      "cell_type": "code",
      "metadata": {
        "id": "peTYZzHD4sJz",
        "colab_type": "code",
        "colab": {}
      },
      "source": [
        "%reload_ext autoreload\n",
        "%autoreload 2\n",
        "%matplotlib inline"
      ],
      "execution_count": 0,
      "outputs": []
    },
    {
      "cell_type": "code",
      "metadata": {
        "id": "yYm9DVrI4uvM",
        "colab_type": "code",
        "colab": {}
      },
      "source": [
        "from fastai.vision import *"
      ],
      "execution_count": 0,
      "outputs": []
    },
    {
      "cell_type": "code",
      "metadata": {
        "id": "Df9iTO3j6nvL",
        "colab_type": "code",
        "colab": {}
      },
      "source": [
        "def untar_data_ext(url:str, ext) -> Path:\n",
        "    \"Download `url` (not including extension) and extract to default datapath.\"\n",
        "    dest = url2path(url)\n",
        "    if not dest.exists():\n",
        "        fname = download_data(url, ext=ext)\n",
        "        tarfile.open(fname, 'r:gz').extractall(dest.parent)\n",
        "    return dest"
      ],
      "execution_count": 0,
      "outputs": []
    },
    {
      "cell_type": "code",
      "metadata": {
        "id": "tNPkg8cO497Z",
        "colab_type": "code",
        "outputId": "86834e86-430b-41bb-f945-c2e0e48e585b",
        "colab": {
          "base_uri": "https://localhost:8080/",
          "height": 34
        }
      },
      "source": [
        "#http://vis-www.cs.umass.edu/lfw/lfw-a.tgz\n",
        "positivesPath = untar_data(\"http://vis-www.cs.umass.edu/lfw/lfw-a\")\n",
        "positivesPath"
      ],
      "execution_count": 4,
      "outputs": [
        {
          "output_type": "execute_result",
          "data": {
            "text/plain": [
              "PosixPath('/root/.fastai/data/lfw-a')"
            ]
          },
          "metadata": {
            "tags": []
          },
          "execution_count": 4
        }
      ]
    },
    {
      "cell_type": "code",
      "metadata": {
        "id": "D5LDzEtS3_0J",
        "colab_type": "code",
        "outputId": "c6fe61b1-1562-45d9-aa44-ebb245e77e1c",
        "colab": {
          "base_uri": "https://localhost:8080/",
          "height": 34
        }
      },
      "source": [
        "rootDir = positivesPath.parent\n",
        "rootDir"
      ],
      "execution_count": 5,
      "outputs": [
        {
          "output_type": "execute_result",
          "data": {
            "text/plain": [
              "PosixPath('/root/.fastai/data')"
            ]
          },
          "metadata": {
            "tags": []
          },
          "execution_count": 5
        }
      ]
    },
    {
      "cell_type": "code",
      "metadata": {
        "id": "neoA-ogD1Sgo",
        "colab_type": "code",
        "colab": {}
      },
      "source": [
        "%cat /usr/local/lib/python3.6/dist-packages/fastai/datasets.py"
      ],
      "execution_count": 0,
      "outputs": []
    },
    {
      "cell_type": "code",
      "metadata": {
        "id": "63lNI11jjnlx",
        "colab_type": "code",
        "outputId": "7390c958-2196-4aa2-c841-273f34b71999",
        "colab": {
          "base_uri": "https://localhost:8080/",
          "height": 34
        }
      },
      "source": [
        "# Let's use a dataset of dog faces as negatives in a first attempt\n",
        "negativesUrl1 = \"http://www.recod.ic.unicamp.br/~rwerneck/datasets/flickr-dog/Flickr-dog\" #.tar.gz\"\n",
        "#url2path(negativesUrl)\n",
        "negativesPath1 = untar_data_ext(negativesUrl1, \".tar.gz\")\n",
        "negativesPath1"
      ],
      "execution_count": 6,
      "outputs": [
        {
          "output_type": "execute_result",
          "data": {
            "text/plain": [
              "PosixPath('/root/.fastai/data/Flickr-dog')"
            ]
          },
          "metadata": {
            "tags": []
          },
          "execution_count": 6
        }
      ]
    },
    {
      "cell_type": "code",
      "metadata": {
        "id": "EVsANYefQhz9",
        "colab_type": "code",
        "outputId": "d472ead5-975b-4840-9ee3-16435ffd77a2",
        "colab": {
          "base_uri": "https://localhost:8080/",
          "height": 34
        }
      },
      "source": [
        "rootClassifierDataDir = rootDir/'faceBinaryClassifier'\n",
        "rootClassifierDataDir"
      ],
      "execution_count": 7,
      "outputs": [
        {
          "output_type": "execute_result",
          "data": {
            "text/plain": [
              "PosixPath('/root/.fastai/data/faceBinaryClassifier')"
            ]
          },
          "metadata": {
            "tags": []
          },
          "execution_count": 7
        }
      ]
    },
    {
      "cell_type": "code",
      "metadata": {
        "id": "i6GxWSlxTC0O",
        "colab_type": "code",
        "colab": {}
      },
      "source": [
        "%mkdir $rootClassifierDataDir"
      ],
      "execution_count": 0,
      "outputs": []
    },
    {
      "cell_type": "code",
      "metadata": {
        "id": "1f8Y91OLXcNO",
        "colab_type": "code",
        "outputId": "903cdfe8-8143-4c98-ea40-d800b73384c4",
        "colab": {
          "base_uri": "https://localhost:8080/",
          "height": 34
        }
      },
      "source": [
        "%ls $rootDir"
      ],
      "execution_count": 9,
      "outputs": [
        {
          "output_type": "stream",
          "text": [
            "\u001b[0m\u001b[01;34mfaceBinaryClassifier\u001b[0m/  \u001b[01;34mFlickr-dog\u001b[0m/  Flickr-dog.tar.gz  \u001b[01;34mlfw\u001b[0m/  lfw-a.tgz\n"
          ],
          "name": "stdout"
        }
      ]
    },
    {
      "cell_type": "code",
      "metadata": {
        "id": "Ik9DjwzlXiEu",
        "colab_type": "code",
        "outputId": "c60dda4c-2cb1-4eeb-aeeb-74f6228bfa36",
        "colab": {
          "base_uri": "https://localhost:8080/",
          "height": 34
        }
      },
      "source": [
        "%pwd"
      ],
      "execution_count": 10,
      "outputs": [
        {
          "output_type": "execute_result",
          "data": {
            "text/plain": [
              "'/content'"
            ]
          },
          "metadata": {
            "tags": []
          },
          "execution_count": 10
        }
      ]
    },
    {
      "cell_type": "code",
      "metadata": {
        "id": "2fdaWN4FXore",
        "colab_type": "code",
        "outputId": "cfac3565-52ea-45c8-fc4a-66d6ea64aa2a",
        "colab": {
          "base_uri": "https://localhost:8080/",
          "height": 34
        }
      },
      "source": [
        "%cd $rootDir"
      ],
      "execution_count": 11,
      "outputs": [
        {
          "output_type": "stream",
          "text": [
            "/root/.fastai/data\n"
          ],
          "name": "stdout"
        }
      ]
    },
    {
      "cell_type": "code",
      "metadata": {
        "id": "E0_SBF28Xspm",
        "colab_type": "code",
        "outputId": "31b8fbd7-9de7-42ee-ed44-ba701cffb051",
        "colab": {
          "base_uri": "https://localhost:8080/",
          "height": 34
        }
      },
      "source": [
        "%mv Flickr-dog/ $rootClassifierDataDir\n",
        "%mv lfw $rootClassifierDataDir\n",
        "%ls"
      ],
      "execution_count": 12,
      "outputs": [
        {
          "output_type": "stream",
          "text": [
            "\u001b[0m\u001b[01;34mfaceBinaryClassifier\u001b[0m/  Flickr-dog.tar.gz  lfw-a.tgz\n"
          ],
          "name": "stdout"
        }
      ]
    },
    {
      "cell_type": "code",
      "metadata": {
        "id": "UNUxVfaZWjyj",
        "colab_type": "code",
        "outputId": "25ac6277-0098-4eef-ad8a-b590b3581d8d",
        "colab": {
          "base_uri": "https://localhost:8080/",
          "height": 34
        }
      },
      "source": [
        "%ls $rootClassifierDataDir"
      ],
      "execution_count": 13,
      "outputs": [
        {
          "output_type": "stream",
          "text": [
            "\u001b[0m\u001b[01;34mFlickr-dog\u001b[0m/  \u001b[01;34mlfw\u001b[0m/\n"
          ],
          "name": "stdout"
        }
      ]
    },
    {
      "cell_type": "code",
      "metadata": {
        "id": "bouXTTC2WMS8",
        "colab_type": "code",
        "outputId": "01cb6d8e-859c-482a-938e-279950437f9d",
        "colab": {
          "base_uri": "https://localhost:8080/",
          "height": 51
        }
      },
      "source": [
        "%rm Flickr-dog.tar.gz  lfw-a.tgz\n",
        "%cd $rootClassifierDataDir\n",
        "%mkdir positives negatives\n",
        "%ls"
      ],
      "execution_count": 14,
      "outputs": [
        {
          "output_type": "stream",
          "text": [
            "/root/.fastai/data/faceBinaryClassifier\n",
            "\u001b[0m\u001b[01;34mFlickr-dog\u001b[0m/  \u001b[01;34mlfw\u001b[0m/  \u001b[01;34mnegatives\u001b[0m/  \u001b[01;34mpositives\u001b[0m/\n"
          ],
          "name": "stdout"
        }
      ]
    },
    {
      "cell_type": "code",
      "metadata": {
        "id": "wsXc5k-2WwIc",
        "colab_type": "code",
        "outputId": "32dfba97-5ec9-4a52-f1a1-74b96d9896e0",
        "colab": {
          "base_uri": "https://localhost:8080/",
          "height": 4012
        }
      },
      "source": [
        "%mv Flickr-dog/ negatives/\n",
        "%mv lfw positives/\n",
        "%ls . ./* ./*/*"
      ],
      "execution_count": 15,
      "outputs": [
        {
          "output_type": "stream",
          "text": [
            ".:\n",
            "\u001b[0m\u001b[01;34mnegatives\u001b[0m/  \u001b[01;34mpositives\u001b[0m/\n",
            "\n",
            "./negatives:\n",
            "\u001b[01;34mFlickr-dog\u001b[0m/\n",
            "\n",
            "./negatives/Flickr-dog:\n",
            "\u001b[01;34mApolo\u001b[0m/          \u001b[01;34mChloe\u001b[0m/       \u001b[01;34mEve\u001b[0m/     \u001b[01;34mMeeshka\u001b[0m/  \u001b[01;34mPrincesa\u001b[0m/  \u001b[01;34mSkye\u001b[0m/\n",
            "\u001b[01;34mBailey\u001b[0m/         \u001b[01;34mClara\u001b[0m/       \u001b[01;34mGracie\u001b[0m/  \u001b[01;34mMonty\u001b[0m/    \u001b[01;34mPurcy\u001b[0m/     \u001b[01;34mTala\u001b[0m/\n",
            "\u001b[01;34mBandit\u001b[0m/         \u001b[01;34mCody\u001b[0m/        \u001b[01;34mInjun\u001b[0m/   \u001b[01;34mNewton\u001b[0m/   \u001b[01;34mRave\u001b[0m/      \u001b[01;34mWilco\u001b[0m/\n",
            "\u001b[01;34mBella\u001b[0m/          \u001b[01;34mDakota\u001b[0m/      \u001b[01;34mKira\u001b[0m/    \u001b[01;34mNikita\u001b[0m/   \u001b[01;34mRico\u001b[0m/      \u001b[01;34mWinston\u001b[0m/\n",
            "\u001b[01;34mBella-Kappel\u001b[0m/   \u001b[01;34mDakota-CNC\u001b[0m/  \u001b[01;34mKoda\u001b[0m/    \u001b[01;34mNoodles\u001b[0m/  \u001b[01;34mRidley\u001b[0m/    \u001b[01;34mYoda\u001b[0m/\n",
            "\u001b[01;34mBella-Theresa\u001b[0m/  \u001b[01;34mDoris\u001b[0m/       \u001b[01;34mLandy\u001b[0m/   \u001b[01;34mOliver\u001b[0m/   \u001b[01;34mRoscoe\u001b[0m/    \u001b[01;34mZeus-Rekel\u001b[0m/\n",
            "\u001b[01;34mBu-chan\u001b[0m/        \u001b[01;34mDuke\u001b[0m/        \u001b[01;34mLulu\u001b[0m/    \u001b[01;34mPeaches\u001b[0m/  \u001b[01;34mSkipper\u001b[0m/   \u001b[01;34mZowie\u001b[0m/\n",
            "\n",
            "./positives:\n",
            "\u001b[01;34mlfw\u001b[0m/\n",
            "\n",
            "./positives/lfw:\n",
            "\u001b[01;34mAaron_Eckhart\u001b[0m/                 \u001b[01;34mAmanda_Coetzer\u001b[0m/\n",
            "\u001b[01;34mAaron_Guiel\u001b[0m/                   \u001b[01;34mAmanda_Marsh\u001b[0m/\n",
            "\u001b[01;34mAaron_Patterson\u001b[0m/               \u001b[01;34mAmanda_Plumer\u001b[0m/\n",
            "\u001b[01;34mAaron_Peirsol\u001b[0m/                 \u001b[01;34mAmber_Frey\u001b[0m/\n",
            "\u001b[01;34mAaron_Pena\u001b[0m/                    \u001b[01;34mAmber_Tamblyn\u001b[0m/\n",
            "\u001b[01;34mAaron_Sorkin\u001b[0m/                  \u001b[01;34mAmbrose_Lee\u001b[0m/\n",
            "\u001b[01;34mAaron_Tippin\u001b[0m/                  \u001b[01;34mAmelia_Vega\u001b[0m/\n",
            "\u001b[01;34mAbba_Eban\u001b[0m/                     \u001b[01;34mAmelie_Mauresmo\u001b[0m/\n",
            "\u001b[01;34mAbbas_Kiarostami\u001b[0m/              \u001b[01;34mAmer_al-Saadi\u001b[0m/\n",
            "\u001b[01;34mAbdel_Aziz_Al-Hakim\u001b[0m/           \u001b[01;34mAmporn_Falise\u001b[0m/\n",
            "\u001b[01;34mAbdel_Madi_Shabneh\u001b[0m/            \u001b[01;34mAmram_Mitzna\u001b[0m/\n",
            "\u001b[01;34mAbdel_Nasser_Assidi\u001b[0m/           \u001b[01;34mAmr_Moussa\u001b[0m/\n",
            "\u001b[01;34mAbdoulaye_Wade\u001b[0m/                \u001b[01;34mAmy_Brenneman\u001b[0m/\n",
            "\u001b[01;34mAbdulaziz_Kamilov\u001b[0m/             \u001b[01;34mAmy_Cotton\u001b[0m/\n",
            "\u001b[01;34mAbdullah\u001b[0m/                      \u001b[01;34mAmy_Gale\u001b[0m/\n",
            "\u001b[01;34mAbdullah_Ahmad_Badawi\u001b[0m/         \u001b[01;34mAmy_Pascal\u001b[0m/\n",
            "\u001b[01;34mAbdullah_al-Attiyah\u001b[0m/           \u001b[01;34mAmy_Redford\u001b[0m/\n",
            "\u001b[01;34mAbdullah_Gul\u001b[0m/                  \u001b[01;34mAmy_Smart\u001b[0m/\n",
            "\u001b[01;34mAbdullah_Nasseef\u001b[0m/              \u001b[01;34mAmy_Yasbeck\u001b[0m/\n",
            "\u001b[01;34mAbdullatif_Sener\u001b[0m/              \u001b[01;34mAna_Claudia_Talancon\u001b[0m/\n",
            "\u001b[01;34mAbdul_Majeed_Shobokshi\u001b[0m/        \u001b[01;34mAna_Guevara\u001b[0m/\n",
            "\u001b[01;34mAbdul_Rahman\u001b[0m/                  \u001b[01;34mAna_Isabel_Sanchez\u001b[0m/\n",
            "\u001b[01;34mAbel_Aguilar\u001b[0m/                  \u001b[01;34mAna_Palacio\u001b[0m/\n",
            "\u001b[01;34mAbel_Pacheco\u001b[0m/                  \u001b[01;34mAna_Paula_Gerard\u001b[0m/\n",
            "\u001b[01;34mAbid_Hamid_Mahmud_Al-Tikriti\u001b[0m/  \u001b[01;34mAna_Sebastiao\u001b[0m/\n",
            "\u001b[01;34mAbner_Martinez\u001b[0m/                \u001b[01;34mAnastasia_Kelesidou\u001b[0m/\n",
            "\u001b[01;34mAbraham_Foxman\u001b[0m/                \u001b[01;34mAnastasia_Myskina\u001b[0m/\n",
            "\u001b[01;34mAby_Har-Even\u001b[0m/                  \u001b[01;34mAnatoliy_Kinakh\u001b[0m/\n",
            "\u001b[01;34mAdam_Ant\u001b[0m/                      \u001b[01;34mAnders_Ebbeson\u001b[0m/\n",
            "\u001b[01;34mAdam_Freier\u001b[0m/                   \u001b[01;34mAnders_Fogh_Rasmussen\u001b[0m/\n",
            "\u001b[01;34mAdam_Herbert\u001b[0m/                  \u001b[01;34mAnderson_Varejao\u001b[0m/\n",
            "\u001b[01;34mAdam_Kennedy\u001b[0m/                  \u001b[01;34mAndrea_Bocelli\u001b[0m/\n",
            "\u001b[01;34mAdam_Mair\u001b[0m/                     \u001b[01;34mAndrea_De_Cruz\u001b[0m/\n",
            "\u001b[01;34mAdam_Rich\u001b[0m/                     \u001b[01;34mAndre_Agassi\u001b[0m/\n",
            "\u001b[01;34mAdam_Sandler\u001b[0m/                  \u001b[01;34mAndrea_Kiser\u001b[0m/\n",
            "\u001b[01;34mAdam_Scott\u001b[0m/                    \u001b[01;34mAndreas_Vinciguerra\u001b[0m/\n",
            "\u001b[01;34mAdel_Al-Jubeir\u001b[0m/                \u001b[01;34mAndrea_Yates\u001b[0m/\n",
            "\u001b[01;34mAdelina_Avila\u001b[0m/                 \u001b[01;34mAndre_Bucher\u001b[0m/\n",
            "\u001b[01;34mAdisai_Bodharamik\u001b[0m/             \u001b[01;34mAndrei_Konchalovsky\u001b[0m/\n",
            "\u001b[01;34mAdolfo_Aguilar_Zinser\u001b[0m/         \u001b[01;34mAndrei_Mikhnevich\u001b[0m/\n",
            "\u001b[01;34mAdolfo_Rodriguez_Saa\u001b[0m/          \u001b[01;34mAndrei_Nikolishin\u001b[0m/\n",
            "\u001b[01;34mAdoor_Gopalakarishnan\u001b[0m/         \u001b[01;34mAndre_Lange\u001b[0m/\n",
            "\u001b[01;34mAdriana_Lima\u001b[0m/                  \u001b[01;34mAndres_DAlessandro\u001b[0m/\n",
            "\u001b[01;34mAdrian_Annus\u001b[0m/                  \u001b[01;34mAndres_Manuel_Lopez_Obrador\u001b[0m/\n",
            "\u001b[01;34mAdriana_Perez_Navarro\u001b[0m/         \u001b[01;34mAndre_Smith\u001b[0m/\n",
            "\u001b[01;34mAdrian_Fernandez\u001b[0m/              \u001b[01;34mAndres_Pastrana\u001b[0m/\n",
            "\u001b[01;34mAdrian_McPherson\u001b[0m/              \u001b[01;34mAndre_Techine\u001b[0m/\n",
            "\u001b[01;34mAdrian_Murrell\u001b[0m/                \u001b[01;34mAndrew_Bernard\u001b[0m/\n",
            "\u001b[01;34mAdrian_Nastase\u001b[0m/                \u001b[01;34mAndrew_Bunner\u001b[0m/\n",
            "\u001b[01;34mAdrianna_Zuzic\u001b[0m/                \u001b[01;34mAndrew_Caldecott\u001b[0m/\n",
            "\u001b[01;34mAdrien_Brody\u001b[0m/                  \u001b[01;34mAndrew_Cuomo\u001b[0m/\n",
            "\u001b[01;34mAfton_Smith\u001b[0m/                   \u001b[01;34mAndrew_Fastow\u001b[0m/\n",
            "\u001b[01;34mAgbani_Darego\u001b[0m/                 \u001b[01;34mAndrew_Firestone\u001b[0m/\n",
            "\u001b[01;34mAgnelo_Queiroz\u001b[0m/                \u001b[01;34mAndrew_Gilligan\u001b[0m/\n",
            "\u001b[01;34mAgnes_Bruckner\u001b[0m/                \u001b[01;34mAndrew_Jarecki\u001b[0m/\n",
            "\u001b[01;34mAhmad_Jbarah\u001b[0m/                  \u001b[01;34mAndrew_Luster\u001b[0m/\n",
            "\u001b[01;34mAhmad_Masood\u001b[0m/                  \u001b[01;34mAndrew_Niccol\u001b[0m/\n",
            "\u001b[01;34mAhmed_Ahmed\u001b[0m/                   \u001b[01;34mAndrew_Sabey\u001b[0m/\n",
            "\u001b[01;34mAhmed_Chalabi\u001b[0m/                 \u001b[01;34mAndrew_Shutley\u001b[0m/\n",
            "\u001b[01;34mAhmed_Ghazi\u001b[0m/                   \u001b[01;34mAndrew_Weissmann\u001b[0m/\n",
            "\u001b[01;34mAhmed_Ibrahim_Bilal\u001b[0m/           \u001b[01;34mAndrew_Wetzler\u001b[0m/\n",
            "\u001b[01;34mAhmed_Lopez\u001b[0m/                   \u001b[01;34mAndrzej_Tyszkiewicz\u001b[0m/\n",
            "\u001b[01;34mAhmed_Qureia\u001b[0m/                  \u001b[01;34mAndy_Benes\u001b[0m/\n",
            "\u001b[01;34mAhmet_Demir\u001b[0m/                   \u001b[01;34mAndy_Bryant\u001b[0m/\n",
            "\u001b[01;34mAhmet_Necdet_Sezer\u001b[0m/            \u001b[01;34mAndy_Dick\u001b[0m/\n",
            "\u001b[01;34mAicha_El_Ouafi\u001b[0m/                \u001b[01;34mAndy_Garcia\u001b[0m/\n",
            "\u001b[01;34mAidan_Quinn\u001b[0m/                   \u001b[01;34mAndy_Graves\u001b[0m/\n",
            "\u001b[01;34mAileen_Riggin_Soule\u001b[0m/           \u001b[01;34mAndy_Griffith\u001b[0m/\n",
            "\u001b[01;34mAin_Seppik\u001b[0m/                    \u001b[01;34mAndy_Griggs\u001b[0m/\n",
            "\u001b[01;34mAinsworth_Dyer\u001b[0m/                \u001b[01;34mAndy_Hebb\u001b[0m/\n",
            "\u001b[01;34mAishwarya_Rai\u001b[0m/                 \u001b[01;34mAndy_Lau\u001b[0m/\n",
            "\u001b[01;34mAi_Sugiyama\u001b[0m/                   \u001b[01;34mAndy_Madikians\u001b[0m/\n",
            "\u001b[01;34mAitor_Gonzalez\u001b[0m/                \u001b[01;34mAndy_North\u001b[0m/\n",
            "\u001b[01;34mAiysha_Smith\u001b[0m/                  \u001b[01;34mAndy_Perez\u001b[0m/\n",
            "\u001b[01;34mAJ_Cook\u001b[0m/                       \u001b[01;34mAndy_Roddick\u001b[0m/\n",
            "\u001b[01;34mAjit_Agarkar\u001b[0m/                  \u001b[01;34mAndy_Rooney\u001b[0m/\n",
            "\u001b[01;34mAJ_Lamas\u001b[0m/                      \u001b[01;34mAndy_Warhol\u001b[0m/\n",
            "\u001b[01;34mAkbar_Al_Baker\u001b[0m/                \u001b[01;34mAndy_Wisecarver\u001b[0m/\n",
            "\u001b[01;34mAkbar_Hashemi_Rafsanjani\u001b[0m/      \u001b[01;34mAnette_Hosoi\u001b[0m/\n",
            "\u001b[01;34mAkhmed_Zakayev\u001b[0m/                \u001b[01;34mAnFernce_Negron\u001b[0m/\n",
            "\u001b[01;34mAkiko_Morigami\u001b[0m/                \u001b[01;34mAngela_Alvarado_Rosa\u001b[0m/\n",
            "\u001b[01;34mAkmal_Taher\u001b[0m/                   \u001b[01;34mAngela_Bassett\u001b[0m/\n",
            "\u001b[01;34mAlain_Cervantes\u001b[0m/               \u001b[01;34mAngela_Lansbury\u001b[0m/\n",
            "\u001b[01;34mAlain_Ducasse\u001b[0m/                 \u001b[01;34mAngela_Mascia-Frye\u001b[0m/\n",
            "\u001b[01;34mAlan_Ball\u001b[0m/                     \u001b[01;34mAngela_Merkel\u001b[0m/\n",
            "\u001b[01;34mAlan_Dershowitz\u001b[0m/               \u001b[01;34mAngelica_Romero\u001b[0m/\n",
            "\u001b[01;34mAlan_Dreher\u001b[0m/                   \u001b[01;34mAngelina_Jolie\u001b[0m/\n",
            "\u001b[01;34mAlan_Greenspan\u001b[0m/                \u001b[01;34mAngel_Lockward\u001b[0m/\n",
            "\u001b[01;34mAlan_Greer\u001b[0m/                    \u001b[01;34mAngel_Maza\u001b[0m/\n",
            "\u001b[01;34mAlanis_Morissette\u001b[0m/             \u001b[01;34mAngelo_Genova\u001b[0m/\n",
            "\u001b[01;34mAlan_Jackson\u001b[0m/                  \u001b[01;34mAngelo_Reyes\u001b[0m/\n",
            "\u001b[01;34mAlan_Mulally\u001b[0m/                  \u001b[01;34mAngie_Arzola\u001b[0m/\n",
            "\u001b[01;34mAlanna_Ubach\u001b[0m/                  \u001b[01;34mAngie_Martinez\u001b[0m/\n",
            "\u001b[01;34mAlan_Stonecipher\u001b[0m/              \u001b[01;34mAnibal_Ibarra\u001b[0m/\n",
            "\u001b[01;34mAlan_Tang_Kwong-wing\u001b[0m/          \u001b[01;34mAnil_Ramsook\u001b[0m/\n",
            "\u001b[01;34mAlan_Trammell\u001b[0m/                 \u001b[01;34mAnita_DeFrantz\u001b[0m/\n",
            "\u001b[01;34mAlan_Zemaitis\u001b[0m/                 \u001b[01;34mAnja_Paerson\u001b[0m/\n",
            "\u001b[01;34mAlastair_Campbell\u001b[0m/             \u001b[01;34mAnjum_Hussain\u001b[0m/\n",
            "\u001b[01;34mAlastair_Johnston\u001b[0m/             \u001b[01;34mAnna_Chicherova\u001b[0m/\n",
            "\u001b[01;34mAlbaro_Recoba\u001b[0m/                 \u001b[01;34mAnna_Faris\u001b[0m/\n",
            "\u001b[01;34mAlberta_Lee\u001b[0m/                   \u001b[01;34mAnna_Jones\u001b[0m/\n",
            "\u001b[01;34mAlbert_Brooks\u001b[0m/                 \u001b[01;34mAnna_Kournikova\u001b[0m/\n",
            "\u001b[01;34mAlbert_Costa\u001b[0m/                  \u001b[01;34mAnna_Nicole_Smith\u001b[0m/\n",
            "\u001b[01;34mAlbert_Montanes\u001b[0m/               \u001b[01;34mAnne_Cavers\u001b[0m/\n",
            "\u001b[01;34mAlberto_Acosta\u001b[0m/                \u001b[01;34mAnne_Donovan\u001b[0m/\n",
            "\u001b[01;34mAlberto_Fujimori\u001b[0m/              \u001b[01;34mAnne_Heche\u001b[0m/\n",
            "\u001b[01;34mAlberto_Gonzales\u001b[0m/              \u001b[01;34mAnne_Krueger\u001b[0m/\n",
            "\u001b[01;34mAlberto_Ruiz_Gallardon\u001b[0m/        \u001b[01;34mAnneli_Jaatteenmaki\u001b[0m/\n",
            "\u001b[01;34mAlberto_Sordi\u001b[0m/                 \u001b[01;34mAnne_McLellan\u001b[0m/\n",
            "\u001b[01;34mAlbert_Pujols\u001b[0m/                 \u001b[01;34mAnne_ONeil\u001b[0m/\n",
            "\u001b[01;34mAlbrecht_Mentz\u001b[0m/                \u001b[01;34mAnnette_Bening\u001b[0m/\n",
            "\u001b[01;34mAl_Cardenas\u001b[0m/                   \u001b[01;34mAnnette_Lu\u001b[0m/\n",
            "\u001b[01;34mAl_Davis\u001b[0m/                      \u001b[01;34mAnn_Godbehere\u001b[0m/\n",
            "\u001b[01;34mAldo_Paredes\u001b[0m/                  \u001b[01;34mAnnie_Chaplin\u001b[0m/\n",
            "\u001b[01;34mAlec_Baldwin\u001b[0m/                  \u001b[01;34mAnnie-Jeanne_Reynaud\u001b[0m/\n",
            "\u001b[01;34mAlecos_Markides\u001b[0m/               \u001b[01;34mAnnie_Machon\u001b[0m/\n",
            "\u001b[01;34mAlejandro_Atchugarry\u001b[0m/          \u001b[01;34mAnnika_Sorenstam\u001b[0m/\n",
            "\u001b[01;34mAlejandro_Avila\u001b[0m/               \u001b[01;34mAnn_Landers\u001b[0m/\n",
            "\u001b[01;34mAlejandro_Fernandez\u001b[0m/           \u001b[01;34mAnn_Morgan\u001b[0m/\n",
            "\u001b[01;34mAlejandro_Gonzalez_Inarritu\u001b[0m/   \u001b[01;34mAnn_Veneman\u001b[0m/\n",
            "\u001b[01;34mAlejandro_Lembo\u001b[0m/               \u001b[01;34mAntanas_Valionis\u001b[0m/\n",
            "\u001b[01;34mAlejandro_Lerner\u001b[0m/              \u001b[01;34mAnthony_Carter\u001b[0m/\n",
            "\u001b[01;34mAlejandro_Lopez\u001b[0m/               \u001b[01;34mAnthony_Corso\u001b[0m/\n",
            "\u001b[01;34mAlejandro_Toledo\u001b[0m/              \u001b[01;34mAnthony_Ervin\u001b[0m/\n",
            "\u001b[01;34mAleksander_Kwasniewski\u001b[0m/        \u001b[01;34mAnthony_Fauci\u001b[0m/\n",
            "\u001b[01;34mAleksander_Voloshin\u001b[0m/           \u001b[01;34mAnthony_Garotinho\u001b[0m/\n",
            "\u001b[01;34mAlek_Wek\u001b[0m/                      \u001b[01;34mAnthony_Hazen\u001b[0m/\n",
            "\u001b[01;34mAlessandra_Cerna\u001b[0m/              \u001b[01;34mAnthony_Hopkins\u001b[0m/\n",
            "\u001b[01;34mAlessandro_Nesta\u001b[0m/              \u001b[01;34mAnthony_LaPaglia\u001b[0m/\n",
            "\u001b[01;34mAlexa_Loren\u001b[0m/                   \u001b[01;34mAnthony_Lee_Johnson\u001b[0m/\n",
            "\u001b[01;34mAlexander_Downer\u001b[0m/              \u001b[01;34mAnthony_Mazur\u001b[0m/\n",
            "\u001b[01;34mAlexander_Losyukov\u001b[0m/            \u001b[01;34mAnthony_Pico\u001b[0m/\n",
            "\u001b[01;34mAlexander_Lukashenko\u001b[0m/          \u001b[01;34mAnthony_Pisciotti\u001b[0m/\n",
            "\u001b[01;34mAlexander_Payne\u001b[0m/               \u001b[01;34mAnthony_Principi\u001b[0m/\n",
            "\u001b[01;34mAlexander_Rumyantsev\u001b[0m/          \u001b[01;34mAnthony_Rackauckas\u001b[0m/\n",
            "\u001b[01;34mAlexandra_Jackson\u001b[0m/             \u001b[01;34mAnthony_Scott_Miller\u001b[0m/\n",
            "\u001b[01;34mAlexandra_Pelosi\u001b[0m/              \u001b[01;34mAntje_Buschschulte\u001b[0m/\n",
            "\u001b[01;34mAlexandra_Rozovskaya\u001b[0m/          \u001b[01;34mAnton_Balasingham\u001b[0m/\n",
            "\u001b[01;34mAlexandra_Spann\u001b[0m/               \u001b[01;34mAntonio_Banderas\u001b[0m/\n",
            "\u001b[01;34mAlexandra_Stevenson\u001b[0m/           \u001b[01;34mAntonio_Bernardo\u001b[0m/\n",
            "\u001b[01;34mAlexandra_Vodjanikova\u001b[0m/         \u001b[01;34mAntonio_Cassano\u001b[0m/\n",
            "\u001b[01;34mAlexandre_Daigle\u001b[0m/              \u001b[01;34mAntonio_Catania\u001b[0m/\n",
            "\u001b[01;34mAlexandre_Despatie\u001b[0m/            \u001b[01;34mAntonio_Elias_Saca\u001b[0m/\n",
            "\u001b[01;34mAlexandre_Herchcovitch\u001b[0m/        \u001b[01;34mAntonio_Palocci\u001b[0m/\n",
            "\u001b[01;34mAlexandre_Vinokourov\u001b[0m/          \u001b[01;34mAntonio_Trillanes\u001b[0m/\n",
            "\u001b[01;34mAlexa_Vega\u001b[0m/                    \u001b[01;34mAntony_Leung\u001b[0m/\n",
            "\u001b[01;34mAlex_Barros\u001b[0m/                   \u001b[01;34mAntwun_Echols\u001b[0m/\n",
            "\u001b[01;34mAlex_Cabrera\u001b[0m/                  \u001b[01;34mAnwar_Ibrahim\u001b[0m/\n",
            "\u001b[01;34mAlex_Cejka\u001b[0m/                    \u001b[01;34mAnzori_Kikalishvili\u001b[0m/\n",
            "\u001b[01;34mAlex_Corretja\u001b[0m/                 \u001b[01;34mAparna_Pillai\u001b[0m/\n",
            "\u001b[01;34mAlex_Ferguson\u001b[0m/                 \u001b[01;34mAram_Adler\u001b[0m/\n",
            "\u001b[01;34mAlex_Gonzalez\u001b[0m/                 \u001b[01;34mArantxa_Sanchez-Vicario\u001b[0m/\n",
            "\u001b[01;34mAlex_Holmes\u001b[0m/                   \u001b[01;34mAretha_Franklin\u001b[0m/\n",
            "\u001b[01;34mAlexis_Bledel\u001b[0m/                 \u001b[01;34mArianna_Huffington\u001b[0m/\n",
            "\u001b[01;34mAlexis_Dennisoff\u001b[0m/              \u001b[01;34mAri_Bousbib\u001b[0m/\n",
            "\u001b[01;34mAlex_King\u001b[0m/                     \u001b[01;34mArie_Haan\u001b[0m/\n",
            "\u001b[01;34mAlex_Penelas\u001b[0m/                  \u001b[01;34mAriel_Sharon\u001b[0m/\n",
            "\u001b[01;34mAlex_Popov\u001b[0m/                    \u001b[01;34mAri_Fleischer\u001b[0m/\n",
            "\u001b[01;34mAlex_Sink\u001b[0m/                     \u001b[01;34mArif_Mardin\u001b[0m/\n",
            "\u001b[01;34mAlex_Wallau\u001b[0m/                   \u001b[01;34mArlen_Specter\u001b[0m/\n",
            "\u001b[01;34mAlex_Zanardi\u001b[0m/                  \u001b[01;34mArmando_Avila_Panchame\u001b[0m/\n",
            "\u001b[01;34mAlfonso_Cuaron\u001b[0m/                \u001b[01;34mArmando_Calderon_Sol\u001b[0m/\n",
            "\u001b[01;34mAlfonso_Portillo\u001b[0m/              \u001b[01;34mArmando_Carrillo\u001b[0m/\n",
            "\u001b[01;34mAlfonso_Soriano\u001b[0m/               \u001b[01;34mArmand_Sargen\u001b[0m/\n",
            "\u001b[01;34mAlfred_Ford\u001b[0m/                   \u001b[01;34mArminio_Fraga\u001b[0m/\n",
            "\u001b[01;34mAlfredo_di_Stefano\u001b[0m/            \u001b[01;34mArnaud_Clement\u001b[0m/\n",
            "\u001b[01;34mAlfredo_Moreno\u001b[0m/                \u001b[01;34mArnaud_Lagardere\u001b[0m/\n",
            "\u001b[01;34mAlfredo_Pena\u001b[0m/                  \u001b[01;34mArnie_Boehm\u001b[0m/\n",
            "\u001b[01;34mAlfred_Sant\u001b[0m/                   \u001b[01;34mArnoldo_Aleman\u001b[0m/\n",
            "\u001b[01;34mAl_Gore\u001b[0m/                       \u001b[01;34mArnold_Palmer\u001b[0m/\n",
            "\u001b[01;34mAli_Abbas\u001b[0m/                     \u001b[01;34mArnold_Schwarzenegger\u001b[0m/\n",
            "\u001b[01;34mAli_Abdullah_Saleh\u001b[0m/            \u001b[01;34mArnold_Scott\u001b[0m/\n",
            "\u001b[01;34mAli_Adbul_Karim_Madani\u001b[0m/        \u001b[01;34mAron_Ralston\u001b[0m/\n",
            "\u001b[01;34mAli_Ahmeti\u001b[0m/                    \u001b[01;34mArsinee_Khanjian\u001b[0m/\n",
            "\u001b[01;34mAli_Bin_Hussein\u001b[0m/               \u001b[01;34mArt_Cooper\u001b[0m/\n",
            "\u001b[01;34mAlice_Fisher\u001b[0m/                  \u001b[01;34mArt_Hoffmann\u001b[0m/\n",
            "\u001b[01;34mAlicia_Hollowell\u001b[0m/              \u001b[01;34mArt_Howe\u001b[0m/\n",
            "\u001b[01;34mAlicia_Keys\u001b[0m/                   \u001b[01;34mArthur_Johnson\u001b[0m/\n",
            "\u001b[01;34mAlicia_Molik\u001b[0m/                  \u001b[01;34mArthur_Martinez\u001b[0m/\n",
            "\u001b[01;34mAlicia_Silverstone\u001b[0m/            \u001b[01;34mArtieas_Shanks\u001b[0m/\n",
            "\u001b[01;34mAlicia_Witt\u001b[0m/                   \u001b[01;34mArt_Lopez\u001b[0m/\n",
            "\u001b[01;34mAli_Fallahian\u001b[0m/                 \u001b[01;34mArturo_Gatti\u001b[0m/\n",
            "\u001b[01;34mAli_Hammoud\u001b[0m/                   \u001b[01;34mArye_Mekel\u001b[0m/\n",
            "\u001b[01;34mAli_Khamenei\u001b[0m/                  \u001b[01;34mAsa_Hutchinson\u001b[0m/\n",
            "\u001b[01;34mAli_Mohammed_Maher\u001b[0m/            \u001b[01;34mAscencion_Barajas\u001b[0m/\n",
            "\u001b[01;34mAlimzhan_Tokhtakhounov\u001b[0m/        \u001b[01;34mAshanti\u001b[0m/\n",
            "\u001b[01;34mAli_Naimi\u001b[0m/                     \u001b[01;34mAshlea_Talbot\u001b[0m/\n",
            "\u001b[01;34mAlina_Kabaeva\u001b[0m/                 \u001b[01;34mAshley_Judd\u001b[0m/\n",
            "\u001b[01;34mAline_Chretien\u001b[0m/                \u001b[01;34mAshley_Olsen\u001b[0m/\n",
            "\u001b[01;34mAlisha_Richman\u001b[0m/                \u001b[01;34mAshley_Postell\u001b[0m/\n",
            "\u001b[01;34mAlison_Krauss\u001b[0m/                 \u001b[01;34mAshraf_Alasmar\u001b[0m/\n",
            "\u001b[01;34mAlison_Lohman\u001b[0m/                 \u001b[01;34mAshraf_Ghani\u001b[0m/\n",
            "\u001b[01;34mAlistair_MacDonald\u001b[0m/            \u001b[01;34mAshton_Kutcher\u001b[0m/\n",
            "\u001b[01;34mAllan_Houston\u001b[0m/                 \u001b[01;34mAsif_Ali_Zardari\u001b[0m/\n",
            "\u001b[01;34mAllan_Kemakeza\u001b[0m/                \u001b[01;34mAsif_Hanif\u001b[0m/\n",
            "\u001b[01;34mAllan_Wagner\u001b[0m/                  \u001b[01;34mAskar_Akayev\u001b[0m/\n",
            "\u001b[01;34mAl_Leiter\u001b[0m/                     \u001b[01;34mAsmaa_Assad\u001b[0m/\n",
            "\u001b[01;34mAllen_Iverson\u001b[0m/                 \u001b[01;34mAssad_Ahmadi\u001b[0m/\n",
            "\u001b[01;34mAllen_Rock\u001b[0m/                    \u001b[01;34mAstou_Ndiaye-Diatta\u001b[0m/\n",
            "\u001b[01;34mAllison_Janney\u001b[0m/                \u001b[01;34mAstrid_Betancourt\u001b[0m/\n",
            "\u001b[01;34mAllison_Searing\u001b[0m/               \u001b[01;34mAstrid_Eyzaguirre\u001b[0m/\n",
            "\u001b[01;34mAlly_Sheedy\u001b[0m/                   \u001b[01;34mAtal_Bihari_Vajpayee\u001b[0m/\n",
            "\u001b[01;34mAllyson_Felix\u001b[0m/                 \u001b[01;34mAtaollah_Mohajerani\u001b[0m/\n",
            "\u001b[01;34mAlma_Powell\u001b[0m/                   \u001b[01;34mAtiabet_Ijan_Amabel\u001b[0m/\n",
            "\u001b[01;34mAlmeida_Baptista\u001b[0m/              \u001b[01;34mAtom_Egoyan\u001b[0m/\n",
            "\u001b[01;34mAlonzo_Mourning\u001b[0m/               \u001b[01;34mAtsushi_Sato\u001b[0m/\n",
            "\u001b[01;34mAl_Pacino\u001b[0m/                     \u001b[01;34mAudrey_Lacroix\u001b[0m/\n",
            "\u001b[01;34mAl_Sharpton\u001b[0m/                   \u001b[01;34mAudrey_Sauret\u001b[0m/\n",
            "\u001b[01;34mAlvaro_Noboa\u001b[0m/                  \u001b[01;34mAugustin_Calleri\u001b[0m/\n",
            "\u001b[01;34mAlvaro_Silva_Calderon\u001b[0m/         \u001b[01;34mAugusto_Pinochet\u001b[0m/\n",
            "\u001b[01;34mAlvaro_Uribe\u001b[0m/                  \u001b[01;34mAugusto_Roa_Bastos\u001b[0m/\n",
            "\u001b[01;34mAlyse_Beaupre\u001b[0m/                 \u001b[01;34mAung_San_Suu_Kyi\u001b[0m/\n",
            "\u001b[01;34mAlyson_Hannigan\u001b[0m/               \u001b[01;34mAustin_Kearns\u001b[0m/\n",
            "\u001b[01;34mAly_Wagner\u001b[0m/                    \u001b[01;34mAvril_Lavigne\u001b[0m/\n",
            "\u001b[01;34mAmanda_Beard\u001b[0m/                  \u001b[01;34mAzmi_Bishara\u001b[0m/\n",
            "\u001b[01;34mAmanda_Bynes\u001b[0m/                  \u001b[01;34mAzra_Akin\u001b[0m/\n"
          ],
          "name": "stdout"
        }
      ]
    },
    {
      "cell_type": "markdown",
      "metadata": {
        "id": "QsrKHz1kaLKf",
        "colab_type": "text"
      },
      "source": [
        "Showing one negative example..."
      ]
    },
    {
      "cell_type": "code",
      "metadata": {
        "id": "rPZNrk94aW3O",
        "colab_type": "code",
        "outputId": "d0ecafe8-1772-455f-cb43-7b9fc48703ca",
        "colab": {
          "base_uri": "https://localhost:8080/",
          "height": 267
        }
      },
      "source": [
        "from IPython.display import Image\n",
        "Image(filename=str(rootClassifierDataDir/'negatives/Flickr-dog/Apolo/Apolo__01-crp.png')) "
      ],
      "execution_count": 16,
      "outputs": [
        {
          "output_type": "execute_result",
          "data": {
            "image/png": "[encoded data removed]",
            "text/plain": [
              "<IPython.core.display.Image object>"
            ]
          },
          "metadata": {
            "tags": []
          },
          "execution_count": 16
        }
      ]
    },
    {
      "cell_type": "code",
      "metadata": {
        "id": "yrFZ2JzPk4ot",
        "colab_type": "code",
        "outputId": "c020d1b7-f8cb-4edf-ce86-68c1ab5cca71",
        "colab": {
          "base_uri": "https://localhost:8080/",
          "height": 267
        }
      },
      "source": [
        "# List one positive example\n",
        "positiveExample1Root = rootClassifierDataDir/'positives/lfw/Adriana_Lima'\n",
        "Image(filename=str(positiveExample1Root/os.listdir(positiveExample1Root)[0]))"
      ],
      "execution_count": 17,
      "outputs": [
        {
          "output_type": "execute_result",
          "data": {
            "image/jpeg": "[encoded data removed]",
            "text/plain": [
              "<IPython.core.display.Image object>"
            ]
          },
          "metadata": {
            "tags": []
          },
          "execution_count": 17
        }
      ]
    },
    {
      "cell_type": "markdown",
      "metadata": {
        "id": "cp0c053tbZKz",
        "colab_type": "text"
      },
      "source": [
        "Basic setup of inputs"
      ]
    },
    {
      "cell_type": "code",
      "metadata": {
        "id": "t3nRz4qkYDDW",
        "colab_type": "code",
        "colab": {}
      },
      "source": [
        "data = (ImageList.from_folder(rootClassifierDataDir)\n",
        "        .split_by_rand_pct(0.2, seed=1)\n",
        "        #.split_by_folder()              # split in train/valid by folder\n",
        "        #.label_from_re('(positives)')   # label based on regex\n",
        "        #.label_from_re('(negatives)')\n",
        "        .label_from_func(lambda x: 'positive' if 'positives' in str(x) else 'negative')\n",
        "        #.label_from_func(lambda x: ) # label based on func\n",
        "        #.add_test_folder()              \n",
        "        #.transform(tfms, size=64)       # data augmentation\n",
        "        .databunch())"
      ],
      "execution_count": 0,
      "outputs": []
    },
    {
      "cell_type": "code",
      "metadata": {
        "id": "Tise-29hFG2b",
        "colab_type": "code",
        "outputId": "df486319-371d-4a4d-9a79-dce4ef47d8b2",
        "colab": {
          "base_uri": "https://localhost:8080/",
          "height": 34
        }
      },
      "source": [
        "dict = {}\n",
        "for label in data.train_ds.y:\n",
        "  key = label if label else 'Empty'\n",
        "  dict[key] = dict.get(key, -1) + 1\n",
        "dict"
      ],
      "execution_count": 19,
      "outputs": [
        {
          "output_type": "execute_result",
          "data": {
            "text/plain": [
              "{Category negative: 293, Category positive: 848}"
            ]
          },
          "metadata": {
            "tags": []
          },
          "execution_count": 19
        }
      ]
    },
    {
      "cell_type": "code",
      "metadata": {
        "id": "AscTrafOFSgW",
        "colab_type": "code",
        "colab": {}
      },
      "source": [
        "#%cat /usr/local/lib/python3.6/dist-packages/fastai/vision/data.py\n",
        "#%cat /usr/local/lib/python3.6/dist-packages/fastai/basic_data.py\n",
        "%cat /usr/local/lib/python3.6/dist-packages/fastai/data_block.py"
      ],
      "execution_count": 0,
      "outputs": []
    },
    {
      "cell_type": "code",
      "metadata": {
        "id": "8ZD10_CspJAG",
        "colab_type": "code",
        "colab": {}
      },
      "source": [
        "??cnn_learner"
      ],
      "execution_count": 0,
      "outputs": []
    },
    {
      "cell_type": "markdown",
      "metadata": {
        "id": "naT4g9nCymeC",
        "colab_type": "text"
      },
      "source": [
        "# TRAINING 1: FIT WITH RESNET 18 NOT PRETRAINED"
      ]
    },
    {
      "cell_type": "code",
      "metadata": {
        "id": "CD4fARzHGQGe",
        "colab_type": "code",
        "colab": {}
      },
      "source": [
        "learner1 = cnn_learner(data, models.resnet18, pretrained=False, metrics=accuracy)"
      ],
      "execution_count": 0,
      "outputs": []
    },
    {
      "cell_type": "code",
      "metadata": {
        "id": "FmDoZwYgMEkg",
        "colab_type": "code",
        "outputId": "dc25ab88-0272-4299-fddf-f1cf3fce3235",
        "colab": {
          "base_uri": "https://localhost:8080/",
          "height": 204
        }
      },
      "source": [
        "learner1.fit(5)"
      ],
      "execution_count": 0,
      "outputs": [
        {
          "output_type": "display_data",
          "data": {
            "text/html": [
              "<table border=\"1\" class=\"dataframe\">\n",
              "  <thead>\n",
              "    <tr style=\"text-align: left;\">\n",
              "      <th>epoch</th>\n",
              "      <th>train_loss</th>\n",
              "      <th>valid_loss</th>\n",
              "      <th>accuracy</th>\n",
              "      <th>time</th>\n",
              "    </tr>\n",
              "  </thead>\n",
              "  <tbody>\n",
              "    <tr>\n",
              "      <td>0</td>\n",
              "      <td>0.460605</td>\n",
              "      <td>1.804603</td>\n",
              "      <td>0.719298</td>\n",
              "      <td>06:57</td>\n",
              "    </tr>\n",
              "    <tr>\n",
              "      <td>1</td>\n",
              "      <td>0.242829</td>\n",
              "      <td>1.854703</td>\n",
              "      <td>0.719298</td>\n",
              "      <td>06:57</td>\n",
              "    </tr>\n",
              "    <tr>\n",
              "      <td>2</td>\n",
              "      <td>0.157760</td>\n",
              "      <td>0.119216</td>\n",
              "      <td>0.964912</td>\n",
              "      <td>06:56</td>\n",
              "    </tr>\n",
              "    <tr>\n",
              "      <td>3</td>\n",
              "      <td>0.119153</td>\n",
              "      <td>0.085093</td>\n",
              "      <td>0.964912</td>\n",
              "      <td>06:55</td>\n",
              "    </tr>\n",
              "    <tr>\n",
              "      <td>4</td>\n",
              "      <td>0.084983</td>\n",
              "      <td>0.386056</td>\n",
              "      <td>0.908772</td>\n",
              "      <td>06:55</td>\n",
              "    </tr>\n",
              "  </tbody>\n",
              "</table>"
            ],
            "text/plain": [
              "<IPython.core.display.HTML object>"
            ]
          },
          "metadata": {
            "tags": []
          }
        }
      ]
    },
    {
      "cell_type": "code",
      "metadata": {
        "id": "MeS_-P-AGM73",
        "colab_type": "code",
        "outputId": "690f106c-3f4b-4bc9-b0f6-eba36ce431ff",
        "colab": {
          "base_uri": "https://localhost:8080/",
          "height": 80
        }
      },
      "source": [
        "# Overfitting? Too high error on training set to be true\n",
        "learner1.fit(1)"
      ],
      "execution_count": 0,
      "outputs": [
        {
          "output_type": "display_data",
          "data": {
            "text/html": [
              "<table border=\"1\" class=\"dataframe\">\n",
              "  <thead>\n",
              "    <tr style=\"text-align: left;\">\n",
              "      <th>epoch</th>\n",
              "      <th>train_loss</th>\n",
              "      <th>valid_loss</th>\n",
              "      <th>accuracy</th>\n",
              "      <th>time</th>\n",
              "    </tr>\n",
              "  </thead>\n",
              "  <tbody>\n",
              "    <tr>\n",
              "      <td>0</td>\n",
              "      <td>0.018601</td>\n",
              "      <td>0.135659</td>\n",
              "      <td>0.943860</td>\n",
              "      <td>06:57</td>\n",
              "    </tr>\n",
              "  </tbody>\n",
              "</table>"
            ],
            "text/plain": [
              "<IPython.core.display.HTML object>"
            ]
          },
          "metadata": {
            "tags": []
          }
        }
      ]
    },
    {
      "cell_type": "code",
      "metadata": {
        "id": "Ld_pNFsFIf3I",
        "colab_type": "code",
        "outputId": "caba276a-307e-4f1f-83f3-f153159ed65f",
        "colab": {
          "base_uri": "https://localhost:8080/",
          "height": 80
        }
      },
      "source": [
        "learner1.fit(1)"
      ],
      "execution_count": 0,
      "outputs": [
        {
          "output_type": "display_data",
          "data": {
            "text/html": [
              "<table border=\"1\" class=\"dataframe\">\n",
              "  <thead>\n",
              "    <tr style=\"text-align: left;\">\n",
              "      <th>epoch</th>\n",
              "      <th>train_loss</th>\n",
              "      <th>valid_loss</th>\n",
              "      <th>accuracy</th>\n",
              "      <th>time</th>\n",
              "    </tr>\n",
              "  </thead>\n",
              "  <tbody>\n",
              "    <tr>\n",
              "      <td>0</td>\n",
              "      <td>0.022397</td>\n",
              "      <td>0.091297</td>\n",
              "      <td>0.971930</td>\n",
              "      <td>06:55</td>\n",
              "    </tr>\n",
              "  </tbody>\n",
              "</table>"
            ],
            "text/plain": [
              "<IPython.core.display.HTML object>"
            ]
          },
          "metadata": {
            "tags": []
          }
        }
      ]
    },
    {
      "cell_type": "code",
      "metadata": {
        "id": "ScVxre8RKy6q",
        "colab_type": "code",
        "outputId": "257718c9-3f20-40d9-b5d2-28850862f1d7",
        "colab": {
          "base_uri": "https://localhost:8080/",
          "height": 80
        }
      },
      "source": [
        "learner1.fit(1)"
      ],
      "execution_count": 0,
      "outputs": [
        {
          "output_type": "display_data",
          "data": {
            "text/html": [
              "<table border=\"1\" class=\"dataframe\">\n",
              "  <thead>\n",
              "    <tr style=\"text-align: left;\">\n",
              "      <th>epoch</th>\n",
              "      <th>train_loss</th>\n",
              "      <th>valid_loss</th>\n",
              "      <th>accuracy</th>\n",
              "      <th>time</th>\n",
              "    </tr>\n",
              "  </thead>\n",
              "  <tbody>\n",
              "    <tr>\n",
              "      <td>0</td>\n",
              "      <td>0.036786</td>\n",
              "      <td>0.041339</td>\n",
              "      <td>0.985965</td>\n",
              "      <td>06:55</td>\n",
              "    </tr>\n",
              "  </tbody>\n",
              "</table>"
            ],
            "text/plain": [
              "<IPython.core.display.HTML object>"
            ]
          },
          "metadata": {
            "tags": []
          }
        }
      ]
    },
    {
      "cell_type": "markdown",
      "metadata": {
        "id": "PV3YJC8SM7Nh",
        "colab_type": "text"
      },
      "source": [
        "# TRAINING 2: FIT 1 CYCLE WITH RESNET 18 NOT PRETRAINED"
      ]
    },
    {
      "cell_type": "code",
      "metadata": {
        "id": "fn4Cq6mvO2-Z",
        "colab_type": "code",
        "outputId": "367ef81b-2919-4709-d153-266f03f8dd6f",
        "colab": {
          "base_uri": "https://localhost:8080/",
          "height": 80
        }
      },
      "source": [
        "learner2 = cnn_learner(data, models.resnet18, pretrained=False, metrics=accuracy)\n",
        "learner2.fit_one_cycle(1)"
      ],
      "execution_count": 0,
      "outputs": [
        {
          "output_type": "display_data",
          "data": {
            "text/html": [
              "<table border=\"1\" class=\"dataframe\">\n",
              "  <thead>\n",
              "    <tr style=\"text-align: left;\">\n",
              "      <th>epoch</th>\n",
              "      <th>train_loss</th>\n",
              "      <th>valid_loss</th>\n",
              "      <th>accuracy</th>\n",
              "      <th>time</th>\n",
              "    </tr>\n",
              "  </thead>\n",
              "  <tbody>\n",
              "    <tr>\n",
              "      <td>0</td>\n",
              "      <td>0.524813</td>\n",
              "      <td>0.815184</td>\n",
              "      <td>0.312281</td>\n",
              "      <td>06:54</td>\n",
              "    </tr>\n",
              "  </tbody>\n",
              "</table>"
            ],
            "text/plain": [
              "<IPython.core.display.HTML object>"
            ]
          },
          "metadata": {
            "tags": []
          }
        }
      ]
    },
    {
      "cell_type": "code",
      "metadata": {
        "id": "psQLWgUGQmK6",
        "colab_type": "code",
        "outputId": "e486377a-a62e-4942-dc4b-d34257666708",
        "colab": {
          "base_uri": "https://localhost:8080/",
          "height": 80
        }
      },
      "source": [
        "learner2.fit_one_cycle(1)"
      ],
      "execution_count": 0,
      "outputs": [
        {
          "output_type": "display_data",
          "data": {
            "text/html": [
              "<table border=\"1\" class=\"dataframe\">\n",
              "  <thead>\n",
              "    <tr style=\"text-align: left;\">\n",
              "      <th>epoch</th>\n",
              "      <th>train_loss</th>\n",
              "      <th>valid_loss</th>\n",
              "      <th>accuracy</th>\n",
              "      <th>time</th>\n",
              "    </tr>\n",
              "  </thead>\n",
              "  <tbody>\n",
              "    <tr>\n",
              "      <td>0</td>\n",
              "      <td>0.208945</td>\n",
              "      <td>1.148851</td>\n",
              "      <td>0.719298</td>\n",
              "      <td>06:56</td>\n",
              "    </tr>\n",
              "  </tbody>\n",
              "</table>"
            ],
            "text/plain": [
              "<IPython.core.display.HTML object>"
            ]
          },
          "metadata": {
            "tags": []
          }
        }
      ]
    },
    {
      "cell_type": "code",
      "metadata": {
        "id": "PfZXhjDOERq2",
        "colab_type": "code",
        "outputId": "f27cc017-5842-4749-93f3-e1f02e13ec28",
        "colab": {
          "base_uri": "https://localhost:8080/",
          "height": 80
        }
      },
      "source": [
        "learner2.fit_one_cycle(1)"
      ],
      "execution_count": 0,
      "outputs": [
        {
          "output_type": "display_data",
          "data": {
            "text/html": [
              "<table border=\"1\" class=\"dataframe\">\n",
              "  <thead>\n",
              "    <tr style=\"text-align: left;\">\n",
              "      <th>epoch</th>\n",
              "      <th>train_loss</th>\n",
              "      <th>valid_loss</th>\n",
              "      <th>accuracy</th>\n",
              "      <th>time</th>\n",
              "    </tr>\n",
              "  </thead>\n",
              "  <tbody>\n",
              "    <tr>\n",
              "      <td>0</td>\n",
              "      <td>0.101595</td>\n",
              "      <td>0.299461</td>\n",
              "      <td>0.859649</td>\n",
              "      <td>06:57</td>\n",
              "    </tr>\n",
              "  </tbody>\n",
              "</table>"
            ],
            "text/plain": [
              "<IPython.core.display.HTML object>"
            ]
          },
          "metadata": {
            "tags": []
          }
        }
      ]
    },
    {
      "cell_type": "code",
      "metadata": {
        "id": "XJBd8_4TFaA8",
        "colab_type": "code",
        "colab": {}
      },
      "source": [
        "learner2.fit_one_cycle(1)"
      ],
      "execution_count": 0,
      "outputs": []
    },
    {
      "cell_type": "markdown",
      "metadata": {
        "id": "d859kbD9RlR9",
        "colab_type": "text"
      },
      "source": [
        "**Training 2b: raise cycle length**"
      ]
    },
    {
      "cell_type": "code",
      "metadata": {
        "id": "5gaJUscIQCXw",
        "colab_type": "code",
        "colab": {}
      },
      "source": [
        "learner2b = cnn_learner(data, models.resnet18, pretrained=False, metrics=accuracy)\n",
        "learner2b.fit_one_cycle(1)"
      ],
      "execution_count": 0,
      "outputs": []
    }
  ]
}