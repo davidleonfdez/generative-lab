{
 "cells": [
  {
   "cell_type": "markdown",
   "metadata": {
    "colab_type": "text",
    "id": "1AABsdIVBhr6"
   },
   "source": [
    "\n",
    "\n",
    "---\n",
    "\n",
    "\n",
    "Experiment with different variants of GANs using spectral normalization\n",
    "\n",
    "\n",
    "---\n",
    "\n"
   ]
  },
  {
   "cell_type": "code",
   "execution_count": null,
   "metadata": {
    "colab": {},
    "colab_type": "code",
    "id": "83mn7rYnBDYm"
   },
   "outputs": [],
   "source": [
    "%reload_ext autoreload\n",
    "%autoreload 2\n",
    "%matplotlib inline\n",
    "\n",
    "import torch.nn as nn\n",
    "import torch.nn.functional as F\n",
    "from fastai.vision import *\n",
    "from fastai.vision.gan import *"
   ]
  },
  {
   "cell_type": "markdown",
   "metadata": {
    "colab_type": "text",
    "id": "lPoOK_za3DYp"
   },
   "source": [
    "You should set the following option to True if the notebook isn't located in the file system inside a clone of the git repo (with the needed Python modules available) it belongs to; i.e., it's running independently."
   ]
  },
  {
   "cell_type": "code",
   "execution_count": null,
   "metadata": {
    "colab": {},
    "colab_type": "code",
    "id": "p2YGouS13Eux"
   },
   "outputs": [],
   "source": [
    "run_as_standalone_nb = False"
   ]
  },
  {
   "cell_type": "code",
   "execution_count": null,
   "metadata": {
    "colab": {},
    "colab_type": "code",
    "id": "DjvtxVR63Nm2"
   },
   "outputs": [],
   "source": [
    "# This cell needs to be executed before importing local project modules, like import core.gan\n",
    "if run_as_standalone_nb:\n",
    "    root_lib_path = os.path.abspath('generative-lab')\n",
    "    if not os.path.exists(root_lib_path):\n",
    "        !git clone https://github.com/davidleonfdez/generative-lab.git\n",
    "    if root_lib_path not in sys.path:\n",
    "        sys.path.insert(0, root_lib_path)\n",
    "else:\n",
    "    import local_lib_import"
   ]
  },
  {
   "cell_type": "code",
   "execution_count": null,
   "metadata": {
    "colab": {},
    "colab_type": "code",
    "id": "MbcAD7wm3t4G"
   },
   "outputs": [],
   "source": [
    "# Local project modules. Must be imported after local_lib_import or cloning git repo.\n",
    "from core.gan import CustomGANLearner, GANLossArgs, gan_loss_from_func_std, load_gan_learner, save_gan_learner\n",
    "from core.losses import hinge_adversarial_losses, hinge_like_adversarial_losses\n",
    "from core.nb_utils import mount_gdrive\n",
    "from core.net_builders import custom_critic"
   ]
  },
  {
   "cell_type": "markdown",
   "metadata": {},
   "source": [
    "`models_root` is used as the base path to save models. Next cell sets assumes the nb is being executed from Google Colab and you have a \"ML\" dir in Google Drive. Alternatively, you could set it manually to something like './' to save and load models to/from the current directory."
   ]
  },
  {
   "cell_type": "code",
   "execution_count": null,
   "metadata": {
    "colab": {
     "base_uri": "https://localhost:8080/",
     "height": 34
    },
    "colab_type": "code",
    "id": "hL1u5l8nBivj",
    "outputId": "c2834ca1-b61d-4d5e-ef44-88ae632f9c3f"
   },
   "outputs": [],
   "source": [
    "# Optional, allows saving parameters in gdrive\n",
    "root_gdrive = mount_gdrive()\n",
    "# Point this variable to the path where you want to save your models\n",
    "models_root = root_gdrive + 'ML/'"
   ]
  },
  {
   "cell_type": "code",
   "execution_count": null,
   "metadata": {
    "colab": {},
    "colab_type": "code",
    "id": "4LJcE-p6Biqx"
   },
   "outputs": [],
   "source": [
    "img_size = 64\n",
    "img_n_channels = 3\n",
    "batch_size = 128\n",
    "use_cuda = torch.cuda.is_available()"
   ]
  },
  {
   "cell_type": "markdown",
   "metadata": {
    "colab_type": "text",
    "id": "oF8r0GYoj1LD"
   },
   "source": [
    "# DATA"
   ]
  },
  {
   "cell_type": "code",
   "execution_count": null,
   "metadata": {},
   "outputs": [],
   "source": [
    "ds_url = \"http://vis-www.cs.umass.edu/lfw/lfw\""
   ]
  },
  {
   "cell_type": "code",
   "execution_count": null,
   "metadata": {
    "colab": {
     "base_uri": "https://localhost:8080/",
     "height": 34
    },
    "colab_type": "code",
    "id": "UTcCC2nLBo8M",
    "outputId": "7e14ecd9-522a-4dec-a2ba-929571dc61dd"
   },
   "outputs": [],
   "source": [
    "realImagesPath = untar_data(ds_url)\n",
    "realImagesPath"
   ]
  },
  {
   "cell_type": "code",
   "execution_count": null,
   "metadata": {
    "colab": {},
    "colab_type": "code",
    "id": "V9yeVYZSBo_F"
   },
   "outputs": [],
   "source": [
    "def get_data(path, bs, size):\n",
    "    return (GANItemList.from_folder(path, noise_sz=100)\n",
    "               .split_none()\n",
    "               .label_from_func(noop)\n",
    "               .transform(tfms=[[crop_pad(size=size, row_pct=(0,1), col_pct=(0,1))], []], size=size, tfm_y=True)\n",
    "               .databunch(bs=bs)\n",
    "               .normalize(stats = [torch.tensor([0.5,0.5,0.5]), torch.tensor([0.5,0.5,0.5])], do_x=False, do_y=True))"
   ]
  },
  {
   "cell_type": "code",
   "execution_count": null,
   "metadata": {
    "colab": {
     "base_uri": "https://localhost:8080/",
     "height": 1000
    },
    "colab_type": "code",
    "id": "qs_RVyJoBpB1",
    "outputId": "a8e2bbcf-8542-4761-e30b-73d6c46d2ac3"
   },
   "outputs": [],
   "source": [
    "data = get_data(realImagesPath, batch_size, img_size)\n",
    "data.show_batch()"
   ]
  },
  {
   "cell_type": "markdown",
   "metadata": {
    "colab_type": "text",
    "id": "15MV-MfVBy5i"
   },
   "source": [
    "# CRITIC"
   ]
  },
  {
   "cell_type": "markdown",
   "metadata": {
    "colab_type": "text",
    "id": "LEFpuDYu5pfu"
   },
   "source": [
    "```\n",
    "custom_critic(in_size:int, n_channels:int, n_features:int=64, \n",
    "              n_extra_layers:int=0, self_attention:bool=False, \n",
    "              **conv_kwargs) -> nn.Module\n",
    "```"
   ]
  },
  {
   "cell_type": "code",
   "execution_count": null,
   "metadata": {
    "colab": {},
    "colab_type": "code",
    "id": "FWu7lHVoCEFA"
   },
   "outputs": [],
   "source": [
    "critic = custom_critic(img_size, img_n_channels, n_extra_layers=1, norm_type=NormType.Spectral)"
   ]
  },
  {
   "cell_type": "markdown",
   "metadata": {
    "colab_type": "text",
    "id": "baHTxzbcB_7v"
   },
   "source": [
    "# GENERATOR"
   ]
  },
  {
   "cell_type": "markdown",
   "metadata": {
    "colab_type": "text",
    "id": "r7TDck156Fsr"
   },
   "source": [
    "```\n",
    "basic_generator(in_size:int, n_channels:int, noise_sz:int=100,  \n",
    "                n_features:int=64, n_extra_layers=0, **conv_kwargs)\n",
    "```"
   ]
  },
  {
   "cell_type": "code",
   "execution_count": null,
   "metadata": {
    "colab": {},
    "colab_type": "code",
    "id": "-eaGCsqpBtGP"
   },
   "outputs": [],
   "source": [
    "generator = basic_generator(img_size, img_n_channels, n_extra_layers=1)"
   ]
  },
  {
   "cell_type": "markdown",
   "metadata": {
    "colab_type": "text",
    "id": "NECCQ4THDuQW"
   },
   "source": [
    "# TRAINING"
   ]
  },
  {
   "cell_type": "markdown",
   "metadata": {},
   "source": [
    "* The parameters of a trained model can be saved with `save_gan_learner`.\n",
    "* A training run can resumed (using weights saved during a previous session) with `load_gan_learner`. For example:\n",
    "        load_gan_learner(learner, models_root + 'sngan-dcgan-Tr1a_60ep.pth')\n",
    "    This must be executed after instantiating the learner and BEFORE running `learner.fit()`.\n",
    "\n",
    "* Another alternative to launch a long training run is the method `save_checkpoint_gan`. It will automatically save the weights every `n_epochs_save_split` epochs."
   ]
  },
  {
   "cell_type": "markdown",
   "metadata": {
    "colab_type": "text",
    "id": "vEVpOXWhFI79"
   },
   "source": [
    "## DCGAN (standard GAN with NSGAN loss function)"
   ]
  },
  {
   "cell_type": "code",
   "execution_count": null,
   "metadata": {
    "colab": {},
    "colab_type": "code",
    "id": "HEQuR2JHMyXU"
   },
   "outputs": [],
   "source": [
    "def gen_loss_func(*args): return 0\n",
    "crit_loss_func = nn.BCEWithLogitsLoss()\n",
    "\n",
    "losses = gan_loss_from_func_std(gen_loss_func, crit_loss_func)"
   ]
  },
  {
   "cell_type": "markdown",
   "metadata": {
    "colab_type": "text",
    "id": "unqAQWMINEMp"
   },
   "source": [
    "### TR 1: Spectral norm only in critic, batch norm in generator"
   ]
  },
  {
   "cell_type": "markdown",
   "metadata": {
    "colab_type": "text",
    "id": "rnw1d28ANjm2"
   },
   "source": [
    "#### TR 1a: lr=2e-4"
   ]
  },
  {
   "cell_type": "code",
   "execution_count": null,
   "metadata": {
    "colab": {},
    "colab_type": "code",
    "id": "EY4XP7Z0BpEM"
   },
   "outputs": [],
   "source": [
    "lr = 2e-4\n",
    "critic = custom_critic(img_size, img_n_channels, n_extra_layers=1, norm_type=NormType.Spectral)\n",
    "generator = basic_generator(img_size, img_n_channels, n_extra_layers=1)\n",
    "learner = CustomGANLearner(data, generator, critic, GANLossArgs(*losses), switch_eval=False, \n",
    "                           opt_func = partial(optim.Adam, betas = (0.,0.99)), wd=0.)"
   ]
  },
  {
   "cell_type": "code",
   "execution_count": null,
   "metadata": {
    "colab": {
     "base_uri": "https://localhost:8080/",
     "height": 1000
    },
    "colab_type": "code",
    "id": "JEOELEvvNZEK",
    "outputId": "7b5f1aaa-b6c6-4268-f65e-0ce241fe78f2"
   },
   "outputs": [],
   "source": [
    "learner.fit(30, lr)\n",
    "save_gan_learner(learner, models_root + 'sngan-dcgan-Tr1a_30ep.pth')"
   ]
  },
  {
   "cell_type": "code",
   "execution_count": null,
   "metadata": {
    "colab": {
     "base_uri": "https://localhost:8080/",
     "height": 1000
    },
    "colab_type": "code",
    "id": "UdbUAkDPNrqg",
    "outputId": "49100d52-5099-4841-e259-862cb25ca95c"
   },
   "outputs": [],
   "source": [
    "learner.fit(30, lr)\n",
    "save_gan_learner(learner, models_root + 'sngan-dcgan-Tr1a_60ep.pth')"
   ]
  },
  {
   "cell_type": "markdown",
   "metadata": {
    "colab_type": "text",
    "id": "JWTInBABN2ou"
   },
   "source": [
    "#### TR 1b: lr=5e-4"
   ]
  },
  {
   "cell_type": "code",
   "execution_count": null,
   "metadata": {
    "colab": {},
    "colab_type": "code",
    "id": "qyX7IXrDN2o4"
   },
   "outputs": [],
   "source": [
    "lr = 5e-4\n",
    "critic = custom_critic(img_size, img_n_channels, n_extra_layers=1, norm_type=NormType.Spectral)\n",
    "generator = basic_generator(img_size, img_n_channels, n_extra_layers=1)\n",
    "learner = CustomGANLearner(data, generator, critic, GANLossArgs(*losses), switch_eval=False, \n",
    "                           opt_func = partial(optim.Adam, betas = (0.,0.99)), wd=0.)"
   ]
  },
  {
   "cell_type": "code",
   "execution_count": null,
   "metadata": {
    "colab": {
     "base_uri": "https://localhost:8080/",
     "height": 1000
    },
    "colab_type": "code",
    "id": "tD1qR_vYN2pA",
    "outputId": "80573b84-d065-4642-e1e8-735cbfa57b57"
   },
   "outputs": [],
   "source": [
    "learner.fit(30, lr)\n",
    "save_gan_learner(learner, models_root + 'sngan-dcgan-Tr1b_30ep.pth')"
   ]
  },
  {
   "cell_type": "code",
   "execution_count": null,
   "metadata": {
    "colab": {
     "base_uri": "https://localhost:8080/",
     "height": 1000
    },
    "colab_type": "code",
    "id": "ck7j4EoMN2pH",
    "outputId": "1b2a0367-5db4-42b1-a624-e89255e6fd53"
   },
   "outputs": [],
   "source": [
    "learner.fit(30, lr)\n",
    "save_gan_learner(learner, models_root + 'sngan-dcgan-Tr1b_60ep.pth')"
   ]
  },
  {
   "cell_type": "markdown",
   "metadata": {
    "colab_type": "text",
    "id": "xPUkgMLHLipi"
   },
   "source": [
    "#### TR 1c: lr=2e-4, betas=(0.5,0.9)"
   ]
  },
  {
   "cell_type": "code",
   "execution_count": null,
   "metadata": {
    "colab": {},
    "colab_type": "code",
    "id": "w1f7l5O9Lipn"
   },
   "outputs": [],
   "source": [
    "lr = 2e-4\n",
    "critic = custom_critic(img_size, img_n_channels, n_extra_layers=1, norm_type=NormType.Spectral)\n",
    "generator = basic_generator(img_size, img_n_channels, n_extra_layers=1)\n",
    "learner = CustomGANLearner(data, generator, critic, GANLossArgs(*losses), switch_eval=False, \n",
    "                           opt_func = partial(optim.Adam, betas = (0.5,0.9)), wd=0.)"
   ]
  },
  {
   "cell_type": "code",
   "execution_count": null,
   "metadata": {
    "colab": {
     "base_uri": "https://localhost:8080/",
     "height": 1000
    },
    "colab_type": "code",
    "id": "ioJrgH8vLipt",
    "outputId": "28776193-60b0-433a-c598-89086e2edb5e"
   },
   "outputs": [],
   "source": [
    "learner.fit(30, lr)\n",
    "save_gan_learner(learner, models_root + 'sngan-dcgan-Tr1c_30ep.pth')"
   ]
  },
  {
   "cell_type": "code",
   "execution_count": null,
   "metadata": {
    "colab": {
     "base_uri": "https://localhost:8080/",
     "height": 1000
    },
    "colab_type": "code",
    "id": "GUuPypPGLipw",
    "outputId": "0aef5a27-81bc-4e9e-e0b7-5b9a1bf9760e"
   },
   "outputs": [],
   "source": [
    "learner.fit(30, lr)\n",
    "save_gan_learner(learner, models_root + 'sngan-dcgan-Tr1c_60ep.pth')"
   ]
  },
  {
   "cell_type": "markdown",
   "metadata": {
    "colab_type": "text",
    "id": "eDPDkW2SNXMJ"
   },
   "source": [
    "#### TR 1d: lr=2e-4, betas=(0.5,0.999)"
   ]
  },
  {
   "cell_type": "code",
   "execution_count": null,
   "metadata": {
    "colab": {},
    "colab_type": "code",
    "id": "0lgZtdsqNXVk"
   },
   "outputs": [],
   "source": [
    "lr = 2e-4\n",
    "critic = custom_critic(img_size, img_n_channels, n_extra_layers=1, norm_type=NormType.Spectral)\n",
    "generator = basic_generator(img_size, img_n_channels, n_extra_layers=1)\n",
    "learner = CustomGANLearner(data, generator, critic, GANLossArgs(*losses), switch_eval=False, \n",
    "                           opt_func = partial(optim.Adam, betas = (0.5,0.999)), wd=0.)"
   ]
  },
  {
   "cell_type": "code",
   "execution_count": null,
   "metadata": {
    "colab": {
     "base_uri": "https://localhost:8080/",
     "height": 1000
    },
    "colab_type": "code",
    "id": "Erx-jgsCNXcN",
    "outputId": "ccfc03e4-7ddd-48b3-bcc8-70eb636b9b1c"
   },
   "outputs": [],
   "source": [
    "learner.fit(30, lr)\n",
    "save_gan_learner(learner, models_root + 'sngan-dcgan-Tr1d_30ep.pth')"
   ]
  },
  {
   "cell_type": "code",
   "execution_count": null,
   "metadata": {
    "colab": {
     "base_uri": "https://localhost:8080/",
     "height": 1000
    },
    "colab_type": "code",
    "id": "72dsxJGKNXfO",
    "outputId": "04f7e267-55c3-4d63-acb5-c3b10f0f3d10"
   },
   "outputs": [],
   "source": [
    "learner.fit(30, lr)\n",
    "save_gan_learner(learner, models_root + 'sngan-dcgan-Tr1d_60ep.pth')"
   ]
  },
  {
   "cell_type": "markdown",
   "metadata": {
    "colab_type": "text",
    "id": "0BFZ9MqvNyGc"
   },
   "source": [
    "#### TR 1e: lr=2e-4, betas=(0.5,0.999), 1 disc/gen iterations"
   ]
  },
  {
   "cell_type": "code",
   "execution_count": null,
   "metadata": {
    "colab": {},
    "colab_type": "code",
    "id": "06MRfzC8NyM5"
   },
   "outputs": [],
   "source": [
    "lr = 2e-4\n",
    "critic = custom_critic(img_size, img_n_channels, n_extra_layers=1, norm_type=NormType.Spectral)\n",
    "generator = basic_generator(img_size, img_n_channels, n_extra_layers=1)\n",
    "learner = CustomGANLearner(data, generator, critic, GANLossArgs(*losses), switch_eval=False, \n",
    "                           opt_func=partial(optim.Adam, betas = (0.5,0.999)), wd=0., \n",
    "                           switcher=partial(FixedGANSwitcher, n_crit=1, n_gen=1))"
   ]
  },
  {
   "cell_type": "code",
   "execution_count": null,
   "metadata": {
    "cellView": "both",
    "colab": {
     "base_uri": "https://localhost:8080/",
     "height": 1000
    },
    "colab_type": "code",
    "id": "QnkuoBACUI3U",
    "outputId": "84e3ab1e-3742-465b-d483-02d1c99c150b"
   },
   "outputs": [],
   "source": [
    "learner.fit(30, lr)\n",
    "save_gan_learner(learner, models_root + 'sngan-dcgan-Tr1e_30ep.pth')"
   ]
  },
  {
   "cell_type": "code",
   "execution_count": null,
   "metadata": {
    "colab": {
     "base_uri": "https://localhost:8080/",
     "height": 1000
    },
    "colab_type": "code",
    "id": "RH15HWOwUI6d",
    "outputId": "d8401f5e-032a-400d-f6d7-01f39ce167e0"
   },
   "outputs": [],
   "source": [
    "learner.fit(30, lr)\n",
    "save_gan_learner(learner, models_root + 'sngan-dcgan-Tr1e_60ep.pth')"
   ]
  },
  {
   "cell_type": "markdown",
   "metadata": {
    "colab_type": "text",
    "id": "H26JHfQAz5Zr"
   },
   "source": [
    "#### TR 1f: lr=2e-4, betas=(0.5,0.999), 2 disc/gen iterations"
   ]
  },
  {
   "cell_type": "code",
   "execution_count": null,
   "metadata": {
    "colab": {},
    "colab_type": "code",
    "id": "J2N4oICJz5sS"
   },
   "outputs": [],
   "source": [
    "lr = 2e-4\n",
    "critic = custom_critic(img_size, img_n_channels, n_extra_layers=1, norm_type=NormType.Spectral)\n",
    "generator = basic_generator(img_size, img_n_channels, n_extra_layers=1)\n",
    "learner = CustomGANLearner(data, generator, critic, GANLossArgs(*losses), switch_eval=False, \n",
    "                           opt_func=partial(optim.Adam, betas = (0.5,0.999)), wd=0., \n",
    "                           switcher=partial(FixedGANSwitcher, n_crit=2, n_gen=1))"
   ]
  },
  {
   "cell_type": "code",
   "execution_count": null,
   "metadata": {
    "colab": {
     "base_uri": "https://localhost:8080/",
     "height": 1000
    },
    "colab_type": "code",
    "id": "_GH8l1_p0rWv",
    "outputId": "271d0fc9-605c-4d77-a562-0a9b6919d46e"
   },
   "outputs": [],
   "source": [
    "learner.fit(30, lr)\n",
    "save_gan_learner(learner, models_root + 'sngan-dcgan-Tr1f_30ep.pth')"
   ]
  },
  {
   "cell_type": "code",
   "execution_count": null,
   "metadata": {
    "colab": {
     "base_uri": "https://localhost:8080/",
     "height": 1000
    },
    "colab_type": "code",
    "id": "gTJSoJY20rZW",
    "outputId": "1aaf9551-d7df-448a-e971-08a83226857b"
   },
   "outputs": [],
   "source": [
    "learner.fit(30, lr)\n",
    "save_gan_learner(learner, models_root + 'sngan-dcgan-Tr1f_60ep.pth')"
   ]
  },
  {
   "cell_type": "markdown",
   "metadata": {
    "colab_type": "text",
    "id": "mFax18eL04cF"
   },
   "source": [
    "#### TR 1g: lr=2e-4, betas=(0,0.999)"
   ]
  },
  {
   "cell_type": "code",
   "execution_count": null,
   "metadata": {
    "colab": {},
    "colab_type": "code",
    "id": "dv-bq3sHz9zT"
   },
   "outputs": [],
   "source": [
    "lr = 2e-4\n",
    "critic = custom_critic(img_size, img_n_channels, n_extra_layers=1, norm_type=NormType.Spectral)\n",
    "generator = basic_generator(img_size, img_n_channels, n_extra_layers=1)\n",
    "learner = CustomGANLearner(data, generator, critic, GANLossArgs(*losses), switch_eval=False, \n",
    "                           opt_func=partial(optim.Adam, betas = (0.,0.999)), wd=0.)"
   ]
  },
  {
   "cell_type": "code",
   "execution_count": null,
   "metadata": {
    "colab": {
     "base_uri": "https://localhost:8080/",
     "height": 1000
    },
    "colab_type": "code",
    "id": "9Luu7Yzp0uOX",
    "outputId": "e09b311b-b7e6-48de-eaf2-15a259e105dc"
   },
   "outputs": [],
   "source": [
    "learner.fit(30, lr)\n",
    "save_gan_learner(learner, models_root + 'sngan-dcgan-Tr1g_30ep.pth')"
   ]
  },
  {
   "cell_type": "code",
   "execution_count": null,
   "metadata": {
    "colab": {
     "base_uri": "https://localhost:8080/",
     "height": 1000
    },
    "colab_type": "code",
    "id": "mPTx-XZV1QIA",
    "outputId": "dc5812b1-99a7-49b7-81c8-81d43d3761c2"
   },
   "outputs": [],
   "source": [
    "learner.fit(30, lr)\n",
    "save_gan_learner(learner, models_root + 'sngan-dcgan-Tr1g_60ep.pth')"
   ]
  },
  {
   "cell_type": "markdown",
   "metadata": {
    "colab_type": "text",
    "id": "OwEEqMb9ssYe"
   },
   "source": [
    "#### TR 1h: lr=2e-4, hinge loss. Critic tries D(real)>=1, D(fake)<=-1. Gen tries D(fake)=inf."
   ]
  },
  {
   "cell_type": "markdown",
   "metadata": {
    "colab_type": "text",
    "id": "BIkaHL_jmTT5"
   },
   "source": [
    "**Hinge loss**\n",
    "\n",
    "For real images, we want to minimize (real part of critic loss func): $-min(0, -1 + D(x))$\n",
    "<br>$= max(0, 1-D(x))$\n",
    "\n",
    "For fake images, we want to minimize (fake part of critic loss func): $-min(0, -1 - D(G(z)))$\n",
    "<br>$= max(0, 1+D(G(z)))$"
   ]
  },
  {
   "cell_type": "code",
   "execution_count": null,
   "metadata": {
    "colab": {},
    "colab_type": "code",
    "id": "E4qlDAKFss9e"
   },
   "outputs": [],
   "source": [
    "hlosses = hinge_adversarial_losses()"
   ]
  },
  {
   "cell_type": "code",
   "execution_count": null,
   "metadata": {
    "colab": {},
    "colab_type": "code",
    "id": "pJ5aHxuns_iC"
   },
   "outputs": [],
   "source": [
    "lr = 2e-4\n",
    "critic = custom_critic(img_size, img_n_channels, n_extra_layers=1, norm_type=NormType.Spectral)\n",
    "generator = basic_generator(img_size, img_n_channels, n_extra_layers=1)\n",
    "learner = CustomGANLearner(data, generator, critic, GANLossArgs(*hlosses), switch_eval=False, \n",
    "                           opt_func = partial(optim.Adam, betas = (0.,0.99)), wd=0.)"
   ]
  },
  {
   "cell_type": "code",
   "execution_count": null,
   "metadata": {
    "colab": {
     "base_uri": "https://localhost:8080/",
     "height": 1000
    },
    "colab_type": "code",
    "id": "4PQrT1N3s_iM",
    "outputId": "53262d31-27a3-4e8f-c68a-82d20d5bdf4c"
   },
   "outputs": [],
   "source": [
    "learner.fit(30, lr)\n",
    "save_gan_learner(learner, models_root + 'sngan-dcgan-Tr1h_30ep.pth')"
   ]
  },
  {
   "cell_type": "code",
   "execution_count": null,
   "metadata": {
    "colab": {
     "base_uri": "https://localhost:8080/",
     "height": 1000
    },
    "colab_type": "code",
    "id": "10dQDB-ktBUc",
    "outputId": "9b3b00a5-3711-44f8-d748-497482cbc724"
   },
   "outputs": [],
   "source": [
    "learner.fit(30, lr)\n",
    "save_gan_learner(learner, models_root + 'sngan-dcgan-Tr1h_60ep.pth')"
   ]
  },
  {
   "cell_type": "markdown",
   "metadata": {
    "colab_type": "text",
    "id": "jnbQyUXyZRl_"
   },
   "source": [
    "#### TR 1i: lr=2e-4, pseudo hinge loss, only for fake preds. Critic tries D(real)=inf, D(fake)<=-1. Gen tries D(fake)=inf."
   ]
  },
  {
   "cell_type": "code",
   "execution_count": null,
   "metadata": {
    "colab": {},
    "colab_type": "code",
    "id": "lOeah5BTZQaZ"
   },
   "outputs": [],
   "source": [
    "hlosses = hinge_like_adversarial_losses(math.inf, math.inf, -1.) "
   ]
  },
  {
   "cell_type": "code",
   "execution_count": null,
   "metadata": {
    "colab": {},
    "colab_type": "code",
    "id": "wOgeLyOVZQ12"
   },
   "outputs": [],
   "source": [
    "lr = 2e-4\n",
    "critic = custom_critic(img_size, img_n_channels, n_extra_layers=1, norm_type=NormType.Spectral)\n",
    "generator = basic_generator(img_size, img_n_channels, n_extra_layers=1)\n",
    "learner = CustomGANLearner(data, generator, critic, GANLossArgs(*hlosses), switch_eval=False, \n",
    "                           opt_func = partial(optim.Adam, betas = (0.,0.99)), wd=0.)"
   ]
  },
  {
   "cell_type": "code",
   "execution_count": null,
   "metadata": {
    "colab": {
     "base_uri": "https://localhost:8080/",
     "height": 1000
    },
    "colab_type": "code",
    "id": "bmjXAJBqaWHF",
    "outputId": "ac350498-a9ac-48b0-8647-96b3e8bbe99e"
   },
   "outputs": [],
   "source": [
    "learner.fit(30, lr)\n",
    "save_gan_learner(learner, models_root + 'sngan-dcgan-Tr1i_30ep.pth')"
   ]
  },
  {
   "cell_type": "code",
   "execution_count": null,
   "metadata": {
    "colab": {
     "base_uri": "https://localhost:8080/",
     "height": 1000
    },
    "colab_type": "code",
    "id": "q8oOzpAOaWJg",
    "outputId": "3e22dc42-15ce-4d87-aee1-167a8115b1d8"
   },
   "outputs": [],
   "source": [
    "learner.fit(30, lr)\n",
    "save_gan_learner(learner, models_root + 'sngan-dcgan-Tr1i_60ep.pth')"
   ]
  },
  {
   "cell_type": "markdown",
   "metadata": {
    "colab_type": "text",
    "id": "APilzpNFOZqK"
   },
   "source": [
    "#### TR 1j: lr=2e-4, hinge loss with margin also in G loss. Critic tries D(real)>=1, D(fake)<=-1. Gen tries D(fake)>=1."
   ]
  },
  {
   "cell_type": "markdown",
   "metadata": {
    "colab_type": "text",
    "id": "SN6ge0dEcxCG"
   },
   "source": [
    "It shouldn't work, I believe the generator needs to push more, although it's the most symmetric formulation."
   ]
  },
  {
   "cell_type": "code",
   "execution_count": null,
   "metadata": {
    "colab": {},
    "colab_type": "code",
    "id": "gefoHeuGOZy2"
   },
   "outputs": [],
   "source": [
    "hlosses = hinge_like_adversarial_losses(1., 1., -1.)"
   ]
  },
  {
   "cell_type": "code",
   "execution_count": null,
   "metadata": {
    "colab": {},
    "colab_type": "code",
    "id": "sIdBPuyISgDX"
   },
   "outputs": [],
   "source": [
    "lr = 2e-4\n",
    "critic = custom_critic(img_size, img_n_channels, n_extra_layers=1, norm_type=NormType.Spectral)\n",
    "generator = basic_generator(img_size, img_n_channels, n_extra_layers=1)\n",
    "learner = CustomGANLearner(data, generator, critic, GANLossArgs(*hlosses), switch_eval=False, \n",
    "                           opt_func = partial(optim.Adam, betas = (0.,0.99)), wd=0.)"
   ]
  },
  {
   "cell_type": "code",
   "execution_count": null,
   "metadata": {
    "colab": {
     "base_uri": "https://localhost:8080/",
     "height": 1000
    },
    "colab_type": "code",
    "id": "lzNGw_pnSgDb",
    "outputId": "1bd94974-77a2-4101-83dd-5b91109594cd"
   },
   "outputs": [],
   "source": [
    "learner.fit(30, lr)\n",
    "save_gan_learner(learner, models_root + 'sngan-dcgan-Tr1j_30ep.pth')"
   ]
  },
  {
   "cell_type": "code",
   "execution_count": null,
   "metadata": {
    "colab": {
     "base_uri": "https://localhost:8080/",
     "height": 1000
    },
    "colab_type": "code",
    "id": "OaMyYl3dS0VD",
    "outputId": "587c9b6e-ed10-43ca-9d09-0e2a27b57d63"
   },
   "outputs": [],
   "source": [
    "learner.fit(30, lr)\n",
    "save_gan_learner(learner, models_root + 'sngan-dcgan-Tr1j_60ep.pth')"
   ]
  },
  {
   "cell_type": "markdown",
   "metadata": {
    "colab_type": "text",
    "id": "2WonMR6xOpaG"
   },
   "source": [
    "#### TR 1k: lr=2e-4, hinge loss with irregular margin, real identification pushes more in critic. Critic tries D(real)>=10, D(fake)<=-1. Gen tries D(fake)=inf."
   ]
  },
  {
   "cell_type": "markdown",
   "metadata": {
    "colab_type": "text",
    "id": "dyGpeLPTYwd3"
   },
   "source": [
    "Maybe only the difference between the margins minds."
   ]
  },
  {
   "cell_type": "code",
   "execution_count": null,
   "metadata": {
    "colab": {},
    "colab_type": "code",
    "id": "YfnIqjRUOpg5"
   },
   "outputs": [],
   "source": [
    "hlosses = hinge_like_adversarial_losses(math.inf, 10., -1.)"
   ]
  },
  {
   "cell_type": "code",
   "execution_count": null,
   "metadata": {
    "colab": {},
    "colab_type": "code",
    "id": "BFbPDlgzSin0"
   },
   "outputs": [],
   "source": [
    "lr = 2e-4\n",
    "critic = custom_critic(img_size, img_n_channels, n_extra_layers=1, norm_type=NormType.Spectral)\n",
    "generator = basic_generator(img_size, img_n_channels, n_extra_layers=1)\n",
    "learner = CustomGANLearner(data, generator, critic, GANLossArgs(*hlosses), switch_eval=False, \n",
    "                           opt_func = partial(optim.Adam, betas = (0.,0.99)), wd=0.)"
   ]
  },
  {
   "cell_type": "code",
   "execution_count": null,
   "metadata": {
    "colab": {
     "base_uri": "https://localhost:8080/",
     "height": 1000
    },
    "colab_type": "code",
    "id": "F3bjRRF2Sin8",
    "outputId": "d15a1bd1-26f0-43c8-f710-5a09172034c3"
   },
   "outputs": [],
   "source": [
    "learner.fit(30, lr)\n",
    "save_gan_learner(learner, models_root + 'sngan-dcgan-Tr1k_30ep.pth')"
   ]
  },
  {
   "cell_type": "code",
   "execution_count": null,
   "metadata": {
    "colab": {
     "base_uri": "https://localhost:8080/",
     "height": 1000
    },
    "colab_type": "code",
    "id": "w6o9gHeNfith",
    "outputId": "ff1b9443-b2a8-4dac-f3c0-d2fcc2dd52da"
   },
   "outputs": [],
   "source": [
    "learner.fit(30, lr)\n",
    "save_gan_learner(learner, models_root + 'sngan-dcgan-Tr1k_60ep.pth')"
   ]
  },
  {
   "cell_type": "markdown",
   "metadata": {
    "colab_type": "text",
    "id": "943EWJfOQF12"
   },
   "source": [
    "#### TR 1L: lr=2e-4, hinge loss with irregular margin, fake identification pushes more in critic. Critic tries D(real)>=1, D(fake)<=-10, gen tries D(fake)=inf"
   ]
  },
  {
   "cell_type": "markdown",
   "metadata": {
    "colab_type": "text",
    "id": "4bQqgym4UpJs"
   },
   "source": [
    "Maybe only the difference between the margins minds here."
   ]
  },
  {
   "cell_type": "code",
   "execution_count": null,
   "metadata": {
    "colab": {},
    "colab_type": "code",
    "id": "7hqC7PUGQF9j"
   },
   "outputs": [],
   "source": [
    "hlosses = hinge_like_adversarial_losses(math.inf, 1., -10.)"
   ]
  },
  {
   "cell_type": "code",
   "execution_count": null,
   "metadata": {
    "colab": {},
    "colab_type": "code",
    "id": "hUIn0FJWSkE8"
   },
   "outputs": [],
   "source": [
    "lr = 2e-4\n",
    "critic = custom_critic(img_size, img_n_channels, n_extra_layers=1, norm_type=NormType.Spectral)\n",
    "generator = basic_generator(img_size, img_n_channels, n_extra_layers=1)\n",
    "learner = CustomGANLearner(data, generator, critic, GANLossArgs(*hlosses), switch_eval=False, \n",
    "                           opt_func = partial(optim.Adam, betas = (0.,0.99)), wd=0.)"
   ]
  },
  {
   "cell_type": "code",
   "execution_count": null,
   "metadata": {
    "colab": {
     "base_uri": "https://localhost:8080/",
     "height": 1000
    },
    "colab_type": "code",
    "id": "2SiHihQwSkFD",
    "outputId": "572479b4-ffd1-4b83-9729-c3cb9944cb38"
   },
   "outputs": [],
   "source": [
    "learner.fit(30, lr)\n",
    "save_gan_learner(learner, models_root + 'sngan-dcgan-Tr1l_30ep.pth')"
   ]
  },
  {
   "cell_type": "code",
   "execution_count": null,
   "metadata": {
    "colab": {
     "base_uri": "https://localhost:8080/",
     "height": 1000
    },
    "colab_type": "code",
    "id": "49GnDhs_feyT",
    "outputId": "74cd470e-3f23-425e-ec6f-6d22d984768a"
   },
   "outputs": [],
   "source": [
    "learner.fit(30, lr)\n",
    "save_gan_learner(learner, models_root + 'sngan-dcgan-Tr1l_60ep.pth')"
   ]
  },
  {
   "cell_type": "markdown",
   "metadata": {
    "colab_type": "text",
    "id": "Y_MCbAqSRWKO"
   },
   "source": [
    "#### TMP TR 1m: lr=2e-4, hinge loss with irregular margin, fake identification pushes more in critic. Critic tries D(real)>=1, D(fake)<=-10. Gen tries D(fake)>=1"
   ]
  },
  {
   "cell_type": "code",
   "execution_count": null,
   "metadata": {
    "colab": {},
    "colab_type": "code",
    "id": "j1ihkzLqQ4sS"
   },
   "outputs": [],
   "source": [
    "hlosses = hinge_like_adversarial_losses(1., 1., -10.) "
   ]
  },
  {
   "cell_type": "code",
   "execution_count": null,
   "metadata": {
    "colab": {},
    "colab_type": "code",
    "id": "cYcklgZISma8"
   },
   "outputs": [],
   "source": [
    "lr = 2e-4\n",
    "critic = custom_critic(img_size, img_n_channels, n_extra_layers=1, norm_type=NormType.Spectral)\n",
    "generator = basic_generator(img_size, img_n_channels, n_extra_layers=1)\n",
    "learner = CustomGANLearner(data, generator, critic, GANLossArgs(*hlosses), switch_eval=False, \n",
    "                           opt_func = partial(optim.Adam, betas = (0.,0.99)), wd=0.)"
   ]
  },
  {
   "cell_type": "code",
   "execution_count": null,
   "metadata": {
    "colab": {
     "base_uri": "https://localhost:8080/",
     "height": 1000
    },
    "colab_type": "code",
    "id": "qKHBIS2zSmbG",
    "outputId": "1ced68d1-887c-44e1-94b7-8d64cfe3545c"
   },
   "outputs": [],
   "source": [
    "learner.fit(30, lr)\n",
    "save_gan_learner(learner, models_root + 'sngan-dcgan-Tr1m_30ep.pth')"
   ]
  },
  {
   "cell_type": "code",
   "execution_count": null,
   "metadata": {
    "colab": {
     "base_uri": "https://localhost:8080/",
     "height": 1000
    },
    "colab_type": "code",
    "id": "vC70YHi9Yu7L",
    "outputId": "e3556a89-3a4e-42cd-8edb-a5eff27c6de5"
   },
   "outputs": [],
   "source": [
    "learner.fit(30, lr)\n",
    "save_gan_learner(learner, models_root + 'sngan-dcgan-Tr1m_60ep.pth')"
   ]
  },
  {
   "cell_type": "markdown",
   "metadata": {
    "colab_type": "text",
    "id": "i66en9NgSGBx"
   },
   "source": [
    "#### TMP TR 1n: lr=2e-4, hinge loss with irregular margin, fake identification pushes more in critic. Critic tries D(real)>=1, D(fake)<=-10. Gen tries D(fake) >= 12"
   ]
  },
  {
   "cell_type": "code",
   "execution_count": null,
   "metadata": {
    "colab": {},
    "colab_type": "code",
    "id": "AyW-IdHsSQaW"
   },
   "outputs": [],
   "source": [
    "hlosses = hinge_like_adversarial_losses(12., 1., -10.)"
   ]
  },
  {
   "cell_type": "code",
   "execution_count": null,
   "metadata": {
    "colab": {},
    "colab_type": "code",
    "id": "NZ1VylIpSsfd"
   },
   "outputs": [],
   "source": [
    "lr = 2e-4\n",
    "critic = custom_critic(img_size, img_n_channels, n_extra_layers=1, norm_type=NormType.Spectral)\n",
    "generator = basic_generator(img_size, img_n_channels, n_extra_layers=1)\n",
    "learner = CustomGANLearner(data, generator, critic, GANLossArgs(*hlosses), switch_eval=False, \n",
    "                           opt_func = partial(optim.Adam, betas = (0.,0.99)), wd=0.)"
   ]
  },
  {
   "cell_type": "code",
   "execution_count": null,
   "metadata": {
    "colab": {
     "base_uri": "https://localhost:8080/",
     "height": 1000
    },
    "colab_type": "code",
    "id": "ppBJSivXSsfk",
    "outputId": "e3ed4a79-8f53-4707-c218-e012d27e0511"
   },
   "outputs": [],
   "source": [
    "learner.fit(30, lr)\n",
    "save_gan_learner(learner, models_root + 'sngan-dcgan-Tr1n_30ep.pth')"
   ]
  },
  {
   "cell_type": "code",
   "execution_count": null,
   "metadata": {
    "colab": {
     "base_uri": "https://localhost:8080/",
     "height": 1000
    },
    "colab_type": "code",
    "id": "XJPr1O-EfZDf",
    "outputId": "5d876aa1-57c4-4a05-950f-06fc6366c3f4"
   },
   "outputs": [],
   "source": [
    "learner.fit(30, lr)\n",
    "save_gan_learner(learner, models_root + 'sngan-dcgan-Tr1n_60ep.pth')"
   ]
  },
  {
   "cell_type": "markdown",
   "metadata": {
    "colab_type": "text",
    "id": "mAQFexlPgODL"
   },
   "source": [
    "#### TR 1o: lr=2e-4, only hinge loss for real preds. Critic tries D(real)>=1, D(fake)=-inf. Gen tries D(fake)=inf"
   ]
  },
  {
   "cell_type": "code",
   "execution_count": null,
   "metadata": {
    "colab": {},
    "colab_type": "code",
    "id": "RvNVoK44gODT"
   },
   "outputs": [],
   "source": [
    "hlosses = hinge_like_adversarial_losses(math.inf, 1., -math.inf)"
   ]
  },
  {
   "cell_type": "code",
   "execution_count": null,
   "metadata": {
    "colab": {},
    "colab_type": "code",
    "id": "Vmh3tu9ogODd"
   },
   "outputs": [],
   "source": [
    "lr = 2e-4\n",
    "critic = custom_critic(img_size, img_n_channels, n_extra_layers=1, norm_type=NormType.Spectral)\n",
    "generator = basic_generator(img_size, img_n_channels, n_extra_layers=1)\n",
    "learner = CustomGANLearner(data, generator, critic, GANLossArgs(*hlosses), switch_eval=False, \n",
    "                           opt_func = partial(optim.Adam, betas = (0.,0.99)), wd=0.)"
   ]
  },
  {
   "cell_type": "code",
   "execution_count": null,
   "metadata": {
    "colab": {
     "base_uri": "https://localhost:8080/",
     "height": 1000
    },
    "colab_type": "code",
    "id": "JTuxVy6_gODj",
    "outputId": "369519d4-a203-4595-8188-88beec10436e"
   },
   "outputs": [],
   "source": [
    "learner.fit(30, lr)\n",
    "save_gan_learner(learner, models_root + 'sngan-dcgan-Tr1o_30ep.pth')"
   ]
  },
  {
   "cell_type": "code",
   "execution_count": null,
   "metadata": {
    "colab": {
     "base_uri": "https://localhost:8080/",
     "height": 1000
    },
    "colab_type": "code",
    "id": "mk7GCbozdNyp",
    "outputId": "eb2ea01d-0437-478b-9b1b-3ff57e561319"
   },
   "outputs": [],
   "source": [
    "learner.fit(30, lr)\n",
    "save_gan_learner(learner, models_root + 'sngan-dcgan-Tr1o_60ep.pth')"
   ]
  },
  {
   "cell_type": "markdown",
   "metadata": {
    "colab_type": "text",
    "id": "-Nf32V-dKYeR"
   },
   "source": [
    "#### TR 1p: lr=2e-4, only hinge loss for real preds (1o with log(fake_pred) in critic loss). Critic tries D(real)>=1, D(fake)=-inf slow below 0 (minus sqrt). Gen tries D(fake)=inf"
   ]
  },
  {
   "cell_type": "code",
   "execution_count": null,
   "metadata": {
    "colab": {
     "base_uri": "https://localhost:8080/",
     "height": 357
    },
    "colab_type": "code",
    "id": "Eu1D5yrZZX7b",
    "outputId": "ac04f5b3-cb11-4a75-f6bd-ac093adc6a61"
   },
   "outputs": [],
   "source": [
    "[(x,-(abs(x)**(1/2))) for x in range(-10,10)]"
   ]
  },
  {
   "cell_type": "code",
   "execution_count": null,
   "metadata": {
    "colab": {},
    "colab_type": "code",
    "id": "2X0yfsFlLdpe"
   },
   "outputs": [],
   "source": [
    "def hinge_adversarial_losses_p(margin:float=1.):\n",
    "    def _loss_G(fake_pred, output, target):\n",
    "        return -(fake_pred.mean())\n",
    "\n",
    "    def _loss_C(real_pred, fake_pred):\n",
    "        zero = torch.tensor([0.], device=real_pred.device)\n",
    "        fake_pred_mean = fake_pred.mean()\n",
    "        return (torch.max(zero, margin - real_pred).mean() + \n",
    "               torch.max(fake_pred_mean, -(torch.abs(fake_pred_mean)**(1/2))))\n",
    "\n",
    "    return _loss_G, _loss_C\n",
    "\n",
    "hlosses = hinge_adversarial_losses_p()"
   ]
  },
  {
   "cell_type": "code",
   "execution_count": null,
   "metadata": {
    "colab": {},
    "colab_type": "code",
    "id": "KJZZ7PyyLhCj"
   },
   "outputs": [],
   "source": [
    "lr = 2e-4\n",
    "critic = custom_critic(img_size, img_n_channels, n_extra_layers=1, norm_type=NormType.Spectral)\n",
    "generator = basic_generator(img_size, img_n_channels, n_extra_layers=1)\n",
    "learner = CustomGANLearner(data, generator, critic, GANLossArgs(*hlosses), switch_eval=False, \n",
    "                           opt_func = partial(optim.Adam, betas = (0.,0.99)), wd=0.)"
   ]
  },
  {
   "cell_type": "code",
   "execution_count": null,
   "metadata": {
    "colab": {
     "base_uri": "https://localhost:8080/"
    },
    "colab_type": "code",
    "id": "9y_sBlHVNqZ0",
    "outputId": "28072687-e2c7-485f-f4be-e1e0f586fec5"
   },
   "outputs": [],
   "source": [
    "learner.fit(30, lr)\n",
    "save_gan_learner(learner, models_root + 'sngan-dcgan-Tr1p_30ep.pth')"
   ]
  },
  {
   "cell_type": "code",
   "execution_count": null,
   "metadata": {
    "colab": {
     "base_uri": "https://localhost:8080/"
    },
    "colab_type": "code",
    "id": "rP0Bs3fmNqc7",
    "outputId": "8fe15abb-0b08-4ea2-a53e-91f4b59d443a"
   },
   "outputs": [],
   "source": [
    "learner.fit(30, lr)\n",
    "save_gan_learner(learner, models_root + 'sngan-dcgan-Tr1p_60ep.pth')"
   ]
  },
  {
   "cell_type": "markdown",
   "metadata": {
    "colab_type": "text",
    "id": "7HQ2AfpWqYP5"
   },
   "source": [
    "#### TR 1q: *(1j with crit/gen iters = 1/1)* lr=2e-4, hinge loss with margin also in G loss, 1 crit/gen iterations. Critic tries D(real)>=1, D(fake)<=-1. Gen tries D(fake)>=1."
   ]
  },
  {
   "cell_type": "code",
   "execution_count": null,
   "metadata": {
    "colab": {},
    "colab_type": "code",
    "id": "JVhF89dfqYP8"
   },
   "outputs": [],
   "source": [
    "hlosses = hinge_like_adversarial_losses(1., 1., -1.)"
   ]
  },
  {
   "cell_type": "code",
   "execution_count": null,
   "metadata": {
    "colab": {},
    "colab_type": "code",
    "id": "O5cqyZMSqYP-"
   },
   "outputs": [],
   "source": [
    "lr = 2e-4\n",
    "critic = custom_critic(img_size, img_n_channels, n_extra_layers=1, norm_type=NormType.Spectral)\n",
    "generator = basic_generator(img_size, img_n_channels, n_extra_layers=1)\n",
    "learner = CustomGANLearner(data, generator, critic, GANLossArgs(*hlosses), switch_eval=False, \n",
    "                           opt_func = partial(optim.Adam, betas = (0.,0.99)), wd=0.,\n",
    "                           switcher=partial(FixedGANSwitcher, n_crit=1, n_gen=1))"
   ]
  },
  {
   "cell_type": "code",
   "execution_count": null,
   "metadata": {
    "colab": {
     "base_uri": "https://localhost:8080/",
     "height": 1000
    },
    "colab_type": "code",
    "id": "zgCmAgWcqYQA",
    "outputId": "02add8df-5c12-40fb-ecc9-75d5a82523f5"
   },
   "outputs": [],
   "source": [
    "learner.fit(30, lr)\n",
    "save_gan_learner(learner, models_root + 'sngan-dcgan-Tr1q_30ep.pth')"
   ]
  },
  {
   "cell_type": "code",
   "execution_count": null,
   "metadata": {
    "colab": {
     "base_uri": "https://localhost:8080/",
     "height": 1000
    },
    "colab_type": "code",
    "id": "g9RJkCaaqYQC",
    "outputId": "20361b54-5e2c-40ca-b776-35ae038706fe"
   },
   "outputs": [],
   "source": [
    "learner.fit(30, lr)\n",
    "save_gan_learner(learner, models_root + 'sngan-dcgan-Tr1q_60ep.pth')"
   ]
  },
  {
   "cell_type": "markdown",
   "metadata": {
    "colab_type": "text",
    "id": "6yY6sGMLvQB7"
   },
   "source": [
    "#### TR 1r: (1h with crit/gen iters = 1/1) lr=2e-4, hinge loss. Critic tries D(real)>=1, D(fake)<=-1. Gen tries D(fake)=inf."
   ]
  },
  {
   "cell_type": "code",
   "execution_count": null,
   "metadata": {
    "colab": {},
    "colab_type": "code",
    "id": "VkP-d1bPvQCM"
   },
   "outputs": [],
   "source": [
    "hlosses = hinge_adversarial_losses()"
   ]
  },
  {
   "cell_type": "code",
   "execution_count": null,
   "metadata": {
    "colab": {},
    "colab_type": "code",
    "id": "gfL5Ah-3vQCQ"
   },
   "outputs": [],
   "source": [
    "lr = 2e-4\n",
    "critic = custom_critic(img_size, img_n_channels, n_extra_layers=1, norm_type=NormType.Spectral)\n",
    "generator = basic_generator(img_size, img_n_channels, n_extra_layers=1)\n",
    "learner = CustomGANLearner(data, generator, critic, GANLossArgs(*hlosses), switch_eval=False, \n",
    "                           opt_func = partial(optim.Adam, betas = (0.,0.99)), wd=0.,\n",
    "                           switcher=partial(FixedGANSwitcher, n_crit=1, n_gen=1))"
   ]
  },
  {
   "cell_type": "code",
   "execution_count": null,
   "metadata": {
    "colab": {
     "base_uri": "https://localhost:8080/",
     "height": 1000
    },
    "colab_type": "code",
    "id": "0rtmB5E5vQCS",
    "outputId": "786feb44-d888-4bd0-dfe1-27b68a05c678"
   },
   "outputs": [],
   "source": [
    "learner.fit(30, lr)\n",
    "save_gan_learner(learner, models_root + 'sngan-dcgan-Tr1r_30ep.pth')"
   ]
  },
  {
   "cell_type": "code",
   "execution_count": null,
   "metadata": {
    "colab": {
     "base_uri": "https://localhost:8080/",
     "height": 1000
    },
    "colab_type": "code",
    "id": "aUzAdIUQvQCW",
    "outputId": "d87ee51e-d392-4d63-c9ff-fbb40929505c"
   },
   "outputs": [],
   "source": [
    "learner.fit(30, lr)\n",
    "save_gan_learner(learner, models_root + 'sngan-dcgan-Tr1r_60ep.pth')"
   ]
  },
  {
   "cell_type": "markdown",
   "metadata": {
    "colab_type": "text",
    "id": "jOOjchLgN2Vf"
   },
   "source": [
    "### TR 2: Spectral norm in critic and generator"
   ]
  },
  {
   "cell_type": "markdown",
   "metadata": {
    "colab_type": "text",
    "id": "2MC5WaU2NH4K"
   },
   "source": [
    "#### TR 2a: lr=2e-4"
   ]
  },
  {
   "cell_type": "code",
   "execution_count": null,
   "metadata": {
    "colab": {},
    "colab_type": "code",
    "id": "v3-B8ERgM94c"
   },
   "outputs": [],
   "source": [
    "lr = 2e-4\n",
    "critic = custom_critic(img_size, img_n_channels, n_extra_layers=1, norm_type=NormType.Spectral)\n",
    "generator = basic_generator(img_size, img_n_channels, n_extra_layers=1, norm_type=NormType.Spectral)\n",
    "learner = CustomGANLearner(data, generator, critic, GANLossArgs(*losses), switch_eval=False, \n",
    "                     opt_func = partial(optim.Adam, betas = (0.,0.99)), wd=0.)"
   ]
  },
  {
   "cell_type": "code",
   "execution_count": null,
   "metadata": {
    "colab": {
     "base_uri": "https://localhost:8080/",
     "height": 1000
    },
    "colab_type": "code",
    "id": "Ku9lWkPjNik9",
    "outputId": "52504281-fc04-4df3-c7fc-90a3438784be"
   },
   "outputs": [],
   "source": [
    "learner.fit(30, lr)\n",
    "save_gan_learner(learner, models_root + 'sngan-dcgan-Tr2a_30ep.pth')"
   ]
  },
  {
   "cell_type": "code",
   "execution_count": null,
   "metadata": {
    "colab": {
     "base_uri": "https://localhost:8080/",
     "height": 1000
    },
    "colab_type": "code",
    "id": "qMIHycSRNmlj",
    "outputId": "71fea74c-34b2-42ee-963f-e8dfb3160f16"
   },
   "outputs": [],
   "source": [
    "learner.fit(30, lr)\n",
    "save_gan_learner(learner, models_root + 'sngan-dcgan-Tr2a_60ep.pth')"
   ]
  },
  {
   "cell_type": "markdown",
   "metadata": {
    "colab_type": "text",
    "id": "HSKj8tmZNKY6"
   },
   "source": [
    "#### TR 2b: lr=5e-4"
   ]
  },
  {
   "cell_type": "code",
   "execution_count": null,
   "metadata": {
    "colab": {},
    "colab_type": "code",
    "id": "aXZBhUdtNKjH"
   },
   "outputs": [],
   "source": [
    "lr = 5e-4\n",
    "critic = custom_critic(img_size, img_n_channels, n_extra_layers=1, norm_type=NormType.Spectral)\n",
    "generator = basic_generator(img_size, img_n_channels, n_extra_layers=1, norm_type=NormType.Spectral)\n",
    "learner = CustomGANLearner(data, generator, critic, GANLossArgs(*losses), switch_eval=False, \n",
    "                     opt_func = partial(optim.Adam, betas = (0.,0.99)), wd=0.)"
   ]
  },
  {
   "cell_type": "code",
   "execution_count": null,
   "metadata": {
    "colab": {
     "base_uri": "https://localhost:8080/",
     "height": 1000
    },
    "colab_type": "code",
    "id": "paC0mIAoM97U",
    "outputId": "fa26c190-030b-4973-e98c-26b3f7b2e3bd"
   },
   "outputs": [],
   "source": [
    "learner.fit(30, lr)\n",
    "save_gan_learner(learner, models_root + 'sngan-dcgan-Tr2b_30ep.pth')"
   ]
  },
  {
   "cell_type": "code",
   "execution_count": null,
   "metadata": {
    "colab": {
     "base_uri": "https://localhost:8080/",
     "height": 1000
    },
    "colab_type": "code",
    "id": "MkJWvLP3Nx3k",
    "outputId": "f34b3bef-8250-4548-bdfb-cba2a320a84f"
   },
   "outputs": [],
   "source": [
    "learner.fit(30, lr)\n",
    "save_gan_learner(learner, models_root + 'sngan-dcgan-Tr2b_60ep.pth')"
   ]
  },
  {
   "cell_type": "markdown",
   "metadata": {
    "colab_type": "text",
    "id": "9yinRsNXLd3_"
   },
   "source": [
    "## WGAN"
   ]
  },
  {
   "cell_type": "markdown",
   "metadata": {
    "colab_type": "text",
    "id": "hc33hkk_-aO6"
   },
   "source": [
    "### TR 1: Spectral norm only in critic, batch norm in generator"
   ]
  },
  {
   "cell_type": "markdown",
   "metadata": {
    "colab_type": "text",
    "id": "cswvVCRjZlfa"
   },
   "source": [
    "#### TR 1a: lr=2e-4"
   ]
  },
  {
   "cell_type": "code",
   "execution_count": null,
   "metadata": {
    "colab": {},
    "colab_type": "code",
    "id": "P5cq7siyleOu"
   },
   "outputs": [],
   "source": [
    "lr = 2e-4\n",
    "critic = custom_critic(img_size, img_n_channels, n_extra_layers=1, norm_type=NormType.Spectral)\n",
    "generator = basic_generator(img_size, img_n_channels, n_extra_layers=1)\n",
    "learner = CustomGANLearner.wgan(data, generator, critic, clip=None, switch_eval=False, \n",
    "                          opt_func = partial(optim.Adam, betas = (0.,0.99)), wd=0.)"
   ]
  },
  {
   "cell_type": "code",
   "execution_count": null,
   "metadata": {
    "colab": {
     "base_uri": "https://localhost:8080/",
     "height": 1000
    },
    "colab_type": "code",
    "id": "JkgXjzqyliZb",
    "outputId": "31aab403-9026-4637-fd16-14375f4ca57e"
   },
   "outputs": [],
   "source": [
    "learner.fit(30, lr)\n",
    "save_gan_learner(learner, models_root + 'sngan-wgan-Tr1a_30ep.pth')"
   ]
  },
  {
   "cell_type": "code",
   "execution_count": null,
   "metadata": {
    "colab": {
     "base_uri": "https://localhost:8080/",
     "height": 1000
    },
    "colab_type": "code",
    "id": "XVCtUjaHlig5",
    "outputId": "482ea06b-feff-4195-9959-947dc406853b"
   },
   "outputs": [],
   "source": [
    "learner.fit(30, lr)\n",
    "save_gan_learner(learner, models_root + 'sngan-wgan-Tr1a_60ep.pth')"
   ]
  },
  {
   "cell_type": "markdown",
   "metadata": {
    "colab_type": "text",
    "id": "Ibwpcw7IZpIh"
   },
   "source": [
    "#### TR 1b: lr=5e-4"
   ]
  },
  {
   "cell_type": "code",
   "execution_count": null,
   "metadata": {
    "colab": {},
    "colab_type": "code",
    "id": "nYiGTdh0l-nk"
   },
   "outputs": [],
   "source": [
    "lr = 5e-4\n",
    "critic = custom_critic(img_size, img_n_channels, n_extra_layers=1, norm_type=NormType.Spectral)\n",
    "generator = basic_generator(img_size, img_n_channels, n_extra_layers=1)\n",
    "learner = CustomGANLearner.wgan(data, generator, critic, clip=None, switch_eval=False, \n",
    "                                opt_func = partial(optim.Adam, betas = (0.,0.99)), wd=0.)"
   ]
  },
  {
   "cell_type": "code",
   "execution_count": null,
   "metadata": {
    "colab": {
     "base_uri": "https://localhost:8080/",
     "height": 1000
    },
    "colab_type": "code",
    "id": "8erj2_Iql_Qb",
    "outputId": "d48d20be-4ef2-4d2c-e6c5-283709bdb8e9"
   },
   "outputs": [],
   "source": [
    "learner.fit(30, lr)\n",
    "save_gan_learner(learner, models_root + 'sngan-wgan-Tr1b_30ep.pth')"
   ]
  },
  {
   "cell_type": "code",
   "execution_count": null,
   "metadata": {
    "colab": {
     "base_uri": "https://localhost:8080/",
     "height": 1000
    },
    "colab_type": "code",
    "id": "QRraKZI1mDSN",
    "outputId": "2f53b6fb-3ab5-4989-ff4e-76e063801cc2"
   },
   "outputs": [],
   "source": [
    "learner.fit(30, lr)\n",
    "save_gan_learner(learner, models_root + 'sngan-wgan-Tr1b_60ep.pth')"
   ]
  },
  {
   "cell_type": "markdown",
   "metadata": {
    "colab_type": "text",
    "id": "Jk7P6Pv1l_e7"
   },
   "source": [
    "#### TR 1c: lr=2e-4, betas=(0.5,0.9)"
   ]
  },
  {
   "cell_type": "code",
   "execution_count": null,
   "metadata": {
    "colab": {},
    "colab_type": "code",
    "id": "A8oX0sqLDxtk"
   },
   "outputs": [],
   "source": [
    "lr = 2e-4\n",
    "critic = custom_critic(img_size, img_n_channels, n_extra_layers=1, norm_type=NormType.Spectral)\n",
    "generator = basic_generator(img_size, img_n_channels, n_extra_layers=1)\n",
    "learner = CustomGANLearner.wgan(data, generator, critic, clip=None, switch_eval=False, \n",
    "                                opt_func = partial(optim.Adam, betas = (0.5,0.9)), wd=0.)"
   ]
  },
  {
   "cell_type": "code",
   "execution_count": null,
   "metadata": {
    "colab": {
     "base_uri": "https://localhost:8080/",
     "height": 1000
    },
    "colab_type": "code",
    "id": "--U3ZvXKD5Yg",
    "outputId": "17c8d941-a7b6-4934-cfc2-755642eb2dce"
   },
   "outputs": [],
   "source": [
    "learner.fit(30, lr)\n",
    "save_gan_learner(learner, models_root + 'sngan-wgan-Tr1c_30ep.pth')"
   ]
  },
  {
   "cell_type": "code",
   "execution_count": null,
   "metadata": {
    "colab": {
     "base_uri": "https://localhost:8080/",
     "height": 1000
    },
    "colab_type": "code",
    "id": "Cp9GQyIwD5bF",
    "outputId": "33272119-c418-448b-889b-d7a19c588d7b"
   },
   "outputs": [],
   "source": [
    "learner.fit(30, lr)\n",
    "save_gan_learner(learner, models_root + 'sngan-wgan-Tr1c_60ep.pth')"
   ]
  },
  {
   "cell_type": "markdown",
   "metadata": {
    "colab_type": "text",
    "id": "OFJw1joPGRlA"
   },
   "source": [
    "#### TR 1d: lr=2e-4, betas=(0.5,0.999)"
   ]
  },
  {
   "cell_type": "code",
   "execution_count": null,
   "metadata": {
    "colab": {},
    "colab_type": "code",
    "id": "37RbJrQ_GSBF"
   },
   "outputs": [],
   "source": [
    "lr = 2e-4\n",
    "critic = custom_critic(img_size, img_n_channels, n_extra_layers=1, norm_type=NormType.Spectral)\n",
    "generator = basic_generator(img_size, img_n_channels, n_extra_layers=1)\n",
    "learner = CustomGANLearner.wgan(data, generator, critic, clip=None, switch_eval=False, \n",
    "                                opt_func = partial(optim.Adam, betas = (0.5,0.999)), wd=0.)"
   ]
  },
  {
   "cell_type": "code",
   "execution_count": null,
   "metadata": {
    "colab": {
     "base_uri": "https://localhost:8080/",
     "height": 1000
    },
    "colab_type": "code",
    "id": "cuJbb1BQGSEN",
    "outputId": "9a89a3ae-9007-4016-9406-a5a1dc9cc3e1"
   },
   "outputs": [],
   "source": [
    "learner.fit(30, lr)\n",
    "save_gan_learner(learner, models_root + 'sngan-wgan-Tr1d_30ep.pth')"
   ]
  },
  {
   "cell_type": "code",
   "execution_count": null,
   "metadata": {
    "colab": {
     "base_uri": "https://localhost:8080/",
     "height": 1000
    },
    "colab_type": "code",
    "id": "_2qQ4yLLGSGu",
    "outputId": "26f253f8-34b0-4de3-c0e9-8394dbe28241"
   },
   "outputs": [],
   "source": [
    "learner.fit(30, lr)\n",
    "save_gan_learner(learner, models_root + 'sngan-wgan-Tr1d_60ep.pth')"
   ]
  },
  {
   "cell_type": "markdown",
   "metadata": {
    "colab_type": "text",
    "id": "q2x6c8DWWVIK"
   },
   "source": [
    "#### TR 1e: lr=2e-4, betas=(0,0.999)"
   ]
  },
  {
   "cell_type": "code",
   "execution_count": null,
   "metadata": {
    "colab": {},
    "colab_type": "code",
    "id": "7u5liLlvWVIM"
   },
   "outputs": [],
   "source": [
    "lr = 2e-4\n",
    "critic = custom_critic(img_size, img_n_channels, n_extra_layers=1, norm_type=NormType.Spectral)\n",
    "generator = basic_generator(img_size, img_n_channels, n_extra_layers=1)\n",
    "learner = CustomGANLearner.wgan(data, generator, critic, clip=None, switch_eval=False, \n",
    "                                opt_func = partial(optim.Adam, betas = (0.,0.999)), wd=0.)"
   ]
  },
  {
   "cell_type": "code",
   "execution_count": null,
   "metadata": {
    "colab": {
     "base_uri": "https://localhost:8080/",
     "height": 1000
    },
    "colab_type": "code",
    "id": "poO9Qh-TWVIO",
    "outputId": "f93b39ea-cb84-471c-b021-5478487704d7"
   },
   "outputs": [],
   "source": [
    "learner.fit(30, lr)\n",
    "save_gan_learner(learner, models_root + 'sngan-wgan-Tr1e_30ep.pth')"
   ]
  },
  {
   "cell_type": "code",
   "execution_count": null,
   "metadata": {
    "colab": {
     "base_uri": "https://localhost:8080/",
     "height": 1000
    },
    "colab_type": "code",
    "id": "CABH4FfCWkYj",
    "outputId": "c4908b3f-65be-4bda-a888-879c1467f189"
   },
   "outputs": [],
   "source": [
    "learner.fit(30, lr)\n",
    "save_gan_learner(learner, models_root + 'sngan-wgan-Tr1e_60ep.pth')"
   ]
  },
  {
   "cell_type": "markdown",
   "metadata": {
    "colab_type": "text",
    "id": "c_20wkypiyEj"
   },
   "source": [
    "### TR 2: Spectral norm in critic and generator"
   ]
  },
  {
   "cell_type": "markdown",
   "metadata": {
    "colab_type": "text",
    "id": "NNmFn9bci_id"
   },
   "source": [
    "#### TR 2a: lr=2e-4"
   ]
  },
  {
   "cell_type": "code",
   "execution_count": null,
   "metadata": {
    "colab": {},
    "colab_type": "code",
    "id": "lBiUA-EPiyND"
   },
   "outputs": [],
   "source": [
    "lr = 2e-4\n",
    "critic = custom_critic(img_size, img_n_channels, n_extra_layers=1, norm_type=NormType.Spectral)\n",
    "generator = basic_generator(img_size, img_n_channels, n_extra_layers=1, norm_type=NormType.Spectral)\n",
    "learner = CustomGANLearner.wgan(data, generator, critic, clip=None, switch_eval=False, \n",
    "                          opt_func = partial(optim.Adam, betas = (0.,0.99)), wd=0.)"
   ]
  },
  {
   "cell_type": "code",
   "execution_count": null,
   "metadata": {
    "colab": {
     "base_uri": "https://localhost:8080/",
     "height": 1000
    },
    "colab_type": "code",
    "id": "FYmEV_I0j1w_",
    "outputId": "2f1dbb70-4e83-48bf-ec79-bc7692e8b834"
   },
   "outputs": [],
   "source": [
    "learner.fit(30, lr)\n",
    "save_gan_learner(learner, models_root + 'sngan-wgan-Tr2a_30ep.pth')"
   ]
  },
  {
   "cell_type": "code",
   "execution_count": null,
   "metadata": {
    "colab": {
     "base_uri": "https://localhost:8080/",
     "height": 1000
    },
    "colab_type": "code",
    "id": "xu6904hgj_-B",
    "outputId": "d10a776a-9d76-42ce-a8b3-d40f4c34e20b"
   },
   "outputs": [],
   "source": [
    "learner.fit(30, lr)\n",
    "save_gan_learner(learner, models_root + 'sngan-wgan-Tr2a_60ep.pth')"
   ]
  },
  {
   "cell_type": "markdown",
   "metadata": {
    "colab_type": "text",
    "id": "2RovQ0LSjCbM"
   },
   "source": [
    "#### TR 2b: lr=5e-4"
   ]
  },
  {
   "cell_type": "code",
   "execution_count": null,
   "metadata": {
    "colab": {},
    "colab_type": "code",
    "id": "fnEZG9gnj112"
   },
   "outputs": [],
   "source": [
    "lr = 5e-4\n",
    "critic = custom_critic(img_size, img_n_channels, n_extra_layers=1, norm_type=NormType.Spectral)\n",
    "generator = basic_generator(img_size, img_n_channels, n_extra_layers=1, norm_type=NormType.Spectral)\n",
    "learner = CustomGANLearner.wgan(data, generator, critic, clip=None, switch_eval=False, \n",
    "                                opt_func = partial(optim.Adam, betas = (0.,0.99)), wd=0.)"
   ]
  },
  {
   "cell_type": "code",
   "execution_count": null,
   "metadata": {
    "colab": {
     "base_uri": "https://localhost:8080/",
     "height": 1000
    },
    "colab_type": "code",
    "id": "1LoN8O4GjG90",
    "outputId": "72793b4f-db2c-4983-edb5-8ffee6941ce0"
   },
   "outputs": [],
   "source": [
    "learner.fit(30, lr)\n",
    "save_gan_learner(learner, models_root + 'sngan-wgan-Tr2b_30ep.pth')"
   ]
  },
  {
   "cell_type": "code",
   "execution_count": null,
   "metadata": {
    "colab": {
     "base_uri": "https://localhost:8080/",
     "height": 1000
    },
    "colab_type": "code",
    "id": "uNsAUwH6jHAo",
    "outputId": "b241cd92-17c9-4f1b-e0e6-3b0b93e89b85"
   },
   "outputs": [],
   "source": [
    "learner.fit(30, lr)\n",
    "save_gan_learner(learner, models_root + 'sngan-wgan-Tr2b_60ep.pth')"
   ]
  },
  {
   "cell_type": "markdown",
   "metadata": {
    "colab_type": "text",
    "id": "U311Ik0kDvid"
   },
   "source": [
    "# PENDING AND FINDINGS"
   ]
  },
  {
   "cell_type": "markdown",
   "metadata": {
    "colab_type": "text",
    "id": "iL0-LR3jCLpc"
   },
   "source": [
    "Pending:\n",
    "* Look into how to make spectral norm work in generator."
   ]
  },
  {
   "cell_type": "markdown",
   "metadata": {
    "colab_type": "text",
    "id": "X7AcsJCt-soH"
   },
   "source": [
    "Facts:\n",
    "\n",
    "* betas=(0.9,0.999), 1 disc/gen iterations doesn't work, at least with DCGAN. It's not common to see big beta1 values having a positive impact in GANs.\n",
    "* WGAN (without GP) is difficult to tweak, and isn't even considered in the paper.\n",
    "\n"
   ]
  },
  {
   "cell_type": "code",
   "execution_count": null,
   "metadata": {},
   "outputs": [],
   "source": []
  }
 ],
 "metadata": {
  "accelerator": "GPU",
  "colab": {
   "collapsed_sections": [
    "oF8r0GYoj1LD",
    "15MV-MfVBy5i",
    "baHTxzbcB_7v",
    "NECCQ4THDuQW",
    "vEVpOXWhFI79",
    "unqAQWMINEMp",
    "rnw1d28ANjm2",
    "JWTInBABN2ou",
    "xPUkgMLHLipi",
    "eDPDkW2SNXMJ",
    "0BFZ9MqvNyGc",
    "H26JHfQAz5Zr",
    "mFax18eL04cF",
    "OwEEqMb9ssYe",
    "jnbQyUXyZRl_",
    "APilzpNFOZqK",
    "2WonMR6xOpaG",
    "943EWJfOQF12",
    "Y_MCbAqSRWKO",
    "i66en9NgSGBx",
    "mAQFexlPgODL",
    "-Nf32V-dKYeR",
    "7HQ2AfpWqYP5",
    "6yY6sGMLvQB7",
    "jOOjchLgN2Vf",
    "2MC5WaU2NH4K",
    "HSKj8tmZNKY6",
    "9yinRsNXLd3_",
    "hc33hkk_-aO6",
    "cswvVCRjZlfa",
    "Ibwpcw7IZpIh",
    "Jk7P6Pv1l_e7",
    "OFJw1joPGRlA",
    "q2x6c8DWWVIK",
    "c_20wkypiyEj",
    "NNmFn9bci_id",
    "2RovQ0LSjCbM",
    "U311Ik0kDvid"
   ],
   "name": "sngan.ipynb",
   "provenance": []
  },
  "kernelspec": {
   "display_name": "Python 3",
   "language": "python",
   "name": "python3"
  },
  "language_info": {
   "codemirror_mode": {
    "name": "ipython",
    "version": 3
   },
   "file_extension": ".py",
   "mimetype": "text/x-python",
   "name": "python",
   "nbconvert_exporter": "python",
   "pygments_lexer": "ipython3",
   "version": "3.7.3"
  }
 },
 "nbformat": 4,
 "nbformat_minor": 1
}
