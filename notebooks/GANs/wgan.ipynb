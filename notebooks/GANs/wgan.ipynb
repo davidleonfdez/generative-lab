{
 "cells": [
  {
   "cell_type": "code",
   "execution_count": null,
   "metadata": {
    "colab": {},
    "colab_type": "code",
    "id": "3Hn-KmikpEV9"
   },
   "outputs": [],
   "source": [
    "%reload_ext autoreload\n",
    "%autoreload 2\n",
    "%matplotlib inline\n",
    "\n",
    "from IPython.display import Image as DisplayImage\n",
    "from PIL import Image as PILImage\n",
    "from fastai.vision import *\n",
    "from fastai.vision.gan import *\n",
    "import torch.nn as nn\n",
    "import torch.nn.functional as F"
   ]
  },
  {
   "cell_type": "markdown",
   "metadata": {
    "colab_type": "text",
    "id": "Ld026608e9LB"
   },
   "source": [
    "You should set the following option to True if the notebook isn't located in the file system inside a clone of the git repo (with the needed Python modules available) it belongs to; i.e., it's running independently."
   ]
  },
  {
   "cell_type": "code",
   "execution_count": null,
   "metadata": {
    "colab": {},
    "colab_type": "code",
    "id": "dcVF0xcme91y"
   },
   "outputs": [],
   "source": [
    "run_as_standalone_nb = True"
   ]
  },
  {
   "cell_type": "code",
   "execution_count": null,
   "metadata": {
    "colab": {
     "base_uri": "https://localhost:8080/",
     "height": 153
    },
    "colab_type": "code",
    "id": "j2h-ZIRwfBES",
    "outputId": "6f0195ac-9549-48f4-d638-161da44f495b"
   },
   "outputs": [],
   "source": [
    "# This cell needs to be executed before importing local project modules, like import core.gan\n",
    "if run_as_standalone_nb:\n",
    "    root_lib_path = os.path.abspath('generative-lab')\n",
    "    if not os.path.exists(root_lib_path):\n",
    "        !git clone https://github.com/davidleonfdez/generative-lab.git\n",
    "    if root_lib_path not in sys.path:\n",
    "        sys.path.insert(0, root_lib_path)\n",
    "else:\n",
    "    import local_lib_import"
   ]
  },
  {
   "cell_type": "code",
   "execution_count": null,
   "metadata": {
    "colab": {},
    "colab_type": "code",
    "id": "iifqTo2MfDmw"
   },
   "outputs": [],
   "source": [
    "# Local project modules. Must be imported after local_lib_import or cloning git repo.\n",
    "from core.gan import CustomGANLearner, load_gan_learner, save_gan_learner, train_checkpoint_gan\n",
    "from core.net_builders import pseudo_res_critic, pseudo_res_generator"
   ]
  },
  {
   "cell_type": "code",
   "execution_count": null,
   "metadata": {
    "colab": {},
    "colab_type": "code",
    "id": "JIl-OUA-pcPE"
   },
   "outputs": [],
   "source": [
    "img_size = 64\n",
    "img_n_channels = 3\n",
    "batch_size = 64"
   ]
  },
  {
   "cell_type": "markdown",
   "metadata": {
    "colab_type": "text",
    "id": "QwgSPdNop4QE"
   },
   "source": [
    "# DATA"
   ]
  },
  {
   "cell_type": "code",
   "execution_count": null,
   "metadata": {},
   "outputs": [],
   "source": [
    "ds_url = \"http://vis-www.cs.umass.edu/lfw/lfw\""
   ]
  },
  {
   "cell_type": "code",
   "execution_count": null,
   "metadata": {
    "colab": {
     "base_uri": "https://localhost:8080/",
     "height": 51
    },
    "colab_type": "code",
    "id": "sRCVkViSJbS6",
    "outputId": "9093ef41-48b1-4f7c-8fbd-7015b2e3069e"
   },
   "outputs": [],
   "source": [
    "realImagesPath = untar_data(ds_url)\n",
    "realImagesPath"
   ]
  },
  {
   "cell_type": "code",
   "execution_count": null,
   "metadata": {
    "colab": {},
    "colab_type": "code",
    "id": "cpWTeEv_OJMX"
   },
   "outputs": [],
   "source": [
    "sampleImg1Path = realImagesPath/'Aaron_Eckhart/Aaron_Eckhart_0001.jpg'"
   ]
  },
  {
   "cell_type": "code",
   "execution_count": null,
   "metadata": {
    "colab": {
     "base_uri": "https://localhost:8080/",
     "height": 34
    },
    "colab_type": "code",
    "id": "8q4LIulHOAnv",
    "outputId": "9ec70319-ef60-41cc-f182-46857c59847e"
   },
   "outputs": [],
   "source": [
    "im = PILImage.open(sampleImg1Path)\n",
    "im.size"
   ]
  },
  {
   "cell_type": "code",
   "execution_count": null,
   "metadata": {
    "colab": {
     "base_uri": "https://localhost:8080/",
     "height": 267
    },
    "colab_type": "code",
    "id": "BvmlxcgXLnIo",
    "outputId": "1e070ae8-6ecd-4b90-91e8-807a4f8e6751"
   },
   "outputs": [],
   "source": [
    "DisplayImage(filename=str(sampleImg1Path))"
   ]
  },
  {
   "cell_type": "code",
   "execution_count": null,
   "metadata": {
    "colab": {},
    "colab_type": "code",
    "id": "VVdI_IS78qVU"
   },
   "outputs": [],
   "source": [
    "def get_data(path, bs, size, noise_sz=100):\n",
    "    return (GANItemList.from_folder(path, noise_sz=noise_sz)\n",
    "               .split_none()\n",
    "               .label_from_func(noop)\n",
    "               .transform(tfms=[[crop_pad(size=size, row_pct=(0,1), col_pct=(0,1))], []], size=size, tfm_y=True)\n",
    "               .databunch(bs=bs)\n",
    "               .normalize(stats = [torch.tensor([0.5,0.5,0.5]), torch.tensor([0.5,0.5,0.5])], do_x=False, do_y=True))"
   ]
  },
  {
   "cell_type": "code",
   "execution_count": null,
   "metadata": {
    "colab": {
     "base_uri": "https://localhost:8080/",
     "height": 1000
    },
    "colab_type": "code",
    "id": "21WdiU4UpvuY",
    "outputId": "b56d5dc3-cd7e-4b76-a0fb-741d85db5e08",
    "scrolled": true
   },
   "outputs": [],
   "source": [
    "data = get_data(realImagesPath, batch_size, img_size)\n",
    "data.show_batch()"
   ]
  },
  {
   "cell_type": "markdown",
   "metadata": {
    "colab_type": "text",
    "id": "mQtVUeObpxdg"
   },
   "source": [
    "# GENERATOR"
   ]
  },
  {
   "cell_type": "markdown",
   "metadata": {
    "colab_type": "text",
    "id": "Z-BrtVOLqao5"
   },
   "source": [
    "Let's create the generator with the helper method that fastai provides.\n",
    "\n",
    "Input is bs x noise_sz * 1 * 1<br>\n",
    "**n_features** is the number of feature maps (so kernels) generated after penultimate layer (the last layer of course outputs n_channels) if n_extra_layers = 0 . At the beginning there will be n_features * 2^(n_intermediate_convtrans_blocks), and this number will be reduced by half in any subsequent layer.\n",
    "\n",
    "`basic_generator(in_size:int, n_channels:int, noise_sz:int=100, n_features:int=64, n_extra_layers=0, **conv_kwargs)`"
   ]
  },
  {
   "cell_type": "code",
   "execution_count": null,
   "metadata": {
    "colab": {},
    "colab_type": "code",
    "id": "TZ9x5niBqfTT"
   },
   "outputs": [],
   "source": [
    "generator = basic_generator(img_size, img_n_channels)"
   ]
  },
  {
   "cell_type": "markdown",
   "metadata": {
    "colab_type": "text",
    "id": "kb3JuctWpy-Z"
   },
   "source": [
    "# CRITIC"
   ]
  },
  {
   "cell_type": "markdown",
   "metadata": {
    "colab_type": "text",
    "id": "Y_JNXXJRqbq6"
   },
   "source": [
    "Let's create the discriminator with the helper method that fastai provides.<br>\n",
    "\n",
    "**n_features** is the number of feature maps (so kernels) generated after first layer (from the n_channels of the input). This number will be doubled in any subsequent layer.\n",
    "\n",
    "`basic_critic(in_size:int, n_channels:int, n_features:int=64, n_extra_layers:int=0, **conv_kwargs)`"
   ]
  },
  {
   "cell_type": "code",
   "execution_count": null,
   "metadata": {
    "colab": {},
    "colab_type": "code",
    "id": "o_7G7hdNqh6k"
   },
   "outputs": [],
   "source": [
    "critic = basic_critic(img_size, img_n_channels)"
   ]
  },
  {
   "cell_type": "markdown",
   "metadata": {
    "colab_type": "text",
    "id": "9JlXPHH5p0LZ"
   },
   "source": [
    "# GAN LEARNER"
   ]
  },
  {
   "cell_type": "code",
   "execution_count": null,
   "metadata": {
    "colab": {},
    "colab_type": "code",
    "id": "84d15ogLZFBo"
   },
   "outputs": [],
   "source": [
    "learner = CustomGANLearner.wgan(data, generator, critic)"
   ]
  },
  {
   "cell_type": "markdown",
   "metadata": {
    "colab_type": "text",
    "id": "Je99h8e3q6-n"
   },
   "source": [
    "# TRAINING"
   ]
  },
  {
   "cell_type": "markdown",
   "metadata": {
    "colab_type": "text",
    "id": "gWpWK1BZdR6a"
   },
   "source": [
    "## First attempt: default hyperparameters (wd=0.01, Adam(beta1=0.9,beta2=0.99)), lr=1e-4"
   ]
  },
  {
   "cell_type": "code",
   "execution_count": null,
   "metadata": {
    "colab": {
     "base_uri": "https://localhost:8080/",
     "height": 1000
    },
    "colab_type": "code",
    "id": "vFiXx2ahqqEX",
    "outputId": "97143f67-d5da-4fab-ece6-d10d20976a74",
    "scrolled": true
   },
   "outputs": [],
   "source": [
    "lr = 1e-4\n",
    "learner.fit(50, lr)"
   ]
  },
  {
   "cell_type": "code",
   "execution_count": null,
   "metadata": {
    "colab": {},
    "colab_type": "code",
    "id": "vk-2powedR6d",
    "outputId": "ff27995d-64f5-4daa-a248-57b5adc2e4a9",
    "scrolled": true
   },
   "outputs": [],
   "source": [
    "learner.fit(50, lr)"
   ]
  },
  {
   "cell_type": "code",
   "execution_count": null,
   "metadata": {
    "colab": {},
    "colab_type": "code",
    "id": "aHudzYASdR6f"
   },
   "outputs": [],
   "source": [
    "save_gan_learner(learner, 'wganTr1_100ep.pth')"
   ]
  },
  {
   "cell_type": "markdown",
   "metadata": {
    "colab_type": "text",
    "id": "HfRqTj5XuMc1"
   },
   "source": [
    "## Second attempt: use fastai recommended hyperparameters"
   ]
  },
  {
   "cell_type": "code",
   "execution_count": null,
   "metadata": {
    "colab": {
     "base_uri": "https://localhost:8080/",
     "height": 1000
    },
    "colab_type": "code",
    "id": "s2KnA-5eqwGr",
    "outputId": "dd9927de-8aaa-45e0-a25f-f83b92431298",
    "scrolled": true
   },
   "outputs": [],
   "source": [
    "lr = 1e-4\n",
    "generator = basic_generator(img_size, img_n_channels, n_extra_layers=1)\n",
    "critic = basic_critic(img_size, img_n_channels, n_extra_layers=1)\n",
    "learner = CustomGANLearner.wgan(data, generator, critic, opt_func = partial(optim.Adam, betas = (0.,0.99)), wd=0.)\n",
    "learner.fit(50, lr)"
   ]
  },
  {
   "cell_type": "code",
   "execution_count": null,
   "metadata": {
    "colab": {},
    "colab_type": "code",
    "id": "k5I3CFf1dR6k",
    "outputId": "b2f65f64-d5b3-4c62-9891-fd2ce3e63d19",
    "scrolled": true
   },
   "outputs": [],
   "source": [
    "learner.fit(50, lr)"
   ]
  },
  {
   "cell_type": "code",
   "execution_count": null,
   "metadata": {
    "colab": {},
    "colab_type": "code",
    "id": "6ns2QEtwdR6n"
   },
   "outputs": [],
   "source": [
    "save_gan_learner(learner, 'wganTr2_100ep.pth')"
   ]
  },
  {
   "cell_type": "code",
   "execution_count": null,
   "metadata": {
    "colab": {},
    "colab_type": "code",
    "id": "sH7ewxYFdR62",
    "outputId": "f108d093-a068-49d1-b952-f4f8921c3f5e",
    "scrolled": true
   },
   "outputs": [],
   "source": [
    "learner.show_results(ds_type=DatasetType.Train)"
   ]
  },
  {
   "cell_type": "markdown",
   "metadata": {
    "colab_type": "text",
    "id": "8LB8-MHU-TaY"
   },
   "source": [
    "## Third attempt: increment batch size"
   ]
  },
  {
   "cell_type": "code",
   "execution_count": null,
   "metadata": {
    "colab": {},
    "colab_type": "code",
    "id": "4EOSBRgIdR6_"
   },
   "outputs": [],
   "source": [
    "lr = 2e-4\n",
    "data = get_data(realImagesPath, 128, img_size)\n",
    "generator = basic_generator(img_size, img_n_channels, n_extra_layers=1)\n",
    "critic = basic_critic(img_size, img_n_channels, n_extra_layers=1)\n",
    "learner = CustomGANLearner.wgan(data, generator, critic, switch_eval=False, \n",
    "                                opt_func = partial(optim.Adam, betas = (0.,0.99)), wd=0.)"
   ]
  },
  {
   "cell_type": "code",
   "execution_count": null,
   "metadata": {
    "colab": {
     "base_uri": "https://localhost:8080/",
     "height": 1000
    },
    "colab_type": "code",
    "id": "PJXm_Bt038Za",
    "outputId": "2c158e1e-2d74-44cc-9edc-2d76d20bf7ed",
    "scrolled": true
   },
   "outputs": [],
   "source": [
    "learner.fit(50, lr)"
   ]
  },
  {
   "cell_type": "code",
   "execution_count": null,
   "metadata": {
    "colab": {},
    "colab_type": "code",
    "id": "BW8sGlm8dR7E",
    "outputId": "2489b689-d679-4d9f-f06d-0d0cb3ad8f77",
    "scrolled": true
   },
   "outputs": [],
   "source": [
    "learner.fit(50, lr)"
   ]
  },
  {
   "cell_type": "code",
   "execution_count": null,
   "metadata": {
    "colab": {},
    "colab_type": "code",
    "id": "vSXktqvPdR7K"
   },
   "outputs": [],
   "source": [
    "save_gan_learner(learner, 'wganTr3_100ep.pth')"
   ]
  },
  {
   "cell_type": "code",
   "execution_count": null,
   "metadata": {
    "colab": {},
    "colab_type": "code",
    "id": "KZRg3mlrdR7c",
    "outputId": "eaeaf23a-db20-4b89-aabc-18025ce6c553",
    "scrolled": true
   },
   "outputs": [],
   "source": [
    "learner.show_results(ds_type=DatasetType.Train)"
   ]
  },
  {
   "cell_type": "code",
   "execution_count": null,
   "metadata": {
    "colab": {},
    "colab_type": "code",
    "id": "3T1K1ejqdR7p",
    "outputId": "f6b57b80-780c-4e8d-ce55-04ea089bdff5",
    "scrolled": true
   },
   "outputs": [],
   "source": [
    "train_checkpoint_gan(learner, n_epochs=400, initial_epoch=100, filename_start='wganTr3_', lr=lr)"
   ]
  },
  {
   "cell_type": "code",
   "execution_count": null,
   "metadata": {
    "colab": {},
    "colab_type": "code",
    "id": "7FcMWO3vdR7y",
    "outputId": "4e550f0d-5cc6-4af2-f36a-106eb604f5ab"
   },
   "outputs": [],
   "source": [
    "learner.show_results(ds_type=DatasetType.Train)"
   ]
  },
  {
   "cell_type": "markdown",
   "metadata": {
    "colab_type": "text",
    "id": "v4Uc2sNP-aIg"
   },
   "source": [
    "## Fourth attempt: use standard Adam parameters"
   ]
  },
  {
   "cell_type": "code",
   "execution_count": null,
   "metadata": {
    "colab": {},
    "colab_type": "code",
    "id": "x7exAr_Zd5LF",
    "scrolled": true
   },
   "outputs": [],
   "source": [
    "lr = 2e-4\n",
    "data = get_data(realImagesPath, 128, img_size)\n",
    "generator = basic_generator(img_size, img_n_channels, n_extra_layers=1)\n",
    "critic = basic_critic(img_size, img_n_channels, n_extra_layers=1)\n",
    "learner = CustomGANLearner.wgan(data, generator, critic, switch_eval=False, opt_func = partial(optim.Adam, betas = (0.9,0.999)), wd=0.)\n",
    "learner.fit(50, lr)\n",
    "save_gan_learner(learner, 'wganTr4_50ep.pth')"
   ]
  },
  {
   "cell_type": "markdown",
   "metadata": {
    "colab_type": "text",
    "id": "NjYk66pUdR71"
   },
   "source": [
    "## Fifth attempt: smaller noise vector"
   ]
  },
  {
   "cell_type": "code",
   "execution_count": null,
   "metadata": {
    "colab": {},
    "colab_type": "code",
    "id": "19gpG_cidR71"
   },
   "outputs": [],
   "source": [
    "noise_sz = 60\n",
    "lr = 2e-4\n",
    "data = get_data(realImagesPath, batch_size, img_size, noise_sz=noise_sz)\n",
    "generator = basic_generator(img_size, img_n_channels, n_extra_layers=1, noise_sz=noise_sz)\n",
    "critic = basic_critic(img_size, img_n_channels, n_extra_layers=1)\n",
    "learner = CustomGANLearner.wgan(data, generator, critic, switch_eval=False, opt_func = partial(optim.Adam, betas = (0.,0.99)), wd=0.)\n",
    "learner.fit(50, lr)\n",
    "save_gan_learner(learner, 'wganTr5_50ep.pth')"
   ]
  },
  {
   "cell_type": "code",
   "execution_count": null,
   "metadata": {
    "colab": {},
    "colab_type": "code",
    "id": "H1prq7oTFcKq"
   },
   "outputs": [],
   "source": [
    "# Leave data as it was\n",
    "data = get_data(realImagesPath, batch_size, img_size)"
   ]
  },
  {
   "cell_type": "markdown",
   "metadata": {
    "colab_type": "text",
    "id": "HpK9vBGKdR74"
   },
   "source": [
    "## Sixth attempt: add residual blocks"
   ]
  },
  {
   "cell_type": "markdown",
   "metadata": {
    "colab_type": "text",
    "id": "N0FK1YTFdR77"
   },
   "source": [
    "### 6.1: Add residual blocks in critic and generator"
   ]
  },
  {
   "cell_type": "code",
   "execution_count": null,
   "metadata": {
    "colab": {},
    "colab_type": "code",
    "id": "deDBLbb8dR77"
   },
   "outputs": [],
   "source": [
    "lr = 2e-4\n",
    "generator = pseudo_res_generator(img_size, img_n_channels)\n",
    "critic = pseudo_res_critic(img_size, img_n_channels)\n",
    "learner = CustomGANLearner.wgan(data, generator, critic, switch_eval=False, \n",
    "                                opt_func = partial(optim.Adam, betas = (0.,0.99)), wd=0.)"
   ]
  },
  {
   "cell_type": "code",
   "execution_count": null,
   "metadata": {
    "colab": {},
    "colab_type": "code",
    "id": "U-dCpL3QdR7_",
    "outputId": "5d8202ee-418e-4a46-8eaf-ddddbf4a290c",
    "scrolled": true
   },
   "outputs": [],
   "source": [
    "learner.fit(50, lr)"
   ]
  },
  {
   "cell_type": "code",
   "execution_count": null,
   "metadata": {
    "colab": {},
    "colab_type": "code",
    "id": "CXHeT1GGdR8A",
    "outputId": "cd491370-649b-40db-c56f-5f2453daf656",
    "scrolled": true
   },
   "outputs": [],
   "source": [
    "learner.fit(50, lr)"
   ]
  },
  {
   "cell_type": "code",
   "execution_count": null,
   "metadata": {
    "colab": {},
    "colab_type": "code",
    "id": "i1mbzWo1dR8E"
   },
   "outputs": [],
   "source": [
    "save_gan_learner(learner, 'wganTr6_1_100ep.pth')"
   ]
  },
  {
   "cell_type": "markdown",
   "metadata": {
    "colab_type": "text",
    "id": "9p5RIYzVdR8G"
   },
   "source": [
    "### 6.2: Using bigger batch size..."
   ]
  },
  {
   "cell_type": "code",
   "execution_count": null,
   "metadata": {
    "colab": {},
    "colab_type": "code",
    "id": "5LYeBr2sdR8G"
   },
   "outputs": [],
   "source": [
    "data = get_data(realImagesPath, 128, img_size)\n",
    "generator = pseudo_res_generator(img_size, img_n_channels)\n",
    "critic = pseudo_res_critic(img_size, img_n_channels)\n",
    "learner = CustomGANLearner.wgan(data, generator, critic, switch_eval=False, \n",
    "                                opt_func = partial(optim.Adam, betas = (0.,0.99)), wd=0.)"
   ]
  },
  {
   "cell_type": "code",
   "execution_count": null,
   "metadata": {
    "colab": {},
    "colab_type": "code",
    "id": "XohxPr8ldR8I",
    "outputId": "1d0f8337-4f46-4e68-d464-322f3e2e9553",
    "scrolled": true
   },
   "outputs": [],
   "source": [
    "learner.fit(50, lr)"
   ]
  },
  {
   "cell_type": "code",
   "execution_count": null,
   "metadata": {
    "colab": {},
    "colab_type": "code",
    "id": "T7_rarakdR8J",
    "outputId": "cd0a5c8e-54f5-4fb5-b06e-f0da10e3298a",
    "scrolled": true
   },
   "outputs": [],
   "source": [
    "learner.fit(50, lr)"
   ]
  },
  {
   "cell_type": "code",
   "execution_count": null,
   "metadata": {
    "colab": {},
    "colab_type": "code",
    "id": "JK-ZDblNdR8O"
   },
   "outputs": [],
   "source": [
    "save_gan_learner(learner, 'wganTr6_2_100ep.pth')"
   ]
  },
  {
   "cell_type": "markdown",
   "metadata": {
    "colab_type": "text",
    "id": "bmOQOC1RdR8P"
   },
   "source": [
    "#### 6.2.2 With two extra layers"
   ]
  },
  {
   "cell_type": "markdown",
   "metadata": {
    "colab_type": "text",
    "id": "A_70WEdQdR8P"
   },
   "source": [
    "Theoretically extra layers at the end should give better results (or not worse) if residual, which is not the case right now, maybe could try it later."
   ]
  },
  {
   "cell_type": "code",
   "execution_count": null,
   "metadata": {
    "colab": {},
    "colab_type": "code",
    "id": "DmQUHHJ3dR8Q"
   },
   "outputs": [],
   "source": [
    "lr = 2e-4\n",
    "data = get_data(realImagesPath, 128, img_size)\n",
    "generator = pseudo_res_generator(img_size, img_n_channels, n_extra_layers=2)\n",
    "critic = pseudo_res_critic(img_size, img_n_channels, n_extra_layers=2)\n",
    "learner = CustomGANLearner.wgan(data, generator, critic, switch_eval=False, \n",
    "                                opt_func = partial(optim.Adam, betas = (0.,0.99)), wd=0.)"
   ]
  },
  {
   "cell_type": "code",
   "execution_count": null,
   "metadata": {
    "colab": {},
    "colab_type": "code",
    "id": "Yeygt3QBdR8R",
    "outputId": "21a8cbb5-ab67-4d78-9661-41c4b63ec4b7",
    "scrolled": true
   },
   "outputs": [],
   "source": [
    "learner.fit(50, lr)"
   ]
  },
  {
   "cell_type": "code",
   "execution_count": null,
   "metadata": {
    "colab": {},
    "colab_type": "code",
    "id": "BotkTclndR8T",
    "outputId": "5b3bac5a-e2cb-4d3d-f7e1-2bea299fe212",
    "scrolled": true
   },
   "outputs": [],
   "source": [
    "learner.fit(50, lr)"
   ]
  },
  {
   "cell_type": "code",
   "execution_count": null,
   "metadata": {},
   "outputs": [],
   "source": [
    "save_gan_learner(learner, 'wganTr6_2_2_100ep.pth')"
   ]
  },
  {
   "cell_type": "markdown",
   "metadata": {
    "colab_type": "text",
    "id": "OWu61NOhdR8a"
   },
   "source": [
    "#### 6.2.3 With one extra layer"
   ]
  },
  {
   "cell_type": "code",
   "execution_count": null,
   "metadata": {
    "colab": {},
    "colab_type": "code",
    "id": "S6rxbpVRdR8a"
   },
   "outputs": [],
   "source": [
    "data = get_data(realImagesPath, 128, img_size)\n",
    "generator = pseudo_res_generator(img_size, img_n_channels, n_extra_layers=1)\n",
    "critic = pseudo_res_critic(img_size, img_n_channels, n_extra_layers=1)\n",
    "learner = CustomGANLearner.wgan(data, generator, critic, switch_eval=False, \n",
    "                                opt_func = partial(optim.Adam, betas = (0.,0.99)), wd=0.)"
   ]
  },
  {
   "cell_type": "code",
   "execution_count": null,
   "metadata": {
    "colab": {},
    "colab_type": "code",
    "id": "22FkYnNSdR8b",
    "outputId": "6be4fb5e-a3a6-4820-f85f-cbe13ac73e07",
    "scrolled": true
   },
   "outputs": [],
   "source": [
    "learner.fit(50, lr)"
   ]
  },
  {
   "cell_type": "code",
   "execution_count": null,
   "metadata": {
    "colab": {},
    "colab_type": "code",
    "id": "29MD3856dR8d",
    "outputId": "907d1a0d-942f-42e2-8a29-af101dcc8089",
    "scrolled": true
   },
   "outputs": [],
   "source": [
    "learner.fit(50, lr)"
   ]
  },
  {
   "cell_type": "code",
   "execution_count": null,
   "metadata": {
    "colab": {},
    "colab_type": "code",
    "id": "uW3hthB-dR8i"
   },
   "outputs": [],
   "source": [
    "save_gan_learner(learner, 'wganTr6_2_3_100ep.pth')"
   ]
  },
  {
   "cell_type": "markdown",
   "metadata": {
    "colab_type": "text",
    "id": "uyOGnarSdR8j"
   },
   "source": [
    "#### 6.2.4: Switch the order of residual and conv blocks in critic"
   ]
  },
  {
   "cell_type": "code",
   "execution_count": null,
   "metadata": {
    "colab": {},
    "colab_type": "code",
    "id": "DNVfLCVfdR8j"
   },
   "outputs": [],
   "source": [
    "lr = 2e-4\n",
    "data = get_data(realImagesPath, 128, img_size)\n",
    "generator = pseudo_res_generator(img_size, img_n_channels, n_extra_layers=1)\n",
    "critic = pseudo_res_critic(img_size, img_n_channels, n_extra_layers=1, conv_before_res=False)\n",
    "learner = CustomGANLearner.wgan(data, generator, critic, switch_eval=False, \n",
    "                                opt_func = partial(optim.Adam, betas = (0.,0.99)), wd=0.)"
   ]
  },
  {
   "cell_type": "code",
   "execution_count": null,
   "metadata": {
    "colab": {},
    "colab_type": "code",
    "id": "9pM5nnBwdR8l",
    "outputId": "12bf5543-a07e-4a58-fc09-e917a253311f",
    "scrolled": true
   },
   "outputs": [],
   "source": [
    "learner.fit(50, lr)"
   ]
  },
  {
   "cell_type": "code",
   "execution_count": null,
   "metadata": {
    "colab": {},
    "colab_type": "code",
    "id": "LMCIBhwudR8m",
    "outputId": "3651d17a-d098-4ddc-80ca-5e9937140df1",
    "scrolled": true
   },
   "outputs": [],
   "source": [
    "learner.fit(50, lr)"
   ]
  },
  {
   "cell_type": "code",
   "execution_count": null,
   "metadata": {
    "colab": {},
    "colab_type": "code",
    "id": "U7qfghBadR8o"
   },
   "outputs": [],
   "source": [
    "save_gan_learner(learner, 'wganTr6_2_4_100ep.pth')"
   ]
  },
  {
   "cell_type": "markdown",
   "metadata": {
    "colab_type": "text",
    "id": "HPmrHqFfdR8x"
   },
   "source": [
    "#### 6.2.5 With bigger learning rate..."
   ]
  },
  {
   "cell_type": "code",
   "execution_count": null,
   "metadata": {
    "colab": {},
    "colab_type": "code",
    "id": "i0Js4EN2dR8y"
   },
   "outputs": [],
   "source": [
    "lr = 1e-3\n",
    "data = get_data(realImagesPath, 128, img_size)\n",
    "generator = pseudo_res_generator(img_size, img_n_channels, n_extra_layers=1)\n",
    "critic = pseudo_res_critic(img_size, img_n_channels, n_extra_layers=1, conv_before_res=False)\n",
    "learner = CustomGANLearner.wgan(data, generator, critic, switch_eval=False, \n",
    "                                opt_func = partial(optim.Adam, betas = (0.,0.99)), wd=0.)"
   ]
  },
  {
   "cell_type": "code",
   "execution_count": null,
   "metadata": {
    "colab": {},
    "colab_type": "code",
    "id": "4Fcnw-LNdR8z",
    "outputId": "219ecf5c-d953-4971-901e-1dbe3f420f47",
    "scrolled": true
   },
   "outputs": [],
   "source": [
    "learner.fit(50, lr)"
   ]
  },
  {
   "cell_type": "code",
   "execution_count": null,
   "metadata": {
    "colab": {},
    "colab_type": "code",
    "id": "GD1iS382dR80",
    "outputId": "37daa281-9fd7-4c31-e4b6-30f453103cc9",
    "scrolled": true
   },
   "outputs": [],
   "source": [
    "learner.fit(50, lr)"
   ]
  },
  {
   "cell_type": "code",
   "execution_count": null,
   "metadata": {
    "colab": {},
    "colab_type": "code",
    "id": "lULxPuiydR82"
   },
   "outputs": [],
   "source": [
    "save_gan_learner(learner, 'wganTr6_2_5_100ep.pth')"
   ]
  },
  {
   "cell_type": "code",
   "execution_count": null,
   "metadata": {
    "colab": {},
    "colab_type": "code",
    "id": "s3wvTGAqdR8-",
    "outputId": "c554c403-443d-48cf-9e77-7f829cfcf1b1",
    "scrolled": true
   },
   "outputs": [],
   "source": [
    "learner.show_results(ds_type=DatasetType.Train)"
   ]
  },
  {
   "cell_type": "markdown",
   "metadata": {
    "colab_type": "text",
    "id": "p7b3YUApdR8_"
   },
   "source": [
    "#### 6.2.6 With not so big lr..."
   ]
  },
  {
   "cell_type": "code",
   "execution_count": null,
   "metadata": {
    "colab": {},
    "colab_type": "code",
    "id": "4P7C8JIJdR8_"
   },
   "outputs": [],
   "source": [
    "lr = 5e-4\n",
    "data = get_data(realImagesPath, 128, img_size)\n",
    "generator = pseudo_res_generator(img_size, img_n_channels, n_extra_layers=1)\n",
    "critic = pseudo_res_critic(img_size, img_n_channels, n_extra_layers=1, conv_before_res=False)\n",
    "learner = CustomGANLearner.wgan(data, generator, critic, switch_eval=False, \n",
    "                                opt_func = partial(optim.Adam, betas = (0.,0.99)), wd=0.)"
   ]
  },
  {
   "cell_type": "code",
   "execution_count": null,
   "metadata": {
    "colab": {},
    "colab_type": "code",
    "id": "obfYblPkdR9A",
    "outputId": "b01dd601-28e4-45f5-8f5d-43a4f74a2056",
    "scrolled": true
   },
   "outputs": [],
   "source": [
    "learner.fit(50, lr)"
   ]
  },
  {
   "cell_type": "code",
   "execution_count": null,
   "metadata": {
    "colab": {},
    "colab_type": "code",
    "id": "9kjq3GFtdR9C",
    "outputId": "e35f6680-2834-4d1b-86c3-e3d34bfa83c6",
    "scrolled": true
   },
   "outputs": [],
   "source": [
    "learner.fit(50, lr)"
   ]
  },
  {
   "cell_type": "code",
   "execution_count": null,
   "metadata": {
    "colab": {},
    "colab_type": "code",
    "id": "zF3Fvi_RdR9D"
   },
   "outputs": [],
   "source": [
    "save_gan_learner(learner, 'wganTr6_2_6_100ep.pth')"
   ]
  },
  {
   "cell_type": "code",
   "execution_count": null,
   "metadata": {
    "colab": {},
    "colab_type": "code",
    "id": "LLG4YMxadR9Q",
    "outputId": "08d97205-cf3f-46c0-ed72-9604bc0de377"
   },
   "outputs": [],
   "source": [
    "learner.show_results(ds_type=DatasetType.Train)"
   ]
  },
  {
   "cell_type": "markdown",
   "metadata": {
    "colab_type": "text",
    "id": "EmrDvO0ddR9T"
   },
   "source": [
    "### 6.3: Use residual blocks only in critic"
   ]
  },
  {
   "cell_type": "code",
   "execution_count": null,
   "metadata": {
    "colab": {},
    "colab_type": "code",
    "id": "balsTxGAdR9T"
   },
   "outputs": [],
   "source": [
    "lr = 2e-4\n",
    "data = get_data(realImagesPath, 128, img_size)\n",
    "generator = basic_generator(img_size, img_n_channels, n_extra_layers=1)\n",
    "critic = pseudo_res_critic(img_size, img_n_channels, n_extra_layers=1)\n",
    "learner = GANLearner.wgan(data, generator, critic, switch_eval=False, \n",
    "                          opt_func = partial(optim.Adam, betas = (0.,0.99)), wd=0.)"
   ]
  },
  {
   "cell_type": "code",
   "execution_count": null,
   "metadata": {
    "colab": {},
    "colab_type": "code",
    "id": "wdHEKwFkdR9U",
    "outputId": "8f9661d8-2ea8-45a8-afe2-605ecee895ba",
    "scrolled": true
   },
   "outputs": [],
   "source": [
    "learner.fit(50, lr)"
   ]
  },
  {
   "cell_type": "code",
   "execution_count": null,
   "metadata": {
    "colab": {},
    "colab_type": "code",
    "id": "ahzdcZ9VdR9V",
    "outputId": "e90ffb86-9fa8-4f44-e2f2-6dabddf5c4a5",
    "scrolled": true
   },
   "outputs": [],
   "source": [
    "learner.fit(50, lr)"
   ]
  },
  {
   "cell_type": "code",
   "execution_count": null,
   "metadata": {
    "colab": {},
    "colab_type": "code",
    "id": "a7Jt1J6VdR9X"
   },
   "outputs": [],
   "source": [
    "save_gan_learner(learner, 'wganTr6_3_100ep.pth')"
   ]
  },
  {
   "cell_type": "markdown",
   "metadata": {
    "colab_type": "text",
    "id": "7iTgSEaydR9b"
   },
   "source": [
    "### 6.4: Use residual blocks only in generator"
   ]
  },
  {
   "cell_type": "code",
   "execution_count": null,
   "metadata": {
    "colab": {},
    "colab_type": "code",
    "id": "pohpLXiwdR9b"
   },
   "outputs": [],
   "source": [
    "lr = 2e-4\n",
    "data = get_data(realImagesPath, 128, img_size)\n",
    "generator = pseudo_res_generator(img_size, img_n_channels, n_extra_layers=1)\n",
    "critic = basic_critic(img_size, img_n_channels, n_extra_layers=1)\n",
    "learner = CustomGANLearner.wgan(data, generator, critic, switch_eval=False, \n",
    "                                opt_func = partial(optim.Adam, betas = (0.,0.99)), wd=0.)"
   ]
  },
  {
   "cell_type": "code",
   "execution_count": null,
   "metadata": {
    "colab": {},
    "colab_type": "code",
    "id": "XawcsDm-dR9d",
    "outputId": "9893ed91-eb3a-426e-a2de-f12b35348d1a",
    "scrolled": true
   },
   "outputs": [],
   "source": [
    "learner.fit(50, lr)"
   ]
  },
  {
   "cell_type": "code",
   "execution_count": null,
   "metadata": {
    "colab": {},
    "colab_type": "code",
    "id": "-CxkOWYldR9g",
    "outputId": "54e2b206-feff-42e9-d6cc-da692e54dd5b",
    "scrolled": true
   },
   "outputs": [],
   "source": [
    "learner.fit(50, lr)"
   ]
  },
  {
   "cell_type": "code",
   "execution_count": null,
   "metadata": {
    "colab": {},
    "colab_type": "code",
    "id": "q3zDtX4xdR9h"
   },
   "outputs": [],
   "source": [
    "save_gan_learner(learner, 'wganTr6_4_100ep.pth')"
   ]
  },
  {
   "cell_type": "code",
   "execution_count": null,
   "metadata": {
    "colab": {},
    "colab_type": "code",
    "id": "eVUyuQe-dR9z",
    "outputId": "d4f94681-029d-497f-e653-99f583591612",
    "scrolled": true
   },
   "outputs": [],
   "source": [
    "learner.show_results(ds_type=DatasetType.Train)"
   ]
  },
  {
   "cell_type": "markdown",
   "metadata": {
    "colab_type": "text",
    "id": "4gcFXgfbdR90"
   },
   "source": [
    "## Attempt 7: add dense blocks"
   ]
  },
  {
   "cell_type": "markdown",
   "metadata": {
    "colab_type": "text",
    "id": "SkNCfYCwdR90"
   },
   "source": [
    "### 7.1: Dense both critic and generator"
   ]
  },
  {
   "cell_type": "code",
   "execution_count": null,
   "metadata": {
    "colab": {},
    "colab_type": "code",
    "id": "21ej9qjndR90"
   },
   "outputs": [],
   "source": [
    "lr = 2e-4\n",
    "data = get_data(realImagesPath, 128, img_size)\n",
    "generator = pseudo_res_generator(img_size, img_n_channels, n_extra_layers=1, dense=True)\n",
    "critic = pseudo_res_critic(img_size, img_n_channels, n_extra_layers=1, dense=True)\n",
    "learner = CustomGANLearner.wgan(data, generator, critic, switch_eval=False, \n",
    "                                opt_func = partial(optim.Adam, betas = (0.,0.99)), wd=0.)"
   ]
  },
  {
   "cell_type": "code",
   "execution_count": null,
   "metadata": {
    "colab": {},
    "colab_type": "code",
    "id": "Cz1gnu_LdR91",
    "outputId": "b2a996bf-fff6-4066-ea32-4746393dc8fe",
    "scrolled": true
   },
   "outputs": [],
   "source": [
    "learner.fit(30, lr)"
   ]
  },
  {
   "cell_type": "code",
   "execution_count": null,
   "metadata": {
    "colab": {},
    "colab_type": "code",
    "id": "BPaIgHB-dR95",
    "outputId": "d9048f5b-5677-4a2a-b5c5-d064b085afac",
    "scrolled": true
   },
   "outputs": [],
   "source": [
    "learner.fit(30, lr)"
   ]
  },
  {
   "cell_type": "code",
   "execution_count": null,
   "metadata": {
    "colab": {},
    "colab_type": "code",
    "id": "MrDQTpFxdR93"
   },
   "outputs": [],
   "source": [
    "save_gan_learner(learner, 'wganTr7_1_60ep.pth')"
   ]
  },
  {
   "cell_type": "markdown",
   "metadata": {
    "colab_type": "text",
    "id": "TfpNhKtUdR98"
   },
   "source": [
    "### 7.2: Dense generator only"
   ]
  },
  {
   "cell_type": "code",
   "execution_count": null,
   "metadata": {
    "colab": {},
    "colab_type": "code",
    "id": "ZTZdrGnPdR98"
   },
   "outputs": [],
   "source": [
    "lr = 2e-4\n",
    "data = get_data(realImagesPath, 128, img_size)\n",
    "generator = pseudo_res_generator(img_size, img_n_channels, n_extra_layers=1, dense=True)\n",
    "critic = basic_critic(img_size, img_n_channels, n_extra_layers=1)\n",
    "learner = CustomGANLearner.wgan(data, generator, critic, switch_eval=False, \n",
    "                                opt_func = partial(optim.Adam, betas = (0.,0.99)), wd=0.)"
   ]
  },
  {
   "cell_type": "code",
   "execution_count": null,
   "metadata": {
    "colab": {},
    "colab_type": "code",
    "id": "o5sQGGOwdR99",
    "outputId": "b4cca04c-16a0-4533-854c-b0aa10b71f5e",
    "scrolled": true
   },
   "outputs": [],
   "source": [
    "learner.fit(30, lr)"
   ]
  },
  {
   "cell_type": "code",
   "execution_count": null,
   "metadata": {
    "colab": {},
    "colab_type": "code",
    "id": "RoSLzfTgdR9-"
   },
   "outputs": [],
   "source": [
    "save_gan_learner(learner, 'wganTr7_2_30ep.pth')"
   ]
  },
  {
   "cell_type": "code",
   "execution_count": null,
   "metadata": {
    "colab": {},
    "colab_type": "code",
    "id": "5_y0RVoUdR-A",
    "outputId": "d4a0519d-31c9-47b3-f74b-08b6504e8bdc",
    "scrolled": true
   },
   "outputs": [],
   "source": [
    "learner.fit(30, lr)"
   ]
  },
  {
   "cell_type": "code",
   "execution_count": null,
   "metadata": {
    "colab": {},
    "colab_type": "code",
    "id": "t75Ntu89dR-B"
   },
   "outputs": [],
   "source": [
    "save_gan_learner(learner, 'wganTr7_2_60ep.pth')"
   ]
  },
  {
   "cell_type": "code",
   "execution_count": null,
   "metadata": {
    "colab": {},
    "colab_type": "code",
    "id": "Wo6mmBKddR-b",
    "outputId": "a3d837e0-b053-4d78-c360-a2b8e49fbeb7",
    "scrolled": true
   },
   "outputs": [],
   "source": [
    "learner.show_results(ds_type=DatasetType.Train)"
   ]
  },
  {
   "cell_type": "code",
   "execution_count": null,
   "metadata": {},
   "outputs": [],
   "source": []
  }
 ],
 "metadata": {
  "accelerator": "GPU",
  "colab": {
   "collapsed_sections": [
    "mQtVUeObpxdg",
    "kb3JuctWpy-Z",
    "9JlXPHH5p0LZ",
    "Je99h8e3q6-n",
    "gWpWK1BZdR6a",
    "HfRqTj5XuMc1",
    "8LB8-MHU-TaY",
    "v4Uc2sNP-aIg",
    "NjYk66pUdR71",
    "HpK9vBGKdR74",
    "N0FK1YTFdR77",
    "bmOQOC1RdR8P",
    "OWu61NOhdR8a",
    "uyOGnarSdR8j",
    "EmrDvO0ddR9T",
    "7iTgSEaydR9b",
    "4gcFXgfbdR90",
    "SkNCfYCwdR90",
    "TfpNhKtUdR98"
   ],
   "name": "wgan.ipynb",
   "provenance": []
  },
  "kernelspec": {
   "display_name": "Python 3",
   "language": "python",
   "name": "python3"
  },
  "language_info": {
   "codemirror_mode": {
    "name": "ipython",
    "version": 3
   },
   "file_extension": ".py",
   "mimetype": "text/x-python",
   "name": "python",
   "nbconvert_exporter": "python",
   "pygments_lexer": "ipython3",
   "version": "3.7.3"
  }
 },
 "nbformat": 4,
 "nbformat_minor": 1
}
