{
 "cells": [
  {
   "cell_type": "markdown",
   "metadata": {
    "colab_type": "text",
    "id": "-T3gcp13_69S"
   },
   "source": [
    "---\n",
    "WGAN with gradient penalty to satisfy Lipschitz constraint.\n",
    "DCGAN is used as base architecture of the networks.\n",
    "\n",
    "---"
   ]
  },
  {
   "cell_type": "code",
   "execution_count": null,
   "metadata": {
    "colab": {},
    "colab_type": "code",
    "id": "bMA3NhDU_1D7"
   },
   "outputs": [],
   "source": [
    "%reload_ext autoreload\n",
    "%autoreload 2\n",
    "%matplotlib inline\n",
    "\n",
    "import torch.nn as nn\n",
    "import torch.nn.functional as F\n",
    "from fastai.vision import *\n",
    "from fastai.vision.gan import *"
   ]
  },
  {
   "cell_type": "markdown",
   "metadata": {
    "colab_type": "text",
    "id": "5-hTspLfNQpg"
   },
   "source": [
    "You should set the following option to True if the notebook isn't located in the file system inside a clone of the git repo (with the needed Python modules available) it belongs to; i.e., it's running independently."
   ]
  },
  {
   "cell_type": "code",
   "execution_count": null,
   "metadata": {
    "colab": {},
    "colab_type": "code",
    "id": "g_AAnUUpN8Fx"
   },
   "outputs": [],
   "source": [
    "run_as_standalone_nb = False"
   ]
  },
  {
   "cell_type": "code",
   "execution_count": null,
   "metadata": {
    "colab": {},
    "colab_type": "code",
    "id": "9hkq2V3MNQw-"
   },
   "outputs": [],
   "source": [
    "# This cell needs to be executed before importing local project modules, like import core.gan\n",
    "if run_as_standalone_nb:\n",
    "    root_lib_path = os.path.abspath('generative-lab')\n",
    "    if not os.path.exists(root_lib_path):\n",
    "        !git clone https://github.com/davidleonfdez/generative-lab.git\n",
    "    if root_lib_path not in sys.path:\n",
    "        sys.path.insert(0, root_lib_path)\n",
    "else:\n",
    "    import local_lib_import"
   ]
  },
  {
   "cell_type": "code",
   "execution_count": null,
   "metadata": {
    "colab": {},
    "colab_type": "code",
    "id": "JouFzjznNaic"
   },
   "outputs": [],
   "source": [
    "# Local project modules. Must be imported after local_lib_import or cloning git repo.\n",
    "from core.gan import GANGPLearner, load_gan_learner, save_gan_learner\n",
    "from core.nb_utils import mount_gdrive\n",
    "from core.net_builders import custom_critic"
   ]
  },
  {
   "cell_type": "markdown",
   "metadata": {},
   "source": [
    "`models_root` is used as the base path to save models. Next cell sets assumes the nb is being executed from Google Colab and you have a \"ML\" dir in Google Drive. Alternatively, you could set it manually to something like './' to save and load models to/from the current directory."
   ]
  },
  {
   "cell_type": "code",
   "execution_count": null,
   "metadata": {
    "colab": {
     "base_uri": "https://localhost:8080/",
     "height": 34
    },
    "colab_type": "code",
    "id": "Kqo1zLC6mDMa",
    "outputId": "1b167cfd-a964-406b-bb8c-894bd2e86534"
   },
   "outputs": [],
   "source": [
    "# Optional, allows saving parameters in gdrive\n",
    "root_gdrive = mount_gdrive()\n",
    "models_root = root_gdrive + 'ML/'"
   ]
  },
  {
   "cell_type": "code",
   "execution_count": null,
   "metadata": {
    "colab": {},
    "colab_type": "code",
    "id": "Q_bhbkQT_6ni"
   },
   "outputs": [],
   "source": [
    "img_size = 64\n",
    "img_n_channels = 3\n",
    "batch_size = 128\n",
    "use_cuda = torch.cuda.is_available()\n",
    "# Gradient penalty coefficient\n",
    "plambda = 10"
   ]
  },
  {
   "cell_type": "markdown",
   "metadata": {
    "colab_type": "text",
    "id": "BN1PEKUiNnBB"
   },
   "source": [
    "# DATA"
   ]
  },
  {
   "cell_type": "code",
   "execution_count": null,
   "metadata": {},
   "outputs": [],
   "source": [
    "ds_url = \"http://vis-www.cs.umass.edu/lfw/lfw\""
   ]
  },
  {
   "cell_type": "code",
   "execution_count": null,
   "metadata": {
    "colab": {
     "base_uri": "https://localhost:8080/",
     "height": 34
    },
    "colab_type": "code",
    "id": "Oks5cdSL_6pr",
    "outputId": "d2c47f2f-81cf-4739-b7b3-966fd588f555"
   },
   "outputs": [],
   "source": [
    "realImagesPath = untar_data(ds_url)\n",
    "realImagesPath"
   ]
  },
  {
   "cell_type": "code",
   "execution_count": null,
   "metadata": {
    "colab": {},
    "colab_type": "code",
    "id": "-urUfrzm_6sU"
   },
   "outputs": [],
   "source": [
    "def get_data(path, bs, size):\n",
    "    return (GANItemList.from_folder(path, noise_sz=100)\n",
    "               .split_none()\n",
    "               .label_from_func(noop)\n",
    "               .transform(tfms=[[crop_pad(size=size, row_pct=(0,1), col_pct=(0,1))], []], size=size, tfm_y=True)\n",
    "               .databunch(bs=bs)\n",
    "               .normalize(stats = [torch.tensor([0.5,0.5,0.5]), torch.tensor([0.5,0.5,0.5])], do_x=False, do_y=True))"
   ]
  },
  {
   "cell_type": "code",
   "execution_count": null,
   "metadata": {
    "colab": {
     "base_uri": "https://localhost:8080/",
     "height": 1000
    },
    "colab_type": "code",
    "id": "fxm0Y0cdAuof",
    "outputId": "0cfbbad9-df93-432f-901b-0fff728af250"
   },
   "outputs": [],
   "source": [
    "data = get_data(realImagesPath, batch_size, img_size)\n",
    "data.show_batch()"
   ]
  },
  {
   "cell_type": "markdown",
   "metadata": {
    "colab_type": "text",
    "id": "OSwDBQMkCTtB"
   },
   "source": [
    "# CRITIC"
   ]
  },
  {
   "cell_type": "markdown",
   "metadata": {
    "colab_type": "text",
    "id": "gNAdcCt9OgQm"
   },
   "source": [
    "`basic_critic(in_size: int, n_channels: int, n_features: int=64, n_extra_layers: int=0, **conv_kwargs)`"
   ]
  },
  {
   "cell_type": "code",
   "execution_count": null,
   "metadata": {
    "colab": {},
    "colab_type": "code",
    "id": "KzdynscJKM8h"
   },
   "outputs": [],
   "source": [
    "critic = basic_critic(img_size, img_n_channels, n_extra_layers=1)"
   ]
  },
  {
   "cell_type": "markdown",
   "metadata": {
    "colab_type": "text",
    "id": "5fgn_EzjCWxK"
   },
   "source": [
    "# GENERATOR"
   ]
  },
  {
   "cell_type": "markdown",
   "metadata": {
    "colab_type": "text",
    "id": "39S1_HhdOfyH"
   },
   "source": [
    "`basic_generator(in_size: int, n_channels: int, noise_sz: int=100, n_features: int=64, n_extra_layers=0, **conv_kwargs)`"
   ]
  },
  {
   "cell_type": "code",
   "execution_count": null,
   "metadata": {
    "colab": {},
    "colab_type": "code",
    "id": "ZB8boWq8CW38"
   },
   "outputs": [],
   "source": [
    "generator = basic_generator(img_size, img_n_channels, n_extra_layers=1)"
   ]
  },
  {
   "cell_type": "markdown",
   "metadata": {
    "colab_type": "text",
    "id": "fE9S467R-7Ix"
   },
   "source": [
    "# TRAINING"
   ]
  },
  {
   "cell_type": "markdown",
   "metadata": {},
   "source": [
    "* The parameters of a trained model can be saved with `save_gan_learner`.\n",
    "* A training run can resumed (using weights saved during a previous session) with `load_gan_learner`. For example:\n",
    "        load_gan_learner(learner, models_root + 'wgan-gpTr1a_60it.pth')\n",
    "    This must be executed after instantiating the learner and BEFORE running `learner.fit()`.\n",
    "\n",
    "* Another alternative to launch a long training run is the method `save_checkpoint_gan`. It will automatically save the weights every `n_epochs_save_split` epochs."
   ]
  },
  {
   "cell_type": "markdown",
   "metadata": {
    "colab_type": "text",
    "id": "dKP08Dz3kZG4"
   },
   "source": [
    "## TR 1: lambda = 10"
   ]
  },
  {
   "cell_type": "code",
   "execution_count": null,
   "metadata": {
    "colab": {},
    "colab_type": "code",
    "id": "HaibE4RDp6mp"
   },
   "outputs": [],
   "source": [
    "plambda = 10"
   ]
  },
  {
   "cell_type": "markdown",
   "metadata": {
    "colab_type": "text",
    "id": "HYCqMH-Nkf3o"
   },
   "source": [
    "### TR 1a: lr=2e-4"
   ]
  },
  {
   "cell_type": "code",
   "execution_count": null,
   "metadata": {
    "colab": {},
    "colab_type": "code",
    "id": "UVud7OBKKbTP"
   },
   "outputs": [],
   "source": [
    "lr = 2e-4\n",
    "learner = GANGPLearner.wgan(data, generator, critic, switch_eval=False, \n",
    "                            opt_func = partial(optim.Adam, betas = (0.,0.99)), \n",
    "                            wd=0., plambda=plambda)"
   ]
  },
  {
   "cell_type": "code",
   "execution_count": null,
   "metadata": {
    "colab": {
     "base_uri": "https://localhost:8080/",
     "height": 1000
    },
    "colab_type": "code",
    "id": "HiDWqx3c04FG",
    "outputId": "ddb8fd6a-d644-408c-f6bb-a495e2bba87f"
   },
   "outputs": [],
   "source": [
    "learner.fit(30, lr)\n",
    "save_gan_learner(learner, models_root + 'wgan-gpTr1a_30ep.pth')"
   ]
  },
  {
   "cell_type": "code",
   "execution_count": null,
   "metadata": {
    "colab": {
     "base_uri": "https://localhost:8080/",
     "height": 1000
    },
    "colab_type": "code",
    "id": "9lZTWrFDGowd",
    "outputId": "ca43aed6-36c4-4f17-a1a3-95a5d92eea16"
   },
   "outputs": [],
   "source": [
    "learner.fit(30, lr)\n",
    "save_gan_learner(learner, models_root + 'wgan-gpTr1a_60ep.pth')"
   ]
  },
  {
   "cell_type": "markdown",
   "metadata": {
    "colab_type": "text",
    "id": "SGJXfIAenncd"
   },
   "source": [
    "### TR 1b: lr=5e-4"
   ]
  },
  {
   "cell_type": "code",
   "execution_count": null,
   "metadata": {
    "colab": {},
    "colab_type": "code",
    "id": "jLNOKG3qnpW8"
   },
   "outputs": [],
   "source": [
    "lr = 5e-4\n",
    "critic = basic_critic(img_size, img_n_channels, n_extra_layers=1)\n",
    "generator = basic_generator(img_size, img_n_channels, n_extra_layers=1)\n",
    "learner = GANGPLearner.wgan(data, generator, critic, switch_eval=False, \n",
    "                            opt_func = partial(optim.Adam, betas = (0.,0.99)), \n",
    "                            wd=0., plambda=plambda)"
   ]
  },
  {
   "cell_type": "code",
   "execution_count": null,
   "metadata": {
    "colab": {
     "base_uri": "https://localhost:8080/",
     "height": 1000
    },
    "colab_type": "code",
    "id": "xmtwkP4Enr1t",
    "outputId": "a57fcffe-7235-4b72-ac9c-987568daa3c6"
   },
   "outputs": [],
   "source": [
    "learner.fit(30, lr)\n",
    "save_gan_learner(learner, models_root + 'wgan-gpTr1b_30ep.pth')"
   ]
  },
  {
   "cell_type": "code",
   "execution_count": null,
   "metadata": {
    "colab": {
     "base_uri": "https://localhost:8080/",
     "height": 1000
    },
    "colab_type": "code",
    "id": "A7RqzQfznr4e",
    "outputId": "f7e3d4b4-ee58-43de-ac9c-f66a4af4eddd"
   },
   "outputs": [],
   "source": [
    "learner.fit(30, lr)\n",
    "save_gan_learner(learner, models_root + 'wgan-gpTr1b_60ep.pth')"
   ]
  },
  {
   "cell_type": "markdown",
   "metadata": {
    "colab_type": "text",
    "id": "m5ASSr39K4q1"
   },
   "source": [
    "### TR 1C: lr=5e-4, without batch norm in discriminator"
   ]
  },
  {
   "cell_type": "code",
   "execution_count": null,
   "metadata": {
    "colab": {},
    "colab_type": "code",
    "id": "Q6VokD5TK4q9"
   },
   "outputs": [],
   "source": [
    "lr = 5e-4\n",
    "critic = custom_critic(img_size, img_n_channels, n_extra_layers=1, norm_type=None)\n",
    "generator = basic_generator(img_size, img_n_channels, n_extra_layers=1)\n",
    "learner = GANGPLearner.wgan(data, generator, critic, switch_eval=False, \n",
    "                            opt_func = partial(optim.Adam, betas = (0.,0.99)), \n",
    "                            wd=0., plambda=plambda)"
   ]
  },
  {
   "cell_type": "code",
   "execution_count": null,
   "metadata": {
    "colab": {
     "base_uri": "https://localhost:8080/",
     "height": 1000
    },
    "colab_type": "code",
    "id": "0laWlrM0K4rG",
    "outputId": "cebf92ee-b3d1-4a6c-ca35-4893af10eba5"
   },
   "outputs": [],
   "source": [
    "learner.fit(30, lr)\n",
    "save_gan_learner(learner, models_root + 'wgan-gpTr1c_30ep.pth')"
   ]
  },
  {
   "cell_type": "code",
   "execution_count": null,
   "metadata": {
    "colab": {
     "base_uri": "https://localhost:8080/",
     "height": 1000
    },
    "colab_type": "code",
    "id": "Wf8H-bu7K4rN",
    "outputId": "f781b255-9bca-4c3d-f829-d660968c41e6"
   },
   "outputs": [],
   "source": [
    "learner.fit(30, lr)\n",
    "save_gan_learner(learner, models_root + 'wgan-gpTr1c_60ep.pth')"
   ]
  },
  {
   "cell_type": "markdown",
   "metadata": {
    "colab_type": "text",
    "id": "RnUVw_CZjj3G"
   },
   "source": [
    "## TR 2: lambda = 50"
   ]
  },
  {
   "cell_type": "code",
   "execution_count": null,
   "metadata": {
    "colab": {},
    "colab_type": "code",
    "id": "hOq3EDnrjj3V"
   },
   "outputs": [],
   "source": [
    "plambda = 50"
   ]
  },
  {
   "cell_type": "markdown",
   "metadata": {
    "colab_type": "text",
    "id": "1poPivRTj0nu"
   },
   "source": [
    "### TR 2a: lr=2e-4"
   ]
  },
  {
   "cell_type": "code",
   "execution_count": null,
   "metadata": {
    "colab": {},
    "colab_type": "code",
    "id": "srnSq9vdj0oC"
   },
   "outputs": [],
   "source": [
    "lr = 2e-4\n",
    "critic = basic_critic(img_size, img_n_channels, n_extra_layers=1)\n",
    "generator = basic_generator(img_size, img_n_channels, n_extra_layers=1)\n",
    "learner = GANGPLearner.wgan(data, generator, critic, switch_eval=False, \n",
    "                            opt_func = partial(optim.Adam, betas = (0.,0.99)), \n",
    "                            wd=0., plambda=plambda)"
   ]
  },
  {
   "cell_type": "code",
   "execution_count": null,
   "metadata": {
    "colab": {
     "base_uri": "https://localhost:8080/",
     "height": 1000
    },
    "colab_type": "code",
    "id": "ZcPAzVSej0oK",
    "outputId": "ffbd7ddc-0065-48f8-c1dd-9773c363c59c"
   },
   "outputs": [],
   "source": [
    "learner.fit(30, lr)\n",
    "save_gan_learner(learner, models_root + 'wgan-gpTr2a_30ep.pth')"
   ]
  },
  {
   "cell_type": "code",
   "execution_count": null,
   "metadata": {
    "colab": {
     "base_uri": "https://localhost:8080/",
     "height": 1000
    },
    "colab_type": "code",
    "id": "QIu8v_iloA2T",
    "outputId": "2ad3b0d5-9617-48c4-f560-bf194e0162af"
   },
   "outputs": [],
   "source": [
    "learner.fit(30, lr)\n",
    "save_gan_learner(learner, models_root + 'wgan-gpTr2a_60ep.pth')"
   ]
  },
  {
   "cell_type": "markdown",
   "metadata": {
    "colab_type": "text",
    "id": "cGtluFZ5kA7p"
   },
   "source": [
    "### TR 2b: lr=5e-4"
   ]
  },
  {
   "cell_type": "code",
   "execution_count": null,
   "metadata": {
    "colab": {},
    "colab_type": "code",
    "id": "LCcE-YGmkQLo"
   },
   "outputs": [],
   "source": [
    "lr = 5e-4\n",
    "critic = basic_critic(img_size, img_n_channels, n_extra_layers=1)\n",
    "generator = basic_generator(img_size, img_n_channels, n_extra_layers=1)\n",
    "learner = GANGPLearner.wgan(data, generator, critic, switch_eval=False, \n",
    "                            opt_func = partial(optim.Adam, betas = (0.,0.99)), \n",
    "                            wd=0., plambda=plambda)"
   ]
  },
  {
   "cell_type": "code",
   "execution_count": null,
   "metadata": {
    "colab": {
     "base_uri": "https://localhost:8080/",
     "height": 1000
    },
    "colab_type": "code",
    "id": "SU5-SwVNkRwA",
    "outputId": "d6e4c5ea-476f-4355-c868-4986ea18c95c"
   },
   "outputs": [],
   "source": [
    "learner.fit(30, lr)\n",
    "save_gan_learner(learner, models_root + 'wgan-gpTr2b_30ep.pth')"
   ]
  },
  {
   "cell_type": "code",
   "execution_count": null,
   "metadata": {
    "colab": {
     "base_uri": "https://localhost:8080/",
     "height": 1000
    },
    "colab_type": "code",
    "id": "TZRcSHOKkStD",
    "outputId": "3bcb3a18-78df-4dc9-fc81-feff32c35f7f"
   },
   "outputs": [],
   "source": [
    "learner.fit(30, lr)\n",
    "save_gan_learner(learner, models_root + 'wgan-gpTr2b_60ep.pth')"
   ]
  },
  {
   "cell_type": "markdown",
   "metadata": {
    "colab_type": "text",
    "id": "QE51lgP-Gvm4"
   },
   "source": [
    "### TR 2C: lr=5e-4, without batch norm in discriminator"
   ]
  },
  {
   "cell_type": "code",
   "execution_count": null,
   "metadata": {
    "colab": {},
    "colab_type": "code",
    "id": "6GfkzS4KGvm9"
   },
   "outputs": [],
   "source": [
    "lr = 5e-4\n",
    "critic = custom_critic(img_size, img_n_channels, n_extra_layers=1, norm_type=None)\n",
    "generator = basic_generator(img_size, img_n_channels, n_extra_layers=1)\n",
    "learner = GANGPLearner.wgan(data, generator, critic, switch_eval=False, \n",
    "                            opt_func = partial(optim.Adam, betas = (0.,0.99)), \n",
    "                            wd=0., plambda=plambda)"
   ]
  },
  {
   "cell_type": "code",
   "execution_count": null,
   "metadata": {
    "colab": {
     "base_uri": "https://localhost:8080/",
     "height": 1000
    },
    "colab_type": "code",
    "id": "RgShZG-3GvnD",
    "outputId": "65620e79-add5-41b1-e6ee-43b1aeb8d421"
   },
   "outputs": [],
   "source": [
    "learner.fit(30, lr)\n",
    "save_gan_learner(learner, models_root + 'wgan-gpTr2c_30ep.pth')"
   ]
  },
  {
   "cell_type": "code",
   "execution_count": null,
   "metadata": {
    "colab": {
     "base_uri": "https://localhost:8080/",
     "height": 1000
    },
    "colab_type": "code",
    "id": "Yb4zJzGyGvnJ",
    "outputId": "c54aa275-70ba-48a0-b97a-5c257c30ad11"
   },
   "outputs": [],
   "source": [
    "learner.fit(30, lr)\n",
    "save_gan_learner(learner, models_root + 'wgan-gpTr2c_60ep.pth')"
   ]
  },
  {
   "cell_type": "markdown",
   "metadata": {
    "colab_type": "text",
    "id": "7BnSM2wKOY3C"
   },
   "source": [
    "## TR 3: lambda = 2"
   ]
  },
  {
   "cell_type": "code",
   "execution_count": null,
   "metadata": {
    "colab": {},
    "colab_type": "code",
    "id": "xUmu20nBOY3H"
   },
   "outputs": [],
   "source": [
    "plambda = 2"
   ]
  },
  {
   "cell_type": "markdown",
   "metadata": {
    "colab_type": "text",
    "id": "T8ejNpCDOY3M"
   },
   "source": [
    "### TR 3a: lr=2e-4"
   ]
  },
  {
   "cell_type": "code",
   "execution_count": null,
   "metadata": {
    "colab": {},
    "colab_type": "code",
    "id": "YshJJE6XOY3N"
   },
   "outputs": [],
   "source": [
    "lr = 2e-4\n",
    "critic = basic_critic(img_size, img_n_channels, n_extra_layers=1)\n",
    "generator = basic_generator(img_size, img_n_channels, n_extra_layers=1)\n",
    "learner = GANGPLearner.wgan(data, generator, critic, switch_eval=False, \n",
    "                            opt_func = partial(optim.Adam, betas = (0.,0.99)), \n",
    "                            wd=0., plambda=plambda)"
   ]
  },
  {
   "cell_type": "code",
   "execution_count": null,
   "metadata": {
    "colab": {
     "base_uri": "https://localhost:8080/",
     "height": 1000
    },
    "colab_type": "code",
    "id": "ncRZ8NR6OY3R",
    "outputId": "ff30933b-ce05-4473-f1d2-98dbf9cc5e0a"
   },
   "outputs": [],
   "source": [
    "learner.fit(30, lr)\n",
    "save_gan_learner(learner, models_root + 'wgan-gpTr3a_30ep.pth')"
   ]
  },
  {
   "cell_type": "code",
   "execution_count": null,
   "metadata": {
    "colab": {
     "base_uri": "https://localhost:8080/",
     "height": 1000
    },
    "colab_type": "code",
    "id": "6bSD09xjOY3X",
    "outputId": "f482991b-dce9-4b1a-81fa-aa622ff9d1ff"
   },
   "outputs": [],
   "source": [
    "learner.fit(30, lr)\n",
    "save_gan_learner(learner, models_root + 'wgan-gpTr3a_60ep.pth')"
   ]
  },
  {
   "cell_type": "markdown",
   "metadata": {
    "colab_type": "text",
    "id": "L_LCBioIOY3h"
   },
   "source": [
    "### TR 3b: lr=5e-4"
   ]
  },
  {
   "cell_type": "code",
   "execution_count": null,
   "metadata": {
    "colab": {},
    "colab_type": "code",
    "id": "RK9Per5nOY3i"
   },
   "outputs": [],
   "source": [
    "lr = 5e-4\n",
    "critic = basic_critic(img_size, img_n_channels, n_extra_layers=1)\n",
    "generator = basic_generator(img_size, img_n_channels, n_extra_layers=1)\n",
    "learner = GANGPLearner.wgan(data, generator, critic, switch_eval=False, \n",
    "                            opt_func = partial(optim.Adam, betas = (0.,0.99)), \n",
    "                            wd=0., plambda=plambda)"
   ]
  },
  {
   "cell_type": "code",
   "execution_count": null,
   "metadata": {
    "colab": {
     "base_uri": "https://localhost:8080/",
     "height": 1000
    },
    "colab_type": "code",
    "id": "7ptMARNtOY3k",
    "outputId": "c78545a2-d97a-4cd0-9df6-e8b5ddede278"
   },
   "outputs": [],
   "source": [
    "learner.fit(30, lr)\n",
    "save_gan_learner(learner, models_root + 'wgan-gpTr3b_30ep.pth')"
   ]
  },
  {
   "cell_type": "code",
   "execution_count": null,
   "metadata": {
    "colab": {
     "base_uri": "https://localhost:8080/",
     "height": 1000
    },
    "colab_type": "code",
    "id": "X73xPxEYOY3m",
    "outputId": "d09bfbc4-563c-43fc-ab19-80fa58b2abd8"
   },
   "outputs": [],
   "source": [
    "learner.fit(30, lr)\n",
    "save_gan_learner(learner, models_root + 'wgan-gpTr3b_60ep.pth')"
   ]
  },
  {
   "cell_type": "markdown",
   "metadata": {
    "colab_type": "text",
    "id": "jarTEa9QICaJ"
   },
   "source": [
    "### TR 3C: lr=5e-4, without batch norm in discriminator"
   ]
  },
  {
   "cell_type": "code",
   "execution_count": null,
   "metadata": {
    "colab": {},
    "colab_type": "code",
    "id": "OZcHOcsaICaR"
   },
   "outputs": [],
   "source": [
    "lr = 5e-4\n",
    "critic = custom_critic(img_size, img_n_channels, n_extra_layers=1, norm_type=None)\n",
    "generator = basic_generator(img_size, img_n_channels, n_extra_layers=1)\n",
    "learner = GANGPLearner.wgan(data, generator, critic, switch_eval=False, \n",
    "                            opt_func = partial(optim.Adam, betas = (0.,0.99)), \n",
    "                            wd=0., plambda=plambda)"
   ]
  },
  {
   "cell_type": "code",
   "execution_count": null,
   "metadata": {
    "colab": {
     "base_uri": "https://localhost:8080/",
     "height": 1000
    },
    "colab_type": "code",
    "id": "sbOrhhtyICaX",
    "outputId": "f23a304a-b9de-47af-9929-6bfeac488235"
   },
   "outputs": [],
   "source": [
    "learner.fit(30, lr)\n",
    "save_gan_learner(learner, models_root + 'wgan-gpTr3c_30ep.pth')"
   ]
  },
  {
   "cell_type": "code",
   "execution_count": null,
   "metadata": {
    "colab": {
     "base_uri": "https://localhost:8080/",
     "height": 1000
    },
    "colab_type": "code",
    "id": "XFOsMHWoICab",
    "outputId": "8300dc11-290d-47df-b419-8908f3e93235"
   },
   "outputs": [],
   "source": [
    "learner.fit(30, lr)\n",
    "save_gan_learner(learner, models_root + 'wgan-gpTr3c_60ep.pth')"
   ]
  },
  {
   "cell_type": "markdown",
   "metadata": {
    "colab_type": "text",
    "id": "z3ottND_r4mw"
   },
   "source": [
    "## TR 4: lambda = 0.5"
   ]
  },
  {
   "cell_type": "code",
   "execution_count": null,
   "metadata": {
    "colab": {},
    "colab_type": "code",
    "id": "PYJ-nl2vsKMN"
   },
   "outputs": [],
   "source": [
    "plambda = 0.5"
   ]
  },
  {
   "cell_type": "markdown",
   "metadata": {
    "colab_type": "text",
    "id": "ehedeXCOsKMX"
   },
   "source": [
    "### TR 4a: lr=2e-4"
   ]
  },
  {
   "cell_type": "code",
   "execution_count": null,
   "metadata": {
    "colab": {},
    "colab_type": "code",
    "id": "jGtGZaAwsKMZ"
   },
   "outputs": [],
   "source": [
    "lr = 2e-4\n",
    "critic = basic_critic(img_size, img_n_channels, n_extra_layers=1)\n",
    "generator = basic_generator(img_size, img_n_channels, n_extra_layers=1)\n",
    "learner = GANGPLearner.wgan(data, generator, critic, switch_eval=False, \n",
    "                            opt_func = partial(optim.Adam, betas = (0.,0.99)), \n",
    "                            wd=0., plambda=plambda)"
   ]
  },
  {
   "cell_type": "code",
   "execution_count": null,
   "metadata": {
    "colab": {
     "base_uri": "https://localhost:8080/",
     "height": 1000
    },
    "colab_type": "code",
    "id": "2u1UUJpKsKMf",
    "outputId": "2c1ba370-3084-4a43-8850-8c2e828c6932"
   },
   "outputs": [],
   "source": [
    "learner.fit(30, lr)\n",
    "save_gan_learner(learner, models_root + 'wgan-gpTr4a_30ep.pth')"
   ]
  },
  {
   "cell_type": "code",
   "execution_count": null,
   "metadata": {
    "colab": {
     "base_uri": "https://localhost:8080/",
     "height": 1000
    },
    "colab_type": "code",
    "id": "DU6F5P-Vsew5",
    "outputId": "0de5c2f7-9829-4c88-ae66-e06f6edbf13d"
   },
   "outputs": [],
   "source": [
    "learner.fit(30, lr)\n",
    "save_gan_learner(learner, models_root + 'wgan-gpTr4a_60ep.pth')"
   ]
  },
  {
   "cell_type": "markdown",
   "metadata": {
    "colab_type": "text",
    "id": "ydykTSoBsmYB"
   },
   "source": [
    "### TR 4b: lr=5e-4"
   ]
  },
  {
   "cell_type": "code",
   "execution_count": null,
   "metadata": {
    "colab": {},
    "colab_type": "code",
    "id": "zQLiLCOwsptc"
   },
   "outputs": [],
   "source": [
    "lr = 5e-4\n",
    "critic = basic_critic(img_size, img_n_channels, n_extra_layers=1)\n",
    "generator = basic_generator(img_size, img_n_channels, n_extra_layers=1)\n",
    "learner = GANGPLearner.wgan(data, generator, critic, switch_eval=False, \n",
    "                            opt_func = partial(optim.Adam, betas = (0.,0.99)), \n",
    "                            wd=0., plambda=plambda)"
   ]
  },
  {
   "cell_type": "code",
   "execution_count": null,
   "metadata": {
    "colab": {
     "base_uri": "https://localhost:8080/",
     "height": 1000
    },
    "colab_type": "code",
    "id": "HM46zP8VssMt",
    "outputId": "1aba8a29-eda0-4771-ac75-556e3ee6aae7"
   },
   "outputs": [],
   "source": [
    "learner.fit(30, lr)\n",
    "save_gan_learner(learner, models_root + 'wgan-gpTr4b_30ep.pth')"
   ]
  },
  {
   "cell_type": "code",
   "execution_count": null,
   "metadata": {
    "colab": {
     "base_uri": "https://localhost:8080/",
     "height": 1000
    },
    "colab_type": "code",
    "id": "85vtzQ4assPu",
    "outputId": "f2546573-8155-4007-b127-fe5fa7bc535b"
   },
   "outputs": [],
   "source": [
    "learner.fit(30, lr)\n",
    "save_gan_learner(learner, models_root + 'wgan-gpTr4b_60ep.pth')"
   ]
  },
  {
   "cell_type": "markdown",
   "metadata": {
    "colab_type": "text",
    "id": "BUdDmo5DT4sk"
   },
   "source": [
    "### TR 4C: lr=5e-4, without batch norm in discriminator"
   ]
  },
  {
   "cell_type": "code",
   "execution_count": null,
   "metadata": {
    "colab": {},
    "colab_type": "code",
    "id": "mwUz5fJeT4sn"
   },
   "outputs": [],
   "source": [
    "lr = 5e-4\n",
    "critic = custom_critic(img_size, img_n_channels, n_extra_layers=1, norm_type=None)\n",
    "generator = basic_generator(img_size, img_n_channels, n_extra_layers=1)\n",
    "learner = GANGPLearner.wgan(data, generator, critic, switch_eval=False, \n",
    "                            opt_func = partial(optim.Adam, betas = (0.,0.99)), \n",
    "                            wd=0., plambda=plambda)"
   ]
  },
  {
   "cell_type": "code",
   "execution_count": null,
   "metadata": {
    "colab": {
     "base_uri": "https://localhost:8080/",
     "height": 1000
    },
    "colab_type": "code",
    "id": "w8zxlDI5T4sq",
    "outputId": "5640518d-0a76-43a7-fbc3-b1998d25b03e"
   },
   "outputs": [],
   "source": [
    "learner.fit(30, lr)\n",
    "save_gan_learner(learner, models_root + 'wgan-gpTr4c_30ep.pth')"
   ]
  },
  {
   "cell_type": "code",
   "execution_count": null,
   "metadata": {
    "colab": {
     "base_uri": "https://localhost:8080/",
     "height": 1000
    },
    "colab_type": "code",
    "id": "HLxYy5w0T4ss",
    "outputId": "142ba828-4208-46a0-dc46-4db8f51de8ce"
   },
   "outputs": [],
   "source": [
    "learner.fit(30, lr)\n",
    "save_gan_learner(learner, models_root + 'wgan-gpTr4c_60ep.pth')"
   ]
  },
  {
   "cell_type": "markdown",
   "metadata": {
    "colab_type": "text",
    "id": "SV79z0sYwCP0"
   },
   "source": [
    "## TR 5: lambda = 0.1"
   ]
  },
  {
   "cell_type": "code",
   "execution_count": null,
   "metadata": {
    "colab": {},
    "colab_type": "code",
    "id": "F0vr9gfvwCP2"
   },
   "outputs": [],
   "source": [
    "plambda = 0.1"
   ]
  },
  {
   "cell_type": "markdown",
   "metadata": {
    "colab_type": "text",
    "id": "SxUEemucwCP6"
   },
   "source": [
    "### TR 5a: lr=2e-4"
   ]
  },
  {
   "cell_type": "code",
   "execution_count": null,
   "metadata": {
    "colab": {},
    "colab_type": "code",
    "id": "Ssk33hBawCP7"
   },
   "outputs": [],
   "source": [
    "lr = 2e-4\n",
    "critic = basic_critic(img_size, img_n_channels, n_extra_layers=1)\n",
    "generator = basic_generator(img_size, img_n_channels, n_extra_layers=1)\n",
    "learner = GANGPLearner.wgan(data, generator, critic, switch_eval=False, \n",
    "                            opt_func = partial(optim.Adam, betas = (0.,0.99)), \n",
    "                            wd=0., plambda=plambda)"
   ]
  },
  {
   "cell_type": "code",
   "execution_count": null,
   "metadata": {
    "colab": {},
    "colab_type": "code",
    "id": "bNG1Nhr9wCP9"
   },
   "outputs": [],
   "source": [
    "learner.fit(30, lr)\n",
    "save_gan_learner(learner, models_root + 'wgan-gpTr5a_30ep.pth')"
   ]
  },
  {
   "cell_type": "code",
   "execution_count": null,
   "metadata": {
    "colab": {},
    "colab_type": "code",
    "id": "aaMjb90RwCQA"
   },
   "outputs": [],
   "source": [
    "learner.fit(30, lr)\n",
    "save_gan_learner(learner, models_root + 'wgan-gpTr5a_60ep.pth')"
   ]
  },
  {
   "cell_type": "markdown",
   "metadata": {
    "colab_type": "text",
    "id": "Ew-Fm44NwCQl"
   },
   "source": [
    "### TR 5b: lr=5e-4"
   ]
  },
  {
   "cell_type": "code",
   "execution_count": null,
   "metadata": {
    "colab": {},
    "colab_type": "code",
    "id": "Sf2XoX5VwCQl"
   },
   "outputs": [],
   "source": [
    "lr = 5e-4\n",
    "critic = basic_critic(img_size, img_n_channels, n_extra_layers=1)\n",
    "generator = basic_generator(img_size, img_n_channels, n_extra_layers=1)\n",
    "learner = GANGPLearner.wgan(data, generator, critic, switch_eval=False, \n",
    "                            opt_func = partial(optim.Adam, betas = (0.,0.99)), \n",
    "                            wd=0., plambda=plambda)"
   ]
  },
  {
   "cell_type": "code",
   "execution_count": null,
   "metadata": {
    "colab": {
     "base_uri": "https://localhost:8080/",
     "height": 1000
    },
    "colab_type": "code",
    "id": "7sUsqgUCwCQm",
    "outputId": "75122450-5680-4a32-f61a-e0103171ca22"
   },
   "outputs": [],
   "source": [
    "learner.fit(30, lr)\n",
    "save_gan_learner(learner, models_root + 'wgan-gpTr5b_30ep.pth')"
   ]
  },
  {
   "cell_type": "code",
   "execution_count": null,
   "metadata": {
    "colab": {
     "base_uri": "https://localhost:8080/",
     "height": 1000
    },
    "colab_type": "code",
    "id": "rMT5YUDYwCQo",
    "outputId": "f56902dd-811a-4a8d-fa56-227005a45704"
   },
   "outputs": [],
   "source": [
    "learner.fit(30, lr)\n",
    "save_gan_learner(learner, models_root + 'wgan-gpTr5b_60ep.pth')"
   ]
  },
  {
   "cell_type": "markdown",
   "metadata": {
    "colab_type": "text",
    "id": "mWVg5HHc9fcB"
   },
   "source": [
    "## TR 6: lambda = 250"
   ]
  },
  {
   "cell_type": "code",
   "execution_count": null,
   "metadata": {
    "colab": {},
    "colab_type": "code",
    "id": "hWoeXtz69fcG"
   },
   "outputs": [],
   "source": [
    "plambda = 250"
   ]
  },
  {
   "cell_type": "markdown",
   "metadata": {
    "colab_type": "text",
    "id": "auH1o_VV9fcM"
   },
   "source": [
    "### TR 6a: lr=2e-4"
   ]
  },
  {
   "cell_type": "code",
   "execution_count": null,
   "metadata": {
    "colab": {},
    "colab_type": "code",
    "id": "fB1jcNoF9fcN"
   },
   "outputs": [],
   "source": [
    "lr = 2e-4\n",
    "critic = basic_critic(img_size, img_n_channels, n_extra_layers=1)\n",
    "generator = basic_generator(img_size, img_n_channels, n_extra_layers=1)\n",
    "learner = GANGPLearner.wgan(data, generator, critic, switch_eval=False, \n",
    "                            opt_func = partial(optim.Adam, betas = (0.,0.99)), \n",
    "                            wd=0., plambda=plambda)"
   ]
  },
  {
   "cell_type": "code",
   "execution_count": null,
   "metadata": {
    "colab": {},
    "colab_type": "code",
    "id": "osHlaRop9fcP"
   },
   "outputs": [],
   "source": [
    "learner.fit(30, lr)\n",
    "save_gan_learner(learner, models_root + 'wgan-gpTr6a_30ep.pth')"
   ]
  },
  {
   "cell_type": "code",
   "execution_count": null,
   "metadata": {
    "colab": {},
    "colab_type": "code",
    "id": "oobCbAuG9fcR"
   },
   "outputs": [],
   "source": [
    "learner.fit(30, lr)\n",
    "save_gan_learner(learner, models_root + 'wgan-gpTr6a_60ep.pth')"
   ]
  },
  {
   "cell_type": "markdown",
   "metadata": {
    "colab_type": "text",
    "id": "18pvUVJE9fcW"
   },
   "source": [
    "### TR 6b: lr=5e-4"
   ]
  },
  {
   "cell_type": "code",
   "execution_count": null,
   "metadata": {
    "colab": {},
    "colab_type": "code",
    "id": "JGZgYzqs9fcW"
   },
   "outputs": [],
   "source": [
    "lr = 5e-4\n",
    "critic = basic_critic(img_size, img_n_channels, n_extra_layers=1)\n",
    "generator = basic_generator(img_size, img_n_channels, n_extra_layers=1)\n",
    "learner = GANGPLearner.wgan(data, generator, critic, switch_eval=False, \n",
    "                            opt_func = partial(optim.Adam, betas = (0.,0.99)), \n",
    "                            wd=0., plambda=plambda)"
   ]
  },
  {
   "cell_type": "code",
   "execution_count": null,
   "metadata": {
    "colab": {
     "base_uri": "https://localhost:8080/",
     "height": 1000
    },
    "colab_type": "code",
    "id": "mEXP68yc9fcY",
    "outputId": "85107a31-a1dd-4f69-956b-b6012790455c"
   },
   "outputs": [],
   "source": [
    "learner.fit(30, lr)\n",
    "save_gan_learner(learner, models_root + 'wgan-gpTr6b_30ep.pth')"
   ]
  },
  {
   "cell_type": "code",
   "execution_count": null,
   "metadata": {
    "colab": {
     "base_uri": "https://localhost:8080/",
     "height": 1000
    },
    "colab_type": "code",
    "id": "7kD6S4vd9fca",
    "outputId": "5f821cf6-4bf3-4e13-9a97-abee1172e52e"
   },
   "outputs": [],
   "source": [
    "learner.fit(30, lr)\n",
    "save_gan_learner(learner, models_root + 'wgan-gpTr6b_60ep.pth')"
   ]
  },
  {
   "cell_type": "markdown",
   "metadata": {
    "colab_type": "text",
    "id": "GuzZ8x0ey3JE"
   },
   "source": [
    "### TR 6C: lr=5e-4, without batch norm in discriminator"
   ]
  },
  {
   "cell_type": "code",
   "execution_count": null,
   "metadata": {
    "colab": {},
    "colab_type": "code",
    "id": "iowDmb34y3JL"
   },
   "outputs": [],
   "source": [
    "lr = 5e-4\n",
    "critic = custom_critic(img_size, img_n_channels, n_extra_layers=1, norm_type=None)\n",
    "generator = basic_generator(img_size, img_n_channels, n_extra_layers=1)\n",
    "learner = GANGPLearner.wgan(data, generator, critic, switch_eval=False, \n",
    "                            opt_func = partial(optim.Adam, betas = (0.,0.99)), \n",
    "                            wd=0., plambda=plambda)"
   ]
  },
  {
   "cell_type": "code",
   "execution_count": null,
   "metadata": {
    "colab": {
     "base_uri": "https://localhost:8080/",
     "height": 1000
    },
    "colab_type": "code",
    "id": "i_iju3-Iy3JS",
    "outputId": "4c38c49b-9574-4f39-bbdd-6444406b2b70"
   },
   "outputs": [],
   "source": [
    "learner.fit(30, lr)\n",
    "save_gan_learner(learner, models_root + 'wgan-gpTr6c_30ep.pth')"
   ]
  },
  {
   "cell_type": "code",
   "execution_count": null,
   "metadata": {
    "colab": {
     "base_uri": "https://localhost:8080/",
     "height": 1000
    },
    "colab_type": "code",
    "id": "Haa59LNiy3JW",
    "outputId": "da196d71-b29f-4622-f415-af4a36b60739"
   },
   "outputs": [],
   "source": [
    "learner.fit(30, lr)\n",
    "save_gan_learner(learner, models_root + 'wgan-gpTr6c_60ep.pth')"
   ]
  },
  {
   "cell_type": "markdown",
   "metadata": {
    "colab_type": "text",
    "id": "LNj92zj5cFs4"
   },
   "source": [
    "## TR 7: lambda = 50000"
   ]
  },
  {
   "cell_type": "code",
   "execution_count": null,
   "metadata": {
    "colab": {},
    "colab_type": "code",
    "id": "LujjApaScFs8"
   },
   "outputs": [],
   "source": [
    "plambda = 50000"
   ]
  },
  {
   "cell_type": "markdown",
   "metadata": {
    "colab_type": "text",
    "id": "KfghC_h4cFtB"
   },
   "source": [
    "### TR 7a: lr=2e-4"
   ]
  },
  {
   "cell_type": "code",
   "execution_count": null,
   "metadata": {
    "colab": {},
    "colab_type": "code",
    "id": "0L61Z7yqcFtC"
   },
   "outputs": [],
   "source": [
    "lr = 2e-4\n",
    "critic = basic_critic(img_size, img_n_channels, n_extra_layers=1)\n",
    "generator = basic_generator(img_size, img_n_channels, n_extra_layers=1)\n",
    "learner = GANGPLearner.wgan(data, generator, critic, switch_eval=False, \n",
    "                            opt_func = partial(optim.Adam, betas = (0.,0.99)), \n",
    "                            wd=0., plambda=plambda)"
   ]
  },
  {
   "cell_type": "code",
   "execution_count": null,
   "metadata": {
    "colab": {},
    "colab_type": "code",
    "id": "nN8EcG4TcFtF"
   },
   "outputs": [],
   "source": [
    "learner.fit(30, lr)\n",
    "save_gan_learner(learner, models_root + 'wgan-gpTr7a_30ep.pth')"
   ]
  },
  {
   "cell_type": "code",
   "execution_count": null,
   "metadata": {
    "colab": {},
    "colab_type": "code",
    "id": "zUXjLnMGcFtI"
   },
   "outputs": [],
   "source": [
    "learner.fit(30, lr)\n",
    "save_gan_learner(learner, models_root + 'wgan-gpTr7a_60ep.pth')"
   ]
  },
  {
   "cell_type": "markdown",
   "metadata": {
    "colab_type": "text",
    "id": "cTaTZ4YxcFtR"
   },
   "source": [
    "### TR 7b: lr=5e-4"
   ]
  },
  {
   "cell_type": "code",
   "execution_count": null,
   "metadata": {
    "colab": {},
    "colab_type": "code",
    "id": "e_NI2RWDcFtR"
   },
   "outputs": [],
   "source": [
    "lr = 5e-4\n",
    "critic = basic_critic(img_size, img_n_channels, n_extra_layers=1)\n",
    "generator = basic_generator(img_size, img_n_channels, n_extra_layers=1)\n",
    "learner = GANGPLearner.wgan(data, generator, critic, switch_eval=False, \n",
    "                            opt_func = partial(optim.Adam, betas = (0.,0.99)), \n",
    "                            wd=0., plambda=plambda)"
   ]
  },
  {
   "cell_type": "code",
   "execution_count": null,
   "metadata": {
    "colab": {
     "base_uri": "https://localhost:8080/",
     "height": 1000
    },
    "colab_type": "code",
    "id": "B4AAkMYRcFtT",
    "outputId": "e9c008be-ea1c-4c0c-f270-b304b7d41680"
   },
   "outputs": [],
   "source": [
    "learner.fit(30, lr)\n",
    "save_gan_learner(learner, models_root + 'wgan-gpTr7b_30ep.pth')"
   ]
  },
  {
   "cell_type": "code",
   "execution_count": null,
   "metadata": {
    "colab": {
     "base_uri": "https://localhost:8080/",
     "height": 1000
    },
    "colab_type": "code",
    "id": "EIou6XYtcFtV",
    "outputId": "b8d8e931-488a-4896-ed85-25a9fd3fbd7b"
   },
   "outputs": [],
   "source": [
    "learner.fit(30, lr)\n",
    "save_gan_learner(learner, models_root + 'wgan-gpTr7b_60ep.pth')"
   ]
  },
  {
   "cell_type": "markdown",
   "metadata": {
    "colab_type": "text",
    "id": "d3Nivi8CeFx_"
   },
   "source": [
    "### TR 7C: lr=5e-4, without batch norm in discriminator"
   ]
  },
  {
   "cell_type": "code",
   "execution_count": null,
   "metadata": {
    "colab": {},
    "colab_type": "code",
    "id": "bXOkEFQreFyE"
   },
   "outputs": [],
   "source": [
    "lr = 5e-4\n",
    "critic = custom_critic(img_size, img_n_channels, n_extra_layers=1, norm_type=None)\n",
    "generator = basic_generator(img_size, img_n_channels, n_extra_layers=1)\n",
    "learner = GANGPLearner.wgan(data, generator, critic, switch_eval=False, \n",
    "                            opt_func = partial(optim.Adam, betas = (0.,0.99)), \n",
    "                            wd=0., plambda=plambda)"
   ]
  },
  {
   "cell_type": "code",
   "execution_count": null,
   "metadata": {
    "colab": {
     "base_uri": "https://localhost:8080/",
     "height": 1000
    },
    "colab_type": "code",
    "id": "6lcwRLQZeFyI",
    "outputId": "c2771fc0-dd94-48bb-96af-3e5d93d6dd25"
   },
   "outputs": [],
   "source": [
    "learner.fit(30, lr)\n",
    "save_gan_learner(learner, models_root + 'wgan-gpTr7c_30ep.pth')"
   ]
  },
  {
   "cell_type": "code",
   "execution_count": null,
   "metadata": {
    "colab": {
     "base_uri": "https://localhost:8080/",
     "height": 1000
    },
    "colab_type": "code",
    "id": "9pxAU0naeFyM",
    "outputId": "11eed445-2583-470a-bdf8-74d4f9db346e"
   },
   "outputs": [],
   "source": [
    "learner.fit(30, lr)\n",
    "save_gan_learner(learner, models_root + 'wgan-gpTr7c_60ep.pth')"
   ]
  },
  {
   "cell_type": "markdown",
   "metadata": {
    "colab_type": "text",
    "id": "aXdPdX3bLHAM"
   },
   "source": [
    "# FINDINGS AND FACTS"
   ]
  },
  {
   "cell_type": "markdown",
   "metadata": {
    "colab_type": "text",
    "id": "SgnukGOjLMWZ"
   },
   "source": [
    "*   Recommended value of lambda = 10 works pretty well. Probably anything between 1-50 is ok.\n",
    "*   As stated in the paper, batch norm shouldn't be used in the critic network. So, executions tagged with TR [number]A or TR [number]B (like TR 2A, TR 3B, ...) aren't theoretically right; only those ending with C and subsequent letters are OK.\n",
    "  * With batch norm, some results are gotten anyway but the convergence is less smooth.\n",
    "\n"
   ]
  },
  {
   "cell_type": "markdown",
   "metadata": {
    "colab_type": "text",
    "id": "ND_3AUk1sgat"
   },
   "source": [
    "# POSSIBLE IMPROVEMENTS"
   ]
  },
  {
   "cell_type": "markdown",
   "metadata": {
    "colab_type": "text",
    "id": "TwHnoa-wslRu"
   },
   "source": [
    "\n",
    "* Optimize GANGPLoss._gradient_penalty(). Maybe expand_as is not needed.\n",
    "\n"
   ]
  }
 ],
 "metadata": {
  "accelerator": "GPU",
  "colab": {
   "collapsed_sections": [
    "BN1PEKUiNnBB",
    "OSwDBQMkCTtB",
    "5fgn_EzjCWxK",
    "fE9S467R-7Ix",
    "dKP08Dz3kZG4",
    "HYCqMH-Nkf3o",
    "SGJXfIAenncd",
    "m5ASSr39K4q1",
    "RnUVw_CZjj3G",
    "1poPivRTj0nu",
    "cGtluFZ5kA7p",
    "QE51lgP-Gvm4",
    "7BnSM2wKOY3C",
    "T8ejNpCDOY3M",
    "L_LCBioIOY3h",
    "jarTEa9QICaJ",
    "z3ottND_r4mw",
    "ehedeXCOsKMX",
    "ydykTSoBsmYB",
    "BUdDmo5DT4sk",
    "SV79z0sYwCP0",
    "SxUEemucwCP6",
    "Ew-Fm44NwCQl",
    "mWVg5HHc9fcB",
    "auH1o_VV9fcM",
    "18pvUVJE9fcW",
    "GuzZ8x0ey3JE",
    "LNj92zj5cFs4",
    "KfghC_h4cFtB",
    "cTaTZ4YxcFtR",
    "d3Nivi8CeFx_",
    "aXdPdX3bLHAM",
    "ND_3AUk1sgat"
   ],
   "name": "wgan_gp.ipynb",
   "provenance": []
  },
  "kernelspec": {
   "display_name": "Python 3",
   "language": "python",
   "name": "python3"
  },
  "language_info": {
   "codemirror_mode": {
    "name": "ipython",
    "version": 3
   },
   "file_extension": ".py",
   "mimetype": "text/x-python",
   "name": "python",
   "nbconvert_exporter": "python",
   "pygments_lexer": "ipython3",
   "version": "3.7.3"
  }
 },
 "nbformat": 4,
 "nbformat_minor": 1
}