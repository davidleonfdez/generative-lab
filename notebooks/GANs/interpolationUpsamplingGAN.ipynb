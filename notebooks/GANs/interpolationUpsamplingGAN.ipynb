{
 "cells": [
  {
   "cell_type": "code",
   "execution_count": null,
   "metadata": {
    "colab": {},
    "colab_type": "code",
    "id": "bs8cZ9bs6Qhu"
   },
   "outputs": [],
   "source": [
    "%reload_ext autoreload\n",
    "%autoreload 2\n",
    "%matplotlib inline\n",
    "\n",
    "from fastai.vision import *\n",
    "from fastai.vision.gan import *\n",
    "import torch.nn as nn\n",
    "import torch.nn.functional as F\n",
    "from PIL import Image"
   ]
  },
  {
   "cell_type": "markdown",
   "metadata": {
    "colab_type": "text",
    "id": "jYtr5rXRv7p_"
   },
   "source": [
    "You should set the following option to True if the notebook isn't located in the file system inside a clone of the git repo (with the needed Python modules available) it belongs to; i.e., it's running independently."
   ]
  },
  {
   "cell_type": "code",
   "execution_count": null,
   "metadata": {
    "colab": {},
    "colab_type": "code",
    "id": "Hsd30apsv7xO"
   },
   "outputs": [],
   "source": [
    "run_as_standalone_nb = False"
   ]
  },
  {
   "cell_type": "code",
   "execution_count": null,
   "metadata": {
    "colab": {},
    "colab_type": "code",
    "id": "sKrFEwPswJCe"
   },
   "outputs": [],
   "source": [
    "# This cell needs to be executed before importing local project modules, like import core.gan\n",
    "if run_as_standalone_nb:\n",
    "    root_lib_path = os.path.abspath('generative-lab')\n",
    "    if not os.path.exists(root_lib_path):\n",
    "        !git clone https://github.com/davidleonfdez/generative-lab.git\n",
    "    if root_lib_path not in sys.path:\n",
    "        sys.path.insert(0, root_lib_path)\n",
    "else:\n",
    "    import local_lib_import"
   ]
  },
  {
   "cell_type": "code",
   "execution_count": null,
   "metadata": {
    "colab": {},
    "colab_type": "code",
    "id": "fTE3Rq2IwMsG"
   },
   "outputs": [],
   "source": [
    "# Local project modules. Must be imported after local_lib_import or cloning git repo.\n",
    "from core.gan import (CustomGANLearner, GANLossArgs, gan_loss_from_func, gan_loss_from_func_std, \n",
    "                      load_gan_learner, save_gan_learner, train_checkpoint_gan)\n",
    "# from core.gen_utils import RandomProbability, SingleProbability\n",
    "from core.nb_utils import mount_gdrive\n",
    "from core.net_builders import interpolation_generator"
   ]
  },
  {
   "cell_type": "markdown",
   "metadata": {
    "colab_type": "text",
    "id": "xBsbufmnuk6F"
   },
   "source": [
    "`models_root` is used as the base path to save models. Next cell sets assumes the nb is being executed from Google Colab and you have a \"ML\" dir in Google Drive. Alternatively, you could set it manually to something like './' to save and load models to/from the current directory."
   ]
  },
  {
   "cell_type": "code",
   "execution_count": null,
   "metadata": {
    "colab": {},
    "colab_type": "code",
    "id": "RerqU_X0xUau"
   },
   "outputs": [],
   "source": [
    "# Optional, allows saving parameters in gdrive\n",
    "root_gdrive = mount_gdrive()\n",
    "models_root = root_gdrive + 'ML/'"
   ]
  },
  {
   "cell_type": "code",
   "execution_count": null,
   "metadata": {
    "colab": {},
    "colab_type": "code",
    "id": "dvsJ4uLIWSLR"
   },
   "outputs": [],
   "source": [
    "img_size = 64\n",
    "img_n_channels = 3\n",
    "batch_size = 64\n",
    "use_cuda = torch.cuda.is_available()"
   ]
  },
  {
   "cell_type": "markdown",
   "metadata": {
    "colab_type": "text",
    "id": "iVwbOMZkuyuC"
   },
   "source": [
    "# DATA"
   ]
  },
  {
   "cell_type": "code",
   "execution_count": null,
   "metadata": {},
   "outputs": [],
   "source": [
    "ds_url = \"http://vis-www.cs.umass.edu/lfw/lfw\""
   ]
  },
  {
   "cell_type": "code",
   "execution_count": null,
   "metadata": {
    "colab": {
     "base_uri": "https://localhost:8080/",
     "height": 51
    },
    "colab_type": "code",
    "id": "upthw8zuWSLT",
    "outputId": "f1cf31b9-15f1-475a-a6bd-d348c6e52a88"
   },
   "outputs": [],
   "source": [
    "realImagesPath = untar_data(ds_url)\n",
    "realImagesPath"
   ]
  },
  {
   "cell_type": "code",
   "execution_count": null,
   "metadata": {
    "colab": {},
    "colab_type": "code",
    "id": "oHSdqCa5WSLX"
   },
   "outputs": [],
   "source": [
    "sampleImg1Path = realImagesPath/'Aaron_Eckhart/Aaron_Eckhart_0001.jpg'"
   ]
  },
  {
   "cell_type": "code",
   "execution_count": null,
   "metadata": {
    "colab": {
     "base_uri": "https://localhost:8080/",
     "height": 34
    },
    "colab_type": "code",
    "id": "zTYynIZtWSLY",
    "outputId": "6694a5c6-11d2-4718-a596-1e4bb2340c5b"
   },
   "outputs": [],
   "source": [
    "im = Image.open(sampleImg1Path)\n",
    "im.size"
   ]
  },
  {
   "cell_type": "code",
   "execution_count": null,
   "metadata": {
    "colab": {
     "base_uri": "https://localhost:8080/",
     "height": 267
    },
    "colab_type": "code",
    "id": "hu8sDGeJWSLa",
    "outputId": "94f47a2d-3900-43d4-dc50-82e2d92a4ef4"
   },
   "outputs": [],
   "source": [
    "from IPython.display import Image\n",
    "Image(filename=str(sampleImg1Path))"
   ]
  },
  {
   "cell_type": "code",
   "execution_count": null,
   "metadata": {
    "colab": {},
    "colab_type": "code",
    "id": "eJlKW3zTWSLc"
   },
   "outputs": [],
   "source": [
    "def get_data(path, bs, size):\n",
    "    return (GANItemList.from_folder(path, noise_sz=100)\n",
    "               .split_none()\n",
    "               .label_from_func(noop)\n",
    "               .transform(tfms=[[crop_pad(size=size, row_pct=(0,1), col_pct=(0,1))], []], size=size, tfm_y=True)\n",
    "               .databunch(bs=bs)\n",
    "               .normalize(stats = [torch.tensor([0.5,0.5,0.5]), torch.tensor([0.5,0.5,0.5])], do_x=False, do_y=True))"
   ]
  },
  {
   "cell_type": "code",
   "execution_count": null,
   "metadata": {
    "colab": {},
    "colab_type": "code",
    "id": "0F1yDnhRWSLd",
    "scrolled": true
   },
   "outputs": [],
   "source": [
    "data = get_data(realImagesPath, batch_size, img_size)\n",
    "data.show_batch()"
   ]
  },
  {
   "cell_type": "markdown",
   "metadata": {
    "colab_type": "text",
    "id": "N7j-QaYIWSLe"
   },
   "source": [
    "# GENERATOR"
   ]
  },
  {
   "cell_type": "markdown",
   "metadata": {
    "colab_type": "text",
    "id": "EY_xoz4ZWSLf"
   },
   "source": [
    "Generator uses interpolation followed with a regular convolution to upsample, instead of the traditional transpose convolution, in order to avoid checkerboard artifacts, as proposed here: https://distill.pub/2016/deconv-checkerboard/.\n",
    "\n",
    "Input is bs x noise_sz * 1 * 1<br>\n",
    "**n_features** is the number of feature maps (so kernels) generated after penultimate layer (the last layer of course outputs n_channels) if n_extra_layers = 0 . At the beginning there will be n_features * 2^(n_intermediate_conv_blocks), and this number will be reduced by half in any subsequent layer.\n",
    "\n",
    "```\n",
    "interpolation_generator(in_size:int, n_channels:int, noise_sz:int=100,  \n",
    "                        n_features:int=64, n_extra_layers:int=0, \n",
    "                        dense:bool=False, upsample_mode:str='bilinear', \n",
    "                        **conv_kwargs) -> nn.Module:\n",
    "```"
   ]
  },
  {
   "cell_type": "code",
   "execution_count": null,
   "metadata": {
    "colab": {},
    "colab_type": "code",
    "id": "fDAKAvSfWSLf"
   },
   "outputs": [],
   "source": [
    "generator = interpolation_generator(img_size, img_n_channels)"
   ]
  },
  {
   "cell_type": "markdown",
   "metadata": {},
   "source": [
    "Test the generator. Should return 2 x img_n_channels x img_size x img_size"
   ]
  },
  {
   "cell_type": "code",
   "execution_count": null,
   "metadata": {},
   "outputs": [],
   "source": [
    "generator(torch.rand(2, 100, 1, 1)).size()"
   ]
  },
  {
   "cell_type": "markdown",
   "metadata": {
    "colab_type": "text",
    "id": "mK1_axM9WSLh"
   },
   "source": [
    "# CRITIC"
   ]
  },
  {
   "cell_type": "markdown",
   "metadata": {
    "colab_type": "text",
    "id": "jKc5WQRaWSLh"
   },
   "source": [
    "Basic critic\n",
    "\n",
    "**n_features** is the number of feature maps (so kernels) generated after first layer (from the n_channels of the input). This number will be doubled in any subsequent layer.\n",
    "\n",
    "`basic_critic(in_size:int, n_channels:int, n_features:int=64, n_extra_layers:int=0, **conv_kwargs)`"
   ]
  },
  {
   "cell_type": "code",
   "execution_count": null,
   "metadata": {
    "colab": {},
    "colab_type": "code",
    "id": "YCTQ14PzSqjW"
   },
   "outputs": [],
   "source": [
    "critic = basic_critic(img_size, img_n_channels)"
   ]
  },
  {
   "cell_type": "markdown",
   "metadata": {
    "colab_type": "text",
    "id": "_Jc0Z4_5Son3"
   },
   "source": [
    "Test the critic. Should return [1]."
   ]
  },
  {
   "cell_type": "code",
   "execution_count": null,
   "metadata": {
    "colab": {
     "base_uri": "https://localhost:8080/",
     "height": 34
    },
    "colab_type": "code",
    "id": "mvtGoNnyJll7",
    "outputId": "ede53310-8f7e-479d-f751-e2918207f7eb"
   },
   "outputs": [],
   "source": [
    "critic(torch.rand(2, 3, 64, 64)).size()"
   ]
  },
  {
   "cell_type": "markdown",
   "metadata": {
    "colab_type": "text",
    "id": "LWjoHgoUSIxq"
   },
   "source": [
    "# GAN LEARNER"
   ]
  },
  {
   "cell_type": "code",
   "execution_count": null,
   "metadata": {
    "colab": {},
    "colab_type": "code",
    "id": "_UfbF55aWSLl"
   },
   "outputs": [],
   "source": [
    "def gen_loss_func(*args): return 0\n",
    "crit_loss_func = nn.BCEWithLogitsLoss()\n",
    "\n",
    "losses = gan_loss_from_func_std(gen_loss_func, crit_loss_func)\n",
    "\n",
    "learner = CustomGANLearner(data, generator, critic, GANLossArgs(*losses))"
   ]
  },
  {
   "cell_type": "markdown",
   "metadata": {
    "colab_type": "text",
    "id": "9B6WjGlhqq6R"
   },
   "source": [
    "# TRAINING"
   ]
  },
  {
   "cell_type": "markdown",
   "metadata": {},
   "source": [
    "* The parameters of a trained model can be saved with `save_gan_learner`.\n",
    "* A training run can resumed (using weights saved during a previous session) with `load_gan_learner`. For example:\n",
    "        load_gan_learner(learner, models_root + 'interpBilinearGANTr1_40ep.pth')\n",
    "    This must be executed after instantiating the learner and BEFORE running `learner.fit()`.\n",
    "\n",
    "* Another alternative to launch a long training run is the method `save_checkpoint_gan`. It will automatically save the weights every `n_epochs_save_split` epochs."
   ]
  },
  {
   "cell_type": "markdown",
   "metadata": {
    "colab_type": "text",
    "id": "6oCWVMDqDziz"
   },
   "source": [
    "## Bilinear interpolation"
   ]
  },
  {
   "cell_type": "markdown",
   "metadata": {
    "colab_type": "text",
    "id": "e7np4nazW7KQ"
   },
   "source": [
    "### TRAINING 1: lr=1e-4, wd=0, Adam(beta1=0, beta2=0.99)"
   ]
  },
  {
   "cell_type": "code",
   "execution_count": null,
   "metadata": {
    "colab": {},
    "colab_type": "code",
    "id": "oAq2vMZfq8bO"
   },
   "outputs": [],
   "source": [
    "lr = 1e-4\n",
    "data = get_data(realImagesPath, batch_size, img_size)\n",
    "generator = interpolation_generator(img_size, img_n_channels)\n",
    "critic = basic_critic(img_size, img_n_channels)\n",
    "learner = CustomGANLearner(data, generator, critic, GANLossArgs(*losses), switch_eval=False, \n",
    "                           opt_func = partial(optim.Adam, betas = (0.,0.99)), wd=0.)"
   ]
  },
  {
   "cell_type": "code",
   "execution_count": null,
   "metadata": {
    "colab": {
     "base_uri": "https://localhost:8080/",
     "height": 1000
    },
    "colab_type": "code",
    "id": "17kOzSN6hZdT",
    "outputId": "dfdc8157-8e82-4abd-8491-12b7cd0f172f"
   },
   "outputs": [],
   "source": [
    "learner.fit(20, lr)"
   ]
  },
  {
   "cell_type": "code",
   "execution_count": null,
   "metadata": {
    "colab": {
     "base_uri": "https://localhost:8080/",
     "height": 1000
    },
    "colab_type": "code",
    "id": "kwSH1NmWXFJz",
    "outputId": "e6063198-85d2-4691-c5df-49ea7bd17ed6"
   },
   "outputs": [],
   "source": [
    "learner.fit(20, lr)"
   ]
  },
  {
   "cell_type": "code",
   "execution_count": null,
   "metadata": {
    "colab": {},
    "colab_type": "code",
    "id": "wj7DYPrsbLEs"
   },
   "outputs": [],
   "source": [
    "save_gan_learner(learner, models_root + 'interpBilinearGANTr1_40ep.pth')"
   ]
  },
  {
   "cell_type": "markdown",
   "metadata": {
    "colab_type": "text",
    "id": "LZnZbRcOXJ6U"
   },
   "source": [
    "### TRAINING 2: lr=2e-4, wd=0, Adam(beta1=0, beta2=0.99)"
   ]
  },
  {
   "cell_type": "code",
   "execution_count": null,
   "metadata": {
    "colab": {},
    "colab_type": "code",
    "id": "KP03w6FEXlxJ"
   },
   "outputs": [],
   "source": [
    "lr = 2e-4\n",
    "data = get_data(realImagesPath, batch_size, img_size)\n",
    "generator = interpolation_generator(img_size, img_n_channels)\n",
    "critic = basic_critic(img_size, img_n_channels)\n",
    "learner = CustomGANLearner(data, generator, critic, GANLossArgs(*losses), switch_eval=False, \n",
    "                           opt_func = partial(optim.Adam, betas = (0.,0.99)), wd=0.)"
   ]
  },
  {
   "cell_type": "code",
   "execution_count": null,
   "metadata": {
    "colab": {
     "base_uri": "https://localhost:8080/",
     "height": 1000
    },
    "colab_type": "code",
    "id": "IRHUk2i2X6EZ",
    "outputId": "a2ea6871-f374-40ee-cb29-553f6e775f33"
   },
   "outputs": [],
   "source": [
    "learner.fit(20, lr)"
   ]
  },
  {
   "cell_type": "code",
   "execution_count": null,
   "metadata": {
    "colab": {
     "base_uri": "https://localhost:8080/",
     "height": 1000
    },
    "colab_type": "code",
    "id": "hUA-t1ktX9tC",
    "outputId": "3b40d006-74e3-4cf9-9252-3bf749f02dc7"
   },
   "outputs": [],
   "source": [
    "learner.fit(20, lr)"
   ]
  },
  {
   "cell_type": "code",
   "execution_count": null,
   "metadata": {
    "colab": {},
    "colab_type": "code",
    "id": "_pfvPT5_cAHr"
   },
   "outputs": [],
   "source": [
    "save_gan_learner(learner, models_root + 'interpBilinearGANTrB2_40ep.pth')"
   ]
  },
  {
   "cell_type": "markdown",
   "metadata": {
    "colab_type": "text",
    "id": "fZrSHkJzXxGv"
   },
   "source": [
    "### TRAINING 3: lr=2e-4, wd=0, Adam(beta1=0, beta2=0.99), 1 extra layer"
   ]
  },
  {
   "cell_type": "code",
   "execution_count": null,
   "metadata": {
    "colab": {},
    "colab_type": "code",
    "id": "2wK738ZqX1G_"
   },
   "outputs": [],
   "source": [
    "lr = 2e-4\n",
    "data = get_data(realImagesPath, batch_size, img_size)\n",
    "generator = interpolation_generator(img_size, img_n_channels, n_extra_layers=1)\n",
    "critic = basic_critic(img_size, img_n_channels, n_extra_layers=1)\n",
    "learner = CustomGANLearner(data, generator, critic, GANLossArgs(*losses), switch_eval=False, \n",
    "                           opt_func = partial(optim.Adam, betas = (0.,0.99)), wd=0.)"
   ]
  },
  {
   "cell_type": "code",
   "execution_count": null,
   "metadata": {
    "colab": {
     "base_uri": "https://localhost:8080/",
     "height": 1000
    },
    "colab_type": "code",
    "id": "_PIvsQNoX_Ez",
    "outputId": "af161769-56ac-421a-e07d-f93d33d2ce06"
   },
   "outputs": [],
   "source": [
    "learner.fit(20, lr)"
   ]
  },
  {
   "cell_type": "code",
   "execution_count": null,
   "metadata": {
    "colab": {
     "base_uri": "https://localhost:8080/",
     "height": 1000
    },
    "colab_type": "code",
    "id": "e4g8oHaQX_kS",
    "outputId": "6f828b8c-9efa-4aca-820f-b89c24c45302"
   },
   "outputs": [],
   "source": [
    "learner.fit(20, lr)"
   ]
  },
  {
   "cell_type": "code",
   "execution_count": null,
   "metadata": {
    "colab": {},
    "colab_type": "code",
    "id": "nNw3IKnqcCKi"
   },
   "outputs": [],
   "source": [
    "save_gan_learner(learner, models_root + 'interpBilinearGANTrB3_40ep.pth')"
   ]
  },
  {
   "cell_type": "code",
   "execution_count": null,
   "metadata": {
    "colab": {
     "base_uri": "https://localhost:8080/",
     "height": 1000
    },
    "colab_type": "code",
    "id": "8yW0nilbMeZR",
    "outputId": "519d8079-4c2a-4c13-c38f-e81d5e5f0df1"
   },
   "outputs": [],
   "source": [
    "train_checkpoint_gan(learner, 360, initial_epoch=40, filename_start='interpBilinearGANTrB3_', lr=lr)"
   ]
  },
  {
   "cell_type": "code",
   "execution_count": null,
   "metadata": {
    "colab": {},
    "colab_type": "code",
    "id": "VpQHz8x-uk73",
    "outputId": "09b37844-2ef4-4a8a-9ca6-9892a23059c3"
   },
   "outputs": [],
   "source": [
    "learner.show_results(ds_type=DatasetType.Train)"
   ]
  },
  {
   "cell_type": "markdown",
   "metadata": {
    "colab_type": "text",
    "id": "y9R-XDrLYDrl"
   },
   "source": [
    "### TRAINING 4: WGAN lr=2e-4, wd=0, Adam(beta1=0, beta2=0.99), 1 extra layer"
   ]
  },
  {
   "cell_type": "code",
   "execution_count": null,
   "metadata": {
    "colab": {},
    "colab_type": "code",
    "id": "9JbwNOvBYGuP"
   },
   "outputs": [],
   "source": [
    "lr = 2e-4\n",
    "data = get_data(realImagesPath, batch_size, img_size)\n",
    "generator = interpolation_generator(img_size, img_n_channels, n_extra_layers=1)\n",
    "critic = basic_critic(img_size, img_n_channels, n_extra_layers=1)\n",
    "learner = CustomGANLearner.wgan(data, generator, critic, switch_eval=False, \n",
    "                                opt_func = partial(optim.Adam, betas = (0.,0.99)), wd=0.)"
   ]
  },
  {
   "cell_type": "code",
   "execution_count": null,
   "metadata": {
    "colab": {
     "base_uri": "https://localhost:8080/",
     "height": 1000
    },
    "colab_type": "code",
    "id": "IvFVPtdyYjya",
    "outputId": "96b88e96-4bc9-4211-8c98-9c065ca640d1",
    "scrolled": true
   },
   "outputs": [],
   "source": [
    "learner.fit(20, lr)"
   ]
  },
  {
   "cell_type": "code",
   "execution_count": null,
   "metadata": {
    "colab": {
     "base_uri": "https://localhost:8080/",
     "height": 1000
    },
    "colab_type": "code",
    "id": "tJCo8q3RYkLu",
    "outputId": "110c44d0-bc3b-473d-d28e-766c6f2cd3cc",
    "scrolled": true
   },
   "outputs": [],
   "source": [
    "learner.fit(20, lr)"
   ]
  },
  {
   "cell_type": "code",
   "execution_count": null,
   "metadata": {
    "colab": {},
    "colab_type": "code",
    "id": "ysWK1zWUcD5k"
   },
   "outputs": [],
   "source": [
    "save_gan_learner(learner, models_root + 'interpBilinearGANTrB4_40ep.pth')"
   ]
  },
  {
   "cell_type": "code",
   "execution_count": null,
   "metadata": {
    "colab": {},
    "colab_type": "code",
    "id": "NtsWr1Gduk8P",
    "outputId": "baa9e965-5c14-4320-bd96-31ef6ae057df"
   },
   "outputs": [],
   "source": [
    "train_checkpoint_gan(learner, 360, initial_epoch=40, filename_start='interpBilinearGANTrB4_', lr=2e-4)"
   ]
  },
  {
   "cell_type": "code",
   "execution_count": null,
   "metadata": {
    "colab": {},
    "colab_type": "code",
    "id": "8HZlGSyAuk8R",
    "outputId": "b558cd43-a63e-4718-a66a-0f3d24b91606"
   },
   "outputs": [],
   "source": [
    "learner.show_results(ds_type=DatasetType.Train)"
   ]
  },
  {
   "cell_type": "markdown",
   "metadata": {
    "colab_type": "text",
    "id": "VwMVZl7PYK94"
   },
   "source": [
    "## Bicubic interpolation"
   ]
  },
  {
   "cell_type": "markdown",
   "metadata": {
    "colab_type": "text",
    "id": "abeJegb8YOPa"
   },
   "source": [
    "### TRAINING 1: lr=2e-4, wd=0, Adam(beta1=0, beta2=0.99), 1 extra layer"
   ]
  },
  {
   "cell_type": "code",
   "execution_count": null,
   "metadata": {
    "colab": {},
    "colab_type": "code",
    "id": "7jX1pD8_YSZF"
   },
   "outputs": [],
   "source": [
    "lr = 2e-4\n",
    "data = get_data(realImagesPath, batch_size, img_size)\n",
    "generator = interpolation_generator(img_size, img_n_channels, n_extra_layers=1, upsample_mode='bicubic')\n",
    "critic = basic_critic(img_size, img_n_channels, n_extra_layers=1)\n",
    "learner = CustomGANLearner(data, generator, critic, GANLossArgs(*losses), switch_eval=False, \n",
    "                           opt_func = partial(optim.Adam, betas = (0.,0.99)), wd=0.)"
   ]
  },
  {
   "cell_type": "code",
   "execution_count": null,
   "metadata": {
    "colab": {
     "base_uri": "https://localhost:8080/",
     "height": 1000
    },
    "colab_type": "code",
    "id": "ReE6yMSmYmhN",
    "outputId": "4a658949-b4f1-4a62-8382-d011474a2628",
    "scrolled": true
   },
   "outputs": [],
   "source": [
    "learner.fit(40, lr)"
   ]
  },
  {
   "cell_type": "code",
   "execution_count": null,
   "metadata": {
    "colab": {},
    "colab_type": "code",
    "id": "O5xLpNI9uk8b"
   },
   "outputs": [],
   "source": [
    "save_gan_learner(learner, models_root + 'interpBicubicGANTrB1_40ep.pth')"
   ]
  },
  {
   "cell_type": "code",
   "execution_count": null,
   "metadata": {
    "colab": {},
    "colab_type": "code",
    "id": "CiU7V0-Puk8n",
    "outputId": "97fd579c-79a0-4a68-ca2d-eb34a9cc42b5",
    "scrolled": true
   },
   "outputs": [],
   "source": [
    "train_checkpoint_gan(learner, 360, initial_epoch=40, filename_start='interpBicubicGANTrB1_', lr=lr)"
   ]
  },
  {
   "cell_type": "code",
   "execution_count": null,
   "metadata": {
    "colab": {},
    "colab_type": "code",
    "id": "punanJmauk80",
    "outputId": "245be401-8d0b-4260-db92-b458fc516771",
    "scrolled": true
   },
   "outputs": [],
   "source": [
    "learner.show_results(ds_type=DatasetType.Train)"
   ]
  },
  {
   "cell_type": "markdown",
   "metadata": {
    "colab_type": "text",
    "id": "tEsXTjHMYXvi"
   },
   "source": [
    "### TRAINING 2: WGAN lr=2e-4, wd=0, Adam(beta1=0, beta2=0.99), 1 extra layer"
   ]
  },
  {
   "cell_type": "code",
   "execution_count": null,
   "metadata": {
    "colab": {},
    "colab_type": "code",
    "id": "tsTe280gYfGJ"
   },
   "outputs": [],
   "source": [
    "lr = 2e-4\n",
    "data = get_data(realImagesPath, batch_size, img_size)\n",
    "generator = interpolation_generator(img_size, img_n_channels, n_extra_layers=1, upsample_mode='bicubic')\n",
    "critic = basic_critic(img_size, img_n_channels, n_extra_layers=1)\n",
    "learner = CustomGANLearner.wgan(data, generator, critic, switch_eval=False, \n",
    "                                opt_func = partial(optim.Adam, betas = (0.,0.99)), wd=0.)"
   ]
  },
  {
   "cell_type": "code",
   "execution_count": null,
   "metadata": {
    "colab": {
     "base_uri": "https://localhost:8080/",
     "height": 1000
    },
    "colab_type": "code",
    "id": "j3BPB9PnYoqm",
    "outputId": "1148d9e5-d2a0-4727-9481-dcb6af01aa08",
    "scrolled": true
   },
   "outputs": [],
   "source": [
    "learner.fit(20, lr)"
   ]
  },
  {
   "cell_type": "code",
   "execution_count": null,
   "metadata": {
    "colab": {
     "base_uri": "https://localhost:8080/",
     "height": 1000
    },
    "colab_type": "code",
    "id": "qmQDTNxOYo75",
    "outputId": "109547d9-9060-492c-a247-245ba6ef6a64",
    "scrolled": true
   },
   "outputs": [],
   "source": [
    "learner.fit(20, lr)"
   ]
  },
  {
   "cell_type": "code",
   "execution_count": null,
   "metadata": {
    "colab": {},
    "colab_type": "code",
    "id": "7Wv9aCgRglj8"
   },
   "outputs": [],
   "source": [
    "save_gan_learner(learner, models_root + 'interpBicubicGANTrB2_40ep.pth')"
   ]
  },
  {
   "cell_type": "code",
   "execution_count": null,
   "metadata": {
    "colab": {},
    "colab_type": "code",
    "id": "m6UV1jDbuk9F"
   },
   "outputs": [],
   "source": [
    "train_checkpoint_gan(learner, 360, initial_epoch=40, filename_start='interpBicubicGANTrB2_', lr=lr)"
   ]
  },
  {
   "cell_type": "code",
   "execution_count": null,
   "metadata": {
    "colab": {},
    "colab_type": "code",
    "id": "iT8zvEc8uk9N",
    "outputId": "52e910b0-2fe9-48b9-939c-62b63b359420"
   },
   "outputs": [],
   "source": [
    "learner.show_results(ds_type=DatasetType.Train)"
   ]
  },
  {
   "cell_type": "code",
   "execution_count": null,
   "metadata": {
    "colab": {},
    "colab_type": "code",
    "id": "eLKPoNxAuk9Q"
   },
   "outputs": [],
   "source": []
  }
 ],
 "metadata": {
  "accelerator": "GPU",
  "colab": {
   "collapsed_sections": [
    "iVwbOMZkuyuC",
    "N7j-QaYIWSLe",
    "mK1_axM9WSLh",
    "LWjoHgoUSIxq",
    "9B6WjGlhqq6R",
    "6oCWVMDqDziz",
    "e7np4nazW7KQ",
    "LZnZbRcOXJ6U",
    "fZrSHkJzXxGv",
    "y9R-XDrLYDrl",
    "VwMVZl7PYK94",
    "abeJegb8YOPa",
    "tEsXTjHMYXvi"
   ],
   "machine_shape": "hm",
   "name": "interpolationUpsamplingGAN.ipynb",
   "provenance": []
  },
  "kernelspec": {
   "display_name": "Python 3",
   "language": "python",
   "name": "python3"
  },
  "language_info": {
   "codemirror_mode": {
    "name": "ipython",
    "version": 3
   },
   "file_extension": ".py",
   "mimetype": "text/x-python",
   "name": "python",
   "nbconvert_exporter": "python",
   "pygments_lexer": "ipython3",
   "version": "3.7.3"
  }
 },
 "nbformat": 4,
 "nbformat_minor": 1
}
