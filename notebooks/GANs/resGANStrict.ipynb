{
 "cells": [
  {
   "cell_type": "markdown",
   "metadata": {
    "colab_type": "text",
    "id": "RChfRpmynu44"
   },
   "source": [
    "\n",
    "\n",
    "---\n",
    "\n",
    "\n",
    "Experiment with different variants of GANs with residual blocks. Includes helper methods that allow building discriminators and generators composed almost entirely by residual blocks, although they are also tested in combination with hybrid architectures in that regard.\n",
    "\n",
    "\n",
    "---\n",
    "\n"
   ]
  },
  {
   "cell_type": "code",
   "execution_count": null,
   "metadata": {
    "colab": {},
    "colab_type": "code",
    "id": "bs8cZ9bs6Qhu"
   },
   "outputs": [],
   "source": [
    "%reload_ext autoreload\n",
    "%autoreload 2\n",
    "%matplotlib inline\n",
    "\n",
    "import os\n",
    "import sys\n",
    "from fastai.vision import *\n",
    "from fastai.vision.gan import *\n",
    "import torch.nn as nn\n",
    "import torch.nn.functional as F\n",
    "from PIL import Image"
   ]
  },
  {
   "cell_type": "markdown",
   "metadata": {
    "colab_type": "text",
    "id": "MPmvJNNwZRvl"
   },
   "source": [
    "You should set the following option to True if the notebook isn't located in the file system inside a clone of the git repo (with the needed Python modules available) it belongs to; i.e., it's running independently."
   ]
  },
  {
   "cell_type": "code",
   "execution_count": null,
   "metadata": {
    "colab": {},
    "colab_type": "code",
    "id": "QYdKvolNeP1f"
   },
   "outputs": [],
   "source": [
    "run_as_standalone_nb = False"
   ]
  },
  {
   "cell_type": "code",
   "execution_count": null,
   "metadata": {
    "colab": {
     "base_uri": "https://localhost:8080/",
     "height": 153
    },
    "colab_type": "code",
    "id": "HRuA762NZR8a",
    "outputId": "c243da28-7c3f-4eac-da36-9d4aaede4c53"
   },
   "outputs": [],
   "source": [
    "# This cell needs to be executed before importing local project modules, like import core.gan\n",
    "if run_as_standalone_nb:\n",
    "    root_lib_path = os.path.abspath('generative-lab')\n",
    "    if not os.path.exists(root_lib_path):\n",
    "        !git clone https://github.com/davidleonfdez/generative-lab.git\n",
    "    if root_lib_path not in sys.path:\n",
    "        sys.path.insert(0, root_lib_path)\n",
    "else:\n",
    "    import local_lib_import"
   ]
  },
  {
   "cell_type": "code",
   "execution_count": null,
   "metadata": {
    "colab": {},
    "colab_type": "code",
    "id": "Hu2is-yRZzyT"
   },
   "outputs": [],
   "source": [
    "# Local project modules. Must be imported after local_lib_import or cloning git repo.\n",
    "from core.gan import CustomGANLearner, GANLossArgs, gan_loss_from_func_std, load_gan_learner, save_gan_learner\n",
    "from core.layers import AvgFlatten, MergeResampleLayer, res_block_std, res_downsample_block, res_upsample_block, res_resample_block\n",
    "from core.nb_utils import mount_gdrive\n",
    "from core.net_builders import (deep_res_critic, deep_res_generator, pseudo_res_critic, \n",
    "                               pseudo_res_generator, simple_res_critic, simple_res_generator)"
   ]
  },
  {
   "cell_type": "markdown",
   "metadata": {},
   "source": [
    "`models_root` is used as the base path to save models. Next cell sets assumes the nb is being executed from Google Colab and you have a \"ML\" dir in Google Drive. Alternatively, you could set it manually to something like './' to save and load models to/from the current directory."
   ]
  },
  {
   "cell_type": "code",
   "execution_count": null,
   "metadata": {
    "colab": {
     "base_uri": "https://localhost:8080/",
     "height": 34
    },
    "colab_type": "code",
    "id": "RerqU_X0xUau",
    "outputId": "42a9f55b-024b-47df-c095-46bfa14e2d39"
   },
   "outputs": [],
   "source": [
    "# Optional, allows saving parameters in gdrive\n",
    "root_gdrive = mount_gdrive()\n",
    "models_root = root_gdrive + 'ML/'"
   ]
  },
  {
   "cell_type": "code",
   "execution_count": null,
   "metadata": {
    "colab": {},
    "colab_type": "code",
    "id": "dvsJ4uLIWSLR"
   },
   "outputs": [],
   "source": [
    "img_size = 64\n",
    "img_n_channels = 3\n",
    "batch_size = 128\n",
    "use_cuda = torch.cuda.is_available()"
   ]
  },
  {
   "cell_type": "markdown",
   "metadata": {
    "colab_type": "text",
    "id": "5BGsJboRaj29"
   },
   "source": [
    "# DATA"
   ]
  },
  {
   "cell_type": "code",
   "execution_count": null,
   "metadata": {},
   "outputs": [],
   "source": [
    "ds_url = \"http://vis-www.cs.umass.edu/lfw/lfw\""
   ]
  },
  {
   "cell_type": "code",
   "execution_count": null,
   "metadata": {
    "colab": {
     "base_uri": "https://localhost:8080/",
     "height": 51
    },
    "colab_type": "code",
    "id": "22-MlIs_hiyq",
    "outputId": "4a52c16e-af8d-4ba1-9741-8f9c26309e19"
   },
   "outputs": [],
   "source": [
    "realImagesPath = untar_data(ds_url)\n",
    "realImagesPath"
   ]
  },
  {
   "cell_type": "code",
   "execution_count": null,
   "metadata": {
    "colab": {},
    "colab_type": "code",
    "id": "oHSdqCa5WSLX"
   },
   "outputs": [],
   "source": [
    "sampleImg1Path = realImagesPath/'Aaron_Eckhart/Aaron_Eckhart_0001.jpg'"
   ]
  },
  {
   "cell_type": "code",
   "execution_count": null,
   "metadata": {
    "colab": {
     "base_uri": "https://localhost:8080/",
     "height": 34
    },
    "colab_type": "code",
    "id": "zTYynIZtWSLY",
    "outputId": "faec1358-bf86-46a3-e391-51ee5e2d65c4"
   },
   "outputs": [],
   "source": [
    "im = Image.open(sampleImg1Path)\n",
    "im.size"
   ]
  },
  {
   "cell_type": "code",
   "execution_count": null,
   "metadata": {
    "colab": {
     "base_uri": "https://localhost:8080/",
     "height": 267
    },
    "colab_type": "code",
    "id": "hu8sDGeJWSLa",
    "outputId": "77ac82ab-f4f4-4223-abba-a7601dc6b22c"
   },
   "outputs": [],
   "source": [
    "from IPython.display import Image\n",
    "Image(filename=str(sampleImg1Path))"
   ]
  },
  {
   "cell_type": "code",
   "execution_count": null,
   "metadata": {
    "colab": {},
    "colab_type": "code",
    "id": "eJlKW3zTWSLc"
   },
   "outputs": [],
   "source": [
    "def get_data(path, bs, size):\n",
    "    return (GANItemList.from_folder(path, noise_sz=100)\n",
    "               .split_none()\n",
    "               .label_from_func(noop)\n",
    "               .transform(tfms=[[crop_pad(size=size, row_pct=(0,1), col_pct=(0,1))], []], size=size, tfm_y=True)\n",
    "               .databunch(bs=bs)\n",
    "               .normalize(stats = [torch.tensor([0.5,0.5,0.5]), torch.tensor([0.5,0.5,0.5])], do_x=False, do_y=True))"
   ]
  },
  {
   "cell_type": "code",
   "execution_count": null,
   "metadata": {
    "colab": {
     "base_uri": "https://localhost:8080/"
    },
    "colab_type": "code",
    "id": "0F1yDnhRWSLd",
    "outputId": "6449095d-7454-436c-8de5-ce8589619bfa",
    "scrolled": true
   },
   "outputs": [],
   "source": [
    "data = get_data(realImagesPath, batch_size, img_size)\n",
    "data.show_batch()"
   ]
  },
  {
   "cell_type": "markdown",
   "metadata": {
    "colab_type": "text",
    "id": "N7j-QaYIWSLe"
   },
   "source": [
    "# GENERATORS"
   ]
  },
  {
   "cell_type": "markdown",
   "metadata": {
    "colab_type": "text",
    "id": "EY_xoz4ZWSLf"
   },
   "source": [
    "Generator with residual blocks after each upsampling block. It's similar to a DCGAN generator with residual blocks in between.\n",
    "\n",
    "Input is bs x noise_sz * 1 * 1<br>\n",
    "**n_features** is the number of feature maps (so kernels) generated after penultimate layer (the last layer of course outputs n_channels) if n_extra_layers = 0 . At the beginning there will be n_features * 2^(n_intermediate_convtrans_blocks), and this number will be reduced by half in any subsequent layer.\n",
    "\n",
    "```\n",
    "pseudo_res_generator(in_size:int, n_channels:int, noise_sz:int=100,\n",
    "                     n_features:int=64, n_extra_layers:int=0, dense:bool=False, \n",
    "                     **conv_kwargs) -> nn.Module\n",
    "```"
   ]
  },
  {
   "cell_type": "markdown",
   "metadata": {
    "colab_type": "text",
    "id": "r6L2o7RiAsE8"
   },
   "source": [
    "Test pseudo_res_generator():"
   ]
  },
  {
   "cell_type": "code",
   "execution_count": null,
   "metadata": {
    "colab": {
     "base_uri": "https://localhost:8080/",
     "height": 34
    },
    "colab_type": "code",
    "id": "JjXBAkRIAsia",
    "outputId": "b7a2e5a4-f8d2-4240-eb2a-794f92e9f975"
   },
   "outputs": [],
   "source": [
    "generator = pseudo_res_generator(img_size, img_n_channels)\n",
    "generator(torch.rand(2, 100, 1, 1)).size() == torch.empty(2, img_n_channels, img_size, img_size).size()"
   ]
  },
  {
   "cell_type": "markdown",
   "metadata": {
    "colab_type": "text",
    "id": "UQBkMA7P6DVD"
   },
   "source": [
    "Generator with only residual blocks, acting as upsampling blocks, in the intermediate layers of the network. Of course, it means we are not dealing with purely residual blocks, as the input needs to be upsampled too in the shortcut path to allow the addition to the output of the convolutions; that's done with a stride 2 1x1 transpose convolution.\n",
    "\n",
    "With the default parameters, any block has two convolutions; the first one performs the downsampling. This order can be reversed passing **downsample_first**=False.\n",
    "\n",
    "**n_features** is the number of feature maps (so kernels) generated after first layer (from the n_channels of the input). This number will be doubled in any subsequent layer.\n",
    "\n",
    "```\n",
    "simple_res_generator(in_size:int, n_channels:int, noise_sz:int=100,\n",
    "                     n_features:int=64, n_extra_layers:int=0,\n",
    "                    n_extra_convs_by_block:int=1, upsample_first:bool=True, \n",
    "                    **conv_kwargs) -> nn.Module\n",
    "```"
   ]
  },
  {
   "cell_type": "code",
   "execution_count": null,
   "metadata": {
    "colab": {
     "base_uri": "https://localhost:8080/",
     "height": 34
    },
    "colab_type": "code",
    "id": "xJAmOOh59XRs",
    "outputId": "5a5407e4-83e0-4360-c12b-6b341815fd7a"
   },
   "outputs": [],
   "source": [
    "# Test simple_res_generator\n",
    "simple_generator = simple_res_generator(img_size, img_n_channels)\n",
    "simple_generator(torch.rand(2, 100, 1, 1)).size() == torch.empty(2, img_n_channels, img_size, img_size).size()"
   ]
  },
  {
   "cell_type": "markdown",
   "metadata": {
    "colab_type": "text",
    "id": "feUX59UdC8Rs"
   },
   "source": [
    "Generator with only residual blocks:\n",
    "\n",
    "* Standard residual blocks composed by two 3x3 convolutions.\n",
    "* Upsampling residual blocks, parametrized by:\n",
    "  * **`n_extra_convs_by_upblock`**: number of 3x3 convolutions (padding 1, don't alter size) performed inside any upsampling block.\n",
    "  * **`upsample_first_in_block`**: indicates if the transpose convolution must come first (True) or last (False) inside any upsampling block.\n",
    "\n",
    "The number of standard residual blocks between a pair of upsampling residual blocks is defined by **`n_blocks_between_upblocks`**.\n",
    "\n",
    "```\n",
    "deep_res_generator(in_size:int, n_channels:int, noise_sz:int=100,\n",
    "                   n_features:int=64, n_extra_blocks_begin:int=0, \n",
    "                   n_extra_blocks_end:int=0, n_blocks_between_upblocks:int=0, \n",
    "                   n_extra_convs_by_upblock:int=1,\n",
    "                   upsample_first_in_block:bool=True, dense:bool=False,\n",
    "                   use_final_activ_res_blocks:bool=False,\n",
    "                   use_final_bn:bool=False, use_shortcut_activ:bool=False, \n",
    "                   use_shortcut_bn:bool=True,\n",
    "                   norm_type_inner:Optional[NormType]=NormType.Batch, \n",
    "                   **conv_kwargs) -> nn.Module\n",
    "```"
   ]
  },
  {
   "cell_type": "markdown",
   "metadata": {
    "colab_type": "text",
    "id": "mK1_axM9WSLh"
   },
   "source": [
    "# CRITIC"
   ]
  },
  {
   "cell_type": "markdown",
   "metadata": {
    "colab_type": "text",
    "id": "jKc5WQRaWSLh"
   },
   "source": [
    "Critic with residual blocks after each downsampling block. It's similar to a DCGAN discriminator with residual blocks in between.\n",
    "\n",
    "**n_features** is the number of feature maps (so kernels) generated after first layer (from the n_channels of the input). This number will be doubled in any subsequent layer.\n",
    "\n",
    "```\n",
    "pseudo_res_critic(in_size:int, n_channels:int, n_features:int=64,\n",
    "                  n_extra_layers:int=0, dense:bool=False,\n",
    "                  conv_before_res:bool=True, **conv_kwargs) -> nn.Module\n",
    "```"
   ]
  },
  {
   "cell_type": "markdown",
   "metadata": {
    "colab_type": "text",
    "id": "5ikt3TgZvxNk"
   },
   "source": [
    "---\n",
    "Critic with only residual blocks, acting as downsampling blocks, in the intermediate layers of the network. Of course, it means we are not dealing with purely residual blocks, as the input needs to be downsampled too in the shortcut path to allow the addition to the output of the convolutions; that's done with a stride 2 1x1 conv (unfortunately, according to some sources like https://papers.nips.cc/paper/7356-fishnet-a-versatile-backbone-for-image-region-and-pixel-level-prediction.pdf, this technique makes gradient propagation harder).\n",
    "\n",
    "With the default parameters, any block has two convolutions; the first one performs the downsampling. This order can be reversed passing **downsample_first**=False.\n",
    "\n",
    "**n_features** is the number of feature maps (so kernels) generated after first layer (from the n_channels of the input). This number will be doubled in any subsequent layer.\n",
    "\n",
    "```\n",
    "simple_res_critic(in_size:int, n_channels:int, n_features:int=64, \n",
    "                  n_extra_layers:int=0, n_extra_convs_by_block:int=1, \n",
    "                  downsample_first:bool=True, **conv_kwargs) -> nn.Module\n",
    "```"
   ]
  },
  {
   "cell_type": "code",
   "execution_count": null,
   "metadata": {
    "colab": {},
    "colab_type": "code",
    "id": "YCTQ14PzSqjW"
   },
   "outputs": [],
   "source": [
    "critic = simple_res_critic(img_size, img_n_channels)"
   ]
  },
  {
   "cell_type": "markdown",
   "metadata": {
    "colab_type": "text",
    "id": "_Jc0Z4_5Son3"
   },
   "source": [
    "Test the critic:"
   ]
  },
  {
   "cell_type": "code",
   "execution_count": null,
   "metadata": {
    "colab": {
     "base_uri": "https://localhost:8080/",
     "height": 34
    },
    "colab_type": "code",
    "id": "mvtGoNnyJll7",
    "outputId": "4a42d989-c9d9-42b4-d4e6-b8520f883fab"
   },
   "outputs": [],
   "source": [
    "critic(torch.rand(2, 3, 64, 64)).size()"
   ]
  },
  {
   "cell_type": "markdown",
   "metadata": {
    "colab_type": "text",
    "id": "7RXXNhe9DIFf"
   },
   "source": [
    "---\n",
    "Critic with only residual blocks:\n",
    "\n",
    "* Standard residual blocks composed by two 3x3 convolutions.\n",
    "* Downsampling residual blocks, parametrized by:\n",
    "  * **`n_extra_convs_by_downblock`**: number of 3x3 convolutions (padding 1, don't alter size) performed inside any downsampling block.\n",
    "  * **`downsample_first_in_block`**: indicates if the transpose convolution must come first (True) or last (False) inside any downsampling block.\n",
    "\n",
    "The number of standard residual blocks between a pair of downsampling residual blocks is defined by **`n_blocks_between_downblocks`**.\n",
    "\n",
    "```\n",
    "deep_res_critic(in_size:int, n_channels:int, n_features:int=64, \n",
    "                n_extra_blocks_begin:int=0, n_extra_blocks_end:int=0, \n",
    "                n_blocks_between_downblocks:int=0, \n",
    "                n_extra_convs_by_downblock:int=1, \n",
    "                downsample_first_in_block:bool=True, dense:bool=False, \n",
    "                use_final_activ_res_blocks:bool=False, use_final_bn:bool=False, \n",
    "                use_shortcut_activ:bool=False, use_shortcut_bn:bool=True, \n",
    "                norm_type_inner:Optional[NormType]=NormType.Batch, \n",
    "                **conv_kwargs) -> nn.Module\n",
    "```"
   ]
  },
  {
   "cell_type": "markdown",
   "metadata": {
    "colab_type": "text",
    "id": "LWjoHgoUSIxq"
   },
   "source": [
    "# GAN LEARNER"
   ]
  },
  {
   "cell_type": "code",
   "execution_count": null,
   "metadata": {
    "colab": {},
    "colab_type": "code",
    "id": "_UfbF55aWSLl"
   },
   "outputs": [],
   "source": [
    "def gen_loss_func(*args): return 0\n",
    "crit_loss_func = nn.BCEWithLogitsLoss()\n",
    "\n",
    "losses = gan_loss_from_func_std(gen_loss_func, crit_loss_func)\n",
    "\n",
    "learner = CustomGANLearner(data, generator, critic, GANLossArgs(*losses))"
   ]
  },
  {
   "cell_type": "markdown",
   "metadata": {
    "colab_type": "text",
    "id": "MDD9x0bXXVFt"
   },
   "source": [
    "# TRAINING"
   ]
  },
  {
   "cell_type": "markdown",
   "metadata": {},
   "source": [
    "* The parameters of a trained model can be saved with `save_gan_learner`.\n",
    "* A training run can resumed (using weights saved during a previous session) with `load_gan_learner`. For example:\n",
    "        load_gan_learner(learner, models_root + 'resGANStrictTr1_60it.pth')\n",
    "    This must be executed after instantiating the learner and BEFORE running `learner.fit()`.\n",
    "\n",
    "* Another alternative to launch a long training run is the method `save_checkpoint_gan`. It will automatically save the weights every `n_epochs_save_split` epochs."
   ]
  },
  {
   "cell_type": "markdown",
   "metadata": {
    "colab_type": "text",
    "id": "B1OWiRG3gM_f"
   },
   "source": [
    "## TR 1: Simple_res_critic, pseudo_res_generator"
   ]
  },
  {
   "cell_type": "markdown",
   "metadata": {
    "colab_type": "text",
    "id": "C1iRK7KwbXV_"
   },
   "source": [
    "### TR 1A: *Simple_res_critic, pseudo_res_generator*, Downsample_first=True, n_extra_layers=(critic 1, generator 0), n_extra_convs_by_block=1, Adam(betas=(0,0.99)), wd=0, lr=2e-4"
   ]
  },
  {
   "cell_type": "code",
   "execution_count": null,
   "metadata": {
    "colab": {},
    "colab_type": "code",
    "id": "m5_OKhzi33VM"
   },
   "outputs": [],
   "source": [
    "lr = 2e-4\n",
    "data = get_data(realImagesPath, 128, img_size)\n",
    "generator = pseudo_res_generator(img_size, img_n_channels)\n",
    "critic = simple_res_critic(img_size, img_n_channels, n_extra_layers=1, n_extra_convs_by_block=1)\n",
    "learner = CustomGANLearner.wgan(data, generator, critic, switch_eval=False, \n",
    "                                opt_func = partial(optim.Adam, betas = (0.,0.99)), wd=0.)"
   ]
  },
  {
   "cell_type": "code",
   "execution_count": null,
   "metadata": {
    "colab": {
     "base_uri": "https://localhost:8080/",
     "height": 1000
    },
    "colab_type": "code",
    "id": "zU5aodJHXVsP",
    "outputId": "80940148-5c33-44b4-dab0-928acb4105ab"
   },
   "outputs": [],
   "source": [
    "learner.fit(30, lr)"
   ]
  },
  {
   "cell_type": "code",
   "execution_count": null,
   "metadata": {
    "colab": {},
    "colab_type": "code",
    "id": "NFEKJUOPXVu6"
   },
   "outputs": [],
   "source": [
    "save_gan_learner(learner, models_root + 'resGANStrictTr1_30ep.pth')"
   ]
  },
  {
   "cell_type": "code",
   "execution_count": null,
   "metadata": {
    "colab": {},
    "colab_type": "code",
    "id": "X5v0cIERXVxB"
   },
   "outputs": [],
   "source": [
    "learner.fit(30, lr)\n",
    "save_gan_learner(learner, models_root + 'resGANStrictTr1_60ep.pth')"
   ]
  },
  {
   "cell_type": "markdown",
   "metadata": {
    "colab_type": "text",
    "id": "gCeeEcC8L6I9"
   },
   "source": [
    "### TR 1B (1 extra layer in generator too): *Simple_res_critic, pseudo_res_generator,* Downsample_first=True, n_extra_layers=1, n_extra_convs_by_block=1, Adam(betas=(0,0.99)), wd=0, lr=2e-4"
   ]
  },
  {
   "cell_type": "code",
   "execution_count": null,
   "metadata": {
    "colab": {},
    "colab_type": "code",
    "id": "-2N6NQRkL-i_"
   },
   "outputs": [],
   "source": [
    "data = get_data(realImagesPath, 128, img_size)\n",
    "generator = pseudo_res_generator(img_size, img_n_channels, n_extra_layers=1)\n",
    "critic = simple_res_critic(img_size, img_n_channels, n_extra_layers=1, n_extra_convs_by_block=1)\n",
    "learner = CustomGANLearner.wgan(data, generator, critic, switch_eval=False, \n",
    "                                opt_func = partial(optim.Adam, betas = (0.,0.99)), wd=0.)"
   ]
  },
  {
   "cell_type": "code",
   "execution_count": null,
   "metadata": {
    "colab": {
     "base_uri": "https://localhost:8080/",
     "height": 1000
    },
    "colab_type": "code",
    "id": "RqynE7B2MQzH",
    "outputId": "b9987b1f-b255-43b7-e34a-f25a6f760579"
   },
   "outputs": [],
   "source": [
    "learner.fit(30, lr)\n",
    "save_gan_learner(learner, models_root + 'resGANStrictTr1b_30ep.pth')"
   ]
  },
  {
   "cell_type": "code",
   "execution_count": null,
   "metadata": {
    "colab": {},
    "colab_type": "code",
    "id": "7P0pwSYnMSd3"
   },
   "outputs": [],
   "source": [
    "learner.fit(30, lr)\n",
    "save_gan_learner(learner, models_root + 'resGANStrictTr1b_60ep.pth')"
   ]
  },
  {
   "cell_type": "markdown",
   "metadata": {
    "colab_type": "text",
    "id": "BmdA9YTHCnHc"
   },
   "source": [
    "### TR 1C (bigger lr): Simple_res_critic, pseudo_res_generator, Downsample_first=True, n_extra_layers=1, n_extra_convs_by_block=1, Adam(betas=(0,0.99)), wd=0, lr=5e-4"
   ]
  },
  {
   "cell_type": "code",
   "execution_count": null,
   "metadata": {
    "colab": {},
    "colab_type": "code",
    "id": "-83N24t8Cv31"
   },
   "outputs": [],
   "source": [
    "data = get_data(realImagesPath, 128, img_size)\n",
    "generator = pseudo_res_generator(img_size, img_n_channels, n_extra_layers=1)\n",
    "critic = simple_res_critic(img_size, img_n_channels, n_extra_layers=1, n_extra_convs_by_block=1)\n",
    "learner = CustomGANLearner.wgan(data, generator, critic, switch_eval=False, \n",
    "                                opt_func = partial(optim.Adam, betas = (0.,0.99)), wd=0.)\n",
    "lr=5e-4"
   ]
  },
  {
   "cell_type": "code",
   "execution_count": null,
   "metadata": {
    "colab": {
     "base_uri": "https://localhost:8080/"
    },
    "colab_type": "code",
    "id": "qRtzfc8_COVg",
    "outputId": "3a176ce3-584a-47cd-9a1d-bc24f433c9c4"
   },
   "outputs": [],
   "source": [
    "learner.fit(30, lr)\n",
    "save_gan_learner(learner, models_root + 'resGANStrictTr1c_30ep.pth')"
   ]
  },
  {
   "cell_type": "code",
   "execution_count": null,
   "metadata": {
    "colab": {},
    "colab_type": "code",
    "id": "OAxPb5CvCOYI"
   },
   "outputs": [],
   "source": [
    "learner.fit(30, lr)\n",
    "save_gan_learner(learner, models_root + 'resGANStrictTr1c_60ep.pth')"
   ]
  },
  {
   "cell_type": "code",
   "execution_count": null,
   "metadata": {
    "colab": {},
    "colab_type": "code",
    "id": "ZaCXjqXhDLKQ"
   },
   "outputs": [],
   "source": [
    "learner.show_results(ds_type=DatasetType.Train)"
   ]
  },
  {
   "cell_type": "markdown",
   "metadata": {
    "colab_type": "text",
    "id": "9OZ06iU_UgAm"
   },
   "source": [
    "### TR 1D (lr=1e-4): *Simple_res_critic, pseudo_res_generator*, Downsample_first=True, n_extra_layers=1, n_extra_convs_by_block=1, Adam(betas=(0,0.99)), wd=0, lr=1e-4"
   ]
  },
  {
   "cell_type": "code",
   "execution_count": null,
   "metadata": {
    "colab": {},
    "colab_type": "code",
    "id": "2Okc_EKbDLPK"
   },
   "outputs": [],
   "source": [
    "data = get_data(realImagesPath, 128, img_size)\n",
    "generator = pseudo_res_generator(img_size, img_n_channels, n_extra_layers=1)\n",
    "critic = simple_res_critic(img_size, img_n_channels, n_extra_layers=1, n_extra_convs_by_block=1)\n",
    "learner = CustomGANLearner.wgan(data, generator, critic, switch_eval=False, \n",
    "                                opt_func = partial(optim.Adam, betas = (0.,0.99)), wd=0.)\n",
    "lr=1e-4"
   ]
  },
  {
   "cell_type": "code",
   "execution_count": null,
   "metadata": {
    "colab": {
     "base_uri": "https://localhost:8080/"
    },
    "colab_type": "code",
    "id": "Q71uMca3UfZi",
    "outputId": "2817ec08-3f6f-4903-dead-628c5c132ca3"
   },
   "outputs": [],
   "source": [
    "learner.fit(30, lr)\n",
    "save_gan_learner(learner, models_root + 'resGANStrictTr1d_30ep.pth')"
   ]
  },
  {
   "cell_type": "code",
   "execution_count": null,
   "metadata": {
    "colab": {},
    "colab_type": "code",
    "id": "NISjRrMnUfce"
   },
   "outputs": [],
   "source": [
    "learner.fit(30, lr)\n",
    "save_gan_learner(learner, models_root + 'resGANStrictTr1d_60ep.pth')"
   ]
  },
  {
   "cell_type": "markdown",
   "metadata": {
    "colab_type": "text",
    "id": "bAJMokB2vVao"
   },
   "source": [
    "### TR 1E (not downsample first): *Simple_res_critic, pseudo_res_generator*, Downsample_first=False, n_extra_layers=1, n_extra_convs_by_block=1, Adam(betas=(0,0.99)), wd=0, lr=2e-4"
   ]
  },
  {
   "cell_type": "code",
   "execution_count": null,
   "metadata": {
    "colab": {},
    "colab_type": "code",
    "id": "R0sOiREnvEXs"
   },
   "outputs": [],
   "source": [
    "data = get_data(realImagesPath, 128, img_size)\n",
    "generator = pseudo_res_generator(img_size, img_n_channels, n_extra_layers=1)\n",
    "critic = simple_res_critic(img_size, img_n_channels, n_extra_layers=1, n_extra_convs_by_block=1, downsample_first=False)\n",
    "learner = CustomGANLearner.wgan(data, generator, critic, switch_eval=False, \n",
    "                                opt_func = partial(optim.Adam, betas = (0.,0.99)), wd=0.)\n",
    "lr=2e-4"
   ]
  },
  {
   "cell_type": "code",
   "execution_count": null,
   "metadata": {
    "colab": {
     "base_uri": "https://localhost:8080/",
     "height": 1000
    },
    "colab_type": "code",
    "id": "6UeYwCJ1vEa6",
    "outputId": "1a557792-a46d-4c90-e151-f380e29b094d"
   },
   "outputs": [],
   "source": [
    "learner.fit(30, lr)\n",
    "save_gan_learner(learner, models_root + 'resGANStrictTr1e_30ep.pth')"
   ]
  },
  {
   "cell_type": "code",
   "execution_count": null,
   "metadata": {
    "colab": {},
    "colab_type": "code",
    "id": "teQN_XzavEfK"
   },
   "outputs": [],
   "source": [
    "learner.fit(30, lr)\n",
    "save_gan_learner(learner, models_root + 'resGANStrictTr1e_60ep.pth')"
   ]
  },
  {
   "cell_type": "markdown",
   "metadata": {
    "colab_type": "text",
    "id": "j6qZwZJ1zYYW"
   },
   "source": [
    "### TR 1F (lr=5e-4): *Simple_res_critic, pseudo_res_generator*, Downsample_first=False, n_extra_layers=1, n_extra_convs_by_block=1, Adam(betas=(0,0.99)), wd=0, lr=5e-4"
   ]
  },
  {
   "cell_type": "code",
   "execution_count": null,
   "metadata": {
    "colab": {},
    "colab_type": "code",
    "id": "HVCgmPzrzXAZ"
   },
   "outputs": [],
   "source": [
    "data = get_data(realImagesPath, 128, img_size)\n",
    "generator = pseudo_res_generator(img_size, img_n_channels, n_extra_layers=1)\n",
    "critic = simple_res_critic(img_size, img_n_channels, n_extra_layers=1, n_extra_convs_by_block=1, downsample_first=False)\n",
    "learner = CustomGANLearner.wgan(data, generator, critic, switch_eval=False, \n",
    "                                opt_func = partial(optim.Adam, betas = (0.,0.99)), wd=0.)\n",
    "lr=5e-4"
   ]
  },
  {
   "cell_type": "code",
   "execution_count": null,
   "metadata": {
    "colab": {
     "base_uri": "https://localhost:8080/",
     "height": 1000
    },
    "colab_type": "code",
    "id": "IgR9fIMVzjbw",
    "outputId": "308a3770-f1d5-4e2e-83c9-86f0b97b950e"
   },
   "outputs": [],
   "source": [
    "learner.fit(30, lr)\n",
    "save_gan_learner(learner, models_root + 'resGANStrictTr1f_30ep.pth')"
   ]
  },
  {
   "cell_type": "code",
   "execution_count": null,
   "metadata": {
    "colab": {},
    "colab_type": "code",
    "id": "LxaPEZiazlQX"
   },
   "outputs": [],
   "source": [
    "learner.fit(30, lr)\n",
    "save_gan_learner(learner, models_root + 'resGANStrictTr1f_60ep.pth')"
   ]
  },
  {
   "cell_type": "markdown",
   "metadata": {
    "colab_type": "text",
    "id": "-wMLJx5py9nP"
   },
   "source": [
    "### TR 1G (0 extra convs by block): *Simple_res_critic, pseudo_res_generator*, Downsample_first=doesn't mind, n_extra_layers=1, n_extra_convs_by_block=0, Adam(betas=(0,0.99)), wd=0, lr=5e-4"
   ]
  },
  {
   "cell_type": "code",
   "execution_count": null,
   "metadata": {
    "colab": {},
    "colab_type": "code",
    "id": "XXDlri34QkKO"
   },
   "outputs": [],
   "source": [
    "data = get_data(realImagesPath, 128, img_size)\n",
    "generator = pseudo_res_generator(img_size, img_n_channels, n_extra_layers=1)\n",
    "critic = simple_res_critic(img_size, img_n_channels, n_extra_layers=1, n_extra_convs_by_block=0)\n",
    "learner = CustomGANLearner.wgan(data, generator, critic, switch_eval=False, \n",
    "                                opt_func = partial(optim.Adam, betas = (0.,0.99)), wd=0.)\n",
    "lr=5e-4"
   ]
  },
  {
   "cell_type": "code",
   "execution_count": null,
   "metadata": {
    "colab": {
     "base_uri": "https://localhost:8080/",
     "height": 1000
    },
    "colab_type": "code",
    "id": "24evs9PJy69X",
    "outputId": "bb8dba0e-4de8-44e1-ebe3-58ebcf0941f8"
   },
   "outputs": [],
   "source": [
    "learner.fit(30, lr)\n",
    "save_gan_learner(learner, models_root + 'resGANStrictTr1g_30ep.pth')"
   ]
  },
  {
   "cell_type": "code",
   "execution_count": null,
   "metadata": {
    "colab": {},
    "colab_type": "code",
    "id": "iIvjPw7Py7Cf"
   },
   "outputs": [],
   "source": [
    "learner.fit(30, lr)\n",
    "save_gan_learner(learner, models_root + 'resGANStrictTr1g_60ep.pth')"
   ]
  },
  {
   "cell_type": "markdown",
   "metadata": {
    "colab_type": "text",
    "id": "AakoyO4MGADB"
   },
   "source": [
    "It should converge faster with less layers, but it doesn't mean the final image quality will be better. We could guess the best possible results have to be poorer than the ones of other models."
   ]
  },
  {
   "cell_type": "markdown",
   "metadata": {
    "colab_type": "text",
    "id": "fqUTNEhwLHyS"
   },
   "source": [
    "### TR 1H (2 extra convs by block): *Simple_res_critic, pseudo_res_generator*, Downsample_first=True, n_extra_layers=1, n_extra_convs_by_block=2, Adam(betas=(0,0.99)), wd=0, lr=5e-4"
   ]
  },
  {
   "cell_type": "code",
   "execution_count": null,
   "metadata": {
    "colab": {},
    "colab_type": "code",
    "id": "3HFMtUzyLIsu"
   },
   "outputs": [],
   "source": [
    "data = get_data(realImagesPath, 128, img_size)\n",
    "generator = pseudo_res_generator(img_size, img_n_channels, n_extra_layers=1)\n",
    "critic = simple_res_critic(img_size, img_n_channels, n_extra_layers=1, n_extra_convs_by_block=2)\n",
    "learner = CustomGANLearner.wgan(data, generator, critic, switch_eval=False, \n",
    "                                opt_func = partial(optim.Adam, betas = (0.,0.99)), wd=0.)\n",
    "lr=5e-4"
   ]
  },
  {
   "cell_type": "code",
   "execution_count": null,
   "metadata": {
    "colab": {
     "base_uri": "https://localhost:8080/",
     "height": 1000
    },
    "colab_type": "code",
    "id": "bgFrOJbkLIvv",
    "outputId": "436295db-e655-43b6-bd12-09166a2f271a"
   },
   "outputs": [],
   "source": [
    "learner.fit(30, lr)\n",
    "save_gan_learner(learner, models_root + 'resGANStrictTr1h_30ep.pth')"
   ]
  },
  {
   "cell_type": "code",
   "execution_count": null,
   "metadata": {
    "colab": {},
    "colab_type": "code",
    "id": "vxa4BlRiLIyh"
   },
   "outputs": [],
   "source": [
    "learner.fit(30, lr)\n",
    "save_gan_learner(learner, models_root + 'resGANStrictTr1h_60ep.pth')"
   ]
  },
  {
   "cell_type": "markdown",
   "metadata": {
    "colab_type": "text",
    "id": "Houv-ATrLOWt"
   },
   "source": [
    "### TR 1I (2 extra convs by block, not downsample first): *Simple_res_critic, pseudo_res_generator*, Downsample_first=False, n_extra_layers=1, n_extra_convs_by_block=2, Adam(betas=(0,0.99)), wd=0, lr=5e-4"
   ]
  },
  {
   "cell_type": "code",
   "execution_count": null,
   "metadata": {
    "colab": {},
    "colab_type": "code",
    "id": "ZNvVDV7OLI9D"
   },
   "outputs": [],
   "source": [
    "data = get_data(realImagesPath, 128, img_size)\n",
    "generator = pseudo_res_generator(img_size, img_n_channels, n_extra_layers=1)\n",
    "critic = simple_res_critic(img_size, img_n_channels, n_extra_layers=1, n_extra_convs_by_block=2, downsample_first=False)\n",
    "learner = CustomGANLearner.wgan(data, generator, critic, switch_eval=False, \n",
    "                                opt_func = partial(optim.Adam, betas = (0.,0.99)), wd=0.)\n",
    "lr=5e-4"
   ]
  },
  {
   "cell_type": "code",
   "execution_count": null,
   "metadata": {
    "colab": {
     "base_uri": "https://localhost:8080/",
     "height": 1000
    },
    "colab_type": "code",
    "id": "UQFVJE5uMF23",
    "outputId": "fc2e16b2-72b9-4ab1-d265-ee486ab57d60"
   },
   "outputs": [],
   "source": [
    "learner.fit(30, lr)\n",
    "save_gan_learner(learner, models_root + 'resGANStrictTr1i_30ep.pth')"
   ]
  },
  {
   "cell_type": "code",
   "execution_count": null,
   "metadata": {
    "colab": {},
    "colab_type": "code",
    "id": "MiU4ENnvMF8r"
   },
   "outputs": [],
   "source": [
    "learner.fit(30, lr)\n",
    "save_gan_learner(learner, models_root + 'resGANStrictTr1i_60ep.pth')"
   ]
  },
  {
   "cell_type": "markdown",
   "metadata": {
    "colab_type": "text",
    "id": "iLj-f8qXNWvX"
   },
   "source": [
    "## TR 2: Simple_res_critic, simple_res_generator"
   ]
  },
  {
   "cell_type": "markdown",
   "metadata": {
    "colab_type": "text",
    "id": "kuFnfutnNhtQ"
   },
   "source": [
    "### TR 2A: *Simple_res_critic, simple_res_generator,* downsample_first=True, upsample_first=True, n_extra_layers=1, n_extra_convs_by_block=1, Adam(betas=(0,0.99)), wd=0, lr=2e-4"
   ]
  },
  {
   "cell_type": "code",
   "execution_count": null,
   "metadata": {
    "colab": {},
    "colab_type": "code",
    "id": "jnBfpTPpMKJ0"
   },
   "outputs": [],
   "source": [
    "data = get_data(realImagesPath, 128, img_size)\n",
    "generator = simple_res_generator(img_size, img_n_channels, n_extra_layers=1, n_extra_convs_by_block=1)\n",
    "critic = simple_res_critic(img_size, img_n_channels, n_extra_layers=1, n_extra_convs_by_block=1)\n",
    "learner = CustomGANLearner.wgan(data, generator, critic, switch_eval=False, \n",
    "                          opt_func = partial(optim.Adam, betas = (0.,0.99)), wd=0.)\n",
    "lr = 2e-4"
   ]
  },
  {
   "cell_type": "code",
   "execution_count": null,
   "metadata": {
    "colab": {
     "base_uri": "https://localhost:8080/",
     "height": 1000
    },
    "colab_type": "code",
    "id": "OfXMnpzLNeQr",
    "outputId": "79569278-99dd-4d33-cbde-fb588a23f93e"
   },
   "outputs": [],
   "source": [
    "learner.fit(30, lr)\n",
    "save_gan_learner(learner, models_root + 'resGANStrictTr2a_30ep.pth')"
   ]
  },
  {
   "cell_type": "code",
   "execution_count": null,
   "metadata": {
    "colab": {},
    "colab_type": "code",
    "id": "vs34LmiNMF28"
   },
   "outputs": [],
   "source": [
    "learner.fit(30, lr)\n",
    "save_gan_learner(learner, models_root + 'resGANStrictTr2a_60ep.pth')"
   ]
  },
  {
   "cell_type": "markdown",
   "metadata": {
    "colab_type": "text",
    "id": "3-wXIL36CoL2"
   },
   "source": [
    "### TR 2B (bigger lr): *Simple_res_critic, simple_res_generator,* downsample_first=True, upsample_first=True, n_extra_layers=1, n_extra_convs_by_block=1, Adam(betas=(0,0.99)), wd=0, lr=5e-4"
   ]
  },
  {
   "cell_type": "code",
   "execution_count": null,
   "metadata": {
    "colab": {},
    "colab_type": "code",
    "id": "FDEfgOOcCoS7"
   },
   "outputs": [],
   "source": [
    "data = get_data(realImagesPath, 128, img_size)\n",
    "generator = simple_res_generator(img_size, img_n_channels, n_extra_layers=1, n_extra_convs_by_block=1)\n",
    "critic = simple_res_critic(img_size, img_n_channels, n_extra_layers=1, n_extra_convs_by_block=1)\n",
    "learner = CustomGANLearner.wgan(data, generator, critic, switch_eval=False, \n",
    "                          opt_func = partial(optim.Adam, betas = (0.,0.99)), wd=0.)\n",
    "lr = 5e-4"
   ]
  },
  {
   "cell_type": "code",
   "execution_count": null,
   "metadata": {
    "colab": {
     "base_uri": "https://localhost:8080/",
     "height": 1000
    },
    "colab_type": "code",
    "id": "pWe5fHU9CoVi",
    "outputId": "2da94336-2414-412d-af56-cbfdcad3adca"
   },
   "outputs": [],
   "source": [
    "learner.fit(30, lr)\n",
    "save_gan_learner(learner, models_root + 'resGANStrictTr2b_30ep.pth')"
   ]
  },
  {
   "cell_type": "code",
   "execution_count": null,
   "metadata": {
    "colab": {},
    "colab_type": "code",
    "id": "HhFeB9kDCoYE"
   },
   "outputs": [],
   "source": [
    "learner.fit(30, lr)\n",
    "save_gan_learner(learner, models_root + 'resGANStrictTr2b_60ep.pth')"
   ]
  },
  {
   "cell_type": "markdown",
   "metadata": {
    "colab_type": "text",
    "id": "Gci_gUu4DQ6r"
   },
   "source": [
    "### TR 2C (not upsample first): *Simple_res_critic, simple_res_generator*, downsample_first=True, upsample_first=False, n_extra_layers=1, n_extra_convs_by_block=1, Adam(betas=(0,0.99)), wd=0, lr=2e-4"
   ]
  },
  {
   "cell_type": "code",
   "execution_count": null,
   "metadata": {
    "colab": {},
    "colab_type": "code",
    "id": "zFDdsAQjEQ7_"
   },
   "outputs": [],
   "source": [
    "data = get_data(realImagesPath, 128, img_size)\n",
    "generator = simple_res_generator(img_size, img_n_channels, n_extra_layers=1, n_extra_convs_by_block=1, upsample_first=False)\n",
    "critic = simple_res_critic(img_size, img_n_channels, n_extra_layers=1, n_extra_convs_by_block=1)\n",
    "learner = CustomGANLearner.wgan(data, generator, critic, switch_eval=False, \n",
    "                                opt_func = partial(optim.Adam, betas = (0.,0.99)), wd=0.)\n",
    "lr = 2e-4"
   ]
  },
  {
   "cell_type": "code",
   "execution_count": null,
   "metadata": {
    "colab": {
     "base_uri": "https://localhost:8080/",
     "height": 1000
    },
    "colab_type": "code",
    "id": "ZmBEkjttDRQv",
    "outputId": "6c7e9d8e-9e8b-445e-bd54-0ba9fd379047"
   },
   "outputs": [],
   "source": [
    "learner.fit(30, lr)\n",
    "save_gan_learner(learner, models_root + 'resGANStrictTr2c_30ep.pth')"
   ]
  },
  {
   "cell_type": "code",
   "execution_count": null,
   "metadata": {
    "colab": {},
    "colab_type": "code",
    "id": "44o_XIGnEl_i"
   },
   "outputs": [],
   "source": [
    "learner.fit(30, lr)\n",
    "save_gan_learner(learner, models_root + 'resGANStrictTr2c_60ep.pth')"
   ]
  },
  {
   "cell_type": "markdown",
   "metadata": {
    "colab_type": "text",
    "id": "aeYbRupBEYwo"
   },
   "source": [
    "### TR 2D (not upsample first, bigger lr): *Simple_res_critic, simple_res_generator*, upsample_first=False, n_extra_layers=1, n_extra_convs_by_block=1, Adam(betas=(0,0.99)), wd=0, lr=5e-4"
   ]
  },
  {
   "cell_type": "code",
   "execution_count": null,
   "metadata": {
    "colab": {},
    "colab_type": "code",
    "id": "R3nzeqsTDRZR"
   },
   "outputs": [],
   "source": [
    "data = get_data(realImagesPath, 128, img_size)\n",
    "generator = simple_res_generator(img_size, img_n_channels, n_extra_layers=1, n_extra_convs_by_block=1, upsample_first=False)\n",
    "critic = simple_res_critic(img_size, img_n_channels, n_extra_layers=1, n_extra_convs_by_block=1)\n",
    "learner = CustomGANLearner.wgan(data, generator, critic, switch_eval=False, \n",
    "                                opt_func = partial(optim.Adam, betas = (0.,0.99)), wd=0.)\n",
    "lr = 5e-4"
   ]
  },
  {
   "cell_type": "code",
   "execution_count": null,
   "metadata": {
    "colab": {
     "base_uri": "https://localhost:8080/",
     "height": 1000
    },
    "colab_type": "code",
    "id": "oT0exy8kCofw",
    "outputId": "9a1b4ca2-6e36-49f6-cce0-641e8ad603ec"
   },
   "outputs": [],
   "source": [
    "learner.fit(30, lr)\n",
    "save_gan_learner(learner, models_root + 'resGANStrictTr2d_30ep.pth')"
   ]
  },
  {
   "cell_type": "code",
   "execution_count": null,
   "metadata": {
    "colab": {},
    "colab_type": "code",
    "id": "lAaSN5TrElP5"
   },
   "outputs": [],
   "source": [
    "learner.fit(30, lr)\n",
    "save_gan_learner(learner, models_root + 'resGANStrictTr2d_60ep.pth')"
   ]
  },
  {
   "cell_type": "markdown",
   "metadata": {
    "colab_type": "text",
    "id": "ZIuqenlzHOlQ"
   },
   "source": [
    "### TR 2E (not downsample first, not upsample first): *Simple_res_critic, simple_res_generator*, downsample_first=False, upsample_first=False, n_extra_layers=1, n_extra_convs_by_block=1, Adam(betas=(0,0.99)), wd=0, lr=5e-4"
   ]
  },
  {
   "cell_type": "code",
   "execution_count": null,
   "metadata": {
    "colab": {},
    "colab_type": "code",
    "id": "s8QSxXodHOtW"
   },
   "outputs": [],
   "source": [
    "data = get_data(realImagesPath, 128, img_size)\n",
    "generator = simple_res_generator(img_size, img_n_channels, n_extra_layers=1, \n",
    "                                 n_extra_convs_by_block=1, upsample_first=False)\n",
    "critic = simple_res_critic(img_size, img_n_channels, n_extra_layers=1, \n",
    "                           n_extra_convs_by_block=1, downsample_first=False)\n",
    "learner = CustomGANLearner.wgan(data, generator, critic, switch_eval=False, \n",
    "                                opt_func = partial(optim.Adam, betas = (0.,0.99)), wd=0.)\n",
    "lr = 5e-4"
   ]
  },
  {
   "cell_type": "code",
   "execution_count": null,
   "metadata": {
    "colab": {
     "base_uri": "https://localhost:8080/",
     "height": 1000
    },
    "colab_type": "code",
    "id": "xqnHffaPHOwO",
    "outputId": "1ba20835-18af-4a67-b456-c7975090e6e9"
   },
   "outputs": [],
   "source": [
    "learner.fit(30, lr)\n",
    "save_gan_learner(learner, models_root + 'resGANStrictTr2e_30ep.pth')"
   ]
  },
  {
   "cell_type": "code",
   "execution_count": null,
   "metadata": {
    "colab": {},
    "colab_type": "code",
    "id": "OMlGQxxJIhcb"
   },
   "outputs": [],
   "source": [
    "learner.fit(30, lr)\n",
    "save_gan_learner(learner, models_root + 'resGANStrictTr2e_60ep.pth')"
   ]
  },
  {
   "cell_type": "markdown",
   "metadata": {
    "colab_type": "text",
    "id": "1c_bj7RgH16N"
   },
   "source": [
    "### TR 2F (not downsample first): *Simple_res_critic, simple_res_generator*, downsample_first=False, upsample_first=True, n_extra_layers=1, n_extra_convs_by_block=1, Adam(betas=(0,0.99)), wd=0, lr=5e-4"
   ]
  },
  {
   "cell_type": "code",
   "execution_count": null,
   "metadata": {
    "colab": {},
    "colab_type": "code",
    "id": "kULZlS2nHO14"
   },
   "outputs": [],
   "source": [
    "data = get_data(realImagesPath, 128, img_size)\n",
    "generator = simple_res_generator(img_size, img_n_channels, n_extra_layers=1, n_extra_convs_by_block=1)\n",
    "critic = simple_res_critic(img_size, img_n_channels, n_extra_layers=1, n_extra_convs_by_block=1, downsample_first=False)\n",
    "learner = CustomGANLearner.wgan(data, generator, critic, switch_eval=False, \n",
    "                                opt_func = partial(optim.Adam, betas = (0.,0.99)), wd=0.)\n",
    "lr = 5e-4"
   ]
  },
  {
   "cell_type": "code",
   "execution_count": null,
   "metadata": {
    "colab": {},
    "colab_type": "code",
    "id": "xXXOa3laIZkv"
   },
   "outputs": [],
   "source": [
    "learner.fit(30, lr)\n",
    "save_gan_learner(learner, models_root + 'resGANStrictTr2f_30ep.pth')"
   ]
  },
  {
   "cell_type": "code",
   "execution_count": null,
   "metadata": {
    "colab": {},
    "colab_type": "code",
    "id": "7ZlpWX-RIZnk"
   },
   "outputs": [],
   "source": [
    "learner.fit(30, lr)\n",
    "save_gan_learner(learner, models_root + 'resGANStrictTr2f_60ep.pth')"
   ]
  },
  {
   "cell_type": "markdown",
   "metadata": {
    "colab_type": "text",
    "id": "MduEiNtKJ1l9"
   },
   "source": [
    "### TR 2G (0 extra convs by block): *Simple_res_critic, simple_res_generator*, downsample_first=True, upsample_first=True, n_extra_layers=1, n_extra_convs_by_block=0, Adam(betas=(0,0.99)), wd=0, lr=5e-4"
   ]
  },
  {
   "cell_type": "code",
   "execution_count": null,
   "metadata": {
    "colab": {},
    "colab_type": "code",
    "id": "3ZsTbHaiJ1yO"
   },
   "outputs": [],
   "source": [
    "data = get_data(realImagesPath, 128, img_size)\n",
    "generator = simple_res_generator(img_size, img_n_channels, n_extra_layers=1, n_extra_convs_by_block=0)\n",
    "critic = simple_res_critic(img_size, img_n_channels, n_extra_layers=1, n_extra_convs_by_block=0)\n",
    "learner = CustomGANLearner.wgan(data, generator, critic, switch_eval=False, \n",
    "                                opt_func = partial(optim.Adam, betas = (0.,0.99)), wd=0.)\n",
    "lr = 5e-4"
   ]
  },
  {
   "cell_type": "code",
   "execution_count": null,
   "metadata": {
    "colab": {
     "base_uri": "https://localhost:8080/"
    },
    "colab_type": "code",
    "id": "eu-YCULdJ16a",
    "outputId": "76e8500e-6385-493f-e493-41c2f63c12e2"
   },
   "outputs": [],
   "source": [
    "learner.fit(30, lr)\n",
    "save_gan_learner(learner, models_root + 'resGANStrictTr2g_30ep.pth')"
   ]
  },
  {
   "cell_type": "code",
   "execution_count": null,
   "metadata": {
    "colab": {},
    "colab_type": "code",
    "id": "NJ7ngclTJ2FE"
   },
   "outputs": [],
   "source": [
    "learner.fit(30, lr)\n",
    "save_gan_learner(learner, models_root + 'resGANStrictTr2g_60ep.pth')"
   ]
  },
  {
   "cell_type": "markdown",
   "metadata": {
    "colab_type": "text",
    "id": "lSZAi5iZKTRC"
   },
   "source": [
    "### TR 2H (0 extra convs by block in critic): *Simple_res_critic, simple_res_generator*, downsample_first=True, upsample_first=True, n_extra_layers=1, n_extra_convs_by_block=(critic 0, generator 1), Adam(betas=(0,0.99)), wd=0, lr=5e-4"
   ]
  },
  {
   "cell_type": "code",
   "execution_count": null,
   "metadata": {
    "colab": {},
    "colab_type": "code",
    "id": "n2bx2jlEKTeH"
   },
   "outputs": [],
   "source": [
    "data = get_data(realImagesPath, 128, img_size)\n",
    "generator = simple_res_generator(img_size, img_n_channels, n_extra_layers=1, n_extra_convs_by_block=1)\n",
    "critic = simple_res_critic(img_size, img_n_channels, n_extra_layers=1, n_extra_convs_by_block=0)\n",
    "learner = CustomGANLearner.wgan(data, generator, critic, switch_eval=False, \n",
    "                                opt_func = partial(optim.Adam, betas = (0.,0.99)), wd=0.)\n",
    "lr = 5e-4"
   ]
  },
  {
   "cell_type": "code",
   "execution_count": null,
   "metadata": {
    "colab": {
     "base_uri": "https://localhost:8080/"
    },
    "colab_type": "code",
    "id": "Z_M9ed2eKThL",
    "outputId": "33cab914-1c8d-410a-d704-4a3781314794"
   },
   "outputs": [],
   "source": [
    "learner.fit(30, lr)\n",
    "save_gan_learner(learner, models_root + 'resGANStrictTr2h_30ep.pth')"
   ]
  },
  {
   "cell_type": "code",
   "execution_count": null,
   "metadata": {
    "colab": {},
    "colab_type": "code",
    "id": "mPv0iwnlKTkx"
   },
   "outputs": [],
   "source": [
    "learner.fit(30, lr)\n",
    "save_gan_learner(learner, models_root + 'resGANStrictTr2h_60ep.pth')"
   ]
  },
  {
   "cell_type": "markdown",
   "metadata": {
    "colab_type": "text",
    "id": "n2N3n5thK4vB"
   },
   "source": [
    "### TR 2I (0 extra convs by block in generator): *Simple_res_critic, simple_res_generator*, downsample_first=True, upsample_first=True, n_extra_layers=1, n_extra_convs_by_block=(critic 1, generator 0), Adam(betas=(0,0.99)), wd=0, lr=5e-4"
   ]
  },
  {
   "cell_type": "code",
   "execution_count": null,
   "metadata": {
    "colab": {},
    "colab_type": "code",
    "id": "Fs-j_c0vK44I"
   },
   "outputs": [],
   "source": [
    "data = get_data(realImagesPath, 128, img_size)\n",
    "generator = simple_res_generator(img_size, img_n_channels, n_extra_layers=1, n_extra_convs_by_block=0)\n",
    "critic = simple_res_critic(img_size, img_n_channels, n_extra_layers=1, n_extra_convs_by_block=1)\n",
    "learner = CustomGANLearner.wgan(data, generator, critic, switch_eval=False, \n",
    "                                opt_func = partial(optim.Adam, betas = (0.,0.99)), wd=0.)\n",
    "lr = 5e-4"
   ]
  },
  {
   "cell_type": "code",
   "execution_count": null,
   "metadata": {
    "colab": {
     "base_uri": "https://localhost:8080/"
    },
    "colab_type": "code",
    "id": "K7m8VCe3K49c",
    "outputId": "579c8a68-8f86-4dc0-eefa-827e8ea67944"
   },
   "outputs": [],
   "source": [
    "learner.fit(30, lr)\n",
    "save_gan_learner(learner, models_root + 'resGANStrictTr2i_30ep.pth')"
   ]
  },
  {
   "cell_type": "code",
   "execution_count": null,
   "metadata": {
    "colab": {},
    "colab_type": "code",
    "id": "0TBSKhJ2K5IH"
   },
   "outputs": [],
   "source": [
    "learner.fit(30, lr)\n",
    "save_gan_learner(learner, models_root + 'resGANStrictTr2i_60ep.pth')"
   ]
  },
  {
   "cell_type": "markdown",
   "metadata": {
    "colab_type": "text",
    "id": "5iqkrsKB7sql"
   },
   "source": [
    "### TR 2J (repeat 2B after fixing absence of leakyReLU in residual blocks of critic): *Simple_res_critic, simple_res_generator,* downsample_first=True, upsample_first=True, n_extra_layers=1, n_extra_convs_by_block=1, Adam(betas=(0,0.99)), wd=0, lr=5e-4"
   ]
  },
  {
   "cell_type": "code",
   "execution_count": null,
   "metadata": {
    "colab": {},
    "colab_type": "code",
    "id": "vyNBtR_r7uSc"
   },
   "outputs": [],
   "source": [
    "data = get_data(realImagesPath, 128, img_size)\n",
    "generator = simple_res_generator(img_size, img_n_channels, n_extra_layers=1, n_extra_convs_by_block=1)\n",
    "critic = simple_res_critic(img_size, img_n_channels, n_extra_layers=1, n_extra_convs_by_block=1)\n",
    "learner = CustomGANLearner.wgan(data, generator, critic, switch_eval=False, \n",
    "                                opt_func = partial(optim.Adam, betas = (0.,0.99)), wd=0.)\n",
    "lr = 5e-4"
   ]
  },
  {
   "cell_type": "code",
   "execution_count": null,
   "metadata": {
    "colab": {
     "base_uri": "https://localhost:8080/"
    },
    "colab_type": "code",
    "id": "K5AEC1no7uVQ",
    "outputId": "49bd57ca-29a7-426b-f54d-e8d9e17877bc"
   },
   "outputs": [],
   "source": [
    "learner.fit(30, lr)\n",
    "save_gan_learner(learner, models_root + 'resGANStrictTr2j_30ep.pth')"
   ]
  },
  {
   "cell_type": "code",
   "execution_count": null,
   "metadata": {
    "colab": {},
    "colab_type": "code",
    "id": "nkf_bGqG7uX8"
   },
   "outputs": [],
   "source": [
    "learner.fit(30, lr)\n",
    "save_gan_learner(learner, models_root + 'resGANStrictTr2j_60ep.pth')"
   ]
  },
  {
   "cell_type": "markdown",
   "metadata": {
    "colab_type": "text",
    "id": "S7BZATfRbN0i"
   },
   "source": [
    "### TR 2K (repeat 2F after fixing absence of leakyReLU in residual blocks of critic): *Simple_res_critic, simple_res_generator*, downsample_first=False, upsample_first=True, n_extra_layers=1, n_extra_convs_by_block=1, Adam(betas=(0,0.99)), wd=0, lr=5e-4"
   ]
  },
  {
   "cell_type": "code",
   "execution_count": null,
   "metadata": {
    "colab": {},
    "colab_type": "code",
    "id": "-UpEjrcgtwtj"
   },
   "outputs": [],
   "source": [
    "data = get_data(realImagesPath, 128, img_size)\n",
    "generator = simple_res_generator(img_size, img_n_channels, n_extra_layers=1, n_extra_convs_by_block=1)\n",
    "critic = simple_res_critic(img_size, img_n_channels, n_extra_layers=1, n_extra_convs_by_block=1, downsample_first=False)\n",
    "learner = CustomGANLearner.wgan(data, generator, critic, switch_eval=False, \n",
    "                                opt_func = partial(optim.Adam, betas = (0.,0.99)), wd=0.)\n",
    "lr = 5e-4"
   ]
  },
  {
   "cell_type": "code",
   "execution_count": null,
   "metadata": {
    "colab": {
     "base_uri": "https://localhost:8080/"
    },
    "colab_type": "code",
    "id": "rKQ4AOy8bPBR",
    "outputId": "28afa225-7350-4884-ba7c-e7e13f53c7bf"
   },
   "outputs": [],
   "source": [
    "learner.fit(30, lr)\n",
    "save_gan_learner(learner, models_root + 'resGANStrictTr2k_30ep.pth')"
   ]
  },
  {
   "cell_type": "code",
   "execution_count": null,
   "metadata": {
    "colab": {},
    "colab_type": "code",
    "id": "LHFu3VWVbPEH"
   },
   "outputs": [],
   "source": [
    "learner.fit(30, lr)\n",
    "save_gan_learner(learner, models_root + 'resGANStrictTr2k_60ep.pth')"
   ]
  },
  {
   "cell_type": "markdown",
   "metadata": {
    "colab_type": "text",
    "id": "CsiWYIg0UTw4"
   },
   "source": [
    "### TR 2L (repeat 2B after removing ReLU after last conv inside residual block): *Simple_res_critic, simple_res_generator,* downsample_first=True, upsample_first=True, n_extra_layers=1, n_extra_convs_by_block=1, Adam(betas=(0,0.99)), wd=0, lr=5e-4"
   ]
  },
  {
   "cell_type": "code",
   "execution_count": null,
   "metadata": {
    "colab": {},
    "colab_type": "code",
    "id": "Zia63WwjUT7k"
   },
   "outputs": [],
   "source": [
    "data = get_data(realImagesPath, 128, img_size)\n",
    "generator = simple_res_generator(img_size, img_n_channels, n_extra_layers=1, n_extra_convs_by_block=1)\n",
    "critic = simple_res_critic(img_size, img_n_channels, n_extra_layers=1, n_extra_convs_by_block=1)\n",
    "learner = CustomGANLearner.wgan(data, generator, critic, switch_eval=False, \n",
    "                                opt_func = partial(optim.Adam, betas = (0.,0.99)), wd=0.)\n",
    "lr = 5e-4"
   ]
  },
  {
   "cell_type": "code",
   "execution_count": null,
   "metadata": {
    "colab": {
     "base_uri": "https://localhost:8080/",
     "height": 1000
    },
    "colab_type": "code",
    "id": "RjNtLZ_DUT-J",
    "outputId": "e0c25ac5-7d10-422f-e614-77cd2994c3e1"
   },
   "outputs": [],
   "source": [
    "learner.fit(30, lr)\n",
    "save_gan_learner(learner, models_root + 'resGANStrictTr2l_30ep.pth')"
   ]
  },
  {
   "cell_type": "code",
   "execution_count": null,
   "metadata": {
    "colab": {},
    "colab_type": "code",
    "id": "5zczTYeHUUAu"
   },
   "outputs": [],
   "source": [
    "learner.fit(30, lr)\n",
    "save_gan_learner(learner, models_root + 'resGANStrictTr2l_60ep.pth')"
   ]
  },
  {
   "cell_type": "markdown",
   "metadata": {
    "colab_type": "text",
    "id": "Ier1nRmpa3ED"
   },
   "source": [
    "### TR 2M (repeat 2F after removing ReLU after last conv inside residual block): *Simple_res_critic, simple_res_generator*, downsample_first=False, upsample_first=True, n_extra_layers=1, n_extra_convs_by_block=1, Adam(betas=(0,0.99)), wd=0, lr=5e-4"
   ]
  },
  {
   "cell_type": "code",
   "execution_count": null,
   "metadata": {
    "colab": {},
    "colab_type": "code",
    "id": "qdxDi49_bVqj"
   },
   "outputs": [],
   "source": [
    "data = get_data(realImagesPath, 128, img_size)\n",
    "generator = simple_res_generator(img_size, img_n_channels, n_extra_layers=1, n_extra_convs_by_block=1)\n",
    "critic = simple_res_critic(img_size, img_n_channels, n_extra_layers=1, n_extra_convs_by_block=1, downsample_first=False)\n",
    "learner = CustomGANLearner.wgan(data, generator, critic, switch_eval=False, \n",
    "                                opt_func = partial(optim.Adam, betas = (0.,0.99)), wd=0.)\n",
    "lr = 5e-4"
   ]
  },
  {
   "cell_type": "code",
   "execution_count": null,
   "metadata": {
    "colab": {
     "base_uri": "https://localhost:8080/",
     "height": 1000
    },
    "colab_type": "code",
    "id": "7QM_1jBKa3UE",
    "outputId": "ea430167-b016-4cf7-e73e-0a6ab9b5823e"
   },
   "outputs": [],
   "source": [
    "learner.fit(30, lr)\n",
    "save_gan_learner(learner, models_root + 'resGANStrictTr2m_30ep.pth')"
   ]
  },
  {
   "cell_type": "code",
   "execution_count": null,
   "metadata": {
    "colab": {},
    "colab_type": "code",
    "id": "f5PzCN4fbKPV"
   },
   "outputs": [],
   "source": [
    "learner.fit(30, lr)\n",
    "save_gan_learner(learner, models_root + 'resGANStrictTr2m_60ep.pth')"
   ]
  },
  {
   "cell_type": "markdown",
   "metadata": {
    "colab_type": "text",
    "id": "mqoP94WsVk_h"
   },
   "source": [
    "### TR 2N (repeat 2F after swapping ReLU for LeakyReLU as activation of downsampling residual block): *Simple_res_critic, simple_res_generator*, downsample_first=False, upsample_first=True, n_extra_layers=1, n_extra_convs_by_block=1, Adam(betas=(0,0.99)), wd=0, lr=5e-4"
   ]
  },
  {
   "cell_type": "code",
   "execution_count": null,
   "metadata": {
    "colab": {},
    "colab_type": "code",
    "id": "ut09bOh2VlMZ"
   },
   "outputs": [],
   "source": [
    "data = get_data(realImagesPath, 128, img_size)\n",
    "generator = simple_res_generator(img_size, img_n_channels, n_extra_layers=1, n_extra_convs_by_block=1)\n",
    "critic = simple_res_critic(img_size, img_n_channels, n_extra_layers=1, n_extra_convs_by_block=1, downsample_first=False)\n",
    "learner = CustomGANLearner.wgan(data, generator, critic, switch_eval=False, \n",
    "                                opt_func = partial(optim.Adam, betas = (0.,0.99)), wd=0.)\n",
    "lr = 5e-4"
   ]
  },
  {
   "cell_type": "code",
   "execution_count": null,
   "metadata": {
    "colab": {
     "base_uri": "https://localhost:8080/",
     "height": 1000
    },
    "colab_type": "code",
    "id": "PhxlysMyVlS6",
    "outputId": "9743b81f-058a-4dca-8909-67e42d648a29"
   },
   "outputs": [],
   "source": [
    "learner.fit(30, lr)\n",
    "save_gan_learner(learner, models_root + 'resGANStrictTr2n_30ep.pth')"
   ]
  },
  {
   "cell_type": "code",
   "execution_count": null,
   "metadata": {
    "colab": {},
    "colab_type": "code",
    "id": "299cBuqTVlWb"
   },
   "outputs": [],
   "source": [
    "learner.fit(30, lr)\n",
    "save_gan_learner(learner, models_root + 'resGANStrictTr2n_60ep.pth')"
   ]
  },
  {
   "cell_type": "markdown",
   "metadata": {
    "colab_type": "text",
    "id": "VE-R5PUp9FXX"
   },
   "source": [
    "### Preserve methods to be modified dirtily before next training runs. This can be avoided using the more flexible builders `deep_res_critic` and `deep_res_generator`"
   ]
  },
  {
   "cell_type": "code",
   "execution_count": null,
   "metadata": {
    "colab": {},
    "colab_type": "code",
    "id": "oZuBxmwa9V1h"
   },
   "outputs": [],
   "source": [
    "old_res_resample_block = res_resample_block\n",
    "old_res_downsample_block = res_downsample_block\n",
    "old_simple_res_critic = simple_res_critic\n",
    "OldMergeResampleLayer = MergeResampleLayer"
   ]
  },
  {
   "cell_type": "markdown",
   "metadata": {
    "colab_type": "text",
    "id": "Vg9LYkJPn4E6"
   },
   "source": [
    "### TR 2O (repeat 2F after removing activation from downsampling residual block): *Simple_res_critic, simple_res_generator*, downsample_first=False, upsample_first=True, n_extra_layers=1, n_extra_convs_by_block=1, Adam(betas=(0,0.99)), wd=0, lr=5e-4"
   ]
  },
  {
   "cell_type": "code",
   "execution_count": null,
   "metadata": {
    "colab": {},
    "colab_type": "code",
    "id": "N3m542i6oxOP"
   },
   "outputs": [],
   "source": [
    "def res_resample_block(in_ftrs, out_ftrs, n_extra_convs=1, resample_first:bool=True, \n",
    "                                upsample:bool=False, leaky:float=None, **conv_kwargs):\n",
    "    resample_conv = conv_layer(in_ftrs, out_ftrs, ks=4, stride=2, padding=1, leaky=leaky, \n",
    "                               use_activ=resample_first and n_extra_convs > 0, transpose=upsample, **conv_kwargs)\n",
    "    nf_extra_convs = out_ftrs if resample_first else in_ftrs\n",
    "    regular_convs = [conv_layer(nf_extra_convs, nf_extra_convs, leaky=leaky, \n",
    "                                use_activ=not resample_first or (i < n_extra_convs-1), **conv_kwargs) \n",
    "                     for i in range(n_extra_convs)]\n",
    "    convs = [resample_conv, *regular_convs] if resample_first else [*regular_convs, resample_conv]\n",
    "\n",
    "    return SequentialEx(*convs, MergeResampleLayer(in_ftrs, out_ftrs, 2, upsample=upsample))\n",
    "\n",
    "def res_downsample_block(in_ftrs, out_ftrs, n_extra_convs=1, downsample_first:bool=True, **conv_kwargs):\n",
    "    return res_resample_block(in_ftrs, out_ftrs, n_extra_convs, downsample_first, False, leaky=0.2, **conv_kwargs)\n",
    "\n",
    "def simple_res_critic(in_size:int, n_channels:int, n_features:int=64, n_extra_layers:int=0, \n",
    "                      n_extra_convs_by_block=1, downsample_first:bool=True, **conv_kwargs):\n",
    "    \"A resnet-ish critic for images `n_channels` x `in_size` x `in_size`.\"\n",
    "    layers = [conv_layer(n_channels, n_features, 4, 2, 1, leaky=0.2, norm_type=None, **conv_kwargs)]\n",
    "    cur_size, cur_ftrs = in_size//2, n_features\n",
    "    layers.append(nn.Sequential(*[conv_layer(cur_ftrs, cur_ftrs, 3, 1, leaky=0.2, **conv_kwargs) \n",
    "                                  for _ in range(n_extra_layers)]))\n",
    "    while cur_size > 4:\n",
    "        layers.append(res_downsample_block(cur_ftrs, cur_ftrs*2, n_extra_convs=n_extra_convs_by_block, \n",
    "                                           downsample_first=downsample_first, **conv_kwargs))\n",
    "        cur_ftrs *= 2; cur_size //= 2\n",
    "\n",
    "    layers += [conv2d(cur_ftrs, 1, 4, padding=0), AvgFlatten()]\n",
    "    return nn.Sequential(*layers)"
   ]
  },
  {
   "cell_type": "code",
   "execution_count": null,
   "metadata": {
    "colab": {},
    "colab_type": "code",
    "id": "3M1idBJHVlZU"
   },
   "outputs": [],
   "source": [
    "data = get_data(realImagesPath, 128, img_size)\n",
    "generator = simple_res_generator(img_size, img_n_channels, n_extra_layers=1, n_extra_convs_by_block=1)\n",
    "critic = simple_res_critic(img_size, img_n_channels, n_extra_layers=1, \n",
    "                                         n_extra_convs_by_block=1, downsample_first=False)\n",
    "learner = CustomGANLearner.wgan(data, generator, critic, switch_eval=False, \n",
    "                                opt_func = partial(optim.Adam, betas = (0.,0.99)), wd=0.)\n",
    "lr = 5e-4"
   ]
  },
  {
   "cell_type": "code",
   "execution_count": null,
   "metadata": {
    "colab": {
     "base_uri": "https://localhost:8080/",
     "height": 1000
    },
    "colab_type": "code",
    "id": "Oob0-IJOpckS",
    "outputId": "3fbbec8f-6011-4804-9941-98edee2fd45b"
   },
   "outputs": [],
   "source": [
    "learner.fit(30, lr)\n",
    "save_gan_learner(learner, models_root + 'resGANStrictTr2o_30ep.pth')"
   ]
  },
  {
   "cell_type": "code",
   "execution_count": null,
   "metadata": {
    "colab": {},
    "colab_type": "code",
    "id": "Td75bfbqsLZQ"
   },
   "outputs": [],
   "source": [
    "learner.fit(30, lr)\n",
    "save_gan_learner(learner, models_root + 'resGANStrictTr2o_60ep.pth')"
   ]
  },
  {
   "cell_type": "markdown",
   "metadata": {
    "colab_type": "text",
    "id": "7XQoIBardQwZ"
   },
   "source": [
    "### TR 2P (repeat 2F after removing activation from downsampling residual block but preserving RELU after last conv): *Simple_res_critic, simple_res_generator*, downsample_first=False, upsample_first=True, n_extra_layers=1, n_extra_convs_by_block=1, Adam(betas=(0,0.99)), wd=0, lr=5e-4"
   ]
  },
  {
   "cell_type": "code",
   "execution_count": null,
   "metadata": {
    "colab": {},
    "colab_type": "code",
    "id": "pd4EX9Uoebgf"
   },
   "outputs": [],
   "source": [
    "def res_resample_block(in_ftrs, out_ftrs, n_extra_convs=1, resample_first:bool=True, upsample:bool=False, leaky:float=None, **conv_kwargs):\n",
    "    resample_conv = conv_layer(in_ftrs, out_ftrs, ks=4, stride=2, padding=1, leaky=leaky, transpose=upsample, **conv_kwargs)\n",
    "    nf_extra_convs = out_ftrs if resample_first else in_ftrs\n",
    "    regular_convs = [conv_layer(nf_extra_convs, nf_extra_convs, leaky=leaky, **conv_kwargs) \n",
    "                     for i in range(n_extra_convs)]\n",
    "    convs = [resample_conv, *regular_convs] if resample_first else [*regular_convs, resample_conv]\n",
    "\n",
    "    return SequentialEx(*convs, MergeResampleLayer(in_ftrs, out_ftrs, 2, upsample=upsample))"
   ]
  },
  {
   "cell_type": "code",
   "execution_count": null,
   "metadata": {
    "colab": {},
    "colab_type": "code",
    "id": "G6pNI5WMdR7Y"
   },
   "outputs": [],
   "source": [
    "data = get_data(realImagesPath, 128, img_size)\n",
    "generator = simple_res_generator(img_size, img_n_channels, n_extra_layers=1, n_extra_convs_by_block=1)\n",
    "critic = simple_res_critic(img_size, img_n_channels, n_extra_layers=1, n_extra_convs_by_block=1, downsample_first=False)\n",
    "learner = CustomGANLearner.wgan(data, generator, critic, switch_eval=False, \n",
    "                                opt_func = partial(optim.Adam, betas = (0.,0.99)), wd=0.)\n",
    "lr = 5e-4"
   ]
  },
  {
   "cell_type": "code",
   "execution_count": null,
   "metadata": {
    "colab": {
     "base_uri": "https://localhost:8080/",
     "height": 1000
    },
    "colab_type": "code",
    "id": "7vrWL9exdR-P",
    "outputId": "a5408310-21d8-48a4-9679-3eb43bc9b40a"
   },
   "outputs": [],
   "source": [
    "learner.fit(30, lr)\n",
    "save_gan_learner(learner, models_root + 'resGANStrictTr2p_30ep.pth')"
   ]
  },
  {
   "cell_type": "code",
   "execution_count": null,
   "metadata": {
    "colab": {},
    "colab_type": "code",
    "id": "Rv2fTwlJhekM"
   },
   "outputs": [],
   "source": [
    "learner.fit(30, lr)\n",
    "save_gan_learner(learner, models_root + 'resGANStrictTr2p_60ep.pth')"
   ]
  },
  {
   "cell_type": "markdown",
   "metadata": {
    "colab_type": "text",
    "id": "KaKqwjylf9Gl"
   },
   "source": [
    "### TR 2Q (repeat 2F after adding ReLU to shortcut path of residual block): *Simple_res_critic, simple_res_generator*, downsample_first=False, upsample_first=True, n_extra_layers=1, n_extra_convs_by_block=1, Adam(betas=(0,0.99)), wd=0, lr=5e-4"
   ]
  },
  {
   "cell_type": "code",
   "execution_count": null,
   "metadata": {
    "colab": {},
    "colab_type": "code",
    "id": "g2BkA52yf9Rb"
   },
   "outputs": [],
   "source": [
    "class MergeResampleLayer(Module):\n",
    "    \"\"\"Merge a shortcut with the result of the module, which is assumed to be resampled with the same stride. \n",
    "    \n",
    "    Uses a 1x1 conv + BatchNorm to perform a simple up/downsample of the input before the addition.\n",
    "    upsample = True => performs upsample; upsample = False => performs downsample.\"\"\"\n",
    "    def __init__(self, in_ftrs, out_ftrs, stride=2, upsample:bool=False):\n",
    "        # We can't use fastai's conv_layer() here because we need to pass output_padding to ConvTranspose2d\n",
    "        conv_func = nn.ConvTranspose2d if upsample else nn.Conv2d\n",
    "        conv_kwargs = {\"output_padding\": 1} if upsample else {}\n",
    "        init = nn.init.kaiming_normal_\n",
    "        conv = init_default(conv_func(in_ftrs, out_ftrs, kernel_size=1, stride=stride, bias=False, padding=0, **conv_kwargs), init)\n",
    "        self.conv1 = nn.Sequential(conv, nn.ReLU(), nn.BatchNorm2d(out_ftrs))\n",
    "\n",
    "    def forward(self, x):\n",
    "        identity = self.conv1(x.orig)\n",
    "        return x + identity\n",
    "\n",
    "def res_resample_block(in_ftrs, out_ftrs, n_extra_convs=1, resample_first:bool=True, upsample:bool=False, \n",
    "                       leaky:float=None, **conv_kwargs):\n",
    "    resample_conv = conv_layer(in_ftrs, out_ftrs, ks=4, stride=2, padding=1, leaky=leaky, transpose=upsample, **conv_kwargs)\n",
    "    nf_extra_convs = out_ftrs if resample_first else in_ftrs\n",
    "    regular_convs = [conv_layer(nf_extra_convs, nf_extra_convs, leaky=leaky, **conv_kwargs) \n",
    "                     for i in range(n_extra_convs)]\n",
    "    convs = [resample_conv, *regular_convs] if resample_first else [*regular_convs, resample_conv]\n",
    "\n",
    "    return nn.Sequential(SequentialEx(*convs, MergeResampleLayer(in_ftrs, out_ftrs, 2, upsample=upsample)), nn.ReLU())"
   ]
  },
  {
   "cell_type": "code",
   "execution_count": null,
   "metadata": {
    "colab": {},
    "colab_type": "code",
    "id": "tbasO91Mf9UJ"
   },
   "outputs": [],
   "source": [
    "data = get_data(realImagesPath, 128, img_size)\n",
    "generator = simple_res_generator(img_size, img_n_channels, n_extra_layers=1, n_extra_convs_by_block=1)\n",
    "critic = simple_res_critic(img_size, img_n_channels, n_extra_layers=1, n_extra_convs_by_block=1, downsample_first=False)\n",
    "learner = CustomGANLearner.wgan(data, generator, critic, switch_eval=False, \n",
    "                                opt_func = partial(optim.Adam, betas = (0.,0.99)), wd=0.)\n",
    "lr = 5e-4"
   ]
  },
  {
   "cell_type": "code",
   "execution_count": null,
   "metadata": {
    "colab": {
     "base_uri": "https://localhost:8080/",
     "height": 1000
    },
    "colab_type": "code",
    "id": "lEkUiFjBf9XK",
    "outputId": "fff1f2e0-55fe-4b1c-91d9-713c5fd047bb"
   },
   "outputs": [],
   "source": [
    "learner.fit(30, lr)\n",
    "save_gan_learner(learner, models_root + 'resGANStrictTr2q_30ep.pth')"
   ]
  },
  {
   "cell_type": "code",
   "execution_count": null,
   "metadata": {
    "colab": {},
    "colab_type": "code",
    "id": "OqSv0iVghnlQ"
   },
   "outputs": [],
   "source": [
    "learner.fit(30, lr)\n",
    "save_gan_learner(learner, models_root + 'resGANStrictTr2q_60ep.pth')"
   ]
  },
  {
   "cell_type": "markdown",
   "metadata": {
    "colab_type": "text",
    "id": "QatxWlZbKon6"
   },
   "source": [
    "### TR 2R (repeat 2F after adding ReLU/LeakyReLU to shortcut path of residual block): *Simple_res_critic, simple_res_generator*, downsample_first=False, upsample_first=True, n_extra_layers=1, n_extra_convs_by_block=1, Adam(betas=(0,0.99)), wd=0, lr=5e-4"
   ]
  },
  {
   "cell_type": "code",
   "execution_count": null,
   "metadata": {
    "colab": {},
    "colab_type": "code",
    "id": "owaKAOfDhnq-"
   },
   "outputs": [],
   "source": [
    "class MergeResampleLayer(Module):\n",
    "    \"\"\"Merge a shortcut with the result of the module, which is assumed to be resampled with the same stride. \n",
    "    \n",
    "    Uses a 1x1 conv + BatchNorm to perform a simple up/downsample of the input before the addition.\n",
    "    upsample = True => performs upsample; upsample = False => performs downsample.\"\"\"\n",
    "    def __init__(self, in_ftrs, out_ftrs, stride=2, upsample:bool=False, leaky:float=None):\n",
    "        # We can't use fastai's conv_layer() here because we need to pass output_padding to ConvTranspose2d\n",
    "        conv_func = nn.ConvTranspose2d if upsample else nn.Conv2d\n",
    "        conv_kwargs = {\"output_padding\": 1} if upsample else {}\n",
    "        init = nn.init.kaiming_normal_\n",
    "        conv = init_default(conv_func(in_ftrs, out_ftrs, kernel_size=1, stride=stride, bias=False, padding=0, **conv_kwargs), init)\n",
    "        activ = nn.ReLU() if leaky is None else nn.LeakyReLU(leaky)\n",
    "        self.conv1 = nn.Sequential(conv, activ, nn.BatchNorm2d(out_ftrs))\n",
    "\n",
    "    def forward(self, x):\n",
    "        identity = self.conv1(x.orig)\n",
    "        return x + identity\n",
    "\n",
    "def res_resample_block(in_ftrs, out_ftrs, n_extra_convs=1, resample_first:bool=True, upsample:bool=False, leaky:float=None, **conv_kwargs):\n",
    "    resample_conv = conv_layer(in_ftrs, out_ftrs, ks=4, stride=2, padding=1, leaky=leaky, transpose=upsample, **conv_kwargs)\n",
    "    nf_extra_convs = out_ftrs if resample_first else in_ftrs\n",
    "    regular_convs = [conv_layer(nf_extra_convs, nf_extra_convs, leaky=leaky, **conv_kwargs) \n",
    "                     for i in range(n_extra_convs)]\n",
    "    convs = [resample_conv, *regular_convs] if resample_first else [*regular_convs, resample_conv]\n",
    "    activ = nn.ReLU() if leaky is None else nn.LeakyReLU(leaky)\n",
    "\n",
    "    return nn.Sequential(SequentialEx(*convs, \n",
    "                                      MergeResampleLayer(in_ftrs, out_ftrs, 2, upsample=upsample, leaky=leaky)), \n",
    "                         activ)"
   ]
  },
  {
   "cell_type": "code",
   "execution_count": null,
   "metadata": {
    "colab": {},
    "colab_type": "code",
    "id": "_FB-4WBwK05o"
   },
   "outputs": [],
   "source": [
    "data = get_data(realImagesPath, 128, img_size)\n",
    "generator = simple_res_generator(img_size, img_n_channels, n_extra_layers=1, n_extra_convs_by_block=1)\n",
    "critic = simple_res_critic(img_size, img_n_channels, n_extra_layers=1, n_extra_convs_by_block=1, downsample_first=False)\n",
    "learner = CustomGANLearner.wgan(data, generator, critic, switch_eval=False, \n",
    "                                opt_func = partial(optim.Adam, betas = (0.,0.99)), wd=0.)\n",
    "lr = 5e-4"
   ]
  },
  {
   "cell_type": "code",
   "execution_count": null,
   "metadata": {
    "colab": {
     "base_uri": "https://localhost:8080/",
     "height": 1000
    },
    "colab_type": "code",
    "id": "5WYm7lv8K05r",
    "outputId": "2d2adeb4-4158-46e9-aa27-487d492e53de"
   },
   "outputs": [],
   "source": [
    "learner.fit(30, lr)\n",
    "save_gan_learner(learner, models_root + 'resGANStrictTr2r_30ep.pth')"
   ]
  },
  {
   "cell_type": "code",
   "execution_count": null,
   "metadata": {
    "colab": {},
    "colab_type": "code",
    "id": "CdoCkMu8Mvpw"
   },
   "outputs": [],
   "source": [
    "learner.fit(30, lr)\n",
    "save_gan_learner(learner, models_root + 'resGANStrictTr2r_60ep.pth')"
   ]
  },
  {
   "cell_type": "markdown",
   "metadata": {
    "colab_type": "text",
    "id": "g6CV5_cRLRwM"
   },
   "source": [
    "### TR 2S (repeat 2F after adding ReLU/LeakyReLU to shortcut path of residual block and BN to output): *Simple_res_critic, simple_res_generator*, downsample_first=False, upsample_first=True, n_extra_layers=1, n_extra_convs_by_block=1, Adam(betas=(0,0.99)), wd=0, lr=5e-4"
   ]
  },
  {
   "cell_type": "code",
   "execution_count": null,
   "metadata": {
    "colab": {},
    "colab_type": "code",
    "id": "PbbUdGp9LSFj"
   },
   "outputs": [],
   "source": [
    "class MergeResampleLayer(Module):\n",
    "    \"\"\"Merge a shortcut with the result of the module, which is assumed to be resampled with the same stride. \n",
    "    \n",
    "    Uses a 1x1 conv + BatchNorm to perform a simple up/downsample of the input before the addition.\n",
    "    upsample = True => performs upsample; upsample = False => performs downsample.\"\"\"\n",
    "    def __init__(self, in_ftrs, out_ftrs, stride=2, upsample:bool=False, leaky:float=None):\n",
    "        # We can't use fastai's conv_layer() here because we need to pass output_padding to ConvTranspose2d\n",
    "        conv_func = nn.ConvTranspose2d if upsample else nn.Conv2d\n",
    "        conv_kwargs = {\"output_padding\": 1} if upsample else {}\n",
    "        init = nn.init.kaiming_normal_\n",
    "        conv = init_default(conv_func(in_ftrs, out_ftrs, kernel_size=1, stride=stride, bias=False, padding=0, **conv_kwargs), init)\n",
    "        activ = nn.ReLU() if leaky is None else nn.LeakyReLU(leaky)\n",
    "        self.conv1 = nn.Sequential(conv, activ, nn.BatchNorm2d(out_ftrs))\n",
    "\n",
    "    def forward(self, x):\n",
    "        identity = self.conv1(x.orig)\n",
    "        return x + identity\n",
    "\n",
    "def res_resample_block(in_ftrs, out_ftrs, n_extra_convs=1, resample_first:bool=True, upsample:bool=False, leaky:float=None, **conv_kwargs):\n",
    "    resample_conv = conv_layer(in_ftrs, out_ftrs, ks=4, stride=2, padding=1, leaky=leaky, transpose=upsample, **conv_kwargs)\n",
    "    nf_extra_convs = out_ftrs if resample_first else in_ftrs\n",
    "    regular_convs = [conv_layer(nf_extra_convs, nf_extra_convs, leaky=leaky, **conv_kwargs) \n",
    "                     for i in range(n_extra_convs)]\n",
    "    convs = [resample_conv, *regular_convs] if resample_first else [*regular_convs, resample_conv]\n",
    "    activ = nn.ReLU() if leaky is None else nn.LeakyReLU(leaky)\n",
    "\n",
    "    return nn.Sequential(SequentialEx(*convs, MergeResampleLayer(in_ftrs, out_ftrs, 2, upsample=upsample, leaky=leaky)), \n",
    "                         activ, nn.BatchNorm2d(out_ftrs))"
   ]
  },
  {
   "cell_type": "code",
   "execution_count": null,
   "metadata": {
    "colab": {},
    "colab_type": "code",
    "id": "yWZ4tB4SLuXw"
   },
   "outputs": [],
   "source": [
    "data = get_data(realImagesPath, 128, img_size)\n",
    "generator = simple_res_generator(img_size, img_n_channels, n_extra_layers=1, n_extra_convs_by_block=1)\n",
    "critic = simple_res_critic(img_size, img_n_channels, n_extra_layers=1, n_extra_convs_by_block=1, downsample_first=False)\n",
    "learner = CustomGANLearner.wgan(data, generator, critic, switch_eval=False, \n",
    "                                opt_func = partial(optim.Adam, betas = (0.,0.99)), wd=0.)\n",
    "lr = 5e-4"
   ]
  },
  {
   "cell_type": "code",
   "execution_count": null,
   "metadata": {
    "colab": {
     "base_uri": "https://localhost:8080/",
     "height": 1000
    },
    "colab_type": "code",
    "id": "EbsS-pGMLvjI",
    "outputId": "9a1c10df-84f3-4916-d360-79a218399860"
   },
   "outputs": [],
   "source": [
    "learner.fit(30, lr)\n",
    "save_gan_learner(learner, models_root + 'resGANStrictTr2s_30ep.pth')"
   ]
  },
  {
   "cell_type": "code",
   "execution_count": null,
   "metadata": {
    "colab": {},
    "colab_type": "code",
    "id": "_KJL-WzSLv2Z"
   },
   "outputs": [],
   "source": [
    "learner.fit(30, lr)\n",
    "save_gan_learner(learner, models_root + 'resGANStrictTr2s_60ep.pth')"
   ]
  },
  {
   "cell_type": "markdown",
   "metadata": {
    "colab_type": "text",
    "id": "9P1l1vg_BkRh"
   },
   "source": [
    "### TR 2T (repeat 2F after swapping the order of BN and ReLU): *Simple_res_critic, simple_res_generator*, downsample_first=False, upsample_first=True, n_extra_layers=1, n_extra_convs_by_block=1, Adam(betas=(0,0.99)), wd=0, lr=5e-4"
   ]
  },
  {
   "cell_type": "markdown",
   "metadata": {
    "colab_type": "text",
    "id": "bzKWREBtB-SE"
   },
   "source": [
    "Now it is: CONV + BN + RELU.<br>\n",
    "Inside residual blocks, the last conv before the addition omits ReLU. It comes after the addition."
   ]
  },
  {
   "cell_type": "code",
   "execution_count": null,
   "metadata": {
    "colab": {},
    "colab_type": "code",
    "id": "UlOoGR-6BkZw"
   },
   "outputs": [],
   "source": [
    "def res_resample_block(in_ftrs, out_ftrs, n_extra_convs=1, resample_first:bool=True, upsample:bool=False, leaky:float=None, **conv_kwargs):\n",
    "    resample_conv = [conv_layer(in_ftrs, out_ftrs, ks=4, stride=2, padding=1, leaky=leaky, \n",
    "                               transpose=upsample, use_activ=False, **conv_kwargs)]\n",
    "    if resample_first and n_extra_convs > 0:\n",
    "        resample_conv.append(nn.ReLU() if leaky is None else nn.LeakyReLU(leaky))\n",
    "    nf_extra_convs = out_ftrs if resample_first else in_ftrs\n",
    "    regular_convs = []\n",
    "    for i in range(n_extra_convs):\n",
    "        regular_convs.append(conv_layer(nf_extra_convs, nf_extra_convs, leaky=leaky, use_activ=False, **conv_kwargs))\n",
    "        if not resample_first or (i < n_extra_convs - 1):\n",
    "            regular_convs.append(nn.ReLU() if leaky is None else nn.LeakyReLU(leaky))\n",
    "    convs = [*resample_conv, *regular_convs] if resample_first else [*regular_convs, *resample_conv]\n",
    "\n",
    "    return nn.Sequential(SequentialEx(*convs, \n",
    "                                      MergeResampleLayer(in_ftrs, out_ftrs, 2, upsample=upsample)), \n",
    "                         nn.ReLU() if leaky is None else nn.LeakyReLU(leaky))\n",
    "\n",
    "class MergeResampleLayer(Module):\n",
    "    \"\"\"Merge a shortcut with the result of the module, which is assumed to be resampled with the same stride. \n",
    "    \n",
    "    Uses a 1x1 conv + BatchNorm to perform a simple up/downsample of the input before the addition.\n",
    "    upsample = True => performs upsample; upsample = False => performs downsample.\"\"\"\n",
    "    def __init__(self, in_ftrs, out_ftrs, stride=2, upsample:bool=False):\n",
    "        # We can't use fastai's conv_layer() here because we need to pass output_padding to ConvTranspose2d\n",
    "        conv_func = nn.ConvTranspose2d if upsample else nn.Conv2d\n",
    "        conv_kwargs = {\"output_padding\": 1} if upsample else {}\n",
    "        init = nn.init.kaiming_normal_\n",
    "        conv = init_default(conv_func(in_ftrs, out_ftrs, kernel_size=1, stride=stride, bias=False, padding=0, **conv_kwargs), init)\n",
    "        self.conv1 = nn.Sequential(conv, nn.BatchNorm2d(out_ftrs))\n",
    "\n",
    "    def forward(self, x):\n",
    "        identity = self.conv1(x.orig)\n",
    "        return x + identity"
   ]
  },
  {
   "cell_type": "code",
   "execution_count": null,
   "metadata": {
    "colab": {},
    "colab_type": "code",
    "id": "t6ZUIc5ZBkfA"
   },
   "outputs": [],
   "source": [
    "data = get_data(realImagesPath, 128, img_size)\n",
    "generator = simple_res_generator(img_size, img_n_channels, n_extra_layers=1, n_extra_convs_by_block=1)\n",
    "critic = simple_res_critic(img_size, img_n_channels, n_extra_layers=1, n_extra_convs_by_block=1, downsample_first=False)\n",
    "learner = CustomGANLearner.wgan(data, generator, critic, switch_eval=False, \n",
    "                                opt_func = partial(optim.Adam, betas = (0.,0.99)), wd=0.)\n",
    "lr = 5e-4"
   ]
  },
  {
   "cell_type": "code",
   "execution_count": null,
   "metadata": {
    "colab": {
     "base_uri": "https://localhost:8080/",
     "height": 1000
    },
    "colab_type": "code",
    "id": "lAnAT7AwBkha",
    "outputId": "fb99b409-e89b-4cda-bd68-5e65e9760823"
   },
   "outputs": [],
   "source": [
    "learner.fit(30, lr)\n",
    "save_gan_learner(learner, models_root + 'resGANStrictTr2t_30ep.pth')"
   ]
  },
  {
   "cell_type": "code",
   "execution_count": null,
   "metadata": {
    "colab": {},
    "colab_type": "code",
    "id": "tdYO1ZH8Ksd4"
   },
   "outputs": [],
   "source": [
    "learner.fit(30, lr)\n",
    "save_gan_learner(learner, models_root + 'resGANStrictTr2t_60ep.pth')"
   ]
  },
  {
   "cell_type": "markdown",
   "metadata": {
    "colab_type": "text",
    "id": "1Kmg-Evy9jum"
   },
   "source": [
    "### TR 2U (repeat 2F after removing BN from shortcut): *Simple_res_critic, simple_res_generator*, downsample_first=False, upsample_first=True, n_extra_layers=1, n_extra_convs_by_block=1, Adam(betas=(0,0.99)), wd=0, lr=5e-4"
   ]
  },
  {
   "cell_type": "code",
   "execution_count": null,
   "metadata": {
    "colab": {},
    "colab_type": "code",
    "id": "oXz4shGR9j-a"
   },
   "outputs": [],
   "source": [
    "def res_resample_block(in_ftrs, out_ftrs, n_extra_convs=1, resample_first:bool=True, upsample:bool=False, leaky:float=None, **conv_kwargs):\n",
    "    resample_conv = conv_layer(in_ftrs, out_ftrs, ks=4, stride=2, padding=1, leaky=leaky, transpose=upsample, **conv_kwargs)\n",
    "    nf_extra_convs = out_ftrs if resample_first else in_ftrs\n",
    "    regular_convs = [conv_layer(nf_extra_convs, nf_extra_convs, leaky=leaky, **conv_kwargs) \n",
    "                     for i in range(n_extra_convs)]\n",
    "    convs = [resample_conv, *regular_convs] if resample_first else [*regular_convs, resample_conv]\n",
    "\n",
    "    return nn.Sequential(SequentialEx(*convs, \n",
    "                                      MergeResampleLayer(in_ftrs, out_ftrs, 2, upsample=upsample)), \n",
    "                         nn.ReLU() if leaky is None else nn.LeakyReLU(leaky))\n",
    "\n",
    "class MergeResampleLayer(Module):\n",
    "    \"\"\"Merge a shortcut with the result of the module, which is assumed to be resampled with the same stride. \n",
    "    \n",
    "    Uses a 1x1 conv + BatchNorm to perform a simple up/downsample of the input before the addition.\n",
    "    upsample = True => performs upsample; upsample = False => performs downsample.\"\"\"\n",
    "    def __init__(self, in_ftrs, out_ftrs, stride=2, upsample:bool=False):\n",
    "        # We can't use fastai's conv_layer() here because we need to pass output_padding to ConvTranspose2d\n",
    "        conv_func = nn.ConvTranspose2d if upsample else nn.Conv2d\n",
    "        conv_kwargs = {\"output_padding\": 1} if upsample else {}\n",
    "        init = nn.init.kaiming_normal_\n",
    "        conv = init_default(conv_func(in_ftrs, out_ftrs, kernel_size=1, stride=stride, bias=False, padding=0, **conv_kwargs), init)\n",
    "        self.conv1 = conv\n",
    "\n",
    "    def forward(self, x):\n",
    "        identity = self.conv1(x.orig)\n",
    "        return x + identity"
   ]
  },
  {
   "cell_type": "code",
   "execution_count": null,
   "metadata": {
    "colab": {},
    "colab_type": "code",
    "id": "nYCY3WZBBnAT"
   },
   "outputs": [],
   "source": [
    "data = get_data(realImagesPath, 128, img_size)\n",
    "generator = simple_res_generator(img_size, img_n_channels, n_extra_layers=1, n_extra_convs_by_block=1)\n",
    "critic = simple_res_critic(img_size, img_n_channels, n_extra_layers=1, n_extra_convs_by_block=1, downsample_first=False)\n",
    "learner = CustomGANLearner.wgan(data, generator, critic, switch_eval=False, \n",
    "                                opt_func = partial(optim.Adam, betas = (0.,0.99)), wd=0.)\n",
    "lr = 5e-4"
   ]
  },
  {
   "cell_type": "code",
   "execution_count": null,
   "metadata": {
    "colab": {
     "base_uri": "https://localhost:8080/",
     "height": 1000
    },
    "colab_type": "code",
    "id": "gwgOqCRcBnAZ",
    "outputId": "e11444f0-2a63-4a79-d0c6-afff2e5d5d3c"
   },
   "outputs": [],
   "source": [
    "learner.fit(30, lr)\n",
    "save_gan_learner(learner, models_root + 'resGANStrictTr2u_30ep.pth')"
   ]
  },
  {
   "cell_type": "code",
   "execution_count": null,
   "metadata": {
    "colab": {},
    "colab_type": "code",
    "id": "btGM4MsyBpP4"
   },
   "outputs": [],
   "source": [
    "learner.fit(30, lr)\n",
    "save_gan_learner(learner, models_root + 'resGANStrictTr2u_60ep.pth')"
   ]
  },
  {
   "cell_type": "markdown",
   "metadata": {
    "colab_type": "text",
    "id": "xLOvijOwA0Z9"
   },
   "source": [
    "### Restore methods modified between 2O-2U"
   ]
  },
  {
   "cell_type": "code",
   "execution_count": null,
   "metadata": {
    "colab": {},
    "colab_type": "code",
    "id": "tBa6usGVA0r2"
   },
   "outputs": [],
   "source": [
    "res_resample_block = old_res_resample_block\n",
    "res_downsample_block = old_res_downsample_block\n",
    "simple_res_critic = old_simple_res_critic\n",
    "MergeResampleLayer = OldMergeResampleLayer"
   ]
  },
  {
   "cell_type": "markdown",
   "metadata": {
    "colab_type": "text",
    "id": "EuXbrtNSszbD"
   },
   "source": [
    "## TR 3: Pseudo_res_critic, simple_res_generator"
   ]
  },
  {
   "cell_type": "markdown",
   "metadata": {
    "colab_type": "text",
    "id": "UmnHGU3RtH_S"
   },
   "source": [
    "### TR 3A: *Pseudo_res_critic, simple_res_generator,* upsample_first=True, n_extra_layers=1, n_extra_convs_by_block=1, Adam(betas=(0,0.99)), wd=0, lr=5e-4"
   ]
  },
  {
   "cell_type": "code",
   "execution_count": null,
   "metadata": {
    "colab": {},
    "colab_type": "code",
    "id": "BHvgHDc3tIDr"
   },
   "outputs": [],
   "source": [
    "data = get_data(realImagesPath, 128, img_size)\n",
    "generator = simple_res_generator(img_size, img_n_channels, n_extra_layers=1, n_extra_convs_by_block=1)\n",
    "critic = pseudo_res_critic(img_size, img_n_channels, n_extra_layers=1)\n",
    "learner = CustomGANLearner.wgan(data, generator, critic, switch_eval=False, \n",
    "                                opt_func = partial(optim.Adam, betas = (0.,0.99)), wd=0.)\n",
    "lr = 5e-4"
   ]
  },
  {
   "cell_type": "code",
   "execution_count": null,
   "metadata": {
    "colab": {
     "base_uri": "https://localhost:8080/",
     "height": 1000
    },
    "colab_type": "code",
    "id": "6wbczs1TtIDv",
    "outputId": "f3a96702-e1a5-4cab-87e7-3370d8c908c2"
   },
   "outputs": [],
   "source": [
    "learner.fit(30, lr)\n",
    "save_gan_learner(learner, models_root + 'resGANStrictTr3a_30ep.pth')"
   ]
  },
  {
   "cell_type": "code",
   "execution_count": null,
   "metadata": {
    "colab": {},
    "colab_type": "code",
    "id": "ycZq4Xj4tH_g"
   },
   "outputs": [],
   "source": [
    "learner.fit(30, lr)\n",
    "save_gan_learner(learner, models_root + 'resGANStrictTr3a_60ep.pth')"
   ]
  },
  {
   "cell_type": "markdown",
   "metadata": {
    "colab_type": "text",
    "id": "mUlv83xU0FqW"
   },
   "source": [
    "It'll surely be much worse, no need to go on with this combination of critic and generator."
   ]
  },
  {
   "cell_type": "markdown",
   "metadata": {
    "colab_type": "text",
    "id": "t5C02IQFKIFw"
   },
   "source": [
    "## TR 4: deep_res_critic, deep_res_generator"
   ]
  },
  {
   "cell_type": "markdown",
   "metadata": {
    "colab_type": "text",
    "id": "d17DPwGTKRTb"
   },
   "source": [
    "### TR 4A: n_extra_blocks = 1, n_blocks_between_up/downblocks = 1,  n_extra_convs_by_up/downblock=1, downsample_first=True, upsample_first=True, lr=5e-4"
   ]
  },
  {
   "cell_type": "code",
   "execution_count": null,
   "metadata": {
    "colab": {},
    "colab_type": "code",
    "id": "xJ0a-3EAKQE0"
   },
   "outputs": [],
   "source": [
    "data = get_data(realImagesPath, 128, img_size)\n",
    "generator = deep_res_generator(img_size, img_n_channels, n_extra_blocks_end=1, n_blocks_between_upblocks=1, \n",
    "                               n_extra_convs_by_upblock=1)\n",
    "critic = deep_res_critic(img_size, img_n_channels, n_extra_blocks_begin=1,  n_blocks_between_downblocks=1, \n",
    "                         n_extra_convs_by_downblock=1)\n",
    "learner = CustomGANLearner.wgan(data, generator, critic, switch_eval=False, \n",
    "                                opt_func = partial(optim.Adam, betas = (0.,0.99)), wd=0.)\n",
    "lr = 5e-4"
   ]
  },
  {
   "cell_type": "code",
   "execution_count": null,
   "metadata": {
    "colab": {
     "base_uri": "https://localhost:8080/",
     "height": 1000
    },
    "colab_type": "code",
    "id": "PK5mSD8mO_Jp",
    "outputId": "b7b9f686-fe22-4feb-d0e0-8bd5b91a04a4"
   },
   "outputs": [],
   "source": [
    "learner.fit(30, lr)\n",
    "save_gan_learner(learner, models_root + 'resGANStrictTr4a_30ep.pth')"
   ]
  },
  {
   "cell_type": "code",
   "execution_count": null,
   "metadata": {
    "colab": {},
    "colab_type": "code",
    "id": "v8JY0_QZO_Mw"
   },
   "outputs": [],
   "source": [
    "learner.fit(30, lr)\n",
    "save_gan_learner(learner, models_root + 'resGANStrictTr4a_60ep.pth')"
   ]
  },
  {
   "cell_type": "markdown",
   "metadata": {
    "colab_type": "text",
    "id": "UU7pZROuLrq8"
   },
   "source": [
    "### TR 4B (not downsample first): n_extra_blocks = 1, n_blocks_between_up/downblocks = 1,  n_extra_convs_by_up/downblock=1, downsample_first=False, upsample_first=True, lr=5e-4"
   ]
  },
  {
   "cell_type": "code",
   "execution_count": null,
   "metadata": {
    "colab": {},
    "colab_type": "code",
    "id": "UqfUc4FEOXlf"
   },
   "outputs": [],
   "source": [
    "data = get_data(realImagesPath, 128, img_size)\n",
    "generator = deep_res_generator(img_size, img_n_channels, n_extra_blocks_end=1, n_blocks_between_upblocks=1, \n",
    "                               n_extra_convs_by_upblock=1)\n",
    "critic = deep_res_critic(img_size, img_n_channels, n_extra_blocks_begin=1,  n_blocks_between_downblocks=1, \n",
    "                         n_extra_convs_by_downblock=1, downsample_first_in_block=False)\n",
    "learner = CustomGANLearner.wgan(data, generator, critic, switch_eval=False, \n",
    "                                opt_func = partial(optim.Adam, betas = (0.,0.99)), wd=0.)\n",
    "lr = 5e-4"
   ]
  },
  {
   "cell_type": "code",
   "execution_count": null,
   "metadata": {
    "colab": {
     "base_uri": "https://localhost:8080/",
     "height": 1000
    },
    "colab_type": "code",
    "id": "XkamTlvDPEYj",
    "outputId": "efe91bbd-4623-4095-ce4c-aea15021b61b"
   },
   "outputs": [],
   "source": [
    "learner.fit(30, lr)\n",
    "save_gan_learner(learner, models_root + 'resGANStrictTr4b_30ep.pth')"
   ]
  },
  {
   "cell_type": "code",
   "execution_count": null,
   "metadata": {
    "colab": {},
    "colab_type": "code",
    "id": "4Ku75OowPHA0"
   },
   "outputs": [],
   "source": [
    "learner.fit(30, lr)\n",
    "save_gan_learner(learner, models_root + 'resGANStrictTr4b_60ep.pth')"
   ]
  },
  {
   "cell_type": "markdown",
   "metadata": {
    "colab_type": "text",
    "id": "AB2XmCUoe01c"
   },
   "source": [
    "#### TR 4B2: without BN in resampling shortcut"
   ]
  },
  {
   "cell_type": "markdown",
   "metadata": {
    "colab_type": "text",
    "id": "z86DUJvtAntu"
   },
   "source": [
    "It should't make sense, as BN tends to help deep networks."
   ]
  },
  {
   "cell_type": "code",
   "execution_count": null,
   "metadata": {
    "colab": {},
    "colab_type": "code",
    "id": "CJgBJLSaErtx"
   },
   "outputs": [],
   "source": [
    "data = get_data(realImagesPath, 128, img_size)\n",
    "generator = deep_res_generator(img_size, img_n_channels, n_extra_blocks_end=1, n_blocks_between_upblocks=1, \n",
    "                               n_extra_convs_by_upblock=1, use_shortcut_bn=False)\n",
    "critic = deep_res_critic(img_size, img_n_channels, n_extra_blocks_begin=1,  n_blocks_between_downblocks=1, \n",
    "                         n_extra_convs_by_downblock=1, downsample_first_in_block=False, use_shortcut_bn=False)\n",
    "learner = CustomGANLearner.wgan(data, generator, critic, switch_eval=False, \n",
    "                                opt_func = partial(optim.Adam, betas = (0.,0.99)), wd=0.)\n",
    "lr = 5e-4"
   ]
  },
  {
   "cell_type": "code",
   "execution_count": null,
   "metadata": {
    "colab": {
     "base_uri": "https://localhost:8080/",
     "height": 1000
    },
    "colab_type": "code",
    "id": "X8JqGcPuF3iZ",
    "outputId": "607e0b64-c9cc-4ec5-8bd8-b8bfd7da3f32"
   },
   "outputs": [],
   "source": [
    "learner.fit(30, lr)\n",
    "save_gan_learner(learner, models_root + 'resGANStrictTr4b2_30ep.pth')"
   ]
  },
  {
   "cell_type": "code",
   "execution_count": null,
   "metadata": {
    "colab": {},
    "colab_type": "code",
    "id": "oJwHC7SBF3k2"
   },
   "outputs": [],
   "source": [
    "learner.fit(30, lr)\n",
    "save_gan_learner(learner, models_root + 'resGANStrictTr4b2_60ep.pth')"
   ]
  },
  {
   "cell_type": "markdown",
   "metadata": {
    "colab_type": "text",
    "id": "--dpAJl1fDRO"
   },
   "source": [
    "#### TR 4B3: Add BN after output of up/downsampling residual block"
   ]
  },
  {
   "cell_type": "markdown",
   "metadata": {
    "colab_type": "text",
    "id": "X2TOnNyELN1c"
   },
   "source": [
    "Try again with BN after output of resampling residual block. It could make sense, as BN tends to help deep networks."
   ]
  },
  {
   "cell_type": "code",
   "execution_count": null,
   "metadata": {
    "colab": {},
    "colab_type": "code",
    "id": "lNZ7JC2uLZBy"
   },
   "outputs": [],
   "source": [
    "def deep_res_critic_downblock_bn(in_size:int, n_channels:int, n_features:int=64, n_extra_blocks_begin:int=0, n_extra_blocks_end=0,\n",
    "                    n_blocks_between_downblocks:int=0, n_extra_convs_by_downblock:int=1, downsample_first_in_block:bool=True,\n",
    "                    dense:bool=False, use_final_activ_res_blocks:bool=False, use_shortcut_activ:bool=False, \n",
    "                    use_shortcut_bn:bool=True, **conv_kwargs):\n",
    "    \"A resnet-ish critic for images `n_channels` x `in_size` x `in_size`.\"\n",
    "    leaky = 0.2\n",
    "    layers = [conv_layer(n_channels, n_features, 4, 2, 1, leaky=leaky, norm_type=None, **conv_kwargs)]\n",
    "    cur_size, cur_ftrs = in_size//2, n_features\n",
    "    layers.append(nn.Sequential(*[res_block_std(cur_ftrs, dense=dense, leaky=leaky, use_final_activ=use_final_activ_res_blocks) \n",
    "                                  for _ in range(n_extra_blocks_begin)]))\n",
    "    \n",
    "    while cur_size > 4:\n",
    "        layers.append(res_downsample_block(cur_ftrs, cur_ftrs*2, n_extra_convs=n_extra_convs_by_downblock, \n",
    "                                           downsample_first=downsample_first_in_block, use_final_bn=True,\n",
    "                                           use_shortcut_activ=use_shortcut_activ, use_shortcut_bn=use_shortcut_bn,\n",
    "                                           **conv_kwargs))\n",
    "        cur_ftrs *= 2; cur_size //= 2\n",
    "        layers += [res_block_std(cur_ftrs, dense=dense, leaky=leaky, use_final_activ=use_final_activ_res_blocks) \n",
    "                   for _ in range(n_blocks_between_downblocks)]\n",
    "        if (dense): cur_ftrs *= 2\n",
    "        \n",
    "    layers += [res_block_std(cur_ftrs, dense=dense, leaky=leaky, use_final_activ=use_final_activ_res_blocks) \n",
    "               for _ in range(n_extra_blocks_end)]\n",
    "    layers += [conv2d(cur_ftrs, 1, 4, padding=0), AvgFlatten()]\n",
    "    return nn.Sequential(*layers)\n",
    "\n",
    "\n",
    "def deep_res_generator_upblock_bn(in_size:int, n_channels:int, noise_sz:int=100, n_features:int=64, n_extra_blocks_begin=0, \n",
    "                       n_extra_blocks_end=0, n_blocks_between_upblocks=0, n_extra_convs_by_upblock:int=1, \n",
    "                       upsample_first_in_block:bool=True, dense:bool=False, use_final_activ_res_blocks:bool=False,\n",
    "                       use_shortcut_activ:bool=False, use_shortcut_bn:bool=True, **conv_kwargs):\n",
    "    \"A resnetish generator from `noise_sz` to images `n_channels` x `in_size` x `in_size`.\"\n",
    "    cur_size, cur_ftrs = 4, n_features//2\n",
    "    while cur_size < in_size:  cur_size *= 2; cur_ftrs *= 2\n",
    "    layers = [conv_layer(noise_sz, cur_ftrs, 4, 1, transpose=True, **conv_kwargs)]\n",
    "    layers += [res_block_std(cur_ftrs, dense=dense, use_final_activ=use_final_activ_res_blocks) \n",
    "               for _ in range(n_extra_blocks_begin)]\n",
    "\n",
    "    cur_size = 4\n",
    "    while cur_size < in_size // 2:\n",
    "        layers.append(res_upsample_block(cur_ftrs, cur_ftrs//2, n_extra_convs=n_extra_convs_by_upblock, \n",
    "                                         upsample_first=upsample_first_in_block, use_final_bn=True,\n",
    "                                         use_shortcut_activ=use_shortcut_activ, use_shortcut_bn=use_shortcut_bn,\n",
    "                                         **conv_kwargs))\n",
    "        cur_ftrs //= 2; cur_size *= 2\n",
    "        layers += [res_block_std(cur_ftrs, dense=dense, use_final_activ=use_final_activ_res_blocks) \n",
    "                   for _ in range(n_blocks_between_upblocks)]\n",
    "        if (dense): cur_ftrs *= 2\n",
    "\n",
    "    layers += [res_block_std(cur_ftrs, dense=dense, use_final_activ=use_final_activ_res_blocks) \n",
    "               for _ in range(n_extra_blocks_end)]\n",
    "    layers += [conv2d_trans(cur_ftrs, n_channels, 4, 2, 1, bias=False), nn.Tanh()]\n",
    "    return nn.Sequential(*layers)\n"
   ]
  },
  {
   "cell_type": "code",
   "execution_count": null,
   "metadata": {
    "colab": {},
    "colab_type": "code",
    "id": "VrP2QHjygex-"
   },
   "outputs": [],
   "source": [
    "data = get_data(realImagesPath, 128, img_size)\n",
    "generator = deep_res_generator_upblock_bn(img_size, img_n_channels, n_extra_blocks_end=1, n_blocks_between_upblocks=1, \n",
    "                               n_extra_convs_by_upblock=1)\n",
    "critic = deep_res_critic_downblock_bn(img_size, img_n_channels, n_extra_blocks_begin=1,  n_blocks_between_downblocks=1, \n",
    "                         n_extra_convs_by_downblock=1, downsample_first_in_block=False)\n",
    "learner = CustomGANLearner.wgan(data, generator, critic, switch_eval=False, \n",
    "                                opt_func = partial(optim.Adam, betas = (0.,0.99)), wd=0.)\n",
    "lr = 5e-4"
   ]
  },
  {
   "cell_type": "code",
   "execution_count": null,
   "metadata": {
    "colab": {
     "base_uri": "https://localhost:8080/",
     "height": 1000
    },
    "colab_type": "code",
    "id": "xM9QoJL9LZL_",
    "outputId": "42c56e77-d48b-47f4-8d30-dfdeb65ee3bf"
   },
   "outputs": [],
   "source": [
    "learner.fit(30, lr)\n",
    "save_gan_learner(learner, models_root + 'resGANStrictTr4b3_30ep.pth')"
   ]
  },
  {
   "cell_type": "code",
   "execution_count": null,
   "metadata": {
    "colab": {},
    "colab_type": "code",
    "id": "szDBMDifLZRy"
   },
   "outputs": [],
   "source": [
    "learner.fit(30, lr)\n",
    "save_gan_learner(learner, models_root + 'resGANStrictTr4b3_60ep.pth')"
   ]
  },
  {
   "cell_type": "markdown",
   "metadata": {
    "colab_type": "text",
    "id": "vlKbcuTzkaOM"
   },
   "source": [
    "#### TR 4B4: Add RELU before BN in shortcut path of up/downsampling residual block"
   ]
  },
  {
   "cell_type": "code",
   "execution_count": null,
   "metadata": {
    "colab": {},
    "colab_type": "code",
    "id": "4X307iYvpGfW"
   },
   "outputs": [],
   "source": [
    "data = get_data(realImagesPath, 128, img_size)\n",
    "generator = deep_res_generator_upblock_bn(img_size, img_n_channels, n_extra_blocks_end=1, n_blocks_between_upblocks=1, \n",
    "                               n_extra_convs_by_upblock=1, use_shortcut_activ=True)\n",
    "critic = deep_res_critic_downblock_bn(img_size, img_n_channels, n_extra_blocks_begin=1,  n_blocks_between_downblocks=1, \n",
    "                         n_extra_convs_by_downblock=1, downsample_first_in_block=False, use_shortcut_activ=True)\n",
    "learner = CustomGANLearner.wgan(data, generator, critic, switch_eval=False, \n",
    "                                opt_func = partial(optim.Adam, betas = (0.,0.99)), wd=0.)\n",
    "lr = 5e-4"
   ]
  },
  {
   "cell_type": "code",
   "execution_count": null,
   "metadata": {
    "colab": {
     "base_uri": "https://localhost:8080/",
     "height": 1000
    },
    "colab_type": "code",
    "id": "aQgUTefDpGfc",
    "outputId": "5cc68d3c-6bec-4e24-f7a0-84264879f00c"
   },
   "outputs": [],
   "source": [
    "learner.fit(30, lr)\n",
    "save_gan_learner(learner, models_root + 'resGANStrictTr4b4_30ep.pth')"
   ]
  },
  {
   "cell_type": "code",
   "execution_count": null,
   "metadata": {
    "colab": {},
    "colab_type": "code",
    "id": "6yUZRTpRpfGh"
   },
   "outputs": [],
   "source": [
    "learner.fit(30, lr)\n",
    "save_gan_learner(learner, models_root + 'resGANStrictTr4b4_60ep.pth')"
   ]
  },
  {
   "cell_type": "markdown",
   "metadata": {
    "colab_type": "text",
    "id": "-XtDTDVHk11G"
   },
   "source": [
    "#### TR 4B5: Add RELU+BN after any residual block"
   ]
  },
  {
   "cell_type": "code",
   "execution_count": null,
   "metadata": {
    "colab": {},
    "colab_type": "code",
    "id": "fu6qngCdZW8N"
   },
   "outputs": [],
   "source": [
    "data = get_data(realImagesPath, 128, img_size)\n",
    "generator = deep_res_generator(img_size, img_n_channels, n_extra_blocks_end=1, n_blocks_between_upblocks=1, \n",
    "                               n_extra_convs_by_upblock=1, use_final_activ_res_blocks=True, \n",
    "                               use_final_bn=True)\n",
    "critic = deep_res_critic(img_size, img_n_channels, n_extra_blocks_begin=1,  n_blocks_between_downblocks=1, \n",
    "                         n_extra_convs_by_downblock=1, downsample_first_in_block=False, use_final_activ_res_blocks=True, \n",
    "                         use_final_bn=True)\n",
    "learner = CustomGANLearner.wgan(data, generator, critic, switch_eval=False, \n",
    "                                opt_func = partial(optim.Adam, betas = (0.,0.99)), wd=0.)\n",
    "lr = 5e-4"
   ]
  },
  {
   "cell_type": "code",
   "execution_count": null,
   "metadata": {
    "colab": {
     "base_uri": "https://localhost:8080/",
     "height": 1000
    },
    "colab_type": "code",
    "id": "g-sd3UJ3ZXo9",
    "outputId": "f1b3a841-52b1-4533-9969-5c7668a8795e"
   },
   "outputs": [],
   "source": [
    "learner.fit(30, lr)\n",
    "save_gan_learner(learner, models_root + 'resGANStrictTr4b5_30ep.pth')"
   ]
  },
  {
   "cell_type": "code",
   "execution_count": null,
   "metadata": {
    "colab": {},
    "colab_type": "code",
    "id": "gp-3rEvtZbQG"
   },
   "outputs": [],
   "source": [
    "learner.fit(30, lr)\n",
    "save_gan_learner(learner, models_root + 'resGANStrictTr4b5_60ep.pth')"
   ]
  },
  {
   "cell_type": "markdown",
   "metadata": {
    "colab_type": "text",
    "id": "0_m5fJZbr1XP"
   },
   "source": [
    "#### TR 4B6: Add ReLU+BN after any residual block, add ReLU before BN in up/downsampling shortcut, so as to have conv+ReLU+BN there too."
   ]
  },
  {
   "cell_type": "code",
   "execution_count": null,
   "metadata": {
    "colab": {},
    "colab_type": "code",
    "id": "afAPtYtm5JG5"
   },
   "outputs": [],
   "source": [
    "data = get_data(realImagesPath, 128, img_size)\n",
    "generator = deep_res_generator(img_size, img_n_channels, n_extra_blocks_end=1, n_blocks_between_upblocks=1, \n",
    "                               n_extra_convs_by_upblock=1, use_final_activ_res_blocks=True, \n",
    "                               use_final_bn=True, use_shortcut_activ=True)\n",
    "critic = deep_res_critic(img_size, img_n_channels, n_extra_blocks_begin=1,  n_blocks_between_downblocks=1, \n",
    "                         n_extra_convs_by_downblock=1, downsample_first_in_block=False, use_final_activ_res_blocks=True, \n",
    "                         use_final_bn=True, use_shortcut_activ=True)\n",
    "learner = CustomGANLearner.wgan(data, generator, critic, switch_eval=False, \n",
    "                                opt_func = partial(optim.Adam, betas = (0.,0.99)), wd=0.)\n",
    "lr = 5e-4"
   ]
  },
  {
   "cell_type": "code",
   "execution_count": null,
   "metadata": {
    "colab": {
     "base_uri": "https://localhost:8080/",
     "height": 1000
    },
    "colab_type": "code",
    "id": "8goOSDz3-HHZ",
    "outputId": "cae72697-de42-4d41-8fc0-efb1b3c612ce"
   },
   "outputs": [],
   "source": [
    "learner.fit(30, lr)\n",
    "save_gan_learner(learner, models_root + 'resGANStrictTr4b6_30ep.pth')"
   ]
  },
  {
   "cell_type": "code",
   "execution_count": null,
   "metadata": {
    "colab": {},
    "colab_type": "code",
    "id": "Nr_8osrx-H06"
   },
   "outputs": [],
   "source": [
    "learner.fit(30, lr)\n",
    "save_gan_learner(learner, models_root + 'resGANStrictTr4b6_60ep.pth')"
   ]
  },
  {
   "cell_type": "markdown",
   "metadata": {
    "colab_type": "text",
    "id": "fZkZt0wVqHyj"
   },
   "source": [
    "#### TR 4B7: Reduce the number of BN layers -> only BN after block output. Use ReLU in resampling shortcut."
   ]
  },
  {
   "cell_type": "markdown",
   "metadata": {
    "colab_type": "text",
    "id": "xGrBe-oJ3F-z"
   },
   "source": [
    "Only BN after block output. No BN inside residual blocks."
   ]
  },
  {
   "cell_type": "code",
   "execution_count": null,
   "metadata": {
    "colab": {},
    "colab_type": "code",
    "id": "v06-Rdvsptxx"
   },
   "outputs": [],
   "source": [
    "data = get_data(realImagesPath, 128, img_size)\n",
    "generator = deep_res_generator(img_size, img_n_channels, n_extra_blocks_end=1, n_blocks_between_upblocks=1, \n",
    "                               n_extra_convs_by_upblock=1, use_final_activ_res_blocks=True, \n",
    "                               use_final_bn=True, use_shortcut_activ=True, use_shortcut_bn=False, norm_type_inner=None)\n",
    "critic = deep_res_critic(img_size, img_n_channels, n_extra_blocks_begin=1,  n_blocks_between_downblocks=1, \n",
    "                         n_extra_convs_by_downblock=1, downsample_first_in_block=False, use_final_activ_res_blocks=True, \n",
    "                         use_final_bn=True, use_shortcut_activ=True, use_shortcut_bn=False, norm_type_inner=None)\n",
    "learner = CustomGANLearner.wgan(data, generator, critic, switch_eval=False, \n",
    "                                opt_func = partial(optim.Adam, betas = (0.,0.99)), wd=0.)\n",
    "lr = 5e-4"
   ]
  },
  {
   "cell_type": "code",
   "execution_count": null,
   "metadata": {
    "colab": {
     "base_uri": "https://localhost:8080/",
     "height": 1000
    },
    "colab_type": "code",
    "id": "2UvJcBu7HaD6",
    "outputId": "2b7cf1ac-683d-41fc-9eeb-4d5b3f3f848f"
   },
   "outputs": [],
   "source": [
    "learner.fit(30, lr)\n",
    "save_gan_learner(learner, models_root + 'resGANStrictTr4b7_30ep.pth')"
   ]
  },
  {
   "cell_type": "code",
   "execution_count": null,
   "metadata": {
    "colab": {},
    "colab_type": "code",
    "id": "GoVehkyOIYxM"
   },
   "outputs": [],
   "source": [
    "learner.fit(30, lr)\n",
    "save_gan_learner(learner, models_root + 'resGANStrictTr4b7_60ep.pth')"
   ]
  },
  {
   "cell_type": "markdown",
   "metadata": {
    "colab_type": "text",
    "id": "2N5EJ3CoHvfS"
   },
   "source": [
    "#### TR 4B8: Reduce the number of BN layers -> only BN after block output. No ReLU in resampling shortcut."
   ]
  },
  {
   "cell_type": "code",
   "execution_count": null,
   "metadata": {
    "colab": {},
    "colab_type": "code",
    "id": "rYuKFEAJHzLT"
   },
   "outputs": [],
   "source": [
    "data = get_data(realImagesPath, 128, img_size)\n",
    "generator = deep_res_generator(img_size, img_n_channels, n_extra_blocks_end=1, n_blocks_between_upblocks=1, \n",
    "                               n_extra_convs_by_upblock=1, use_final_activ_res_blocks=True, \n",
    "                               use_final_bn=True, use_shortcut_activ=False, use_shortcut_bn=False, norm_type_inner=None)\n",
    "critic = deep_res_critic(img_size, img_n_channels, n_extra_blocks_begin=1,  n_blocks_between_downblocks=1, \n",
    "                         n_extra_convs_by_downblock=1, downsample_first_in_block=False, use_final_activ_res_blocks=True, \n",
    "                         use_final_bn=True, use_shortcut_activ=False, use_shortcut_bn=False, norm_type_inner=None)\n",
    "learner = CustomGANLearner.wgan(data, generator, critic, switch_eval=False, \n",
    "                                opt_func = partial(optim.Adam, betas = (0.,0.99)), wd=0.)\n",
    "lr = 5e-4"
   ]
  },
  {
   "cell_type": "code",
   "execution_count": null,
   "metadata": {
    "colab": {
     "base_uri": "https://localhost:8080/",
     "height": 1000
    },
    "colab_type": "code",
    "id": "sJ1mj1eLH0fs",
    "outputId": "1d18bc06-7cbd-42bb-d524-e25650e86369"
   },
   "outputs": [],
   "source": [
    "learner.fit(30, lr)\n",
    "save_gan_learner(learner, models_root + 'resGANStrictTr4b8_30ep.pth')"
   ]
  },
  {
   "cell_type": "code",
   "execution_count": null,
   "metadata": {
    "colab": {},
    "colab_type": "code",
    "id": "qn3vEzUnRIhA"
   },
   "outputs": [],
   "source": [
    "learner.fit(30, lr)\n",
    "save_gan_learner(learner, models_root + 'resGANStrictTr4b8_60ep.pth')"
   ]
  },
  {
   "cell_type": "markdown",
   "metadata": {
    "colab_type": "text",
    "id": "_d3G2mrhzzb-"
   },
   "source": [
    "#### TR 4B9: No BN"
   ]
  },
  {
   "cell_type": "code",
   "execution_count": null,
   "metadata": {
    "colab": {},
    "colab_type": "code",
    "id": "n6P0mwNLzzke"
   },
   "outputs": [],
   "source": [
    "data = get_data(realImagesPath, 128, img_size)\n",
    "generator = deep_res_generator(img_size, img_n_channels, n_extra_blocks_end=1, n_blocks_between_upblocks=1, \n",
    "                               n_extra_convs_by_upblock=1, use_final_activ_res_blocks=True, \n",
    "                               use_final_bn=False, use_shortcut_activ=False, use_shortcut_bn=False, norm_type_inner=None)\n",
    "critic = deep_res_critic(img_size, img_n_channels, n_extra_blocks_begin=1, n_blocks_between_downblocks=1, \n",
    "                         n_extra_convs_by_downblock=1, downsample_first_in_block=False, use_final_activ_res_blocks=True, \n",
    "                         use_final_bn=False, use_shortcut_activ=False, use_shortcut_bn=False, norm_type_inner=None)\n",
    "learner = CustomGANLearner.wgan(data, generator, critic, switch_eval=False, \n",
    "                                opt_func = partial(optim.Adam, betas = (0.,0.99)), wd=0.)\n",
    "lr = 5e-4"
   ]
  },
  {
   "cell_type": "code",
   "execution_count": null,
   "metadata": {
    "colab": {
     "base_uri": "https://localhost:8080/",
     "height": 1000
    },
    "colab_type": "code",
    "id": "6NJDOVin0ZOl",
    "outputId": "966c7408-7a12-42b2-c50f-283ad49e5d1d"
   },
   "outputs": [],
   "source": [
    "learner.fit(30, lr)\n",
    "save_gan_learner(learner, models_root + 'resGANStrictTr4b9_30ep.pth')"
   ]
  },
  {
   "cell_type": "code",
   "execution_count": null,
   "metadata": {
    "colab": {},
    "colab_type": "code",
    "id": "9pwvPYXx0ZrT"
   },
   "outputs": [],
   "source": [
    "learner.fit(30, lr)\n",
    "save_gan_learner(learner, models_root + 'resGANStrictTr4b9_60ep.pth')"
   ]
  },
  {
   "cell_type": "markdown",
   "metadata": {
    "colab_type": "text",
    "id": "k56pSVHBNlJT"
   },
   "source": [
    "### TR 4C (deeper critic and generator): n_extra_blocks = 1, n_blocks_between_up/downblocks = 2,  n_extra_convs_by_up/downblock=1, downsample_first=True, upsample_first=True, lr=5e-4"
   ]
  },
  {
   "cell_type": "markdown",
   "metadata": {
    "colab_type": "text",
    "id": "JBWinG0uJCmF"
   },
   "source": [
    "Up to this point, it is to be expected that deeper models like this won't work at all, but let's try some epochs."
   ]
  },
  {
   "cell_type": "code",
   "execution_count": null,
   "metadata": {
    "colab": {},
    "colab_type": "code",
    "id": "Ay1JSKbEOuH6"
   },
   "outputs": [],
   "source": [
    "data = get_data(realImagesPath, 128, img_size)\n",
    "generator = deep_res_generator(img_size, img_n_channels, n_extra_blocks_end=1, n_blocks_between_upblocks=2, \n",
    "                               n_extra_convs_by_upblock=1)\n",
    "critic = deep_res_critic(img_size, img_n_channels, n_extra_blocks_begin=1,  n_blocks_between_downblocks=2, \n",
    "                         n_extra_convs_by_downblock=1)\n",
    "learner = CustomGANLearner.wgan(data, generator, critic, switch_eval=False, opt_func = partial(optim.Adam, betas = (0.,0.99)), wd=0.)\n",
    "lr = 5e-4"
   ]
  },
  {
   "cell_type": "code",
   "execution_count": null,
   "metadata": {
    "colab": {
     "base_uri": "https://localhost:8080/",
     "height": 1000
    },
    "colab_type": "code",
    "id": "tjZpK4baPLB-",
    "outputId": "3d67396f-21ba-43be-b521-352ea508dfe9"
   },
   "outputs": [],
   "source": [
    "learner.fit(30, lr)\n",
    "save_gan_learner(learner, models_root + 'resGANStrictTr4c_30ep.pth')"
   ]
  },
  {
   "cell_type": "code",
   "execution_count": null,
   "metadata": {
    "colab": {},
    "colab_type": "code",
    "id": "DkfVwvUAPNAP"
   },
   "outputs": [],
   "source": [
    "learner.fit(30, lr)\n",
    "save_gan_learner(learner, models_root + 'resGANStrictTr4c_60ep.pth')"
   ]
  },
  {
   "cell_type": "markdown",
   "metadata": {
    "colab_type": "text",
    "id": "IBaJTRbay4Ed"
   },
   "source": [
    "#### TR 4C2: Lower lr"
   ]
  },
  {
   "cell_type": "code",
   "execution_count": null,
   "metadata": {
    "colab": {},
    "colab_type": "code",
    "id": "728zWCb3y4M-"
   },
   "outputs": [],
   "source": [
    "data = get_data(realImagesPath, 128, img_size)\n",
    "generator = deep_res_generator(img_size, img_n_channels, n_extra_blocks_end=1, n_blocks_between_upblocks=2, \n",
    "                               n_extra_convs_by_upblock=1)\n",
    "critic = deep_res_critic(img_size, img_n_channels, n_extra_blocks_begin=1,  n_blocks_between_downblocks=2, \n",
    "                         n_extra_convs_by_downblock=1)\n",
    "learner = CustomGANLearner.wgan(data, generator, critic, switch_eval=False, \n",
    "                                opt_func = partial(optim.Adam, betas = (0.,0.99)), wd=0.)\n",
    "lr = 1e-4"
   ]
  },
  {
   "cell_type": "code",
   "execution_count": null,
   "metadata": {
    "colab": {
     "base_uri": "https://localhost:8080/",
     "height": 1000
    },
    "colab_type": "code",
    "id": "D0K4uGcSzEgW",
    "outputId": "23729839-fd5c-4eaa-cd46-bbaecc467995"
   },
   "outputs": [],
   "source": [
    "learner.fit(30, lr)\n",
    "save_gan_learner(learner, models_root + 'resGANStrictTr4c2_30ep.pth')"
   ]
  },
  {
   "cell_type": "code",
   "execution_count": null,
   "metadata": {
    "colab": {},
    "colab_type": "code",
    "id": "E1LOoJ5UzIRL"
   },
   "outputs": [],
   "source": [
    "learner.fit(30, lr)\n",
    "save_gan_learner(learner, models_root + 'resGANStrictTr4c2_60ep.pth')"
   ]
  },
  {
   "cell_type": "markdown",
   "metadata": {
    "colab_type": "text",
    "id": "DBGfg1bOz5To"
   },
   "source": [
    "#### TR 4C3: Higher lr"
   ]
  },
  {
   "cell_type": "code",
   "execution_count": null,
   "metadata": {
    "colab": {},
    "colab_type": "code",
    "id": "1cGb10QRz5ck"
   },
   "outputs": [],
   "source": [
    "data = get_data(realImagesPath, 128, img_size)\n",
    "generator = deep_res_generator(img_size, img_n_channels, n_extra_blocks_end=1, n_blocks_between_upblocks=2, \n",
    "                               n_extra_convs_by_upblock=1)\n",
    "critic = deep_res_critic(img_size, img_n_channels, n_extra_blocks_begin=1,  n_blocks_between_downblocks=2, \n",
    "                         n_extra_convs_by_downblock=1)\n",
    "learner = CustomGANLearner.wgan(data, generator, critic, switch_eval=False, \n",
    "                                opt_func = partial(optim.Adam, betas = (0.,0.99)), wd=0.)\n",
    "lr = 2e-3"
   ]
  },
  {
   "cell_type": "code",
   "execution_count": null,
   "metadata": {
    "colab": {
     "base_uri": "https://localhost:8080/",
     "height": 1000
    },
    "colab_type": "code",
    "id": "YQoIm63fz5fg",
    "outputId": "7da7159c-0256-46ae-98f0-1bafe34a141c"
   },
   "outputs": [],
   "source": [
    "learner.fit(30, lr)\n",
    "save_gan_learner(learner, models_root + 'resGANStrictTr4c3_30ep.pth')"
   ]
  },
  {
   "cell_type": "code",
   "execution_count": null,
   "metadata": {
    "colab": {},
    "colab_type": "code",
    "id": "py-fZOQQz5ko"
   },
   "outputs": [],
   "source": [
    "learner.fit(30, lr)\n",
    "save_gan_learner(learner, models_root + 'resGANStrictTr4c3_60ep.pth')"
   ]
  },
  {
   "cell_type": "markdown",
   "metadata": {
    "colab_type": "text",
    "id": "MdON5mLm0pXh"
   },
   "source": [
    "#### TR 4C4: Without BN in resampling shortcut"
   ]
  },
  {
   "cell_type": "code",
   "execution_count": null,
   "metadata": {
    "colab": {},
    "colab_type": "code",
    "id": "jgFC9eYC0pfR"
   },
   "outputs": [],
   "source": [
    "data = get_data(realImagesPath, 128, img_size)\n",
    "generator = deep_res_generator(img_size, img_n_channels, n_extra_blocks_end=1, n_blocks_between_upblocks=2, \n",
    "                               n_extra_convs_by_upblock=1, use_shortcut_bn=False)\n",
    "critic = deep_res_critic(img_size, img_n_channels, n_extra_blocks_begin=1,  n_blocks_between_downblocks=2, \n",
    "                         n_extra_convs_by_downblock=1, use_shortcut_bn=False)\n",
    "learner = CustomGANLearner.wgan(data, generator, critic, switch_eval=False, \n",
    "                                opt_func = partial(optim.Adam, betas = (0.,0.99)), wd=0.)\n",
    "lr = 5e-4"
   ]
  },
  {
   "cell_type": "code",
   "execution_count": null,
   "metadata": {
    "colab": {
     "base_uri": "https://localhost:8080/",
     "height": 1000
    },
    "colab_type": "code",
    "id": "JVky7xA_0piO",
    "outputId": "3f7bfed9-f070-4d43-c63d-f6e0cf57b35c"
   },
   "outputs": [],
   "source": [
    "learner.fit(30, lr)\n",
    "save_gan_learner(learner, models_root + 'resGANStrictTr4c4_30ep.pth')"
   ]
  },
  {
   "cell_type": "code",
   "execution_count": null,
   "metadata": {
    "colab": {},
    "colab_type": "code",
    "id": "_vuM1H511RVt"
   },
   "outputs": [],
   "source": [
    "learner.fit(30, lr)\n",
    "save_gan_learner(learner, models_root + 'resGANStrictTr4c4_60ep.pth')"
   ]
  },
  {
   "cell_type": "markdown",
   "metadata": {
    "colab_type": "text",
    "id": "uqd4p9FUNvz-"
   },
   "source": [
    "### TR 4D (deeper generator only): n_extra_blocks = 1, n_blocks_between_upblocks=2, n_blocks_between_downblocks = 1,  n_extra_convs_by_up/downblock=1, downsample_first=True, upsample_first=True, lr=5e-4"
   ]
  },
  {
   "cell_type": "code",
   "execution_count": null,
   "metadata": {
    "colab": {},
    "colab_type": "code",
    "id": "Qhy7sZZvOvlA"
   },
   "outputs": [],
   "source": [
    "data = get_data(realImagesPath, 128, img_size)\n",
    "generator = deep_res_generator(img_size, img_n_channels, n_extra_blocks_end=1, n_blocks_between_upblocks=2, \n",
    "                               n_extra_convs_by_upblock=1)\n",
    "critic = deep_res_critic(img_size, img_n_channels, n_extra_blocks_begin=1,  n_blocks_between_downblocks=1, \n",
    "                         n_extra_convs_by_downblock=1)\n",
    "learner = CustomGANLearner.wgan(data, generator, critic, switch_eval=False, \n",
    "                                opt_func = partial(optim.Adam, betas = (0.,0.99)), wd=0.)\n",
    "lr = 5e-4"
   ]
  },
  {
   "cell_type": "code",
   "execution_count": null,
   "metadata": {
    "colab": {
     "base_uri": "https://localhost:8080/",
     "height": 1000
    },
    "colab_type": "code",
    "id": "hS-TWin7PUXi",
    "outputId": "9f8f45d3-b7f9-4332-f8b4-87d0fffbbbad"
   },
   "outputs": [],
   "source": [
    "learner.fit(30, lr)\n",
    "save_gan_learner(learner, models_root + 'resGANStrictTr4d_30ep.pth')"
   ]
  },
  {
   "cell_type": "code",
   "execution_count": null,
   "metadata": {
    "colab": {},
    "colab_type": "code",
    "id": "bDB-3MD1PUar"
   },
   "outputs": [],
   "source": [
    "learner.fit(30, lr)\n",
    "save_gan_learner(learner, models_root + 'resGANStrictTr4d_60ep.pth')"
   ]
  },
  {
   "cell_type": "markdown",
   "metadata": {
    "colab_type": "text",
    "id": "3DxpkqrHrTM2"
   },
   "source": [
    "#### TR 4D2: Without BN in upsampling shortcut"
   ]
  },
  {
   "cell_type": "code",
   "execution_count": null,
   "metadata": {
    "colab": {},
    "colab_type": "code",
    "id": "u7zZ5reYrThZ"
   },
   "outputs": [],
   "source": [
    "data = get_data(realImagesPath, 128, img_size)\n",
    "generator = deep_res_generator(img_size, img_n_channels, n_extra_blocks_end=1, n_blocks_between_upblocks=2, \n",
    "                               n_extra_convs_by_upblock=1, use_shortcut_bn=False)\n",
    "critic = deep_res_critic(img_size, img_n_channels, n_extra_blocks_begin=1,  n_blocks_between_downblocks=1, \n",
    "                         n_extra_convs_by_downblock=1)\n",
    "learner = CustomGANLearner.wgan(data, generator, critic, switch_eval=False, \n",
    "                                opt_func = partial(optim.Adam, betas = (0.,0.99)), wd=0.)\n",
    "lr = 5e-4"
   ]
  },
  {
   "cell_type": "code",
   "execution_count": null,
   "metadata": {
    "colab": {},
    "colab_type": "code",
    "id": "vOZzqXc4rTpH",
    "outputId": "57fdf79c-b249-4fce-9973-ebec3e7e62d6",
    "scrolled": true
   },
   "outputs": [],
   "source": [
    "learner.fit(30, lr)\n",
    "save_gan_learner(learner, models_root + 'resGANStrictTr4d2_30ep.pth')"
   ]
  },
  {
   "cell_type": "code",
   "execution_count": null,
   "metadata": {
    "colab": {},
    "colab_type": "code",
    "id": "ApzTdbv4ryPA",
    "scrolled": true
   },
   "outputs": [],
   "source": [
    "learner.fit(30, lr)\n",
    "save_gan_learner(learner, models_root + 'resGANStrictTr4d2_60ep.pth')"
   ]
  },
  {
   "cell_type": "markdown",
   "metadata": {
    "colab_type": "text",
    "id": "N90IFYwZNv28"
   },
   "source": [
    "### TR 4E (deeper critic only): n_extra_blocks = 1, n_blocks_between_upblocks=1, n_blocks_between_downblocks = 2, n_extra_convs_by_up/downblock=1, downsample_first=True, upsample_first=True, lr=5e-4"
   ]
  },
  {
   "cell_type": "code",
   "execution_count": null,
   "metadata": {
    "colab": {},
    "colab_type": "code",
    "id": "9kTMs6umOwOH"
   },
   "outputs": [],
   "source": [
    "data = get_data(realImagesPath, 128, img_size)\n",
    "generator = deep_res_generator(img_size, img_n_channels, n_extra_blocks_end=1, n_blocks_between_upblocks=1, \n",
    "                               n_extra_convs_by_upblock=1)\n",
    "critic = deep_res_critic(img_size, img_n_channels, n_extra_blocks_begin=1, n_blocks_between_downblocks=2, \n",
    "                         n_extra_convs_by_downblock=1)\n",
    "learner = CustomGANLearner.wgan(data, generator, critic, switch_eval=False, \n",
    "                                opt_func = partial(optim.Adam, betas = (0.,0.99)), wd=0.)\n",
    "lr = 5e-4"
   ]
  },
  {
   "cell_type": "code",
   "execution_count": null,
   "metadata": {
    "colab": {
     "base_uri": "https://localhost:8080/",
     "height": 1000
    },
    "colab_type": "code",
    "id": "xFsV_3C3PVkh",
    "outputId": "554c4455-367c-406d-a98e-2e6aad193c99"
   },
   "outputs": [],
   "source": [
    "learner.fit(30, lr)\n",
    "save_gan_learner(learner, models_root + 'resGANStrictTr4e_30ep.pth')"
   ]
  },
  {
   "cell_type": "code",
   "execution_count": null,
   "metadata": {
    "colab": {},
    "colab_type": "code",
    "id": "WksflptpPVnc"
   },
   "outputs": [],
   "source": [
    "learner.fit(30, lr)\n",
    "save_gan_learner(learner, models_root + 'resGANStrictTr4e_60ep.pth')"
   ]
  },
  {
   "cell_type": "markdown",
   "metadata": {
    "colab_type": "text",
    "id": "QmOvZ_z03r8v"
   },
   "source": [
    "### TR 4F (deep generator, shallow critic): n_extra_blocks = 1, n_blocks_between_upblocks=1, n_blocks_between_downblocks = 0, n_extra_convs_by_up/downblock=1, downsample_first=True, upsample_first=True, lr=5e-4"
   ]
  },
  {
   "cell_type": "code",
   "execution_count": null,
   "metadata": {
    "colab": {},
    "colab_type": "code",
    "id": "tnS0RRcK3sFt"
   },
   "outputs": [],
   "source": [
    "data = get_data(realImagesPath, 128, img_size)\n",
    "generator = deep_res_generator(img_size, img_n_channels, n_extra_blocks_end=1, n_blocks_between_upblocks=1, \n",
    "                               n_extra_convs_by_upblock=1)\n",
    "critic = deep_res_critic(img_size, img_n_channels, n_extra_blocks_begin=1,  n_blocks_between_downblocks=0, \n",
    "                         n_extra_convs_by_downblock=1)\n",
    "learner = CustomGANLearner.wgan(data, generator, critic, switch_eval=False, \n",
    "                                opt_func = partial(optim.Adam, betas = (0.,0.99)), wd=0.)\n",
    "lr = 5e-4"
   ]
  },
  {
   "cell_type": "code",
   "execution_count": null,
   "metadata": {
    "colab": {},
    "colab_type": "code",
    "id": "e0uafb7O3sNl",
    "outputId": "58a6061d-1726-49ba-c80c-2151aab6f26b",
    "scrolled": true
   },
   "outputs": [],
   "source": [
    "learner.fit(30, lr)\n",
    "save_gan_learner(learner, models_root + 'resGANStrictTr4f_30ep.pth')"
   ]
  },
  {
   "cell_type": "code",
   "execution_count": null,
   "metadata": {
    "colab": {},
    "colab_type": "code",
    "id": "dRrfK_j_3sSt",
    "scrolled": true
   },
   "outputs": [],
   "source": [
    "learner.fit(30, lr)\n",
    "save_gan_learner(learner, models_root + 'resGANStrictTr4f_60ep.pth')"
   ]
  },
  {
   "cell_type": "markdown",
   "metadata": {
    "colab_type": "text",
    "id": "qTRCYJYs5aL0"
   },
   "source": [
    "#### TR 4F2: without BN in upsampling shortcut"
   ]
  },
  {
   "cell_type": "code",
   "execution_count": null,
   "metadata": {
    "colab": {},
    "colab_type": "code",
    "id": "dhPLzKne5aT0"
   },
   "outputs": [],
   "source": [
    "data = get_data(realImagesPath, 128, img_size)\n",
    "generator = deep_res_generator(img_size, img_n_channels, n_extra_blocks_end=1, n_blocks_between_upblocks=1, \n",
    "                               n_extra_convs_by_upblock=1, use_shortcut_bn=False)\n",
    "critic = deep_res_critic(img_size, img_n_channels, n_extra_blocks_begin=1,  n_blocks_between_downblocks=0, \n",
    "                         n_extra_convs_by_downblock=1)\n",
    "learner = CustomGANLearner.wgan(data, generator, critic, switch_eval=False, \n",
    "                                opt_func = partial(optim.Adam, betas = (0.,0.99)), wd=0.)\n",
    "lr = 5e-4"
   ]
  },
  {
   "cell_type": "code",
   "execution_count": null,
   "metadata": {
    "colab": {
     "base_uri": "https://localhost:8080/",
     "height": 1000
    },
    "colab_type": "code",
    "id": "tOzjlLSQ5aXo",
    "outputId": "76154722-b0cf-440d-c140-46e94e9477fa"
   },
   "outputs": [],
   "source": [
    "learner.fit(30, lr)\n",
    "save_gan_learner(learner, models_root + 'resGANStrictTr4f2_30ep.pth')"
   ]
  },
  {
   "cell_type": "code",
   "execution_count": null,
   "metadata": {
    "colab": {},
    "colab_type": "code",
    "id": "rPMf0dDd6AdW"
   },
   "outputs": [],
   "source": [
    "learner.fit(30, lr)\n",
    "save_gan_learner(learner, models_root + 'resGANStrictTr4f2_60ep.pth')"
   ]
  },
  {
   "cell_type": "markdown",
   "metadata": {
    "colab_type": "text",
    "id": "wd8PFlsb5iNh"
   },
   "source": [
    "#### TR 4F3: without BN in downsampling shortcut"
   ]
  },
  {
   "cell_type": "code",
   "execution_count": null,
   "metadata": {
    "colab": {},
    "colab_type": "code",
    "id": "WrGkWhto5acJ"
   },
   "outputs": [],
   "source": [
    "data = get_data(realImagesPath, 128, img_size)\n",
    "generator = deep_res_generator(img_size, img_n_channels, n_extra_blocks_end=1, n_blocks_between_upblocks=1, \n",
    "                               n_extra_convs_by_upblock=1)\n",
    "critic = deep_res_critic(img_size, img_n_channels, n_extra_blocks_begin=1,  n_blocks_between_downblocks=0, \n",
    "                         n_extra_convs_by_downblock=1, use_shortcut_bn=False)\n",
    "learner = CustomGANLearner.wgan(data, generator, critic, switch_eval=False, \n",
    "                                opt_func = partial(optim.Adam, betas = (0.,0.99)), wd=0.)\n",
    "lr = 5e-4"
   ]
  },
  {
   "cell_type": "code",
   "execution_count": null,
   "metadata": {
    "colab": {
     "base_uri": "https://localhost:8080/",
     "height": 1000
    },
    "colab_type": "code",
    "id": "w3Wmw3615aaC",
    "outputId": "a278761d-071e-4424-82f6-31d195c24d57"
   },
   "outputs": [],
   "source": [
    "learner.fit(30, lr)\n",
    "save_gan_learner(learner, models_root + 'resGANStrictTr4f3_30ep.pth')"
   ]
  },
  {
   "cell_type": "code",
   "execution_count": null,
   "metadata": {
    "colab": {},
    "colab_type": "code",
    "id": "zshE65MG6ItI"
   },
   "outputs": [],
   "source": [
    "learner.fit(30, lr)\n",
    "save_gan_learner(learner, models_root + 'resGANStrictTr4f3_60ep.pth')"
   ]
  },
  {
   "cell_type": "markdown",
   "metadata": {
    "colab_type": "text",
    "id": "ldAIOOnZ5pO7"
   },
   "source": [
    "#### TR 4F4: without BN in up/downsampling shortcut"
   ]
  },
  {
   "cell_type": "code",
   "execution_count": null,
   "metadata": {
    "colab": {},
    "colab_type": "code",
    "id": "imVLvnPo5poQ"
   },
   "outputs": [],
   "source": [
    "data = get_data(realImagesPath, 128, img_size)\n",
    "generator = deep_res_generator(img_size, img_n_channels, n_extra_blocks_end=1, n_blocks_between_upblocks=1, \n",
    "                               n_extra_convs_by_upblock=1, use_shortcut_bn=False)\n",
    "critic = deep_res_critic(img_size, img_n_channels, n_extra_blocks_begin=1,  n_blocks_between_downblocks=0, \n",
    "                         n_extra_convs_by_downblock=1, use_shortcut_bn=False)\n",
    "learner = CustomGANLearner.wgan(data, generator, critic, switch_eval=False, \n",
    "                                opt_func = partial(optim.Adam, betas = (0.,0.99)), wd=0.)\n",
    "lr = 5e-4"
   ]
  },
  {
   "cell_type": "code",
   "execution_count": null,
   "metadata": {
    "colab": {
     "base_uri": "https://localhost:8080/",
     "height": 1000
    },
    "colab_type": "code",
    "id": "HIj10wgtqf7n",
    "outputId": "e92bf49d-a57f-4cd9-f82b-ad9c93d44685"
   },
   "outputs": [],
   "source": [
    "learner.fit(30, lr)\n",
    "save_gan_learner(learner, models_root + 'resGANStrictTr4f4_30ep.pth')"
   ]
  },
  {
   "cell_type": "code",
   "execution_count": null,
   "metadata": {
    "colab": {},
    "colab_type": "code",
    "id": "WQt5pNWi6Plr"
   },
   "outputs": [],
   "source": [
    "learner.fit(30, lr)\n",
    "save_gan_learner(learner, models_root + 'resGANStrictTr4f4_60ep.pth')"
   ]
  },
  {
   "cell_type": "markdown",
   "metadata": {
    "colab_type": "text",
    "id": "OXvrg7hp5Wbi"
   },
   "source": [
    "### TR 4G (deep generator, shallow critic, 0 extra_convs_by_downblock): n_extra_blocks = 1, n_blocks_between_upblocks=1, n_blocks_between_downblocks = 0, n_extra_convs_by_up/downblock=(1/0), downsample_first=True, upsample_first=True, lr=5e-4"
   ]
  },
  {
   "cell_type": "code",
   "execution_count": null,
   "metadata": {
    "colab": {},
    "colab_type": "code",
    "id": "x4UBHejW5Wue"
   },
   "outputs": [],
   "source": [
    "data = get_data(realImagesPath, 128, img_size)\n",
    "generator = deep_res_generator(img_size, img_n_channels, n_extra_blocks_end=1, n_blocks_between_upblocks=1, \n",
    "                               n_extra_convs_by_upblock=1)\n",
    "critic = deep_res_critic(img_size, img_n_channels, n_extra_blocks_begin=1, n_blocks_between_downblocks=0, \n",
    "                         n_extra_convs_by_downblock=0)\n",
    "learner = CustomGANLearner.wgan(data, generator, critic, switch_eval=False, \n",
    "                                opt_func = partial(optim.Adam, betas = (0.,0.99)), wd=0.)\n",
    "lr = 5e-4"
   ]
  },
  {
   "cell_type": "code",
   "execution_count": null,
   "metadata": {
    "colab": {},
    "colab_type": "code",
    "id": "udUyH9ef5qyt",
    "outputId": "dd646ee0-aa94-4cb6-e3ef-350b08e65d2f"
   },
   "outputs": [],
   "source": [
    "learner.fit(30, lr)\n",
    "save_gan_learner(learner, models_root + 'resGANStrictTr4g_30ep.pth')"
   ]
  },
  {
   "cell_type": "code",
   "execution_count": null,
   "metadata": {
    "colab": {},
    "colab_type": "code",
    "id": "Jc2Hj-ya5q6Y"
   },
   "outputs": [],
   "source": [
    "learner.fit(30, lr)\n",
    "save_gan_learner(learner, models_root + 'resGANStrictTr4g_60ep.pth')"
   ]
  },
  {
   "cell_type": "markdown",
   "metadata": {
    "colab_type": "text",
    "id": "dP-TrwUaRddH"
   },
   "source": [
    "### TR 4H (deeper generator, shallow critic): n_extra_blocks = 1, n_blocks_between_upblocks=2, n_blocks_between_downblocks = 0, n_extra_convs_by_up/downblock=1, downsample_first=True, upsample_first=True, lr=5e-4"
   ]
  },
  {
   "cell_type": "code",
   "execution_count": null,
   "metadata": {
    "colab": {},
    "colab_type": "code",
    "id": "23x_QWdGRoIl"
   },
   "outputs": [],
   "source": [
    "data = get_data(realImagesPath, 128, img_size)\n",
    "generator = deep_res_generator(img_size, img_n_channels, n_extra_blocks_end=1, n_blocks_between_upblocks=2, \n",
    "                               n_extra_convs_by_upblock=1)\n",
    "critic = deep_res_critic(img_size, img_n_channels, n_extra_blocks_begin=1,  n_blocks_between_downblocks=0, \n",
    "                         n_extra_convs_by_downblock=1)\n",
    "learner = CustomGANLearner.wgan(data, generator, critic, switch_eval=False, \n",
    "                                opt_func = partial(optim.Adam, betas = (0.,0.99)), wd=0.)\n",
    "lr = 5e-4"
   ]
  },
  {
   "cell_type": "code",
   "execution_count": null,
   "metadata": {
    "colab": {
     "base_uri": "https://localhost:8080/",
     "height": 1000
    },
    "colab_type": "code",
    "id": "Ktvqv6ySRoqk",
    "outputId": "488912d3-00f6-47dc-922a-8a6fb4b118f8"
   },
   "outputs": [],
   "source": [
    "learner.fit(30, lr)\n",
    "save_gan_learner(learner, models_root + 'resGANStrictTr4h_30ep.pth')"
   ]
  },
  {
   "cell_type": "code",
   "execution_count": null,
   "metadata": {
    "colab": {},
    "colab_type": "code",
    "id": "x9rmdwLBRotj"
   },
   "outputs": [],
   "source": [
    "learner.fit(30, lr)\n",
    "save_gan_learner(learner, models_root + 'resGANStrictTr4h_60ep.pth')"
   ]
  },
  {
   "cell_type": "markdown",
   "metadata": {
    "colab_type": "text",
    "id": "yUcENdtzRKxR"
   },
   "source": [
    "### TR 4I (deeper generator, shallow critic, 0 extra_convs_by_downblock): n_extra_blocks = 1, n_blocks_between_upblocks=2, n_blocks_between_downblocks = 0, n_extra_convs_by_up/downblock=(1/0), downsample_first=True, upsample_first=True, lr=5e-4"
   ]
  },
  {
   "cell_type": "code",
   "execution_count": null,
   "metadata": {
    "colab": {},
    "colab_type": "code",
    "id": "fRj_-gH95q2Q"
   },
   "outputs": [],
   "source": [
    "data = get_data(realImagesPath, 128, img_size)\n",
    "generator = deep_res_generator(img_size, img_n_channels, n_extra_blocks_end=1, n_blocks_between_upblocks=2, \n",
    "                               n_extra_convs_by_upblock=1)\n",
    "critic = deep_res_critic(img_size, img_n_channels, n_extra_blocks_begin=1, n_blocks_between_downblocks=0, \n",
    "                         n_extra_convs_by_downblock=0)\n",
    "learner = CustomGANLearner.wgan(data, generator, critic, switch_eval=False, \n",
    "                                opt_func = partial(optim.Adam, betas = (0.,0.99)), wd=0.)\n",
    "lr = 5e-4"
   ]
  },
  {
   "cell_type": "code",
   "execution_count": null,
   "metadata": {
    "colab": {
     "base_uri": "https://localhost:8080/",
     "height": 1000
    },
    "colab_type": "code",
    "id": "wwMisMeCSSok",
    "outputId": "49602716-789e-4805-ded6-95c62e6277ef"
   },
   "outputs": [],
   "source": [
    "learner.fit(30, lr)\n",
    "save_gan_learner(learner, models_root + 'resGANStrictTr4i_30ep.pth')"
   ]
  },
  {
   "cell_type": "code",
   "execution_count": null,
   "metadata": {
    "colab": {},
    "colab_type": "code",
    "id": "wn2DWHyRSSvg"
   },
   "outputs": [],
   "source": [
    "learner.fit(30, lr)\n",
    "save_gan_learner(learner, models_root + 'resGANStrictTr4i_60ep.pth')"
   ]
  },
  {
   "cell_type": "markdown",
   "metadata": {
    "colab_type": "text",
    "id": "_yrSWrUiz-BJ"
   },
   "source": [
    "Maybe there's too much asymmetry between generator and critic architectures. Reducing the ratio critic/gen iterations could deliver some benefits, although it tends not to have an impact. Different learning rates for critic and generator might be worth trying too."
   ]
  },
  {
   "cell_type": "markdown",
   "metadata": {
    "colab_type": "text",
    "id": "FSDWqhcUXFnp"
   },
   "source": [
    "#### TR4I2: without BN in shortcut"
   ]
  },
  {
   "cell_type": "code",
   "execution_count": null,
   "metadata": {
    "colab": {},
    "colab_type": "code",
    "id": "frsGpz4X3i5D"
   },
   "outputs": [],
   "source": [
    "data = get_data(realImagesPath, 128, img_size)\n",
    "generator = deep_res_generator(img_size, img_n_channels, n_extra_blocks_end=1, n_blocks_between_upblocks=2, \n",
    "                               n_extra_convs_by_upblock=1, use_shortcut_bn=False)\n",
    "critic = deep_res_critic(img_size, img_n_channels, n_extra_blocks_begin=1, n_blocks_between_downblocks=0, \n",
    "                         n_extra_convs_by_downblock=0, use_shortcut_bn=False)\n",
    "learner = CustomGANLearner.wgan(data, generator, critic, switch_eval=False, opt_func = partial(optim.Adam, betas = (0.,0.99)), wd=0.)\n",
    "lr = 5e-4"
   ]
  },
  {
   "cell_type": "code",
   "execution_count": null,
   "metadata": {
    "colab": {
     "base_uri": "https://localhost:8080/",
     "height": 1000
    },
    "colab_type": "code",
    "id": "Q7hzxTm83lYa",
    "outputId": "ca95fe15-17f5-4051-a7a1-ccf13d8023f5"
   },
   "outputs": [],
   "source": [
    "learner.fit(30, lr)\n",
    "save_gan_learner(learner, models_root + 'resGANStrictTr4i2_30ep.pth')"
   ]
  },
  {
   "cell_type": "code",
   "execution_count": null,
   "metadata": {
    "colab": {},
    "colab_type": "code",
    "id": "x0k1jBB-3nec"
   },
   "outputs": [],
   "source": [
    "learner.fit(30, lr)\n",
    "save_gan_learner(learner, models_root + 'resGANStrictTr4i2_60ep.pth')"
   ]
  },
  {
   "cell_type": "markdown",
   "metadata": {
    "colab_type": "text",
    "id": "5vIxjRvrcvtH"
   },
   "source": [
    "### TR 4J (deeper generator, shallow critic, 0 extra_convs_by_downblock, 0 extra_convs_by_upblock): n_extra_blocks = 1, n_blocks_between_upblocks=2, n_blocks_between_downblocks = 0, n_extra_convs_by_up/downblock=0, downsample_first=True, upsample_first=True, lr=5e-4"
   ]
  },
  {
   "cell_type": "code",
   "execution_count": null,
   "metadata": {
    "colab": {},
    "colab_type": "code",
    "id": "vhrjo9oPc-Mi"
   },
   "outputs": [],
   "source": [
    "data = get_data(realImagesPath, batch_size, img_size)\n",
    "generator = deep_res_generator(img_size, img_n_channels, n_extra_blocks_end=1, n_blocks_between_upblocks=2, \n",
    "                               n_extra_convs_by_upblock=0)\n",
    "critic = deep_res_critic(img_size, img_n_channels, n_extra_blocks_begin=1, n_blocks_between_downblocks=0, \n",
    "                         n_extra_convs_by_downblock=0)\n",
    "learner = CustomGANLearner.wgan(data, generator, critic, switch_eval=False, \n",
    "                                opt_func = partial(optim.Adam, betas = (0.,0.99)), wd=0.)\n",
    "lr = 5e-4"
   ]
  },
  {
   "cell_type": "code",
   "execution_count": null,
   "metadata": {
    "colab": {
     "base_uri": "https://localhost:8080/",
     "height": 1000
    },
    "colab_type": "code",
    "id": "kRQklJpydHnd",
    "outputId": "2f57e8d3-c303-422a-9bb4-172b717b2f2a"
   },
   "outputs": [],
   "source": [
    "learner.fit(30, lr)\n",
    "save_gan_learner(learner, models_root + 'resGANStrictTr4j_30ep.pth')"
   ]
  },
  {
   "cell_type": "code",
   "execution_count": null,
   "metadata": {
    "colab": {},
    "colab_type": "code",
    "id": "KboXQsIudHrS"
   },
   "outputs": [],
   "source": [
    "learner.fit(30, lr)\n",
    "save_gan_learner(learner, models_root + 'resGANStrictTr4j_60ep.pth')"
   ]
  },
  {
   "cell_type": "markdown",
   "metadata": {
    "colab_type": "text",
    "id": "Ub1xrNrny1Go"
   },
   "source": [
    "#### TR4J2: without BN in shortcut"
   ]
  },
  {
   "cell_type": "code",
   "execution_count": null,
   "metadata": {
    "colab": {},
    "colab_type": "code",
    "id": "IAJVUEdfy1RQ"
   },
   "outputs": [],
   "source": [
    "data = get_data(realImagesPath, batch_size, img_size)\n",
    "generator = deep_res_generator(img_size, img_n_channels, n_extra_blocks_end=1, n_blocks_between_upblocks=2, \n",
    "                               n_extra_convs_by_upblock=0, use_shortcut_bn=False)\n",
    "critic = deep_res_critic(img_size, img_n_channels, n_extra_blocks_begin=1, n_blocks_between_downblocks=0, \n",
    "                         n_extra_convs_by_downblock=0, use_shortcut_bn=False)\n",
    "learner = CustomGANLearner.wgan(data, generator, critic, switch_eval=False, \n",
    "                                opt_func = partial(optim.Adam, betas = (0.,0.99)), wd=0.)\n",
    "lr = 5e-4"
   ]
  },
  {
   "cell_type": "code",
   "execution_count": null,
   "metadata": {
    "colab": {
     "base_uri": "https://localhost:8080/",
     "height": 1000
    },
    "colab_type": "code",
    "id": "enx0kR-Ny7VW",
    "outputId": "d556f5aa-c399-4f2d-cead-47d4d7fce15a"
   },
   "outputs": [],
   "source": [
    "learner.fit(30, lr)\n",
    "save_gan_learner(learner, models_root + 'resGANStrictTr4j2_30ep.pth')"
   ]
  },
  {
   "cell_type": "code",
   "execution_count": null,
   "metadata": {
    "colab": {},
    "colab_type": "code",
    "id": "Eh3rVc2Xy7jQ"
   },
   "outputs": [],
   "source": [
    "learner.fit(30, lr)\n",
    "save_gan_learner(learner, models_root + 'resGANStrictTr4j2_60ep.pth')"
   ]
  },
  {
   "cell_type": "markdown",
   "metadata": {
    "colab_type": "text",
    "id": "CqaV3gFadesV"
   },
   "source": [
    "### TR 4K (deep generator, shallow critic, 0 extra_convs_by_downblock, 3 extra_blocks_end(gen)): n_extra_blocks = (g 3 c 1), n_blocks_between_upblocks=1, n_blocks_between_downblocks = 0, n_extra_convs_by_up/downblock=(1 0), downsample_first=True, upsample_first=True, lr=5e-4"
   ]
  },
  {
   "cell_type": "code",
   "execution_count": null,
   "metadata": {
    "colab": {},
    "colab_type": "code",
    "id": "13XMCffIdfLy"
   },
   "outputs": [],
   "source": [
    "data = get_data(realImagesPath, batch_size, img_size)\n",
    "generator = deep_res_generator(img_size, img_n_channels, n_extra_blocks_end=3, n_blocks_between_upblocks=1, \n",
    "                               n_extra_convs_by_upblock=1)\n",
    "critic = deep_res_critic(img_size, img_n_channels, n_extra_blocks_begin=1, n_blocks_between_downblocks=0, \n",
    "                         n_extra_convs_by_downblock=0)\n",
    "learner = CustomGANLearner.wgan(data, generator, critic, switch_eval=False, \n",
    "                                opt_func = partial(optim.Adam, betas = (0.,0.99)), wd=0.)\n",
    "lr = 5e-4"
   ]
  },
  {
   "cell_type": "code",
   "execution_count": null,
   "metadata": {
    "colab": {
     "base_uri": "https://localhost:8080/",
     "height": 1000
    },
    "colab_type": "code",
    "id": "_yH7qPMAdfRm",
    "outputId": "20993fd6-edd3-45d4-b48d-c7bd1b99f7c8"
   },
   "outputs": [],
   "source": [
    "learner.fit(30, lr)\n",
    "save_gan_learner(learner, models_root + 'resGANStrictTr4k_30ep.pth')"
   ]
  },
  {
   "cell_type": "code",
   "execution_count": null,
   "metadata": {
    "colab": {},
    "colab_type": "code",
    "id": "I3s77ko2hLHU"
   },
   "outputs": [],
   "source": [
    "learner.fit(30, lr)\n",
    "save_gan_learner(learner, models_root + 'resGANStrictTr4k_60ep.pth')"
   ]
  },
  {
   "cell_type": "markdown",
   "metadata": {
    "colab_type": "text",
    "id": "kOpQ8Y1X0Ufq"
   },
   "source": [
    "#### TR4K2: without BN in shortcut"
   ]
  },
  {
   "cell_type": "code",
   "execution_count": null,
   "metadata": {
    "colab": {},
    "colab_type": "code",
    "id": "FVipB9pW0UpT"
   },
   "outputs": [],
   "source": [
    "data = get_data(realImagesPath, batch_size, img_size)\n",
    "generator = deep_res_generator(img_size, img_n_channels, n_extra_blocks_end=3, n_blocks_between_upblocks=1, \n",
    "                               n_extra_convs_by_upblock=1, use_shortcut_bn=False)\n",
    "critic = deep_res_critic(img_size, img_n_channels, n_extra_blocks_begin=1, n_blocks_between_downblocks=0, \n",
    "                         n_extra_convs_by_downblock=0, use_shortcut_bn=False)\n",
    "learner = CustomGANLearner.wgan(data, generator, critic, switch_eval=False, \n",
    "                                opt_func = partial(optim.Adam, betas = (0.,0.99)), wd=0.)\n",
    "lr = 5e-4"
   ]
  },
  {
   "cell_type": "code",
   "execution_count": null,
   "metadata": {
    "colab": {
     "base_uri": "https://localhost:8080/",
     "height": 1000
    },
    "colab_type": "code",
    "id": "lWCkUNhB0Uso",
    "outputId": "d0ade020-1fc5-4763-a8cf-83e257db7bcd"
   },
   "outputs": [],
   "source": [
    "learner.fit(30, lr)\n",
    "save_gan_learner(learner, models_root + 'resGANStrictTr4k2_30ep.pth')"
   ]
  },
  {
   "cell_type": "code",
   "execution_count": null,
   "metadata": {
    "colab": {},
    "colab_type": "code",
    "id": "Cet5awVZ0Uxn"
   },
   "outputs": [],
   "source": [
    "learner.fit(30, lr)\n",
    "save_gan_learner(learner, models_root + 'resGANStrictTr4k2_60ep.pth')"
   ]
  },
  {
   "cell_type": "markdown",
   "metadata": {
    "colab_type": "text",
    "id": "u6tHMRm-4F7i"
   },
   "source": [
    "## TR 5: basic_critic, deep_res_generator"
   ]
  },
  {
   "cell_type": "code",
   "execution_count": null,
   "metadata": {
    "colab": {},
    "colab_type": "code",
    "id": "xY3phIqT4IUq"
   },
   "outputs": [],
   "source": [
    "data = get_data(realImagesPath, 128, img_size)\n",
    "generator = deep_res_generator(img_size, img_n_channels, n_extra_blocks_end=1, n_blocks_between_upblocks=1, \n",
    "                               n_extra_convs_by_upblock=1)\n",
    "critic = basic_critic(img_size, img_n_channels, n_extra_layers=1)\n",
    "learner = CustomGANLearner.wgan(data, generator, critic, switch_eval=False, \n",
    "                                opt_func = partial(optim.Adam, betas = (0.,0.99)), wd=0.)\n",
    "lr = 5e-4"
   ]
  },
  {
   "cell_type": "code",
   "execution_count": null,
   "metadata": {
    "colab": {
     "base_uri": "https://localhost:8080/",
     "height": 1000
    },
    "colab_type": "code",
    "id": "fla8lt2H4IXR",
    "outputId": "2c08eefc-436a-4f1e-91b0-f1e85f48e7d4"
   },
   "outputs": [],
   "source": [
    "learner.fit(30, lr)\n",
    "save_gan_learner(learner, models_root + 'resGANStrictTr5a_30ep.pth')"
   ]
  },
  {
   "cell_type": "code",
   "execution_count": null,
   "metadata": {
    "colab": {},
    "colab_type": "code",
    "id": "6EMcBkcj4IZ9"
   },
   "outputs": [],
   "source": [
    "learner.fit(30, lr)\n",
    "save_gan_learner(learner, models_root + 'resGANStrictTr5a_60ep.pth')"
   ]
  },
  {
   "cell_type": "markdown",
   "metadata": {
    "colab_type": "text",
    "id": "i1ZczJi6YoNa"
   },
   "source": [
    "## TR 6: pseudo_res_critic, deep_res_generator"
   ]
  },
  {
   "cell_type": "markdown",
   "metadata": {
    "colab_type": "text",
    "id": "ozIAMfUiY3XQ"
   },
   "source": [
    "### TR 6A: n_blocks_between_upblocks=1, n_extra_convs_by_upblock=1 / (critic): n_extra_layers=1"
   ]
  },
  {
   "cell_type": "code",
   "execution_count": null,
   "metadata": {
    "colab": {},
    "colab_type": "code",
    "id": "VVX9y8KnYpLd"
   },
   "outputs": [],
   "source": [
    "data = get_data(realImagesPath, batch_size, img_size)\n",
    "generator = deep_res_generator(img_size, img_n_channels, n_extra_blocks_end=1, n_blocks_between_upblocks=1, \n",
    "                               n_extra_convs_by_upblock=1)\n",
    "critic = pseudo_res_critic(img_size, img_n_channels, n_extra_layers=1)\n",
    "learner = CustomGANLearner.wgan(data, generator, critic, switch_eval=False, \n",
    "                                opt_func = partial(optim.Adam, betas = (0.,0.99)), wd=0.)\n",
    "lr = 5e-4"
   ]
  },
  {
   "cell_type": "code",
   "execution_count": null,
   "metadata": {
    "colab": {
     "base_uri": "https://localhost:8080/",
     "height": 1000
    },
    "colab_type": "code",
    "id": "4u0iYj8rYpOO",
    "outputId": "b4cde732-e93b-40fb-f36f-fae18592b333"
   },
   "outputs": [],
   "source": [
    "learner.fit(30, lr)\n",
    "save_gan_learner(learner, models_root + 'resGANStrictTr6a_30ep.pth')"
   ]
  },
  {
   "cell_type": "code",
   "execution_count": null,
   "metadata": {
    "colab": {},
    "colab_type": "code",
    "id": "CM0jJjFJZWrR"
   },
   "outputs": [],
   "source": [
    "learner.fit(30, lr)\n",
    "save_gan_learner(learner, models_root + 'resGANStrictTr6a_60ep.pth')"
   ]
  },
  {
   "cell_type": "markdown",
   "metadata": {
    "colab_type": "text",
    "id": "7vbvIKsTZIqN"
   },
   "source": [
    "### TR 6B: n_blocks_between_upblocks=1, n_extra_convs_by_upblock=1 / (critic): n_extra_layers=3"
   ]
  },
  {
   "cell_type": "code",
   "execution_count": null,
   "metadata": {
    "colab": {},
    "colab_type": "code",
    "id": "gv0xh-lyZHnK"
   },
   "outputs": [],
   "source": [
    "data = get_data(realImagesPath, 128, img_size)\n",
    "generator = deep_res_generator(img_size, img_n_channels, n_extra_blocks_end=1, n_blocks_between_upblocks=1, \n",
    "                               n_extra_convs_by_upblock=1)\n",
    "critic = pseudo_res_critic(img_size, img_n_channels, n_extra_layers=3)\n",
    "learner = CustomGANLearner.wgan(data, generator, critic, switch_eval=False, \n",
    "                                opt_func = partial(optim.Adam, betas = (0.,0.99)), wd=0.)\n",
    "lr = 5e-4"
   ]
  },
  {
   "cell_type": "code",
   "execution_count": null,
   "metadata": {
    "colab": {
     "base_uri": "https://localhost:8080/",
     "height": 1000
    },
    "colab_type": "code",
    "id": "I7zHfdPYZevG",
    "outputId": "ab0446b4-d813-4ce9-d138-912f6736b6cf"
   },
   "outputs": [],
   "source": [
    "learner.fit(30, lr)\n",
    "save_gan_learner(learner, models_root + 'resGANStrictTr6b_30ep.pth')"
   ]
  },
  {
   "cell_type": "code",
   "execution_count": null,
   "metadata": {
    "colab": {},
    "colab_type": "code",
    "id": "xULkEpIoZeyP"
   },
   "outputs": [],
   "source": [
    "learner.fit(30, lr)\n",
    "save_gan_learner(learner, models_root + 'resGANStrictTr6b_60ep.pth')"
   ]
  },
  {
   "cell_type": "markdown",
   "metadata": {
    "colab_type": "text",
    "id": "v0Ur0PxP1Gfj"
   },
   "source": [
    "# POSSIBLE MODIFICATIONS/IMPROVEMENTS NOT YET EXPLORED\n",
    "\n",
    "* Try std loss, not wgan\n",
    "* Alter inner part of the blocks.\n",
    "* Try a different up/downsampling block. See https://papers.nips.cc/paper/7356-fishnet-a-versatile-backbone-for-image-region-and-pixel-level-prediction.pdf.\n",
    "* Refactor TR2 to avoid redefinitions.\n"
   ]
  },
  {
   "cell_type": "code",
   "execution_count": null,
   "metadata": {},
   "outputs": [],
   "source": []
  }
 ],
 "metadata": {
  "accelerator": "GPU",
  "colab": {
   "collapsed_sections": [
    "5BGsJboRaj29",
    "c9T5Q55OBbdu",
    "N7j-QaYIWSLe",
    "mK1_axM9WSLh",
    "LWjoHgoUSIxq",
    "B1OWiRG3gM_f",
    "C1iRK7KwbXV_",
    "gCeeEcC8L6I9",
    "BmdA9YTHCnHc",
    "9OZ06iU_UgAm",
    "bAJMokB2vVao",
    "j6qZwZJ1zYYW",
    "-wMLJx5py9nP",
    "fqUTNEhwLHyS",
    "iLj-f8qXNWvX",
    "kuFnfutnNhtQ",
    "3-wXIL36CoL2",
    "Gci_gUu4DQ6r",
    "aeYbRupBEYwo",
    "ZIuqenlzHOlQ",
    "1c_bj7RgH16N",
    "MduEiNtKJ1l9",
    "lSZAi5iZKTRC",
    "n2N3n5thK4vB",
    "5iqkrsKB7sql",
    "S7BZATfRbN0i",
    "CsiWYIg0UTw4",
    "Ier1nRmpa3ED",
    "mqoP94WsVk_h",
    "VE-R5PUp9FXX",
    "Vg9LYkJPn4E6",
    "7XQoIBardQwZ",
    "KaKqwjylf9Gl",
    "QatxWlZbKon6",
    "g6CV5_cRLRwM",
    "9P1l1vg_BkRh",
    "1Kmg-Evy9jum",
    "xLOvijOwA0Z9",
    "EuXbrtNSszbD",
    "UmnHGU3RtH_S",
    "t5C02IQFKIFw",
    "d17DPwGTKRTb",
    "UU7pZROuLrq8",
    "AB2XmCUoe01c",
    "--dpAJl1fDRO",
    "vlKbcuTzkaOM",
    "-XtDTDVHk11G",
    "0_m5fJZbr1XP",
    "fZkZt0wVqHyj",
    "2N5EJ3CoHvfS",
    "_d3G2mrhzzb-",
    "k56pSVHBNlJT",
    "IBaJTRbay4Ed",
    "DBGfg1bOz5To",
    "MdON5mLm0pXh",
    "uqd4p9FUNvz-",
    "3DxpkqrHrTM2",
    "N90IFYwZNv28",
    "QmOvZ_z03r8v",
    "qTRCYJYs5aL0",
    "wd8PFlsb5iNh",
    "ldAIOOnZ5pO7",
    "OXvrg7hp5Wbi",
    "dP-TrwUaRddH",
    "yUcENdtzRKxR",
    "5vIxjRvrcvtH",
    "Ub1xrNrny1Go",
    "CqaV3gFadesV",
    "kOpQ8Y1X0Ufq",
    "u6tHMRm-4F7i",
    "i1ZczJi6YoNa",
    "ozIAMfUiY3XQ",
    "7vbvIKsTZIqN"
   ],
   "machine_shape": "hm",
   "name": "resGANStrict.ipynb",
   "provenance": []
  },
  "kernelspec": {
   "display_name": "Python 3",
   "language": "python",
   "name": "python3"
  },
  "language_info": {
   "codemirror_mode": {
    "name": "ipython",
    "version": 3
   },
   "file_extension": ".py",
   "mimetype": "text/x-python",
   "name": "python",
   "nbconvert_exporter": "python",
   "pygments_lexer": "ipython3",
   "version": "3.7.3"
  }
 },
 "nbformat": 4,
 "nbformat_minor": 1
}